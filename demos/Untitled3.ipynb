{
 "cells": [
  {
   "cell_type": "code",
   "execution_count": 1,
   "metadata": {
    "ExecuteTime": {
     "end_time": "2021-01-07T21:57:31.834195Z",
     "start_time": "2021-01-07T21:57:29.883794Z"
    }
   },
   "outputs": [
    {
     "data": {
      "text/html": [
       "<style>.container { width:100% !important; }</style>"
      ],
      "text/plain": [
       "<IPython.core.display.HTML object>"
      ]
     },
     "metadata": {},
     "output_type": "display_data"
    }
   ],
   "source": [
    "import jax.numpy as jnp\n",
    "from jax import grad, jit, vmap, jacfwd, jacrev\n",
    "from jax import random\n",
    "import matplotlib.pyplot as plt\n",
    "import matplotlib\n",
    "from mpl_toolkits.axes_grid1 import make_axes_locatable\n",
    "import networkx as nx\n",
    "import pandas as pd\n",
    "from tqdm.auto import tqdm, trange\n",
    "from scipy.sparse import csc_matrix\n",
    "from IPython.core.display import display, HTML\n",
    "display(HTML(\"<style>.container { width:100% !important; }</style>\"))"
   ]
  },
  {
   "cell_type": "code",
   "execution_count": 2,
   "metadata": {
    "ExecuteTime": {
     "end_time": "2021-01-07T21:57:31.839115Z",
     "start_time": "2021-01-07T21:57:31.836447Z"
    }
   },
   "outputs": [],
   "source": [
    "from scipy import sparse as sp"
   ]
  },
  {
   "cell_type": "code",
   "execution_count": 7,
   "metadata": {
    "ExecuteTime": {
     "end_time": "2021-01-07T21:57:46.423493Z",
     "start_time": "2021-01-07T21:57:46.408104Z"
    }
   },
   "outputs": [],
   "source": [
    "import claude as cl\n",
    "from claude import observables as obs\n",
    "from claude import constraints as const"
   ]
  },
  {
   "cell_type": "code",
   "execution_count": 8,
   "metadata": {
    "ExecuteTime": {
     "end_time": "2021-01-07T21:57:46.957119Z",
     "start_time": "2021-01-07T21:57:46.950003Z"
    }
   },
   "outputs": [
    {
     "data": {
      "text/plain": [
       "<module 'claude.constraints' from '/Users/reema/Postdoc/Progetti/MAXENT/claude/claude/constraints.py'>"
      ]
     },
     "execution_count": 8,
     "metadata": {},
     "output_type": "execute_result"
    }
   ],
   "source": [
    "from importlib import reload\n",
    "reload(obs)\n",
    "reload(cl)\n",
    "reload(const)"
   ]
  },
  {
   "cell_type": "code",
   "execution_count": 90,
   "metadata": {
    "ExecuteTime": {
     "end_time": "2021-01-07T22:15:54.905203Z",
     "start_time": "2021-01-07T22:15:54.106759Z"
    }
   },
   "outputs": [],
   "source": [
    "\n",
    "N = 1000\n",
    "ba = nx.barabasi_albert_graph(N,30)\n",
    "gn = nx.scale_free_graph(1000)\n",
    "bp = nx.bipartite.random_graph(1000,400,0.1)\n",
    "ba_adj = np.asarray(nx.adj_matrix(ba).todense())\n",
    "gn_adj = np.sign(np.asarray(nx.adj_matrix(gn).todense()))\n",
    "bp_adj = np.asarray(nx.adj_matrix(bp).todense())[:1000,1000:]\n",
    "d = np.array(ba_adj.sum(axis=0)).flatten()\n",
    "dinv = 1/d\n",
    "\n",
    "din = np.array(gn_adj.sum(axis=0)).flatten()\n",
    "dout = np.array(gn_adj.sum(axis=1)).flatten()\n",
    "\n",
    "bp_din = np.array(bp_adj.sum(axis=0)).flatten()\n",
    "bp_dout = np.array(bp_adj.sum(axis=1)).flatten()"
   ]
  },
  {
   "cell_type": "code",
   "execution_count": 91,
   "metadata": {
    "ExecuteTime": {
     "end_time": "2021-01-07T22:15:57.416431Z",
     "start_time": "2021-01-07T22:15:57.412035Z"
    }
   },
   "outputs": [],
   "source": [
    "def plot_adj(adj, vmax=1):\n",
    "    plt.imshow(adj,cmap=matplotlib.cm.get_cmap('gray_r'),vmin=0,vmax=vmax)\n",
    "    plt.colorbar()"
   ]
  },
  {
   "cell_type": "markdown",
   "metadata": {},
   "source": [
    "# Test"
   ]
  },
  {
   "cell_type": "code",
   "execution_count": 7,
   "metadata": {
    "ExecuteTime": {
     "end_time": "2021-01-07T17:16:38.148440Z",
     "start_time": "2021-01-07T17:16:38.144180Z"
    }
   },
   "outputs": [],
   "source": [
    "m1 = cl.GraphEnsemble(1000)\n",
    "m2 = cl.BipartiteGraphEnsemble(1000,400)\n",
    "ges = cl.GraphEnsembleSet([m1,m2],[['proteins','proteins'],['proteins','mirna']])\n",
    "#m.fit([const.DegreeSequence(d)], opt_kwargs={'nit':100,'fatol':1e-2,'disp':True})\n",
    "#m.fit([const.BipartiteOutDegreeSequence(bp_dout),const.BipartiteInDegreeSequence(bp_din)], opt_kwargs={'nit':100,'fatol':1e-2,'disp':True})"
   ]
  },
  {
   "cell_type": "code",
   "execution_count": 8,
   "metadata": {
    "ExecuteTime": {
     "end_time": "2021-01-07T17:16:43.139020Z",
     "start_time": "2021-01-07T17:16:38.731047Z"
    },
    "collapsed": true
   },
   "outputs": [
    {
     "name": "stdout",
     "output_type": "stream",
     "text": [
      "0:  |F(x)| = 25.1708; step 1\n",
      "1:  |F(x)| = 12.4311; step 1\n",
      "2:  |F(x)| = 3.9652; step 1\n",
      "3:  |F(x)| = 1.07007; step 1\n",
      "4:  |F(x)| = 0.351447; step 1\n",
      "5:  |F(x)| = 0.346372; step 0.251158\n",
      "6:  |F(x)| = 0.10828; step 1\n",
      "7:  |F(x)| = 0.0227085; step 1\n",
      "8:  |F(x)| = 0.003889; step 1\n",
      "9:  |F(x)| = 0.00266685; step 1\n",
      "10:  |F(x)| = 0.000319529; step 1\n",
      "11:  |F(x)| = 8.58401e-05; step 1\n",
      "12:  |F(x)| = 3.8674e-05; step 1\n",
      "13:  |F(x)| = 1.77874e-05; step 1\n",
      "14:  |F(x)| = 5.07727e-06; step 1\n",
      "15:  |F(x)| = 1.45725e-06; step 1\n",
      "16:  |F(x)| = 4.41147e-07; step 1\n",
      "17:  |F(x)| = 2.28585e-07; step 1\n",
      "18:  |F(x)| = 2.88864e-08; step 1\n",
      "19:  |F(x)| = 1.12814e-08; step 1\n",
      "20:  |F(x)| = 5.47357e-09; step 1\n",
      "21:  |F(x)| = 2.03858e-09; step 1\n",
      "22:  |F(x)| = 6.04274e-10; step 1\n",
      "23:  |F(x)| = 3.23254e-10; step 1\n",
      "24:  |F(x)| = 1.13289e-10; step 1\n",
      "25:  |F(x)| = 3.50724e-11; step 1\n",
      "26:  |F(x)| = 6.16751e-12; step 1\n",
      "27:  |F(x)| = 4.03588e-12; step 1\n",
      "28:  |F(x)| = 1.81899e-12; step 1\n",
      "29:  |F(x)| = 5.68434e-13; step 1\n",
      "30:  |F(x)| = 2.27374e-13; step 1\n",
      "31:  |F(x)| = 9.9476e-14; step 1\n",
      "0:  |F(x)| = 24.6076; step 0.103652\n",
      "1:  |F(x)| = 23.6783; step 1\n",
      "2:  |F(x)| = 17.6852; step 1\n",
      "3:  |F(x)| = 3.90596; step 1\n",
      "4:  |F(x)| = 2.22137; step 1\n",
      "5:  |F(x)| = 0.346229; step 1\n",
      "6:  |F(x)| = 0.439496; step 1\n",
      "7:  |F(x)| = 0.385411; step 1\n",
      "8:  |F(x)| = 0.19701; step 1\n",
      "9:  |F(x)| = 0.0448929; step 1\n",
      "10:  |F(x)| = 0.0237172; step 1\n",
      "11:  |F(x)| = 0.00881215; step 1\n",
      "12:  |F(x)| = 0.0037412; step 1\n",
      "13:  |F(x)| = 0.00381943; step 1\n",
      "14:  |F(x)| = 0.00316476; step 1\n",
      "15:  |F(x)| = 0.00118502; step 1\n",
      "16:  |F(x)| = 0.000527099; step 1\n",
      "17:  |F(x)| = 0.000109342; step 1\n",
      "18:  |F(x)| = 0.000179708; step 1\n",
      "19:  |F(x)| = 5.44174e-05; step 1\n",
      "20:  |F(x)| = 4.01331e-05; step 1\n",
      "21:  |F(x)| = 5.97443e-05; step 1\n",
      "22:  |F(x)| = 3.22827e-05; step 1\n",
      "23:  |F(x)| = 9.75505e-06; step 1\n",
      "24:  |F(x)| = 6.86031e-06; step 1\n",
      "25:  |F(x)| = 2.23317e-06; step 1\n",
      "26:  |F(x)| = 1.5084e-06; step 1\n",
      "27:  |F(x)| = 8.66363e-07; step 1\n",
      "28:  |F(x)| = 1.45916e-06; step 1\n",
      "29:  |F(x)| = 9.39468e-07; step 1\n",
      "30:  |F(x)| = 3.30892e-07; step 1\n",
      "31:  |F(x)| = 1.13451e-07; step 1\n",
      "32:  |F(x)| = 9.27211e-08; step 1\n",
      "33:  |F(x)| = 5.21939e-08; step 1\n",
      "34:  |F(x)| = 2.46863e-08; step 1\n",
      "35:  |F(x)| = 4.14479e-08; step 1\n",
      "36:  |F(x)| = 3.07135e-08; step 1\n",
      "37:  |F(x)| = 1.12044e-08; step 1\n",
      "38:  |F(x)| = 5.86529e-09; step 1\n",
      "39:  |F(x)| = 2.00279e-09; step 1\n",
      "40:  |F(x)| = 1.84991e-09; step 1\n",
      "41:  |F(x)| = 1.08098e-09; step 1\n",
      "42:  |F(x)| = 9.05615e-10; step 1\n",
      "43:  |F(x)| = 1.14565e-09; step 1\n",
      "44:  |F(x)| = 5.44063e-10; step 1\n",
      "45:  |F(x)| = 1.60014e-10; step 1\n",
      "46:  |F(x)| = 1.19812e-10; step 1\n",
      "47:  |F(x)| = 4.47358e-11; step 1\n",
      "48:  |F(x)| = 2.66596e-11; step 1\n",
      "49:  |F(x)| = 2.32632e-11; step 1\n",
      "50:  |F(x)| = 4.1382e-11; step 1\n",
      "51:  |F(x)| = 2.32774e-11; step 1\n",
      "52:  |F(x)| = 7.44649e-12; step 1\n",
      "53:  |F(x)| = 3.31113e-12; step 1\n",
      "54:  |F(x)| = 2.24532e-12; step 0.460723\n",
      "55:  |F(x)| = 1.08002e-12; step 0.438308\n",
      "56:  |F(x)| = 1.00897e-12; step 0.148647\n",
      "57:  |F(x)| = 5.68434e-13; step 0.126274\n",
      "58:  |F(x)| = 4.68958e-13; step 0.0815984\n",
      "59:  |F(x)| = 4.26326e-13; step 0.0649657\n",
      "60:  |F(x)| = 3.97904e-13; step 0.0289091\n",
      "61:  |F(x)| = 3.97904e-13; step 0.0260945\n",
      "62:  |F(x)| = 3.83693e-13; step 0.0235046\n",
      "63:  |F(x)| = 3.97904e-13; step 0.0826599\n",
      "64:  |F(x)| = 3.69482e-13; step 0.0866652\n",
      "65:  |F(x)| = 3.69482e-13; step 0.104142\n",
      "66:  |F(x)| = 2.84217e-13; step 0.0776849\n",
      "67:  |F(x)| = 2.70006e-13; step 0.0510979\n",
      "68:  |F(x)| = 1.27898e-13; step 0.0731724\n",
      "69:  |F(x)| = 1.27898e-13; step 0.0150371\n",
      "70:  |F(x)| = 8.3844e-13; step 1\n",
      "71:  |F(x)| = 5.82645e-13; step 1\n",
      "72:  |F(x)| = 6.96332e-13; step 1\n",
      "73:  |F(x)| = 2.84217e-13; step 1\n",
      "74:  |F(x)| = 1.84741e-13; step 0.10133\n",
      "75:  |F(x)| = 1.84741e-13; step 0.154873\n",
      "76:  |F(x)| = 2.84217e-13; step 0.0661488\n",
      "77:  |F(x)| = 2.84217e-13; step 0.0202327\n",
      "78:  |F(x)| = 1.84741e-13; step 0.0559422\n",
      "79:  |F(x)| = 1.27898e-13; step 0.0263514\n",
      "80:  |F(x)| = 1.27898e-13; step 0.0269918\n",
      "81:  |F(x)| = 9.9476e-14; step 0.027228\n",
      "82:  |F(x)| = 9.9476e-14; step 0.0246512\n",
      "83:  |F(x)| = 8.3844e-13; step 1\n",
      "84:  |F(x)| = 5.82645e-13; step 1\n",
      "85:  |F(x)| = 5.82645e-13; step 0.324887\n",
      "86:  |F(x)| = 5.82645e-13; step 0.418695\n",
      "87:  |F(x)| = 2.41585e-13; step 0.107196\n",
      "88:  |F(x)| = 2.41585e-13; step 0.191764\n",
      "89:  |F(x)| = 1.08002e-12; step 1\n",
      "90:  |F(x)| = 2.98428e-13; step 1\n",
      "91:  |F(x)| = 6.6791e-13; step 1\n",
      "92:  |F(x)| = 6.6791e-13; step 0.172839\n",
      "93:  |F(x)| = 4.40536e-13; step 0.185036\n",
      "94:  |F(x)| = 4.40536e-13; step 0.245526\n",
      "95:  |F(x)| = 2.98428e-13; step 0.0660178\n",
      "96:  |F(x)| = 8.66862e-13; step 1\n",
      "97:  |F(x)| = 4.54747e-13; step 0.374981\n",
      "98:  |F(x)| = 5.68434e-13; step 1\n",
      "99:  |F(x)| = 9.52127e-13; step 1\n"
     ]
    }
   ],
   "source": [
    "ges.fit([[const.DegreeSequence(d)],[const.BipartiteOutDegreeSequence(bp_dout),const.BipartiteInDegreeSequence(bp_din)]], opt_kwargs=[{'nit':32,'fatol':1e-2,'disp':True},{'nit':100,'fatol':1e-2,'disp':True}])\n"
   ]
  },
  {
   "cell_type": "markdown",
   "metadata": {
    "heading_collapsed": true
   },
   "source": [
    "# One step"
   ]
  },
  {
   "cell_type": "code",
   "execution_count": 9,
   "metadata": {
    "ExecuteTime": {
     "end_time": "2021-01-07T01:48:05.610115Z",
     "start_time": "2021-01-07T01:48:05.604407Z"
    },
    "hidden": true
   },
   "outputs": [],
   "source": [
    "def propagate_nstep(adj,x,n):\n",
    "    spadj = sp.csr_matrix(adj)**n\n",
    "    return spadj.T.dot(x)\n",
    "x = np.zeros(1000)\n",
    "y = np.zeros(1000)\n",
    "x[:20] = 1.\n",
    "y[100:110]=1."
   ]
  },
  {
   "cell_type": "code",
   "execution_count": 10,
   "metadata": {
    "ExecuteTime": {
     "end_time": "2021-01-07T01:48:43.074835Z",
     "start_time": "2021-01-07T01:48:06.051637Z"
    },
    "hidden": true
   },
   "outputs": [
    {
     "data": {
      "application/vnd.jupyter.widget-view+json": {
       "model_id": "2f330b8651d747de9205d7747a014625",
       "version_major": 2,
       "version_minor": 0
      },
      "text/plain": [
       "HBox(children=(HTML(value=''), FloatProgress(value=0.0, max=1000.0), HTML(value='')))"
      ]
     },
     "metadata": {},
     "output_type": "display_data"
    },
    {
     "name": "stdout",
     "output_type": "stream",
     "text": [
      "\n"
     ]
    }
   ],
   "source": [
    "length = 1\n",
    "vals = np.zeros([1000,1000])\n",
    "for i in trange(vals.shape[0]):\n",
    "    radj = m1.sample()\n",
    "    vals[i,:] = propagate_nstep(radj,x,length)"
   ]
  },
  {
   "cell_type": "code",
   "execution_count": 27,
   "metadata": {
    "ExecuteTime": {
     "end_time": "2020-11-19T07:30:07.622307Z",
     "start_time": "2020-11-19T07:29:24.135602Z"
    },
    "hidden": true
   },
   "outputs": [
    {
     "data": {
      "application/vnd.jupyter.widget-view+json": {
       "model_id": "2b2f8b6b79ca4743a996b61b3f1b48f3",
       "version_major": 2,
       "version_minor": 0
      },
      "text/plain": [
       "HBox(children=(HTML(value=''), FloatProgress(value=0.0, max=1000.0), HTML(value='')))"
      ]
     },
     "metadata": {},
     "output_type": "display_data"
    },
    {
     "name": "stdout",
     "output_type": "stream",
     "text": [
      "\n"
     ]
    }
   ],
   "source": [
    "#length = 1\n",
    "#vals = np.zeros(1000)\n",
    "#for i in trange(vals.shape[0]):\n",
    "#    radj = m1.sample()\n",
    "#    vals[i] = (y*propagate_nstep(radj,x,length)).sum()"
   ]
  },
  {
   "cell_type": "code",
   "execution_count": 11,
   "metadata": {
    "ExecuteTime": {
     "end_time": "2021-01-07T01:48:44.885403Z",
     "start_time": "2021-01-07T01:48:44.619981Z"
    },
    "hidden": true
   },
   "outputs": [
    {
     "data": {
      "text/plain": [
       "[<matplotlib.lines.Line2D at 0x7f935367a4a8>]"
      ]
     },
     "execution_count": 11,
     "metadata": {},
     "output_type": "execute_result"
    },
    {
     "data": {
      "image/png": "[encoded data removed]",
      "text/plain": [
       "<Figure size 432x288 with 1 Axes>"
      ]
     },
     "metadata": {
      "needs_background": "light"
     },
     "output_type": "display_data"
    }
   ],
   "source": [
    "plt.plot(vals.mean(axis=0),m1.predict_mean(obs.Propagation(x)),'.')\n",
    "plt.plot(plt.xlim(),plt.xlim())"
   ]
  },
  {
   "cell_type": "code",
   "execution_count": 12,
   "metadata": {
    "ExecuteTime": {
     "end_time": "2021-01-07T01:47:09.149555Z",
     "start_time": "2021-01-07T01:47:09.130407Z"
    },
    "hidden": true
   },
   "outputs": [
    {
     "data": {
      "text/plain": [
       "array([10.04444465,  9.52348103,  9.43920038,  9.76951822,  9.43920038,\n",
       "        9.96716725,  9.56518683,  9.56518683,  9.72919982,  8.90742107,\n",
       "        8.95355415,  9.80956949,  9.72919982,  8.99934008,  9.35373479,\n",
       "        9.39661771, 10.19607186,  9.08989147,  9.60660798,  9.60660798,\n",
       "        0.        ,  0.        ,  0.        ,  0.        ,  0.        ,\n",
       "        0.        ,  0.        ,  0.        ,  0.        ,  0.        ,\n",
       "        0.        ,  0.        ,  0.        ,  0.        ,  0.        ,\n",
       "        0.        ,  0.        ,  0.        ,  0.        ,  0.        ,\n",
       "        0.        ,  0.        ,  0.        ,  0.        ,  0.        ,\n",
       "        0.        ,  0.        ,  0.        ,  0.        ,  0.        ,\n",
       "        0.        ,  0.        ,  0.        ,  0.        ,  0.        ,\n",
       "        0.        ,  0.        ,  0.        ,  0.        ,  0.        ,\n",
       "        0.        ,  0.        ,  0.        ,  0.        ,  0.        ,\n",
       "        0.        ,  0.        ,  0.        ,  0.        ,  0.        ,\n",
       "        0.        ,  0.        ,  0.        ,  0.        ,  0.        ,\n",
       "        0.        ,  0.        ,  0.        ,  0.        ,  0.        ,\n",
       "        0.        ,  0.        ,  0.        ,  0.        ,  0.        ,\n",
       "        0.        ,  0.        ,  0.        ,  0.        ,  0.        ,\n",
       "        0.        ,  0.        ,  0.        ,  0.        ,  0.        ,\n",
       "        0.        ,  0.        ,  0.        ,  0.        ,  0.        ,\n",
       "        0.        ,  0.        ,  0.        ,  0.        ,  0.        ,\n",
       "        0.        ,  0.        ,  0.        ,  0.        ,  0.        ,\n",
       "        0.        ,  0.        ,  0.        ,  0.        ,  0.        ,\n",
       "        0.        ,  0.        ,  0.        ,  0.        ,  0.        ,\n",
       "        0.        ,  0.        ,  0.        ,  0.        ,  0.        ,\n",
       "        0.        ,  0.        ,  0.        ,  0.        ,  0.        ,\n",
       "        0.        ,  0.        ,  0.        ,  0.        ,  0.        ,\n",
       "        0.        ,  0.        ,  0.        ,  0.        ,  0.        ,\n",
       "        0.        ,  0.        ,  0.        ,  0.        ,  0.        ,\n",
       "        0.        ,  0.        ,  0.        ,  0.        ,  0.        ,\n",
       "        0.        ,  0.        ,  0.        ,  0.        ,  0.        ,\n",
       "        0.        ,  0.        ,  0.        ,  0.        ,  0.        ,\n",
       "        0.        ,  0.        ,  0.        ,  0.        ,  0.        ,\n",
       "        0.        ,  0.        ,  0.        ,  0.        ,  0.        ,\n",
       "        0.        ,  0.        ,  0.        ,  0.        ,  0.        ,\n",
       "        0.        ,  0.        ,  0.        ,  0.        ,  0.        ,\n",
       "        0.        ,  0.        ,  0.        ,  0.        ,  0.        ,\n",
       "        0.        ,  0.        ,  0.        ,  0.        ,  0.        ,\n",
       "        0.        ,  0.        ,  0.        ,  0.        ,  0.        ,\n",
       "        0.        ,  0.        ,  0.        ,  0.        ,  0.        ,\n",
       "        0.        ,  0.        ,  0.        ,  0.        ,  0.        ,\n",
       "        0.        ,  0.        ,  0.        ,  0.        ,  0.        ,\n",
       "        0.        ,  0.        ,  0.        ,  0.        ,  0.        ,\n",
       "        0.        ,  0.        ,  0.        ,  0.        ,  0.        ,\n",
       "        0.        ,  0.        ,  0.        ,  0.        ,  0.        ,\n",
       "        0.        ,  0.        ,  0.        ,  0.        ,  0.        ,\n",
       "        0.        ,  0.        ,  0.        ,  0.        ,  0.        ,\n",
       "        0.        ,  0.        ,  0.        ,  0.        ,  0.        ,\n",
       "        0.        ,  0.        ,  0.        ,  0.        ,  0.        ,\n",
       "        0.        ,  0.        ,  0.        ,  0.        ,  0.        ,\n",
       "        0.        ,  0.        ,  0.        ,  0.        ,  0.        ,\n",
       "        0.        ,  0.        ,  0.        ,  0.        ,  0.        ,\n",
       "        0.        ,  0.        ,  0.        ,  0.        ,  0.        ,\n",
       "        0.        ,  0.        ,  0.        ,  0.        ,  0.        ,\n",
       "        0.        ,  0.        ,  0.        ,  0.        ,  0.        ,\n",
       "        0.        ,  0.        ,  0.        ,  0.        ,  0.        ,\n",
       "        0.        ,  0.        ,  0.        ,  0.        ,  0.        ,\n",
       "        0.        ,  0.        ,  0.        ,  0.        ,  0.        ,\n",
       "        0.        ,  0.        ,  0.        ,  0.        ,  0.        ,\n",
       "        0.        ,  0.        ,  0.        ,  0.        ,  0.        ,\n",
       "        0.        ,  0.        ,  0.        ,  0.        ,  0.        ,\n",
       "        0.        ,  0.        ,  0.        ,  0.        ,  0.        ,\n",
       "        0.        ,  0.        ,  0.        ,  0.        ,  0.        ,\n",
       "        0.        ,  0.        ,  0.        ,  0.        ,  0.        ,\n",
       "        0.        ,  0.        ,  0.        ,  0.        ,  0.        ,\n",
       "        0.        ,  0.        ,  0.        ,  0.        ,  0.        ,\n",
       "        0.        ,  0.        ,  0.        ,  0.        ,  0.        ,\n",
       "        0.        ,  0.        ,  0.        ,  0.        ,  0.        ,\n",
       "        0.        ,  0.        ,  0.        ,  0.        ,  0.        ,\n",
       "        0.        ,  0.        ,  0.        ,  0.        ,  0.        ,\n",
       "        0.        ,  0.        ,  0.        ,  0.        ,  0.        ,\n",
       "        0.        ,  0.        ,  0.        ,  0.        ,  0.        ,\n",
       "        0.        ,  0.        ,  0.        ,  0.        ,  0.        ,\n",
       "        0.        ,  0.        ,  0.        ,  0.        ,  0.        ,\n",
       "        0.        ,  0.        ,  0.        ,  0.        ,  0.        ,\n",
       "        0.        ,  0.        ,  0.        ,  0.        ,  0.        ,\n",
       "        0.        ,  0.        ,  0.        ,  0.        ,  0.        ,\n",
       "        0.        ,  0.        ,  0.        ,  0.        ,  0.        ,\n",
       "        0.        ,  0.        ,  0.        ,  0.        ,  0.        ,\n",
       "        0.        ,  0.        ,  0.        ,  0.        ,  0.        ,\n",
       "        0.        ,  0.        ,  0.        ,  0.        ,  0.        ,\n",
       "        0.        ,  0.        ,  0.        ,  0.        ,  0.        ,\n",
       "        0.        ,  0.        ,  0.        ,  0.        ,  0.        ,\n",
       "        0.        ,  0.        ,  0.        ,  0.        ,  0.        ,\n",
       "        0.        ,  0.        ,  0.        ,  0.        ,  0.        ,\n",
       "        0.        ,  0.        ,  0.        ,  0.        ,  0.        ,\n",
       "        0.        ,  0.        ,  0.        ,  0.        ,  0.        ,\n",
       "        0.        ,  0.        ,  0.        ,  0.        ,  0.        ,\n",
       "        0.        ,  0.        ,  0.        ,  0.        ,  0.        ,\n",
       "        0.        ,  0.        ,  0.        ,  0.        ,  0.        ,\n",
       "        0.        ,  0.        ,  0.        ,  0.        ,  0.        ,\n",
       "        0.        ,  0.        ,  0.        ,  0.        ,  0.        ,\n",
       "        0.        ,  0.        ,  0.        ,  0.        ,  0.        ,\n",
       "        0.        ,  0.        ,  0.        ,  0.        ,  0.        ,\n",
       "        0.        ,  0.        ,  0.        ,  0.        ,  0.        ,\n",
       "        0.        ,  0.        ,  0.        ,  0.        ,  0.        ,\n",
       "        0.        ,  0.        ,  0.        ,  0.        ,  0.        ,\n",
       "        0.        ,  0.        ,  0.        ,  0.        ,  0.        ,\n",
       "        0.        ,  0.        ,  0.        ,  0.        ,  0.        ,\n",
       "        0.        ,  0.        ,  0.        ,  0.        ,  0.        ,\n",
       "        0.        ,  0.        ,  0.        ,  0.        ,  0.        ,\n",
       "        0.        ,  0.        ,  0.        ,  0.        ,  0.        ,\n",
       "        0.        ,  0.        ,  0.        ,  0.        ,  0.        ,\n",
       "        0.        ,  0.        ,  0.        ,  0.        ,  0.        ,\n",
       "        0.        ,  0.        ,  0.        ,  0.        ,  0.        ,\n",
       "        0.        ,  0.        ,  0.        ,  0.        ,  0.        ,\n",
       "        0.        ,  0.        ,  0.        ,  0.        ,  0.        ,\n",
       "        0.        ,  0.        ,  0.        ,  0.        ,  0.        ,\n",
       "        0.        ,  0.        ,  0.        ,  0.        ,  0.        ,\n",
       "        0.        ,  0.        ,  0.        ,  0.        ,  0.        ,\n",
       "        0.        ,  0.        ,  0.        ,  0.        ,  0.        ,\n",
       "        0.        ,  0.        ,  0.        ,  0.        ,  0.        ,\n",
       "        0.        ,  0.        ,  0.        ,  0.        ,  0.        ,\n",
       "        0.        ,  0.        ,  0.        ,  0.        ,  0.        ,\n",
       "        0.        ,  0.        ,  0.        ,  0.        ,  0.        ,\n",
       "        0.        ,  0.        ,  0.        ,  0.        ,  0.        ,\n",
       "        0.        ,  0.        ,  0.        ,  0.        ,  0.        ,\n",
       "        0.        ,  0.        ,  0.        ,  0.        ,  0.        ,\n",
       "        0.        ,  0.        ,  0.        ,  0.        ,  0.        ,\n",
       "        0.        ,  0.        ,  0.        ,  0.        ,  0.        ,\n",
       "        0.        ,  0.        ,  0.        ,  0.        ,  0.        ,\n",
       "        0.        ,  0.        ,  0.        ,  0.        ,  0.        ,\n",
       "        0.        ,  0.        ,  0.        ,  0.        ,  0.        ,\n",
       "        0.        ,  0.        ,  0.        ,  0.        ,  0.        ,\n",
       "        0.        ,  0.        ,  0.        ,  0.        ,  0.        ,\n",
       "        0.        ,  0.        ,  0.        ,  0.        ,  0.        ,\n",
       "        0.        ,  0.        ,  0.        ,  0.        ,  0.        ,\n",
       "        0.        ,  0.        ,  0.        ,  0.        ,  0.        ,\n",
       "        0.        ,  0.        ,  0.        ,  0.        ,  0.        ,\n",
       "        0.        ,  0.        ,  0.        ,  0.        ,  0.        ,\n",
       "        0.        ,  0.        ,  0.        ,  0.        ,  0.        ,\n",
       "        0.        ,  0.        ,  0.        ,  0.        ,  0.        ,\n",
       "        0.        ,  0.        ,  0.        ,  0.        ,  0.        ,\n",
       "        0.        ,  0.        ,  0.        ,  0.        ,  0.        ,\n",
       "        0.        ,  0.        ,  0.        ,  0.        ,  0.        ,\n",
       "        0.        ,  0.        ,  0.        ,  0.        ,  0.        ,\n",
       "        0.        ,  0.        ,  0.        ,  0.        ,  0.        ,\n",
       "        0.        ,  0.        ,  0.        ,  0.        ,  0.        ,\n",
       "        0.        ,  0.        ,  0.        ,  0.        ,  0.        ,\n",
       "        0.        ,  0.        ,  0.        ,  0.        ,  0.        ,\n",
       "        0.        ,  0.        ,  0.        ,  0.        ,  0.        ,\n",
       "        0.        ,  0.        ,  0.        ,  0.        ,  0.        ,\n",
       "        0.        ,  0.        ,  0.        ,  0.        ,  0.        ,\n",
       "        0.        ,  0.        ,  0.        ,  0.        ,  0.        ,\n",
       "        0.        ,  0.        ,  0.        ,  0.        ,  0.        ,\n",
       "        0.        ,  0.        ,  0.        ,  0.        ,  0.        ,\n",
       "        0.        ,  0.        ,  0.        ,  0.        ,  0.        ,\n",
       "        0.        ,  0.        ,  0.        ,  0.        ,  0.        ,\n",
       "        0.        ,  0.        ,  0.        ,  0.        ,  0.        ,\n",
       "        0.        ,  0.        ,  0.        ,  0.        ,  0.        ,\n",
       "        0.        ,  0.        ,  0.        ,  0.        ,  0.        ,\n",
       "        0.        ,  0.        ,  0.        ,  0.        ,  0.        ,\n",
       "        0.        ,  0.        ,  0.        ,  0.        ,  0.        ,\n",
       "        0.        ,  0.        ,  0.        ,  0.        ,  0.        ,\n",
       "        0.        ,  0.        ,  0.        ,  0.        ,  0.        ,\n",
       "        0.        ,  0.        ,  0.        ,  0.        ,  0.        ,\n",
       "        0.        ,  0.        ,  0.        ,  0.        ,  0.        ,\n",
       "        0.        ,  0.        ,  0.        ,  0.        ,  0.        ,\n",
       "        0.        ,  0.        ,  0.        ,  0.        ,  0.        ,\n",
       "        0.        ,  0.        ,  0.        ,  0.        ,  0.        ,\n",
       "        0.        ,  0.        ,  0.        ,  0.        ,  0.        ,\n",
       "        0.        ,  0.        ,  0.        ,  0.        ,  0.        ,\n",
       "        0.        ,  0.        ,  0.        ,  0.        ,  0.        ,\n",
       "        0.        ,  0.        ,  0.        ,  0.        ,  0.        ,\n",
       "        0.        ,  0.        ,  0.        ,  0.        ,  0.        ,\n",
       "        0.        ,  0.        ,  0.        ,  0.        ,  0.        ,\n",
       "        0.        ,  0.        ,  0.        ,  0.        ,  0.        ,\n",
       "        0.        ,  0.        ,  0.        ,  0.        ,  0.        ,\n",
       "        0.        ,  0.        ,  0.        ,  0.        ,  0.        ,\n",
       "        0.        ,  0.        ,  0.        ,  0.        ,  0.        ,\n",
       "        0.        ,  0.        ,  0.        ,  0.        ,  0.        ,\n",
       "        0.        ,  0.        ,  0.        ,  0.        ,  0.        ,\n",
       "        0.        ,  0.        ,  0.        ,  0.        ,  0.        ,\n",
       "        0.        ,  0.        ,  0.        ,  0.        ,  0.        ,\n",
       "        0.        ,  0.        ,  0.        ,  0.        ,  0.        ,\n",
       "        0.        ,  0.        ,  0.        ,  0.        ,  0.        ,\n",
       "        0.        ,  0.        ,  0.        ,  0.        ,  0.        ,\n",
       "        0.        ,  0.        ,  0.        ,  0.        ,  0.        ,\n",
       "        0.        ,  0.        ,  0.        ,  0.        ,  0.        ,\n",
       "        0.        ,  0.        ,  0.        ,  0.        ,  0.        ,\n",
       "        0.        ,  0.        ,  0.        ,  0.        ,  0.        ,\n",
       "        0.        ,  0.        ,  0.        ,  0.        ,  0.        ,\n",
       "        0.        ,  0.        ,  0.        ,  0.        ,  0.        ,\n",
       "        0.        ,  0.        ,  0.        ,  0.        ,  0.        ,\n",
       "        0.        ,  0.        ,  0.        ,  0.        ,  0.        ,\n",
       "        0.        ,  0.        ,  0.        ,  0.        ,  0.        ,\n",
       "        0.        ,  0.        ,  0.        ,  0.        ,  0.        ,\n",
       "        0.        ,  0.        ,  0.        ,  0.        ,  0.        ,\n",
       "        0.        ,  0.        ,  0.        ,  0.        ,  0.        ,\n",
       "        0.        ,  0.        ,  0.        ,  0.        ,  0.        ,\n",
       "        0.        ,  0.        ,  0.        ,  0.        ,  0.        ,\n",
       "        0.        ,  0.        ,  0.        ,  0.        ,  0.        ,\n",
       "        0.        ,  0.        ,  0.        ,  0.        ,  0.        ,\n",
       "        0.        ,  0.        ,  0.        ,  0.        ,  0.        ,\n",
       "        0.        ,  0.        ,  0.        ,  0.        ,  0.        ,\n",
       "        0.        ,  0.        ,  0.        ,  0.        ,  0.        ,\n",
       "        0.        ,  0.        ,  0.        ,  0.        ,  0.        ,\n",
       "        0.        ,  0.        ,  0.        ,  0.        ,  0.        ,\n",
       "        0.        ,  0.        ,  0.        ,  0.        ,  0.        ,\n",
       "        0.        ,  0.        ,  0.        ,  0.        ,  0.        ])"
      ]
     },
     "execution_count": 12,
     "metadata": {},
     "output_type": "execute_result"
    }
   ],
   "source": [
    "m1.predict_std(obs.Propagation(x))"
   ]
  },
  {
   "cell_type": "code",
   "execution_count": 17,
   "metadata": {
    "ExecuteTime": {
     "end_time": "2021-01-07T01:45:19.000138Z",
     "start_time": "2021-01-07T01:45:18.989567Z"
    },
    "hidden": true
   },
   "outputs": [
    {
     "ename": "AttributeError",
     "evalue": "'Propagation' object has no attribute 'obs_dim_idx'",
     "output_type": "error",
     "traceback": [
      "\u001b[0;31m---------------------------------------------------------------------------\u001b[0m",
      "\u001b[0;31mAttributeError\u001b[0m                            Traceback (most recent call last)",
      "\u001b[0;32m<ipython-input-17-9446b72390d0>\u001b[0m in \u001b[0;36m<module>\u001b[0;34m\u001b[0m\n\u001b[0;32m----> 1\u001b[0;31m \u001b[0mobs\u001b[0m\u001b[0;34m.\u001b[0m\u001b[0mPropagation\u001b[0m\u001b[0;34m(\u001b[0m\u001b[0mx\u001b[0m\u001b[0;34m)\u001b[0m\u001b[0;34m.\u001b[0m\u001b[0mobs_dim_idx\u001b[0m\u001b[0;34m\u001b[0m\u001b[0;34m\u001b[0m\u001b[0m\n\u001b[0m",
      "\u001b[0;31mAttributeError\u001b[0m: 'Propagation' object has no attribute 'obs_dim_idx'"
     ]
    }
   ],
   "source": [
    "obs.Propagation(x).obs_dim_idx"
   ]
  },
  {
   "cell_type": "code",
   "execution_count": 16,
   "metadata": {
    "ExecuteTime": {
     "end_time": "2021-01-07T01:42:23.891273Z",
     "start_time": "2021-01-07T01:42:23.871238Z"
    },
    "hidden": true
   },
   "outputs": [
    {
     "data": {
      "text/plain": [
       "array([[1.],\n",
       "       [1.],\n",
       "       [1.],\n",
       "       [1.],\n",
       "       [1.],\n",
       "       [1.],\n",
       "       [1.],\n",
       "       [1.],\n",
       "       [1.],\n",
       "       [1.],\n",
       "       [1.],\n",
       "       [1.],\n",
       "       [1.],\n",
       "       [1.],\n",
       "       [1.],\n",
       "       [1.],\n",
       "       [1.],\n",
       "       [1.],\n",
       "       [1.],\n",
       "       [1.],\n",
       "       [0.],\n",
       "       [0.],\n",
       "       [0.],\n",
       "       [0.],\n",
       "       [0.],\n",
       "       [0.],\n",
       "       [0.],\n",
       "       [0.],\n",
       "       [0.],\n",
       "       [0.],\n",
       "       [0.],\n",
       "       [0.],\n",
       "       [0.],\n",
       "       [0.],\n",
       "       [0.],\n",
       "       [0.],\n",
       "       [0.],\n",
       "       [0.],\n",
       "       [0.],\n",
       "       [0.],\n",
       "       [0.],\n",
       "       [0.],\n",
       "       [0.],\n",
       "       [0.],\n",
       "       [0.],\n",
       "       [0.],\n",
       "       [0.],\n",
       "       [0.],\n",
       "       [0.],\n",
       "       [0.],\n",
       "       [0.],\n",
       "       [0.],\n",
       "       [0.],\n",
       "       [0.],\n",
       "       [0.],\n",
       "       [0.],\n",
       "       [0.],\n",
       "       [0.],\n",
       "       [0.],\n",
       "       [0.],\n",
       "       [0.],\n",
       "       [0.],\n",
       "       [0.],\n",
       "       [0.],\n",
       "       [0.],\n",
       "       [0.],\n",
       "       [0.],\n",
       "       [0.],\n",
       "       [0.],\n",
       "       [0.],\n",
       "       [0.],\n",
       "       [0.],\n",
       "       [0.],\n",
       "       [0.],\n",
       "       [0.],\n",
       "       [0.],\n",
       "       [0.],\n",
       "       [0.],\n",
       "       [0.],\n",
       "       [0.],\n",
       "       [0.],\n",
       "       [0.],\n",
       "       [0.],\n",
       "       [0.],\n",
       "       [0.],\n",
       "       [0.],\n",
       "       [0.],\n",
       "       [0.],\n",
       "       [0.],\n",
       "       [0.],\n",
       "       [0.],\n",
       "       [0.],\n",
       "       [0.],\n",
       "       [0.],\n",
       "       [0.],\n",
       "       [0.],\n",
       "       [0.],\n",
       "       [0.],\n",
       "       [0.],\n",
       "       [0.],\n",
       "       [0.],\n",
       "       [0.],\n",
       "       [0.],\n",
       "       [0.],\n",
       "       [0.],\n",
       "       [0.],\n",
       "       [0.],\n",
       "       [0.],\n",
       "       [0.],\n",
       "       [0.],\n",
       "       [0.],\n",
       "       [0.],\n",
       "       [0.],\n",
       "       [0.],\n",
       "       [0.],\n",
       "       [0.],\n",
       "       [0.],\n",
       "       [0.],\n",
       "       [0.],\n",
       "       [0.],\n",
       "       [0.],\n",
       "       [0.],\n",
       "       [0.],\n",
       "       [0.],\n",
       "       [0.],\n",
       "       [0.],\n",
       "       [0.],\n",
       "       [0.],\n",
       "       [0.],\n",
       "       [0.],\n",
       "       [0.],\n",
       "       [0.],\n",
       "       [0.],\n",
       "       [0.],\n",
       "       [0.],\n",
       "       [0.],\n",
       "       [0.],\n",
       "       [0.],\n",
       "       [0.],\n",
       "       [0.],\n",
       "       [0.],\n",
       "       [0.],\n",
       "       [0.],\n",
       "       [0.],\n",
       "       [0.],\n",
       "       [0.],\n",
       "       [0.],\n",
       "       [0.],\n",
       "       [0.],\n",
       "       [0.],\n",
       "       [0.],\n",
       "       [0.],\n",
       "       [0.],\n",
       "       [0.],\n",
       "       [0.],\n",
       "       [0.],\n",
       "       [0.],\n",
       "       [0.],\n",
       "       [0.],\n",
       "       [0.],\n",
       "       [0.],\n",
       "       [0.],\n",
       "       [0.],\n",
       "       [0.],\n",
       "       [0.],\n",
       "       [0.],\n",
       "       [0.],\n",
       "       [0.],\n",
       "       [0.],\n",
       "       [0.],\n",
       "       [0.],\n",
       "       [0.],\n",
       "       [0.],\n",
       "       [0.],\n",
       "       [0.],\n",
       "       [0.],\n",
       "       [0.],\n",
       "       [0.],\n",
       "       [0.],\n",
       "       [0.],\n",
       "       [0.],\n",
       "       [0.],\n",
       "       [0.],\n",
       "       [0.],\n",
       "       [0.],\n",
       "       [0.],\n",
       "       [0.],\n",
       "       [0.],\n",
       "       [0.],\n",
       "       [0.],\n",
       "       [0.],\n",
       "       [0.],\n",
       "       [0.],\n",
       "       [0.],\n",
       "       [0.],\n",
       "       [0.],\n",
       "       [0.],\n",
       "       [0.],\n",
       "       [0.],\n",
       "       [0.],\n",
       "       [0.],\n",
       "       [0.],\n",
       "       [0.],\n",
       "       [0.],\n",
       "       [0.],\n",
       "       [0.],\n",
       "       [0.],\n",
       "       [0.],\n",
       "       [0.],\n",
       "       [0.],\n",
       "       [0.],\n",
       "       [0.],\n",
       "       [0.],\n",
       "       [0.],\n",
       "       [0.],\n",
       "       [0.],\n",
       "       [0.],\n",
       "       [0.],\n",
       "       [0.],\n",
       "       [0.],\n",
       "       [0.],\n",
       "       [0.],\n",
       "       [0.],\n",
       "       [0.],\n",
       "       [0.],\n",
       "       [0.],\n",
       "       [0.],\n",
       "       [0.],\n",
       "       [0.],\n",
       "       [0.],\n",
       "       [0.],\n",
       "       [0.],\n",
       "       [0.],\n",
       "       [0.],\n",
       "       [0.],\n",
       "       [0.],\n",
       "       [0.],\n",
       "       [0.],\n",
       "       [0.],\n",
       "       [0.],\n",
       "       [0.],\n",
       "       [0.],\n",
       "       [0.],\n",
       "       [0.],\n",
       "       [0.],\n",
       "       [0.],\n",
       "       [0.],\n",
       "       [0.],\n",
       "       [0.],\n",
       "       [0.],\n",
       "       [0.],\n",
       "       [0.],\n",
       "       [0.],\n",
       "       [0.],\n",
       "       [0.],\n",
       "       [0.],\n",
       "       [0.],\n",
       "       [0.],\n",
       "       [0.],\n",
       "       [0.],\n",
       "       [0.],\n",
       "       [0.],\n",
       "       [0.],\n",
       "       [0.],\n",
       "       [0.],\n",
       "       [0.],\n",
       "       [0.],\n",
       "       [0.],\n",
       "       [0.],\n",
       "       [0.],\n",
       "       [0.],\n",
       "       [0.],\n",
       "       [0.],\n",
       "       [0.],\n",
       "       [0.],\n",
       "       [0.],\n",
       "       [0.],\n",
       "       [0.],\n",
       "       [0.],\n",
       "       [0.],\n",
       "       [0.],\n",
       "       [0.],\n",
       "       [0.],\n",
       "       [0.],\n",
       "       [0.],\n",
       "       [0.],\n",
       "       [0.],\n",
       "       [0.],\n",
       "       [0.],\n",
       "       [0.],\n",
       "       [0.],\n",
       "       [0.],\n",
       "       [0.],\n",
       "       [0.],\n",
       "       [0.],\n",
       "       [0.],\n",
       "       [0.],\n",
       "       [0.],\n",
       "       [0.],\n",
       "       [0.],\n",
       "       [0.],\n",
       "       [0.],\n",
       "       [0.],\n",
       "       [0.],\n",
       "       [0.],\n",
       "       [0.],\n",
       "       [0.],\n",
       "       [0.],\n",
       "       [0.],\n",
       "       [0.],\n",
       "       [0.],\n",
       "       [0.],\n",
       "       [0.],\n",
       "       [0.],\n",
       "       [0.],\n",
       "       [0.],\n",
       "       [0.],\n",
       "       [0.],\n",
       "       [0.],\n",
       "       [0.],\n",
       "       [0.],\n",
       "       [0.],\n",
       "       [0.],\n",
       "       [0.],\n",
       "       [0.],\n",
       "       [0.],\n",
       "       [0.],\n",
       "       [0.],\n",
       "       [0.],\n",
       "       [0.],\n",
       "       [0.],\n",
       "       [0.],\n",
       "       [0.],\n",
       "       [0.],\n",
       "       [0.],\n",
       "       [0.],\n",
       "       [0.],\n",
       "       [0.],\n",
       "       [0.],\n",
       "       [0.],\n",
       "       [0.],\n",
       "       [0.],\n",
       "       [0.],\n",
       "       [0.],\n",
       "       [0.],\n",
       "       [0.],\n",
       "       [0.],\n",
       "       [0.],\n",
       "       [0.],\n",
       "       [0.],\n",
       "       [0.],\n",
       "       [0.],\n",
       "       [0.],\n",
       "       [0.],\n",
       "       [0.],\n",
       "       [0.],\n",
       "       [0.],\n",
       "       [0.],\n",
       "       [0.],\n",
       "       [0.],\n",
       "       [0.],\n",
       "       [0.],\n",
       "       [0.],\n",
       "       [0.],\n",
       "       [0.],\n",
       "       [0.],\n",
       "       [0.],\n",
       "       [0.],\n",
       "       [0.],\n",
       "       [0.],\n",
       "       [0.],\n",
       "       [0.],\n",
       "       [0.],\n",
       "       [0.],\n",
       "       [0.],\n",
       "       [0.],\n",
       "       [0.],\n",
       "       [0.],\n",
       "       [0.],\n",
       "       [0.],\n",
       "       [0.],\n",
       "       [0.],\n",
       "       [0.],\n",
       "       [0.],\n",
       "       [0.],\n",
       "       [0.],\n",
       "       [0.],\n",
       "       [0.],\n",
       "       [0.],\n",
       "       [0.],\n",
       "       [0.],\n",
       "       [0.],\n",
       "       [0.],\n",
       "       [0.],\n",
       "       [0.],\n",
       "       [0.],\n",
       "       [0.],\n",
       "       [0.],\n",
       "       [0.],\n",
       "       [0.],\n",
       "       [0.],\n",
       "       [0.],\n",
       "       [0.],\n",
       "       [0.],\n",
       "       [0.],\n",
       "       [0.],\n",
       "       [0.],\n",
       "       [0.],\n",
       "       [0.],\n",
       "       [0.],\n",
       "       [0.],\n",
       "       [0.],\n",
       "       [0.],\n",
       "       [0.],\n",
       "       [0.],\n",
       "       [0.],\n",
       "       [0.],\n",
       "       [0.],\n",
       "       [0.],\n",
       "       [0.],\n",
       "       [0.],\n",
       "       [0.],\n",
       "       [0.],\n",
       "       [0.],\n",
       "       [0.],\n",
       "       [0.],\n",
       "       [0.],\n",
       "       [0.],\n",
       "       [0.],\n",
       "       [0.],\n",
       "       [0.],\n",
       "       [0.],\n",
       "       [0.],\n",
       "       [0.],\n",
       "       [0.],\n",
       "       [0.],\n",
       "       [0.],\n",
       "       [0.],\n",
       "       [0.],\n",
       "       [0.],\n",
       "       [0.],\n",
       "       [0.],\n",
       "       [0.],\n",
       "       [0.],\n",
       "       [0.],\n",
       "       [0.],\n",
       "       [0.],\n",
       "       [0.],\n",
       "       [0.],\n",
       "       [0.],\n",
       "       [0.],\n",
       "       [0.],\n",
       "       [0.],\n",
       "       [0.],\n",
       "       [0.],\n",
       "       [0.],\n",
       "       [0.],\n",
       "       [0.],\n",
       "       [0.],\n",
       "       [0.],\n",
       "       [0.],\n",
       "       [0.],\n",
       "       [0.],\n",
       "       [0.],\n",
       "       [0.],\n",
       "       [0.],\n",
       "       [0.],\n",
       "       [0.],\n",
       "       [0.],\n",
       "       [0.],\n",
       "       [0.],\n",
       "       [0.],\n",
       "       [0.],\n",
       "       [0.],\n",
       "       [0.],\n",
       "       [0.],\n",
       "       [0.],\n",
       "       [0.],\n",
       "       [0.],\n",
       "       [0.],\n",
       "       [0.],\n",
       "       [0.],\n",
       "       [0.],\n",
       "       [0.],\n",
       "       [0.],\n",
       "       [0.],\n",
       "       [0.],\n",
       "       [0.],\n",
       "       [0.],\n",
       "       [0.],\n",
       "       [0.],\n",
       "       [0.],\n",
       "       [0.],\n",
       "       [0.],\n",
       "       [0.],\n",
       "       [0.],\n",
       "       [0.],\n",
       "       [0.],\n",
       "       [0.],\n",
       "       [0.],\n",
       "       [0.],\n",
       "       [0.],\n",
       "       [0.],\n",
       "       [0.],\n",
       "       [0.],\n",
       "       [0.],\n",
       "       [0.],\n",
       "       [0.],\n",
       "       [0.],\n",
       "       [0.],\n",
       "       [0.],\n",
       "       [0.],\n",
       "       [0.],\n",
       "       [0.],\n",
       "       [0.],\n",
       "       [0.],\n",
       "       [0.],\n",
       "       [0.],\n",
       "       [0.],\n",
       "       [0.],\n",
       "       [0.],\n",
       "       [0.],\n",
       "       [0.],\n",
       "       [0.],\n",
       "       [0.],\n",
       "       [0.],\n",
       "       [0.],\n",
       "       [0.],\n",
       "       [0.],\n",
       "       [0.],\n",
       "       [0.],\n",
       "       [0.],\n",
       "       [0.],\n",
       "       [0.],\n",
       "       [0.],\n",
       "       [0.],\n",
       "       [0.],\n",
       "       [0.],\n",
       "       [0.],\n",
       "       [0.],\n",
       "       [0.],\n",
       "       [0.],\n",
       "       [0.],\n",
       "       [0.],\n",
       "       [0.],\n",
       "       [0.],\n",
       "       [0.],\n",
       "       [0.],\n",
       "       [0.],\n",
       "       [0.],\n",
       "       [0.],\n",
       "       [0.],\n",
       "       [0.],\n",
       "       [0.],\n",
       "       [0.],\n",
       "       [0.],\n",
       "       [0.],\n",
       "       [0.],\n",
       "       [0.],\n",
       "       [0.],\n",
       "       [0.],\n",
       "       [0.],\n",
       "       [0.],\n",
       "       [0.],\n",
       "       [0.],\n",
       "       [0.],\n",
       "       [0.],\n",
       "       [0.],\n",
       "       [0.],\n",
       "       [0.],\n",
       "       [0.],\n",
       "       [0.],\n",
       "       [0.],\n",
       "       [0.],\n",
       "       [0.],\n",
       "       [0.],\n",
       "       [0.],\n",
       "       [0.],\n",
       "       [0.],\n",
       "       [0.],\n",
       "       [0.],\n",
       "       [0.],\n",
       "       [0.],\n",
       "       [0.],\n",
       "       [0.],\n",
       "       [0.],\n",
       "       [0.],\n",
       "       [0.],\n",
       "       [0.],\n",
       "       [0.],\n",
       "       [0.],\n",
       "       [0.],\n",
       "       [0.],\n",
       "       [0.],\n",
       "       [0.],\n",
       "       [0.],\n",
       "       [0.],\n",
       "       [0.],\n",
       "       [0.],\n",
       "       [0.],\n",
       "       [0.],\n",
       "       [0.],\n",
       "       [0.],\n",
       "       [0.],\n",
       "       [0.],\n",
       "       [0.],\n",
       "       [0.],\n",
       "       [0.],\n",
       "       [0.],\n",
       "       [0.],\n",
       "       [0.],\n",
       "       [0.],\n",
       "       [0.],\n",
       "       [0.],\n",
       "       [0.],\n",
       "       [0.],\n",
       "       [0.],\n",
       "       [0.],\n",
       "       [0.],\n",
       "       [0.],\n",
       "       [0.],\n",
       "       [0.],\n",
       "       [0.],\n",
       "       [0.],\n",
       "       [0.],\n",
       "       [0.],\n",
       "       [0.],\n",
       "       [0.],\n",
       "       [0.],\n",
       "       [0.],\n",
       "       [0.],\n",
       "       [0.],\n",
       "       [0.],\n",
       "       [0.],\n",
       "       [0.],\n",
       "       [0.],\n",
       "       [0.],\n",
       "       [0.],\n",
       "       [0.],\n",
       "       [0.],\n",
       "       [0.],\n",
       "       [0.],\n",
       "       [0.],\n",
       "       [0.],\n",
       "       [0.],\n",
       "       [0.],\n",
       "       [0.],\n",
       "       [0.],\n",
       "       [0.],\n",
       "       [0.],\n",
       "       [0.],\n",
       "       [0.],\n",
       "       [0.],\n",
       "       [0.],\n",
       "       [0.],\n",
       "       [0.],\n",
       "       [0.],\n",
       "       [0.],\n",
       "       [0.],\n",
       "       [0.],\n",
       "       [0.],\n",
       "       [0.],\n",
       "       [0.],\n",
       "       [0.],\n",
       "       [0.],\n",
       "       [0.],\n",
       "       [0.],\n",
       "       [0.],\n",
       "       [0.],\n",
       "       [0.],\n",
       "       [0.],\n",
       "       [0.],\n",
       "       [0.],\n",
       "       [0.],\n",
       "       [0.],\n",
       "       [0.],\n",
       "       [0.],\n",
       "       [0.],\n",
       "       [0.],\n",
       "       [0.],\n",
       "       [0.],\n",
       "       [0.],\n",
       "       [0.],\n",
       "       [0.],\n",
       "       [0.],\n",
       "       [0.],\n",
       "       [0.],\n",
       "       [0.],\n",
       "       [0.],\n",
       "       [0.],\n",
       "       [0.],\n",
       "       [0.],\n",
       "       [0.],\n",
       "       [0.],\n",
       "       [0.],\n",
       "       [0.],\n",
       "       [0.],\n",
       "       [0.],\n",
       "       [0.],\n",
       "       [0.],\n",
       "       [0.],\n",
       "       [0.],\n",
       "       [0.],\n",
       "       [0.],\n",
       "       [0.],\n",
       "       [0.],\n",
       "       [0.],\n",
       "       [0.],\n",
       "       [0.],\n",
       "       [0.],\n",
       "       [0.],\n",
       "       [0.],\n",
       "       [0.],\n",
       "       [0.],\n",
       "       [0.],\n",
       "       [0.],\n",
       "       [0.],\n",
       "       [0.],\n",
       "       [0.],\n",
       "       [0.],\n",
       "       [0.],\n",
       "       [0.],\n",
       "       [0.],\n",
       "       [0.],\n",
       "       [0.],\n",
       "       [0.],\n",
       "       [0.],\n",
       "       [0.],\n",
       "       [0.],\n",
       "       [0.],\n",
       "       [0.],\n",
       "       [0.],\n",
       "       [0.],\n",
       "       [0.],\n",
       "       [0.],\n",
       "       [0.],\n",
       "       [0.],\n",
       "       [0.],\n",
       "       [0.],\n",
       "       [0.],\n",
       "       [0.],\n",
       "       [0.],\n",
       "       [0.],\n",
       "       [0.],\n",
       "       [0.],\n",
       "       [0.],\n",
       "       [0.],\n",
       "       [0.],\n",
       "       [0.],\n",
       "       [0.],\n",
       "       [0.],\n",
       "       [0.],\n",
       "       [0.],\n",
       "       [0.],\n",
       "       [0.],\n",
       "       [0.],\n",
       "       [0.],\n",
       "       [0.],\n",
       "       [0.],\n",
       "       [0.],\n",
       "       [0.],\n",
       "       [0.],\n",
       "       [0.],\n",
       "       [0.],\n",
       "       [0.],\n",
       "       [0.],\n",
       "       [0.],\n",
       "       [0.],\n",
       "       [0.],\n",
       "       [0.],\n",
       "       [0.],\n",
       "       [0.],\n",
       "       [0.],\n",
       "       [0.],\n",
       "       [0.],\n",
       "       [0.],\n",
       "       [0.],\n",
       "       [0.],\n",
       "       [0.],\n",
       "       [0.],\n",
       "       [0.],\n",
       "       [0.],\n",
       "       [0.],\n",
       "       [0.],\n",
       "       [0.],\n",
       "       [0.],\n",
       "       [0.],\n",
       "       [0.],\n",
       "       [0.],\n",
       "       [0.],\n",
       "       [0.],\n",
       "       [0.],\n",
       "       [0.],\n",
       "       [0.],\n",
       "       [0.],\n",
       "       [0.],\n",
       "       [0.],\n",
       "       [0.],\n",
       "       [0.],\n",
       "       [0.],\n",
       "       [0.],\n",
       "       [0.],\n",
       "       [0.],\n",
       "       [0.],\n",
       "       [0.],\n",
       "       [0.],\n",
       "       [0.],\n",
       "       [0.],\n",
       "       [0.],\n",
       "       [0.],\n",
       "       [0.],\n",
       "       [0.],\n",
       "       [0.],\n",
       "       [0.],\n",
       "       [0.],\n",
       "       [0.],\n",
       "       [0.],\n",
       "       [0.],\n",
       "       [0.],\n",
       "       [0.],\n",
       "       [0.],\n",
       "       [0.],\n",
       "       [0.],\n",
       "       [0.],\n",
       "       [0.],\n",
       "       [0.],\n",
       "       [0.],\n",
       "       [0.],\n",
       "       [0.],\n",
       "       [0.],\n",
       "       [0.],\n",
       "       [0.],\n",
       "       [0.],\n",
       "       [0.],\n",
       "       [0.],\n",
       "       [0.],\n",
       "       [0.],\n",
       "       [0.],\n",
       "       [0.],\n",
       "       [0.],\n",
       "       [0.],\n",
       "       [0.],\n",
       "       [0.],\n",
       "       [0.],\n",
       "       [0.],\n",
       "       [0.],\n",
       "       [0.],\n",
       "       [0.],\n",
       "       [0.],\n",
       "       [0.],\n",
       "       [0.],\n",
       "       [0.],\n",
       "       [0.],\n",
       "       [0.],\n",
       "       [0.],\n",
       "       [0.],\n",
       "       [0.],\n",
       "       [0.],\n",
       "       [0.],\n",
       "       [0.],\n",
       "       [0.],\n",
       "       [0.],\n",
       "       [0.],\n",
       "       [0.],\n",
       "       [0.],\n",
       "       [0.],\n",
       "       [0.],\n",
       "       [0.],\n",
       "       [0.],\n",
       "       [0.],\n",
       "       [0.],\n",
       "       [0.],\n",
       "       [0.],\n",
       "       [0.],\n",
       "       [0.],\n",
       "       [0.],\n",
       "       [0.],\n",
       "       [0.],\n",
       "       [0.],\n",
       "       [0.],\n",
       "       [0.],\n",
       "       [0.],\n",
       "       [0.],\n",
       "       [0.],\n",
       "       [0.],\n",
       "       [0.],\n",
       "       [0.],\n",
       "       [0.],\n",
       "       [0.],\n",
       "       [0.],\n",
       "       [0.],\n",
       "       [0.],\n",
       "       [0.],\n",
       "       [0.],\n",
       "       [0.],\n",
       "       [0.],\n",
       "       [0.],\n",
       "       [0.],\n",
       "       [0.],\n",
       "       [0.],\n",
       "       [0.],\n",
       "       [0.],\n",
       "       [0.],\n",
       "       [0.],\n",
       "       [0.],\n",
       "       [0.],\n",
       "       [0.],\n",
       "       [0.],\n",
       "       [0.],\n",
       "       [0.],\n",
       "       [0.],\n",
       "       [0.],\n",
       "       [0.],\n",
       "       [0.],\n",
       "       [0.],\n",
       "       [0.],\n",
       "       [0.],\n",
       "       [0.],\n",
       "       [0.],\n",
       "       [0.],\n",
       "       [0.],\n",
       "       [0.],\n",
       "       [0.],\n",
       "       [0.],\n",
       "       [0.],\n",
       "       [0.],\n",
       "       [0.],\n",
       "       [0.],\n",
       "       [0.],\n",
       "       [0.],\n",
       "       [0.],\n",
       "       [0.],\n",
       "       [0.],\n",
       "       [0.],\n",
       "       [0.],\n",
       "       [0.],\n",
       "       [0.],\n",
       "       [0.],\n",
       "       [0.],\n",
       "       [0.],\n",
       "       [0.],\n",
       "       [0.],\n",
       "       [0.],\n",
       "       [0.],\n",
       "       [0.],\n",
       "       [0.],\n",
       "       [0.],\n",
       "       [0.],\n",
       "       [0.],\n",
       "       [0.],\n",
       "       [0.],\n",
       "       [0.],\n",
       "       [0.],\n",
       "       [0.],\n",
       "       [0.],\n",
       "       [0.],\n",
       "       [0.],\n",
       "       [0.],\n",
       "       [0.],\n",
       "       [0.],\n",
       "       [0.],\n",
       "       [0.],\n",
       "       [0.],\n",
       "       [0.],\n",
       "       [0.],\n",
       "       [0.],\n",
       "       [0.],\n",
       "       [0.],\n",
       "       [0.],\n",
       "       [0.],\n",
       "       [0.],\n",
       "       [0.],\n",
       "       [0.],\n",
       "       [0.],\n",
       "       [0.],\n",
       "       [0.],\n",
       "       [0.],\n",
       "       [0.],\n",
       "       [0.],\n",
       "       [0.],\n",
       "       [0.],\n",
       "       [0.],\n",
       "       [0.],\n",
       "       [0.],\n",
       "       [0.],\n",
       "       [0.],\n",
       "       [0.],\n",
       "       [0.],\n",
       "       [0.],\n",
       "       [0.],\n",
       "       [0.],\n",
       "       [0.],\n",
       "       [0.],\n",
       "       [0.],\n",
       "       [0.],\n",
       "       [0.],\n",
       "       [0.],\n",
       "       [0.],\n",
       "       [0.],\n",
       "       [0.]])"
      ]
     },
     "execution_count": 16,
     "metadata": {},
     "output_type": "execute_result"
    }
   ],
   "source": [
    "obs.Propagation(x).grad(m1.adj_matrix,x)"
   ]
  },
  {
   "cell_type": "code",
   "execution_count": 12,
   "metadata": {
    "ExecuteTime": {
     "end_time": "2021-01-07T01:48:50.823493Z",
     "start_time": "2021-01-07T01:48:50.618687Z"
    },
    "hidden": true
   },
   "outputs": [
    {
     "data": {
      "text/plain": [
       "[<matplotlib.lines.Line2D at 0x7f9355bb29b0>]"
      ]
     },
     "execution_count": 12,
     "metadata": {},
     "output_type": "execute_result"
    },
    {
     "data": {
      "image/png": "[encoded data removed]",
      "text/plain": [
       "<Figure size 432x288 with 1 Axes>"
      ]
     },
     "metadata": {
      "needs_background": "light"
     },
     "output_type": "display_data"
    }
   ],
   "source": [
    "plt.plot(vals.std(axis=0),m1.predict_std(obs.Propagation(x)),'.')\n",
    "plt.plot(plt.xlim(),plt.xlim())"
   ]
  },
  {
   "cell_type": "code",
   "execution_count": 15,
   "metadata": {
    "ExecuteTime": {
     "end_time": "2021-01-07T01:47:31.782963Z",
     "start_time": "2021-01-07T01:47:31.765234Z"
    },
    "hidden": true
   },
   "outputs": [
    {
     "data": {
      "text/plain": [
       "array([10.04444465,  9.52348103,  9.43920038,  9.76951822,  9.43920038,\n",
       "        9.96716725,  9.56518683,  9.56518683,  9.72919982,  8.90742107,\n",
       "        8.95355415,  9.80956949,  9.72919982,  8.99934008,  9.35373479,\n",
       "        9.39661771, 10.19607186,  9.08989147,  9.60660798,  9.60660798,\n",
       "        0.        ,  0.        ,  0.        ,  0.        ,  0.        ,\n",
       "        0.        ,  0.        ,  0.        ,  0.        ,  0.        ,\n",
       "        0.        ,  0.        ,  0.        ,  0.        ,  0.        ,\n",
       "        0.        ,  0.        ,  0.        ,  0.        ,  0.        ,\n",
       "        0.        ,  0.        ,  0.        ,  0.        ,  0.        ,\n",
       "        0.        ,  0.        ,  0.        ,  0.        ,  0.        ,\n",
       "        0.        ,  0.        ,  0.        ,  0.        ,  0.        ,\n",
       "        0.        ,  0.        ,  0.        ,  0.        ,  0.        ,\n",
       "        0.        ,  0.        ,  0.        ,  0.        ,  0.        ,\n",
       "        0.        ,  0.        ,  0.        ,  0.        ,  0.        ,\n",
       "        0.        ,  0.        ,  0.        ,  0.        ,  0.        ,\n",
       "        0.        ,  0.        ,  0.        ,  0.        ,  0.        ,\n",
       "        0.        ,  0.        ,  0.        ,  0.        ,  0.        ,\n",
       "        0.        ,  0.        ,  0.        ,  0.        ,  0.        ,\n",
       "        0.        ,  0.        ,  0.        ,  0.        ,  0.        ,\n",
       "        0.        ,  0.        ,  0.        ,  0.        ,  0.        ,\n",
       "        0.        ,  0.        ,  0.        ,  0.        ,  0.        ,\n",
       "        0.        ,  0.        ,  0.        ,  0.        ,  0.        ,\n",
       "        0.        ,  0.        ,  0.        ,  0.        ,  0.        ,\n",
       "        0.        ,  0.        ,  0.        ,  0.        ,  0.        ,\n",
       "        0.        ,  0.        ,  0.        ,  0.        ,  0.        ,\n",
       "        0.        ,  0.        ,  0.        ,  0.        ,  0.        ,\n",
       "        0.        ,  0.        ,  0.        ,  0.        ,  0.        ,\n",
       "        0.        ,  0.        ,  0.        ,  0.        ,  0.        ,\n",
       "        0.        ,  0.        ,  0.        ,  0.        ,  0.        ,\n",
       "        0.        ,  0.        ,  0.        ,  0.        ,  0.        ,\n",
       "        0.        ,  0.        ,  0.        ,  0.        ,  0.        ,\n",
       "        0.        ,  0.        ,  0.        ,  0.        ,  0.        ,\n",
       "        0.        ,  0.        ,  0.        ,  0.        ,  0.        ,\n",
       "        0.        ,  0.        ,  0.        ,  0.        ,  0.        ,\n",
       "        0.        ,  0.        ,  0.        ,  0.        ,  0.        ,\n",
       "        0.        ,  0.        ,  0.        ,  0.        ,  0.        ,\n",
       "        0.        ,  0.        ,  0.        ,  0.        ,  0.        ,\n",
       "        0.        ,  0.        ,  0.        ,  0.        ,  0.        ,\n",
       "        0.        ,  0.        ,  0.        ,  0.        ,  0.        ,\n",
       "        0.        ,  0.        ,  0.        ,  0.        ,  0.        ,\n",
       "        0.        ,  0.        ,  0.        ,  0.        ,  0.        ,\n",
       "        0.        ,  0.        ,  0.        ,  0.        ,  0.        ,\n",
       "        0.        ,  0.        ,  0.        ,  0.        ,  0.        ,\n",
       "        0.        ,  0.        ,  0.        ,  0.        ,  0.        ,\n",
       "        0.        ,  0.        ,  0.        ,  0.        ,  0.        ,\n",
       "        0.        ,  0.        ,  0.        ,  0.        ,  0.        ,\n",
       "        0.        ,  0.        ,  0.        ,  0.        ,  0.        ,\n",
       "        0.        ,  0.        ,  0.        ,  0.        ,  0.        ,\n",
       "        0.        ,  0.        ,  0.        ,  0.        ,  0.        ,\n",
       "        0.        ,  0.        ,  0.        ,  0.        ,  0.        ,\n",
       "        0.        ,  0.        ,  0.        ,  0.        ,  0.        ,\n",
       "        0.        ,  0.        ,  0.        ,  0.        ,  0.        ,\n",
       "        0.        ,  0.        ,  0.        ,  0.        ,  0.        ,\n",
       "        0.        ,  0.        ,  0.        ,  0.        ,  0.        ,\n",
       "        0.        ,  0.        ,  0.        ,  0.        ,  0.        ,\n",
       "        0.        ,  0.        ,  0.        ,  0.        ,  0.        ,\n",
       "        0.        ,  0.        ,  0.        ,  0.        ,  0.        ,\n",
       "        0.        ,  0.        ,  0.        ,  0.        ,  0.        ,\n",
       "        0.        ,  0.        ,  0.        ,  0.        ,  0.        ,\n",
       "        0.        ,  0.        ,  0.        ,  0.        ,  0.        ,\n",
       "        0.        ,  0.        ,  0.        ,  0.        ,  0.        ,\n",
       "        0.        ,  0.        ,  0.        ,  0.        ,  0.        ,\n",
       "        0.        ,  0.        ,  0.        ,  0.        ,  0.        ,\n",
       "        0.        ,  0.        ,  0.        ,  0.        ,  0.        ,\n",
       "        0.        ,  0.        ,  0.        ,  0.        ,  0.        ,\n",
       "        0.        ,  0.        ,  0.        ,  0.        ,  0.        ,\n",
       "        0.        ,  0.        ,  0.        ,  0.        ,  0.        ,\n",
       "        0.        ,  0.        ,  0.        ,  0.        ,  0.        ,\n",
       "        0.        ,  0.        ,  0.        ,  0.        ,  0.        ,\n",
       "        0.        ,  0.        ,  0.        ,  0.        ,  0.        ,\n",
       "        0.        ,  0.        ,  0.        ,  0.        ,  0.        ,\n",
       "        0.        ,  0.        ,  0.        ,  0.        ,  0.        ,\n",
       "        0.        ,  0.        ,  0.        ,  0.        ,  0.        ,\n",
       "        0.        ,  0.        ,  0.        ,  0.        ,  0.        ,\n",
       "        0.        ,  0.        ,  0.        ,  0.        ,  0.        ,\n",
       "        0.        ,  0.        ,  0.        ,  0.        ,  0.        ,\n",
       "        0.        ,  0.        ,  0.        ,  0.        ,  0.        ,\n",
       "        0.        ,  0.        ,  0.        ,  0.        ,  0.        ,\n",
       "        0.        ,  0.        ,  0.        ,  0.        ,  0.        ,\n",
       "        0.        ,  0.        ,  0.        ,  0.        ,  0.        ,\n",
       "        0.        ,  0.        ,  0.        ,  0.        ,  0.        ,\n",
       "        0.        ,  0.        ,  0.        ,  0.        ,  0.        ,\n",
       "        0.        ,  0.        ,  0.        ,  0.        ,  0.        ,\n",
       "        0.        ,  0.        ,  0.        ,  0.        ,  0.        ,\n",
       "        0.        ,  0.        ,  0.        ,  0.        ,  0.        ,\n",
       "        0.        ,  0.        ,  0.        ,  0.        ,  0.        ,\n",
       "        0.        ,  0.        ,  0.        ,  0.        ,  0.        ,\n",
       "        0.        ,  0.        ,  0.        ,  0.        ,  0.        ,\n",
       "        0.        ,  0.        ,  0.        ,  0.        ,  0.        ,\n",
       "        0.        ,  0.        ,  0.        ,  0.        ,  0.        ,\n",
       "        0.        ,  0.        ,  0.        ,  0.        ,  0.        ,\n",
       "        0.        ,  0.        ,  0.        ,  0.        ,  0.        ,\n",
       "        0.        ,  0.        ,  0.        ,  0.        ,  0.        ,\n",
       "        0.        ,  0.        ,  0.        ,  0.        ,  0.        ,\n",
       "        0.        ,  0.        ,  0.        ,  0.        ,  0.        ,\n",
       "        0.        ,  0.        ,  0.        ,  0.        ,  0.        ,\n",
       "        0.        ,  0.        ,  0.        ,  0.        ,  0.        ,\n",
       "        0.        ,  0.        ,  0.        ,  0.        ,  0.        ,\n",
       "        0.        ,  0.        ,  0.        ,  0.        ,  0.        ,\n",
       "        0.        ,  0.        ,  0.        ,  0.        ,  0.        ,\n",
       "        0.        ,  0.        ,  0.        ,  0.        ,  0.        ,\n",
       "        0.        ,  0.        ,  0.        ,  0.        ,  0.        ,\n",
       "        0.        ,  0.        ,  0.        ,  0.        ,  0.        ,\n",
       "        0.        ,  0.        ,  0.        ,  0.        ,  0.        ,\n",
       "        0.        ,  0.        ,  0.        ,  0.        ,  0.        ,\n",
       "        0.        ,  0.        ,  0.        ,  0.        ,  0.        ,\n",
       "        0.        ,  0.        ,  0.        ,  0.        ,  0.        ,\n",
       "        0.        ,  0.        ,  0.        ,  0.        ,  0.        ,\n",
       "        0.        ,  0.        ,  0.        ,  0.        ,  0.        ,\n",
       "        0.        ,  0.        ,  0.        ,  0.        ,  0.        ,\n",
       "        0.        ,  0.        ,  0.        ,  0.        ,  0.        ,\n",
       "        0.        ,  0.        ,  0.        ,  0.        ,  0.        ,\n",
       "        0.        ,  0.        ,  0.        ,  0.        ,  0.        ,\n",
       "        0.        ,  0.        ,  0.        ,  0.        ,  0.        ,\n",
       "        0.        ,  0.        ,  0.        ,  0.        ,  0.        ,\n",
       "        0.        ,  0.        ,  0.        ,  0.        ,  0.        ,\n",
       "        0.        ,  0.        ,  0.        ,  0.        ,  0.        ,\n",
       "        0.        ,  0.        ,  0.        ,  0.        ,  0.        ,\n",
       "        0.        ,  0.        ,  0.        ,  0.        ,  0.        ,\n",
       "        0.        ,  0.        ,  0.        ,  0.        ,  0.        ,\n",
       "        0.        ,  0.        ,  0.        ,  0.        ,  0.        ,\n",
       "        0.        ,  0.        ,  0.        ,  0.        ,  0.        ,\n",
       "        0.        ,  0.        ,  0.        ,  0.        ,  0.        ,\n",
       "        0.        ,  0.        ,  0.        ,  0.        ,  0.        ,\n",
       "        0.        ,  0.        ,  0.        ,  0.        ,  0.        ,\n",
       "        0.        ,  0.        ,  0.        ,  0.        ,  0.        ,\n",
       "        0.        ,  0.        ,  0.        ,  0.        ,  0.        ,\n",
       "        0.        ,  0.        ,  0.        ,  0.        ,  0.        ,\n",
       "        0.        ,  0.        ,  0.        ,  0.        ,  0.        ,\n",
       "        0.        ,  0.        ,  0.        ,  0.        ,  0.        ,\n",
       "        0.        ,  0.        ,  0.        ,  0.        ,  0.        ,\n",
       "        0.        ,  0.        ,  0.        ,  0.        ,  0.        ,\n",
       "        0.        ,  0.        ,  0.        ,  0.        ,  0.        ,\n",
       "        0.        ,  0.        ,  0.        ,  0.        ,  0.        ,\n",
       "        0.        ,  0.        ,  0.        ,  0.        ,  0.        ,\n",
       "        0.        ,  0.        ,  0.        ,  0.        ,  0.        ,\n",
       "        0.        ,  0.        ,  0.        ,  0.        ,  0.        ,\n",
       "        0.        ,  0.        ,  0.        ,  0.        ,  0.        ,\n",
       "        0.        ,  0.        ,  0.        ,  0.        ,  0.        ,\n",
       "        0.        ,  0.        ,  0.        ,  0.        ,  0.        ,\n",
       "        0.        ,  0.        ,  0.        ,  0.        ,  0.        ,\n",
       "        0.        ,  0.        ,  0.        ,  0.        ,  0.        ,\n",
       "        0.        ,  0.        ,  0.        ,  0.        ,  0.        ,\n",
       "        0.        ,  0.        ,  0.        ,  0.        ,  0.        ,\n",
       "        0.        ,  0.        ,  0.        ,  0.        ,  0.        ,\n",
       "        0.        ,  0.        ,  0.        ,  0.        ,  0.        ,\n",
       "        0.        ,  0.        ,  0.        ,  0.        ,  0.        ,\n",
       "        0.        ,  0.        ,  0.        ,  0.        ,  0.        ,\n",
       "        0.        ,  0.        ,  0.        ,  0.        ,  0.        ,\n",
       "        0.        ,  0.        ,  0.        ,  0.        ,  0.        ,\n",
       "        0.        ,  0.        ,  0.        ,  0.        ,  0.        ,\n",
       "        0.        ,  0.        ,  0.        ,  0.        ,  0.        ,\n",
       "        0.        ,  0.        ,  0.        ,  0.        ,  0.        ,\n",
       "        0.        ,  0.        ,  0.        ,  0.        ,  0.        ,\n",
       "        0.        ,  0.        ,  0.        ,  0.        ,  0.        ,\n",
       "        0.        ,  0.        ,  0.        ,  0.        ,  0.        ,\n",
       "        0.        ,  0.        ,  0.        ,  0.        ,  0.        ,\n",
       "        0.        ,  0.        ,  0.        ,  0.        ,  0.        ,\n",
       "        0.        ,  0.        ,  0.        ,  0.        ,  0.        ,\n",
       "        0.        ,  0.        ,  0.        ,  0.        ,  0.        ,\n",
       "        0.        ,  0.        ,  0.        ,  0.        ,  0.        ,\n",
       "        0.        ,  0.        ,  0.        ,  0.        ,  0.        ,\n",
       "        0.        ,  0.        ,  0.        ,  0.        ,  0.        ,\n",
       "        0.        ,  0.        ,  0.        ,  0.        ,  0.        ,\n",
       "        0.        ,  0.        ,  0.        ,  0.        ,  0.        ,\n",
       "        0.        ,  0.        ,  0.        ,  0.        ,  0.        ,\n",
       "        0.        ,  0.        ,  0.        ,  0.        ,  0.        ,\n",
       "        0.        ,  0.        ,  0.        ,  0.        ,  0.        ,\n",
       "        0.        ,  0.        ,  0.        ,  0.        ,  0.        ,\n",
       "        0.        ,  0.        ,  0.        ,  0.        ,  0.        ,\n",
       "        0.        ,  0.        ,  0.        ,  0.        ,  0.        ,\n",
       "        0.        ,  0.        ,  0.        ,  0.        ,  0.        ,\n",
       "        0.        ,  0.        ,  0.        ,  0.        ,  0.        ,\n",
       "        0.        ,  0.        ,  0.        ,  0.        ,  0.        ,\n",
       "        0.        ,  0.        ,  0.        ,  0.        ,  0.        ,\n",
       "        0.        ,  0.        ,  0.        ,  0.        ,  0.        ,\n",
       "        0.        ,  0.        ,  0.        ,  0.        ,  0.        ,\n",
       "        0.        ,  0.        ,  0.        ,  0.        ,  0.        ,\n",
       "        0.        ,  0.        ,  0.        ,  0.        ,  0.        ,\n",
       "        0.        ,  0.        ,  0.        ,  0.        ,  0.        ,\n",
       "        0.        ,  0.        ,  0.        ,  0.        ,  0.        ,\n",
       "        0.        ,  0.        ,  0.        ,  0.        ,  0.        ,\n",
       "        0.        ,  0.        ,  0.        ,  0.        ,  0.        ,\n",
       "        0.        ,  0.        ,  0.        ,  0.        ,  0.        ,\n",
       "        0.        ,  0.        ,  0.        ,  0.        ,  0.        ,\n",
       "        0.        ,  0.        ,  0.        ,  0.        ,  0.        ,\n",
       "        0.        ,  0.        ,  0.        ,  0.        ,  0.        ,\n",
       "        0.        ,  0.        ,  0.        ,  0.        ,  0.        ,\n",
       "        0.        ,  0.        ,  0.        ,  0.        ,  0.        ,\n",
       "        0.        ,  0.        ,  0.        ,  0.        ,  0.        ,\n",
       "        0.        ,  0.        ,  0.        ,  0.        ,  0.        ,\n",
       "        0.        ,  0.        ,  0.        ,  0.        ,  0.        ,\n",
       "        0.        ,  0.        ,  0.        ,  0.        ,  0.        ,\n",
       "        0.        ,  0.        ,  0.        ,  0.        ,  0.        ,\n",
       "        0.        ,  0.        ,  0.        ,  0.        ,  0.        ,\n",
       "        0.        ,  0.        ,  0.        ,  0.        ,  0.        ,\n",
       "        0.        ,  0.        ,  0.        ,  0.        ,  0.        ,\n",
       "        0.        ,  0.        ,  0.        ,  0.        ,  0.        ,\n",
       "        0.        ,  0.        ,  0.        ,  0.        ,  0.        ,\n",
       "        0.        ,  0.        ,  0.        ,  0.        ,  0.        ])"
      ]
     },
     "execution_count": 15,
     "metadata": {},
     "output_type": "execute_result"
    }
   ],
   "source": [
    "m1.predict_std(obs.Propagation(x))"
   ]
  },
  {
   "cell_type": "code",
   "execution_count": 28,
   "metadata": {
    "ExecuteTime": {
     "end_time": "2020-11-19T07:30:08.516246Z",
     "start_time": "2020-11-19T07:30:08.504276Z"
    },
    "hidden": true
   },
   "outputs": [
    {
     "data": {
      "text/plain": [
       "(19.396, 19.451577634030848)"
      ]
     },
     "execution_count": 28,
     "metadata": {},
     "output_type": "execute_result"
    }
   ],
   "source": [
    "vals.mean(axis=0),m1.predict_mean(obs.SumOfPaths(x,y))"
   ]
  },
  {
   "cell_type": "code",
   "execution_count": 30,
   "metadata": {
    "ExecuteTime": {
     "end_time": "2020-11-19T07:30:17.428932Z",
     "start_time": "2020-11-19T07:30:17.416784Z"
    },
    "hidden": true
   },
   "outputs": [
    {
     "data": {
      "text/plain": [
       "(4.297346157804838, 4.187520495644869)"
      ]
     },
     "execution_count": 30,
     "metadata": {},
     "output_type": "execute_result"
    }
   ],
   "source": [
    "vals.std(axis=0),m1.predict_std(obs.SumOfPaths(x,y))"
   ]
  },
  {
   "cell_type": "code",
   "execution_count": 34,
   "metadata": {
    "ExecuteTime": {
     "end_time": "2020-11-19T07:33:21.427302Z",
     "start_time": "2020-11-19T07:33:21.417011Z"
    },
    "hidden": true
   },
   "outputs": [
    {
     "data": {
      "text/plain": [
       "4.187520495644869"
      ]
     },
     "execution_count": 34,
     "metadata": {},
     "output_type": "execute_result"
    }
   ],
   "source": [
    "np.sqrt(((x[:,None]*y[None,:]*m1.sigma)**2).sum())"
   ]
  },
  {
   "cell_type": "code",
   "execution_count": 35,
   "metadata": {
    "ExecuteTime": {
     "end_time": "2020-11-19T07:34:08.836043Z",
     "start_time": "2020-11-19T07:34:08.817716Z"
    },
    "hidden": true
   },
   "outputs": [
    {
     "data": {
      "text/plain": [
       "4.187520495644869"
      ]
     },
     "execution_count": 35,
     "metadata": {},
     "output_type": "execute_result"
    }
   ],
   "source": [
    "m1.predict_std(obs.Connectivity(np.where(x)[0],np.where(y)[0]))"
   ]
  },
  {
   "cell_type": "markdown",
   "metadata": {},
   "source": [
    "# Compound propagation"
   ]
  },
  {
   "cell_type": "code",
   "execution_count": 22,
   "metadata": {
    "ExecuteTime": {
     "end_time": "2021-01-07T22:03:08.835721Z",
     "start_time": "2021-01-07T22:03:08.794140Z"
    }
   },
   "outputs": [],
   "source": [
    "g3 = nx.erdos_renyi_graph(400,0.1)\n",
    "adj = np.asarray(nx.adj_matrix(g3).todense())\n",
    "d3 = np.array(adj.sum(axis=1)).flatten()"
   ]
  },
  {
   "cell_type": "code",
   "execution_count": 23,
   "metadata": {
    "ExecuteTime": {
     "end_time": "2021-01-07T22:03:09.934362Z",
     "start_time": "2021-01-07T22:03:09.888432Z"
    }
   },
   "outputs": [],
   "source": [
    "g4 = nx.erdos_renyi_graph(400,0.1)\n",
    "adj = np.asarray(nx.adj_matrix(g4).todense())\n",
    "d4 = np.array(adj.sum(axis=1)).flatten()"
   ]
  },
  {
   "cell_type": "code",
   "execution_count": 24,
   "metadata": {
    "ExecuteTime": {
     "end_time": "2021-01-07T22:03:11.175253Z",
     "start_time": "2021-01-07T22:03:11.167335Z"
    }
   },
   "outputs": [],
   "source": [
    "m1 = cl.GraphEnsemble(1000)\n",
    "m2 = cl.BipartiteGraphEnsemble(1000,400)\n",
    "m3 = cl.GraphEnsemble(400)\n",
    "m4 = cl.GraphEnsemble(400)\n",
    "ges = cl.GraphEnsembleSet([m1,m2,m3,m4],[['proteins','proteins'],['proteins','mirna'],['mirna','mirna'],['mirna','mirna2']])\n",
    "#m.fit([const.DegreeSequence(d)], opt_kwargs={'nit':100,'fatol':1e-2,'disp':True})\n",
    "#m.fit([const.BipartiteOutDegreeSequence(bp_dout),const.BipartiteInDegreeSequence(bp_din)], opt_kwargs={'nit':100,'fatol':1e-2,'disp':True})"
   ]
  },
  {
   "cell_type": "code",
   "execution_count": 92,
   "metadata": {
    "ExecuteTime": {
     "end_time": "2021-01-07T22:16:04.359693Z",
     "start_time": "2021-01-07T22:15:59.862042Z"
    },
    "scrolled": true
   },
   "outputs": [
    {
     "name": "stdout",
     "output_type": "stream",
     "text": [
      "0:  |F(x)| = 101.902; step 1\n",
      "1:  |F(x)| = 39.4307; step 1\n",
      "2:  |F(x)| = 45.8406; step 1\n",
      "3:  |F(x)| = 49.5124; step 1\n",
      "4:  |F(x)| = 13.5248; step 0.340112\n",
      "5:  |F(x)| = 18.4843; step 1\n",
      "6:  |F(x)| = 2.59476; step 0.424783\n",
      "7:  |F(x)| = 1.83366; step 1\n",
      "8:  |F(x)| = 0.654259; step 1\n",
      "9:  |F(x)| = 0.294942; step 1\n",
      "10:  |F(x)| = 0.162528; step 1\n",
      "11:  |F(x)| = 0.0855408; step 1\n",
      "12:  |F(x)| = 0.0685657; step 1\n",
      "13:  |F(x)| = 0.025499; step 1\n",
      "14:  |F(x)| = 0.0161128; step 1\n",
      "15:  |F(x)| = 0.00895634; step 1\n",
      "16:  |F(x)| = 0.00631354; step 1\n",
      "17:  |F(x)| = 0.00400564; step 1\n",
      "18:  |F(x)| = 0.00180536; step 1\n",
      "19:  |F(x)| = 0.000912282; step 1\n",
      "20:  |F(x)| = 0.000700106; step 1\n",
      "21:  |F(x)| = 0.000449404; step 1\n",
      "22:  |F(x)| = 0.000278821; step 1\n",
      "23:  |F(x)| = 0.000139901; step 1\n",
      "24:  |F(x)| = 9.93119e-05; step 1\n",
      "25:  |F(x)| = 7.89401e-05; step 1\n",
      "26:  |F(x)| = 5.8658e-05; step 1\n",
      "27:  |F(x)| = 3.93529e-05; step 1\n",
      "28:  |F(x)| = 2.27187e-05; step 1\n",
      "29:  |F(x)| = 1.29524e-05; step 1\n",
      "30:  |F(x)| = 7.63699e-06; step 1\n",
      "31:  |F(x)| = 5.96695e-06; step 1\n",
      "0:  |F(x)| = 23.9944; step 0.109851\n",
      "1:  |F(x)| = 26.0336; step 1\n",
      "2:  |F(x)| = 21.4143; step 1\n",
      "3:  |F(x)| = 3.3088; step 1\n",
      "4:  |F(x)| = 3.32982; step 1\n",
      "5:  |F(x)| = 0.758569; step 1\n",
      "6:  |F(x)| = 0.645698; step 1\n",
      "7:  |F(x)| = 0.471402; step 1\n",
      "8:  |F(x)| = 0.248327; step 1\n",
      "9:  |F(x)| = 0.0403882; step 1\n",
      "10:  |F(x)| = 0.0208473; step 1\n",
      "11:  |F(x)| = 0.0156423; step 1\n",
      "12:  |F(x)| = 0.00700117; step 1\n",
      "13:  |F(x)| = 0.00412729; step 1\n",
      "14:  |F(x)| = 0.00565167; step 1\n",
      "15:  |F(x)| = 0.00127723; step 1\n",
      "16:  |F(x)| = 0.000579403; step 1\n",
      "17:  |F(x)| = 0.000160315; step 1\n",
      "18:  |F(x)| = 8.11358e-05; step 1\n",
      "19:  |F(x)| = 4.34273e-05; step 1\n",
      "20:  |F(x)| = 2.09683e-05; step 1\n",
      "21:  |F(x)| = 7.12542e-06; step 1\n",
      "22:  |F(x)| = 5.80785e-06; step 1\n",
      "23:  |F(x)| = 3.52207e-06; step 1\n",
      "24:  |F(x)| = 1.3275e-06; step 1\n",
      "25:  |F(x)| = 8.03163e-07; step 1\n",
      "26:  |F(x)| = 3.89622e-07; step 1\n",
      "27:  |F(x)| = 1.33506e-07; step 1\n",
      "28:  |F(x)| = 8.20157e-08; step 1\n",
      "29:  |F(x)| = 3.68335e-08; step 1\n",
      "30:  |F(x)| = 2.54995e-08; step 1\n",
      "31:  |F(x)| = 1.21359e-08; step 1\n",
      "32:  |F(x)| = 5.30423e-09; step 1\n",
      "33:  |F(x)| = 4.12112e-09; step 1\n",
      "34:  |F(x)| = 2.85721e-09; step 1\n",
      "35:  |F(x)| = 7.32157e-10; step 1\n",
      "36:  |F(x)| = 4.48225e-10; step 1\n",
      "37:  |F(x)| = 2.28781e-10; step 1\n",
      "38:  |F(x)| = 8.45404e-11; step 1\n",
      "39:  |F(x)| = 3.31113e-11; step 1\n",
      "40:  |F(x)| = 1.67049e-11; step 1\n",
      "41:  |F(x)| = 2.99138e-11; step 1\n",
      "42:  |F(x)| = 1.14966e-11; step 1\n",
      "43:  |F(x)| = 5.65592e-12; step 1\n",
      "44:  |F(x)| = 2.00373e-12; step 1\n",
      "45:  |F(x)| = 9.09495e-13; step 1\n",
      "46:  |F(x)| = 5.68434e-13; step 0.460267\n",
      "47:  |F(x)| = 4.1922e-13; step 0.304142\n",
      "48:  |F(x)| = 4.40536e-13; step 0.295885\n",
      "49:  |F(x)| = 4.40536e-13; step 0.0186845\n",
      "50:  |F(x)| = 4.40536e-13; step 0.0175667\n",
      "51:  |F(x)| = 4.26326e-13; step 0.0136545\n",
      "52:  |F(x)| = 4.26326e-13; step 0.0110184\n",
      "53:  |F(x)| = 4.26326e-13; step 0.0111051\n",
      "54:  |F(x)| = 4.26326e-13; step 0.00983577\n",
      "55:  |F(x)| = 4.12115e-13; step 0.00418818\n",
      "56:  |F(x)| = 4.12115e-13; step 0.0111635\n",
      "57:  |F(x)| = 4.12115e-13; step 0.0126373\n",
      "58:  |F(x)| = 4.12115e-13; step 0.0126036\n",
      "59:  |F(x)| = 1.59162e-12; step 1\n",
      "60:  |F(x)| = 5.82645e-13; step 1\n",
      "61:  |F(x)| = 5.54223e-13; step 1\n",
      "62:  |F(x)| = 5.40012e-13; step 0.472034\n",
      "63:  |F(x)| = 5.25802e-13; step 0.349443\n",
      "64:  |F(x)| = 4.9738e-13; step 0.183484\n",
      "65:  |F(x)| = 2.70006e-13; step 0.0375532\n",
      "66:  |F(x)| = 3.2685e-13; step 0.0161574\n",
      "67:  |F(x)| = 1.27898e-12; step 1\n",
      "68:  |F(x)| = 1.1795e-12; step 1\n",
      "69:  |F(x)| = 3.97904e-13; step 1\n",
      "70:  |F(x)| = 2.41585e-13; step 1\n",
      "71:  |F(x)| = 2.41585e-13; step 0.269256\n",
      "72:  |F(x)| = 2.41585e-13; step 0.226222\n",
      "73:  |F(x)| = 2.13163e-13; step 0.0448629\n",
      "74:  |F(x)| = 2.13163e-13; step 0.0195221\n",
      "75:  |F(x)| = 1.22213e-12; step 1\n",
      "76:  |F(x)| = 6.25278e-13; step 1\n",
      "77:  |F(x)| = 4.12115e-13; step 1\n",
      "78:  |F(x)| = 4.54747e-13; step 1\n",
      "79:  |F(x)| = 3.55271e-13; step 1\n",
      "80:  |F(x)| = 4.40536e-13; step 1\n",
      "81:  |F(x)| = 4.40536e-13; step 0.049206\n",
      "82:  |F(x)| = 4.40536e-13; step 0.0532313\n",
      "83:  |F(x)| = 4.40536e-13; step 0.0481936\n",
      "84:  |F(x)| = 4.40536e-13; step 0.0368425\n",
      "85:  |F(x)| = 3.97904e-13; step 0.041265\n",
      "86:  |F(x)| = 3.97904e-13; step 0.0279848\n",
      "87:  |F(x)| = 1.09424e-12; step 1\n",
      "88:  |F(x)| = 5.54223e-13; step 1\n",
      "89:  |F(x)| = 3.55271e-13; step 1\n",
      "90:  |F(x)| = 3.41061e-13; step 0.303684\n",
      "91:  |F(x)| = 1.27898e-12; step 1\n",
      "92:  |F(x)| = 4.54747e-13; step 1\n",
      "93:  |F(x)| = 4.40536e-13; step 0.0850429\n",
      "94:  |F(x)| = 6.25278e-13; step 0.077297\n",
      "95:  |F(x)| = 4.40536e-13; step 0.0599348\n",
      "96:  |F(x)| = 1.19371e-12; step 1\n",
      "97:  |F(x)| = 6.25278e-13; step 1\n",
      "98:  |F(x)| = 4.9738e-13; step 0.451895\n",
      "99:  |F(x)| = 6.82121e-13; step 1\n",
      "0:  |F(x)| = 13.9204; step 1\n",
      "1:  |F(x)| = 7.11541; step 1\n",
      "2:  |F(x)| = 2.72889; step 1\n",
      "3:  |F(x)| = 2.08951; step 0.175036\n",
      "4:  |F(x)| = 1.13249; step 1\n",
      "5:  |F(x)| = 0.264849; step 1\n",
      "6:  |F(x)| = 0.179805; step 1\n",
      "7:  |F(x)| = 0.0284391; step 1\n",
      "8:  |F(x)| = 0.00950263; step 1\n",
      "9:  |F(x)| = 0.00663114; step 1\n",
      "10:  |F(x)| = 0.00257176; step 1\n",
      "11:  |F(x)| = 0.000821295; step 1\n",
      "12:  |F(x)| = 0.000155289; step 1\n",
      "13:  |F(x)| = 7.92669e-05; step 1\n",
      "14:  |F(x)| = 4.14533e-05; step 1\n",
      "15:  |F(x)| = 6.83526e-06; step 1\n",
      "16:  |F(x)| = 1.83795e-06; step 1\n",
      "17:  |F(x)| = 7.11243e-07; step 1\n",
      "18:  |F(x)| = 2.03313e-07; step 1\n",
      "19:  |F(x)| = 8.2981e-08; step 1\n",
      "20:  |F(x)| = 1.57626e-08; step 1\n",
      "21:  |F(x)| = 9.78504e-09; step 1\n",
      "22:  |F(x)| = 4.4839e-09; step 1\n",
      "23:  |F(x)| = 1.15575e-09; step 1\n",
      "24:  |F(x)| = 6.72891e-10; step 1\n",
      "25:  |F(x)| = 3.33074e-10; step 1\n",
      "26:  |F(x)| = 1.1811e-10; step 1\n",
      "27:  |F(x)| = 3.28235e-11; step 1\n",
      "28:  |F(x)| = 1.139e-11; step 1\n",
      "29:  |F(x)| = 7.54241e-12; step 1\n",
      "30:  |F(x)| = 2.40874e-12; step 1\n",
      "31:  |F(x)| = 7.92255e-13; step 1\n",
      "0:  |F(x)| = 11.1598; step 1\n",
      "1:  |F(x)| = 7.60948; step 1\n",
      "2:  |F(x)| = 2.89263; step 1\n",
      "3:  |F(x)| = 1.06157; step 1\n",
      "4:  |F(x)| = 0.817402; step 1\n",
      "5:  |F(x)| = 0.381565; step 1\n",
      "6:  |F(x)| = 0.123905; step 1\n",
      "7:  |F(x)| = 0.0174813; step 1\n",
      "8:  |F(x)| = 0.00718465; step 1\n",
      "9:  |F(x)| = 0.00466788; step 1\n",
      "10:  |F(x)| = 0.00113724; step 1\n",
      "11:  |F(x)| = 0.000415011; step 1\n",
      "12:  |F(x)| = 0.000268319; step 1\n",
      "13:  |F(x)| = 0.000124525; step 1\n",
      "14:  |F(x)| = 7.54199e-05; step 1\n",
      "15:  |F(x)| = 8.79281e-06; step 1\n",
      "16:  |F(x)| = 4.3719e-06; step 1\n",
      "17:  |F(x)| = 2.25386e-06; step 1\n",
      "18:  |F(x)| = 1.1519e-06; step 1\n",
      "19:  |F(x)| = 3.79951e-07; step 1\n",
      "20:  |F(x)| = 1.308e-07; step 1\n",
      "21:  |F(x)| = 5.08034e-08; step 1\n",
      "22:  |F(x)| = 3.82545e-08; step 1\n",
      "23:  |F(x)| = 1.36743e-08; step 1\n",
      "24:  |F(x)| = 3.93468e-09; step 1\n",
      "25:  |F(x)| = 1.58948e-09; step 1\n",
      "26:  |F(x)| = 5.31532e-10; step 1\n",
      "27:  |F(x)| = 3.34481e-10; step 1\n",
      "28:  |F(x)| = 1.78055e-10; step 1\n",
      "29:  |F(x)| = 3.69731e-11; step 1\n",
      "30:  |F(x)| = 2.09575e-11; step 1\n",
      "31:  |F(x)| = 1.66906e-11; step 1\n"
     ]
    }
   ],
   "source": [
    "ges.fit([[const.DegreeSequence(d)],[const.BipartiteOutDegreeSequence(bp_dout),const.BipartiteInDegreeSequence(bp_din)],[const.DegreeSequence(d3)],[const.DegreeSequence(d4)]], opt_kwargs=[{'nit':32,'fatol':1e-2,'disp':True},{'nit':100,'fatol':1e-2,'disp':True},{'nit':32,'fatol':1e-2,'disp':True},{'nit':32,'fatol':1e-2,'disp':True}])\n"
   ]
  },
  {
   "cell_type": "code",
   "execution_count": 98,
   "metadata": {
    "ExecuteTime": {
     "end_time": "2021-01-07T22:16:57.336732Z",
     "start_time": "2021-01-07T22:16:57.331494Z"
    }
   },
   "outputs": [],
   "source": [
    "def propagate_compound(adj_list,x):\n",
    "    spadjs = [sp.csr_matrix(adj) for adj in adj_list]\n",
    "    outvec = x\n",
    "    for i in range(len(adj_list)):\n",
    "        outvec = adj_list[i].T.dot(outvec)\n",
    "    return outvec\n",
    "x = np.zeros(1000)\n",
    "y = np.zeros(400)\n",
    "x[:200] = 1.\n",
    "#y[200:300]=1."
   ]
  },
  {
   "cell_type": "code",
   "execution_count": 99,
   "metadata": {
    "ExecuteTime": {
     "end_time": "2021-01-07T22:16:58.603422Z",
     "start_time": "2021-01-07T22:16:58.599464Z"
    }
   },
   "outputs": [],
   "source": [
    "def get_stochastic(m):\n",
    "    d = np.array(m.sum(axis=1)).flatten()\n",
    "    return np.asarray(m / d[:, None])"
   ]
  },
  {
   "cell_type": "code",
   "execution_count": 103,
   "metadata": {
    "ExecuteTime": {
     "end_time": "2021-01-07T22:19:38.152714Z",
     "start_time": "2021-01-07T22:18:18.997553Z"
    }
   },
   "outputs": [
    {
     "data": {
      "application/vnd.jupyter.widget-view+json": {
       "model_id": "5e378623bdd142f4a600764ec21da743",
       "version_major": 2,
       "version_minor": 0
      },
      "text/plain": [
       "HBox(children=(HTML(value=''), FloatProgress(value=0.0, max=1000.0), HTML(value='')))"
      ]
     },
     "metadata": {},
     "output_type": "display_data"
    },
    {
     "name": "stdout",
     "output_type": "stream",
     "text": [
      "\n"
     ]
    }
   ],
   "source": [
    "length = 1\n",
    "vals = np.zeros([1000,400])\n",
    "for i in trange(vals.shape[0]):\n",
    "    radj1 = get_stochastic(m1.sample())\n",
    "    radj2 = get_stochastic(m2.sample())\n",
    "    radj3 = get_stochastic(m3.sample())\n",
    "    radj4 = get_stochastic(m4.sample())\n",
    "    vals[i,:] = propagate_compound([radj1,radj2,radj3,radj4],x)"
   ]
  },
  {
   "cell_type": "code",
   "execution_count": 104,
   "metadata": {
    "ExecuteTime": {
     "end_time": "2021-01-07T22:21:13.988518Z",
     "start_time": "2021-01-07T22:20:56.680959Z"
    }
   },
   "outputs": [
    {
     "data": {
      "application/vnd.jupyter.widget-view+json": {
       "model_id": "95147ac794b04f438da8371d8397347a",
       "version_major": 2,
       "version_minor": 0
      },
      "text/plain": [
       "HBox(children=(HTML(value=''), FloatProgress(value=0.0, max=400.0), HTML(value='')))"
      ]
     },
     "metadata": {},
     "output_type": "display_data"
    },
    {
     "name": "stdout",
     "output_type": "stream",
     "text": [
      "\n"
     ]
    }
   ],
   "source": [
    "std_theo = np.zeros(400)\n",
    "mean_theo = np.zeros(400)\n",
    "for i in trange(400):\n",
    "    y = np.zeros(400)\n",
    "    y[i] = 1.\n",
    "    o = obs.CompoundObservable([obs.Propagation(x,normalized=True), obs.Propagation(normalized=True), obs.Propagation(normalized=True), obs.Propagation(None,y,normalized=True)],[['proteins','proteins'],['proteins','mirna'],['mirna','mirna'],['mirna','mirna2']])\n",
    "    mean_theo[i] = ges.predict_mean(o)\n",
    "    std_theo[i] = ges.predict_std(o)"
   ]
  },
  {
   "cell_type": "code",
   "execution_count": 18,
   "metadata": {
    "ExecuteTime": {
     "end_time": "2021-01-07T21:45:33.565072Z",
     "start_time": "2021-01-07T21:44:30.274861Z"
    }
   },
   "outputs": [
    {
     "data": {
      "application/vnd.jupyter.widget-view+json": {
       "model_id": "471e798eac164eefa2933052ad27d17d",
       "version_major": 2,
       "version_minor": 0
      },
      "text/plain": [
       "HBox(children=(HTML(value=''), FloatProgress(value=0.0, max=1000.0), HTML(value='')))"
      ]
     },
     "metadata": {},
     "output_type": "display_data"
    },
    {
     "name": "stdout",
     "output_type": "stream",
     "text": [
      "\n"
     ]
    },
    {
     "data": {
      "application/vnd.jupyter.widget-view+json": {
       "model_id": "38fd1e4d4ffe45eda3be52cec81882a5",
       "version_major": 2,
       "version_minor": 0
      },
      "text/plain": [
       "HBox(children=(HTML(value=''), FloatProgress(value=0.0, max=1000.0), HTML(value='')))"
      ]
     },
     "metadata": {},
     "output_type": "display_data"
    },
    {
     "name": "stdout",
     "output_type": "stream",
     "text": [
      "\n"
     ]
    }
   ],
   "source": [
    "length = 1\n",
    "vals = np.zeros([1000,1000])\n",
    "for i in trange(vals.shape[0]):\n",
    "    radj1 = get_stochastic(m1.sample())\n",
    "    #radj2 = get_stochastic(m2.sample())\n",
    "    #radj3 = get_stochastic(m3.sample())\n",
    "    #radj4 = get_stochastic(m4.sample())\n",
    "    vals[i,:] = propagate_compound([radj1],x)\n",
    "std_theo = np.zeros(1000)\n",
    "mean_theo = np.zeros(1000)\n",
    "for i in trange(1000):\n",
    "    y = np.zeros(1000)\n",
    "    y[i] = 1.\n",
    "    o = obs.CompoundObservable([obs.Propagation(x,y,normalized=True)],[['proteins','proteins']])\n",
    "    mean_theo[i] = ges.predict_mean(o)\n",
    "    std_theo[i] = ges.predict_std(o)"
   ]
  },
  {
   "cell_type": "code",
   "execution_count": 105,
   "metadata": {
    "ExecuteTime": {
     "end_time": "2021-01-07T22:22:00.063915Z",
     "start_time": "2021-01-07T22:21:59.489399Z"
    }
   },
   "outputs": [
    {
     "data": {
      "text/plain": [
       "[<matplotlib.lines.Line2D at 0x7fa01c542908>]"
      ]
     },
     "execution_count": 105,
     "metadata": {},
     "output_type": "execute_result"
    },
    {
     "data": {
      "image/png": "[encoded data removed]",
      "text/plain": [
       "<Figure size 1440x288 with 3 Axes>"
      ]
     },
     "metadata": {
      "needs_background": "light"
     },
     "output_type": "display_data"
    }
   ],
   "source": [
    "plt.figure(figsize=[20,4])\n",
    "plt.subplot(1,3,1)\n",
    "plt.plot(vals.mean(axis=0),mean_theo,'.')\n",
    "plt.plot(plt.xlim(),plt.xlim())\n",
    "plt.subplot(1,3,2)\n",
    "plt.plot(vals.std(axis=0),std_theo,'.')\n",
    "plt.plot(plt.xlim(),plt.xlim())\n",
    "plt.subplot(1,3,3)\n",
    "plt.plot(vals.std(axis=0)/vals.std(axis=0).max(),std_theo/std_theo.max(),'.')\n",
    "plt.plot(plt.xlim(),plt.xlim())"
   ]
  },
  {
   "cell_type": "code",
   "execution_count": 56,
   "metadata": {
    "ExecuteTime": {
     "end_time": "2021-01-07T21:31:09.464755Z",
     "start_time": "2021-01-07T21:31:09.448961Z"
    }
   },
   "outputs": [],
   "source": [
    "o = obs.Propagation(x,normalized=True)\n",
    "mean_theo = m1.predict_mean(o)\n",
    "std_theo=m1.predict_std(o)"
   ]
  },
  {
   "cell_type": "code",
   "execution_count": 53,
   "metadata": {
    "ExecuteTime": {
     "end_time": "2021-01-07T21:30:23.791350Z",
     "start_time": "2021-01-07T21:30:23.785444Z"
    }
   },
   "outputs": [
    {
     "data": {
      "text/plain": [
       "True"
      ]
     },
     "execution_count": 53,
     "metadata": {},
     "output_type": "execute_result"
    }
   ],
   "source": [
    "np.allclose(o.grad(m1.adj_matrix, x, None, 1, True),x[:,None]/d[:,None])"
   ]
  },
  {
   "cell_type": "code",
   "execution_count": 48,
   "metadata": {
    "ExecuteTime": {
     "end_time": "2021-01-07T21:29:08.563881Z",
     "start_time": "2021-01-07T21:29:08.283095Z"
    }
   },
   "outputs": [
    {
     "data": {
      "text/plain": [
       "[<matplotlib.lines.Line2D at 0x7fbbd7988f98>]"
      ]
     },
     "execution_count": 48,
     "metadata": {},
     "output_type": "execute_result"
    },
    {
     "data": {
      "image/png": "[encoded data removed]",
      "text/plain": [
       "<Figure size 432x288 with 1 Axes>"
      ]
     },
     "metadata": {
      "needs_background": "light"
     },
     "output_type": "display_data"
    }
   ],
   "source": [
    "plt.plot(vals.std(axis=0), np.sqrt(((m1.sigma * x[:,None]/d[:,None])**2).sum(axis=0)),'.')\n",
    "plt.plot(plt.xlim(),plt.xlim())"
   ]
  },
  {
   "cell_type": "code",
   "execution_count": 63,
   "metadata": {
    "ExecuteTime": {
     "end_time": "2021-01-07T21:38:10.983218Z",
     "start_time": "2021-01-07T21:38:10.978472Z"
    }
   },
   "outputs": [
    {
     "data": {
      "text/plain": [
       "[]"
      ]
     },
     "execution_count": 63,
     "metadata": {},
     "output_type": "execute_result"
    }
   ],
   "source": [
    "[3,4,5][6:]"
   ]
  },
  {
   "cell_type": "code",
   "execution_count": 62,
   "metadata": {
    "ExecuteTime": {
     "end_time": "2021-01-07T21:33:24.728575Z",
     "start_time": "2021-01-07T21:33:24.722095Z"
    }
   },
   "outputs": [
    {
     "data": {
      "text/plain": [
       "array([[0., 0., 0., ..., 0., 0., 1.],\n",
       "       [0., 0., 0., ..., 0., 0., 1.],\n",
       "       [0., 0., 0., ..., 0., 0., 1.],\n",
       "       ...,\n",
       "       [0., 0., 0., ..., 0., 0., 0.],\n",
       "       [0., 0., 0., ..., 0., 0., 0.],\n",
       "       [0., 0., 0., ..., 0., 0., 0.]])"
      ]
     },
     "execution_count": 62,
     "metadata": {},
     "output_type": "execute_result"
    }
   ],
   "source": [
    "o.grad([m1.adj_matrix],0)"
   ]
  },
  {
   "cell_type": "code",
   "execution_count": 30,
   "metadata": {
    "ExecuteTime": {
     "end_time": "2021-01-07T22:04:53.957149Z",
     "start_time": "2021-01-07T22:04:53.467804Z"
    }
   },
   "outputs": [
    {
     "data": {
      "text/plain": [
       "[<matplotlib.lines.Line2D at 0x7fa02f028358>]"
      ]
     },
     "execution_count": 30,
     "metadata": {},
     "output_type": "execute_result"
    },
    {
     "data": {
      "image/png": "[encoded data removed]",
      "text/plain": [
       "<Figure size 1440x288 with 3 Axes>"
      ]
     },
     "metadata": {
      "needs_background": "light"
     },
     "output_type": "display_data"
    }
   ],
   "source": []
  },
  {
   "cell_type": "code",
   "execution_count": null,
   "metadata": {},
   "outputs": [],
   "source": []
  },
  {
   "cell_type": "code",
   "execution_count": 32,
   "metadata": {
    "ExecuteTime": {
     "end_time": "2021-01-07T21:07:50.368318Z",
     "start_time": "2021-01-07T21:07:50.161513Z"
    }
   },
   "outputs": [
    {
     "data": {
      "text/plain": [
       "[<matplotlib.lines.Line2D at 0x7fbbd7752f28>]"
      ]
     },
     "execution_count": 32,
     "metadata": {},
     "output_type": "execute_result"
    },
    {
     "data": {
      "image/png": "[encoded data removed]",
      "text/plain": [
       "<Figure size 432x288 with 1 Axes>"
      ]
     },
     "metadata": {
      "needs_background": "light"
     },
     "output_type": "display_data"
    }
   ],
   "source": [
    "plt.plot(vals.std(axis=0),std_theo,'.')\n",
    "plt.plot(plt.xlim(),plt.xlim())"
   ]
  },
  {
   "cell_type": "code",
   "execution_count": 31,
   "metadata": {
    "ExecuteTime": {
     "end_time": "2021-01-07T21:02:19.661564Z",
     "start_time": "2021-01-07T21:02:19.463984Z"
    }
   },
   "outputs": [
    {
     "data": {
      "text/plain": [
       "[<matplotlib.lines.Line2D at 0x7fbbd7682e48>]"
      ]
     },
     "execution_count": 31,
     "metadata": {},
     "output_type": "execute_result"
    },
    {
     "data": {
      "image/png": "[encoded data removed]",
      "text/plain": [
       "<Figure size 432x288 with 1 Axes>"
      ]
     },
     "metadata": {
      "needs_background": "light"
     },
     "output_type": "display_data"
    }
   ],
   "source": [
    "plt.plot(vals.std(axis=0)/vals.std(axis=0).max(),std_theo/std_theo.max(),'.')\n",
    "plt.plot(plt.xlim(),plt.xlim())"
   ]
  },
  {
   "cell_type": "code",
   "execution_count": 38,
   "metadata": {
    "ExecuteTime": {
     "end_time": "2021-01-07T02:10:12.755612Z",
     "start_time": "2021-01-07T02:10:12.750835Z"
    }
   },
   "outputs": [
    {
     "data": {
      "text/plain": [
       "166211.681"
      ]
     },
     "execution_count": 38,
     "metadata": {},
     "output_type": "execute_result"
    }
   ],
   "source": [
    "vals.mean()"
   ]
  },
  {
   "cell_type": "code",
   "execution_count": 15,
   "metadata": {
    "ExecuteTime": {
     "end_time": "2021-01-07T02:12:25.058384Z",
     "start_time": "2021-01-07T02:12:25.053635Z"
    }
   },
   "outputs": [],
   "source": [
    "o = obs.CompoundObservable([obs.Propagation(x,normalized=False), obs.Propagation(None,y,normalized=False)],[['proteins','proteins'],['proteins','mirna']])"
   ]
  },
  {
   "cell_type": "code",
   "execution_count": null,
   "metadata": {},
   "outputs": [],
   "source": []
  },
  {
   "cell_type": "code",
   "execution_count": 16,
   "metadata": {
    "ExecuteTime": {
     "end_time": "2021-01-07T02:12:31.672282Z",
     "start_time": "2021-01-07T02:12:31.665035Z"
    }
   },
   "outputs": [
    {
     "data": {
      "text/plain": [
       "199518.665617976"
      ]
     },
     "execution_count": 16,
     "metadata": {},
     "output_type": "execute_result"
    }
   ],
   "source": [
    "ges.predict_mean(o)"
   ]
  },
  {
   "cell_type": "code",
   "execution_count": 17,
   "metadata": {
    "ExecuteTime": {
     "end_time": "2021-01-07T02:12:32.991122Z",
     "start_time": "2021-01-07T02:12:32.974177Z"
    }
   },
   "outputs": [
    {
     "data": {
      "text/plain": [
       "2327.4443231927403"
      ]
     },
     "execution_count": 17,
     "metadata": {},
     "output_type": "execute_result"
    }
   ],
   "source": [
    "ges.predict_std(o)"
   ]
  },
  {
   "cell_type": "code",
   "execution_count": 18,
   "metadata": {
    "ExecuteTime": {
     "end_time": "2021-01-07T02:12:33.833300Z",
     "start_time": "2021-01-07T02:12:33.828210Z"
    }
   },
   "outputs": [
    {
     "data": {
      "text/plain": [
       "2346.1842181721368"
      ]
     },
     "execution_count": 18,
     "metadata": {},
     "output_type": "execute_result"
    }
   ],
   "source": [
    "vals.std()"
   ]
  },
  {
   "cell_type": "markdown",
   "metadata": {},
   "source": [
    "# Compound propagation more matrices"
   ]
  },
  {
   "cell_type": "code",
   "execution_count": 56,
   "metadata": {
    "ExecuteTime": {
     "end_time": "2021-01-07T17:08:56.476265Z",
     "start_time": "2021-01-07T17:08:54.129485Z"
    }
   },
   "outputs": [],
   "source": [
    "g1 = nx.barabasi_albert_graph(1000,20)\n",
    "g2 = nx.bipartite.random_graph(1000,400,0.1)\n",
    "g3 = nx.bipartite.random_graph(400,700,0.1)\n",
    "g4 = nx.erdos_renyi_graph(700,0.1)\n",
    "graphs = [g1,g2,g3,g4]\n",
    "adjs = [np.asarray(nx.adj_matrix(g).todense()) for g in graphs]\n",
    "adjs[1] = adjs[1][:1000,1000:]\n",
    "adjs[2] = adjs[2][:400,400:]\n",
    "d1 = np.array(adjs[0].sum(axis=0)).flatten()\n",
    "din2 = np.array(adjs[1].sum(axis=0)).flatten()\n",
    "dout2 = np.array(adjs[1].sum(axis=1)).flatten()\n",
    "din3 = np.array(adjs[2].sum(axis=0)).flatten()\n",
    "dout3 = np.array(adjs[2].sum(axis=1)).flatten()\n",
    "d4 = np.array(adjs[3].sum(axis=0)).flatten()\n"
   ]
  },
  {
   "cell_type": "code",
   "execution_count": 57,
   "metadata": {
    "ExecuteTime": {
     "end_time": "2021-01-07T17:08:57.351022Z",
     "start_time": "2021-01-07T17:08:57.347604Z"
    }
   },
   "outputs": [],
   "source": [
    "m1 = cl.GraphEnsemble(1000)\n",
    "m2 = cl.BipartiteGraphEnsemble(1000,400)\n",
    "m3 = cl.BipartiteGraphEnsemble(400,700)\n",
    "m4 = cl.GraphEnsemble(700)\n"
   ]
  },
  {
   "cell_type": "code",
   "execution_count": 21,
   "metadata": {
    "ExecuteTime": {
     "end_time": "2021-01-07T01:52:47.869891Z",
     "start_time": "2021-01-07T01:52:47.584925Z"
    }
   },
   "outputs": [
    {
     "ename": "IndexError",
     "evalue": "list index out of range",
     "output_type": "error",
     "traceback": [
      "\u001b[0;31m---------------------------------------------------------------------------\u001b[0m",
      "\u001b[0;31mIndexError\u001b[0m                                Traceback (most recent call last)",
      "\u001b[0;32m<ipython-input-21-0ae0b31b3c92>\u001b[0m in \u001b[0;36m<module>\u001b[0;34m\u001b[0m\n\u001b[0;32m----> 1\u001b[0;31m \u001b[0mges\u001b[0m\u001b[0;34m.\u001b[0m\u001b[0mcheck_consistency\u001b[0m\u001b[0;34m(\u001b[0m\u001b[0mges\u001b[0m\u001b[0;34m.\u001b[0m\u001b[0mge_list\u001b[0m\u001b[0;34m,\u001b[0m\u001b[0;34m[\u001b[0m\u001b[0;34m[\u001b[0m\u001b[0;34m'n1'\u001b[0m\u001b[0;34m,\u001b[0m\u001b[0;34m'n2'\u001b[0m\u001b[0;34m]\u001b[0m\u001b[0;34m,\u001b[0m\u001b[0;34m[\u001b[0m\u001b[0;34m'n2'\u001b[0m\u001b[0;34m,\u001b[0m\u001b[0;34m'n3'\u001b[0m\u001b[0;34m]\u001b[0m\u001b[0;34m,\u001b[0m\u001b[0;34m[\u001b[0m\u001b[0;34m'n4'\u001b[0m\u001b[0;34m,\u001b[0m\u001b[0;34m'n5'\u001b[0m\u001b[0;34m]\u001b[0m\u001b[0;34m,\u001b[0m\u001b[0;34m[\u001b[0m\u001b[0;34m'n3'\u001b[0m\u001b[0;34m,\u001b[0m\u001b[0;34m'n4'\u001b[0m\u001b[0;34m]\u001b[0m\u001b[0;34m]\u001b[0m \u001b[0;34m)\u001b[0m\u001b[0;34m\u001b[0m\u001b[0;34m\u001b[0m\u001b[0m\n\u001b[0m",
      "\u001b[0;32m~/Postdoc/Progetti/MAXENT/claude/claude/base.py\u001b[0m in \u001b[0;36mcheck_consistency\u001b[0;34m(self, ge_list, nid_pair_list)\u001b[0m\n\u001b[1;32m    290\u001b[0m                 \u001b[0mnid2dim\u001b[0m \u001b[0;34m=\u001b[0m \u001b[0;34m{\u001b[0m\u001b[0;34m}\u001b[0m\u001b[0;34m\u001b[0m\u001b[0;34m\u001b[0m\u001b[0m\n\u001b[1;32m    291\u001b[0m                 \u001b[0;32mfor\u001b[0m \u001b[0mi\u001b[0m\u001b[0;34m,\u001b[0m\u001b[0;34m(\u001b[0m\u001b[0mnid1\u001b[0m\u001b[0;34m,\u001b[0m\u001b[0mnid2\u001b[0m\u001b[0;34m)\u001b[0m \u001b[0;32min\u001b[0m \u001b[0menumerate\u001b[0m\u001b[0;34m(\u001b[0m\u001b[0mnid_pair_list\u001b[0m\u001b[0;34m)\u001b[0m\u001b[0;34m:\u001b[0m\u001b[0;34m\u001b[0m\u001b[0;34m\u001b[0m\u001b[0m\n\u001b[0;32m--> 292\u001b[0;31m                         \u001b[0mge\u001b[0m \u001b[0;34m=\u001b[0m \u001b[0mge_list\u001b[0m\u001b[0;34m[\u001b[0m\u001b[0mi\u001b[0m\u001b[0;34m]\u001b[0m\u001b[0;34m\u001b[0m\u001b[0;34m\u001b[0m\u001b[0m\n\u001b[0m\u001b[1;32m    293\u001b[0m                         \u001b[0;32mfor\u001b[0m \u001b[0mj\u001b[0m\u001b[0;34m,\u001b[0m\u001b[0mnid\u001b[0m \u001b[0;32min\u001b[0m \u001b[0menumerate\u001b[0m\u001b[0;34m(\u001b[0m\u001b[0;34m[\u001b[0m\u001b[0mnid1\u001b[0m\u001b[0;34m,\u001b[0m\u001b[0mnid2\u001b[0m\u001b[0;34m]\u001b[0m\u001b[0;34m)\u001b[0m\u001b[0;34m:\u001b[0m\u001b[0;34m\u001b[0m\u001b[0;34m\u001b[0m\u001b[0m\n\u001b[1;32m    294\u001b[0m                                 \u001b[0;32mif\u001b[0m \u001b[0mnid\u001b[0m \u001b[0;32mnot\u001b[0m \u001b[0;32min\u001b[0m \u001b[0mnid2dim\u001b[0m\u001b[0;34m:\u001b[0m\u001b[0;34m\u001b[0m\u001b[0;34m\u001b[0m\u001b[0m\n",
      "\u001b[0;31mIndexError\u001b[0m: list index out of range"
     ]
    }
   ],
   "source": [
    "ges.check_consistency(ges.ge_list,[['n1','n2'],['n2','n3'],['n4','n5'],['n3','n4']] )"
   ]
  },
  {
   "cell_type": "code",
   "execution_count": 58,
   "metadata": {
    "ExecuteTime": {
     "end_time": "2021-01-07T17:09:04.158331Z",
     "start_time": "2021-01-07T17:09:01.461983Z"
    }
   },
   "outputs": [
    {
     "name": "stdout",
     "output_type": "stream",
     "text": [
      "0:  |F(x)| = 71.3149; step 1\n",
      "1:  |F(x)| = 44.6254; step 1\n",
      "2:  |F(x)| = 70.2963; step 1\n",
      "3:  |F(x)| = 189.622; step 1\n",
      "4:  |F(x)| = 121.199; step 1\n",
      "5:  |F(x)| = 34.3255; step 1\n",
      "6:  |F(x)| = 15.0644; step 1\n",
      "7:  |F(x)| = 5.3337; step 1\n",
      "8:  |F(x)| = 2.53323; step 1\n",
      "9:  |F(x)| = 1.83062; step 1\n",
      "10:  |F(x)| = 0.808088; step 1\n",
      "11:  |F(x)| = 0.280321; step 1\n",
      "12:  |F(x)| = 0.243634; step 1\n",
      "13:  |F(x)| = 0.203127; step 1\n",
      "14:  |F(x)| = 0.0794358; step 1\n",
      "15:  |F(x)| = 0.0559742; step 1\n",
      "16:  |F(x)| = 0.0466491; step 1\n",
      "17:  |F(x)| = 0.0148941; step 1\n",
      "18:  |F(x)| = 0.0124673; step 1\n",
      "19:  |F(x)| = 0.00880025; step 1\n",
      "20:  |F(x)| = 0.00603917; step 1\n",
      "21:  |F(x)| = 0.00528375; step 1\n",
      "22:  |F(x)| = 0.00206804; step 1\n",
      "23:  |F(x)| = 0.00137942; step 1\n",
      "24:  |F(x)| = 0.0012808; step 1\n",
      "25:  |F(x)| = 0.000824346; step 1\n",
      "26:  |F(x)| = 0.000792303; step 1\n",
      "27:  |F(x)| = 0.000481107; step 1\n",
      "28:  |F(x)| = 0.000387707; step 1\n",
      "29:  |F(x)| = 0.000258755; step 1\n",
      "0:  |F(x)| = 26.8503; step 0.106689\n",
      "1:  |F(x)| = 32.0256; step 1\n",
      "2:  |F(x)| = 29.0824; step 1\n",
      "3:  |F(x)| = 5.08812; step 1\n",
      "4:  |F(x)| = 5.28026; step 1\n",
      "5:  |F(x)| = 1.69383; step 1\n",
      "6:  |F(x)| = 1.19242; step 1\n",
      "7:  |F(x)| = 0.925451; step 1\n",
      "8:  |F(x)| = 0.346615; step 1\n",
      "9:  |F(x)| = 0.0499247; step 1\n",
      "10:  |F(x)| = 0.0358848; step 1\n",
      "11:  |F(x)| = 0.0486663; step 1\n",
      "12:  |F(x)| = 0.0225434; step 1\n",
      "13:  |F(x)| = 0.00344281; step 1\n",
      "14:  |F(x)| = 0.00862263; step 1\n",
      "15:  |F(x)| = 0.00276536; step 1\n",
      "16:  |F(x)| = 0.000811517; step 1\n",
      "17:  |F(x)| = 0.000284307; step 1\n",
      "18:  |F(x)| = 0.000136671; step 1\n",
      "19:  |F(x)| = 0.000202144; step 1\n",
      "20:  |F(x)| = 3.72674e-05; step 1\n",
      "21:  |F(x)| = 5.39685e-05; step 1\n",
      "22:  |F(x)| = 5.11862e-05; step 1\n",
      "23:  |F(x)| = 1.58221e-05; step 1\n",
      "24:  |F(x)| = 2.94628e-06; step 1\n",
      "25:  |F(x)| = 1.9697e-06; step 1\n",
      "26:  |F(x)| = 9.1882e-07; step 1\n",
      "27:  |F(x)| = 5.38129e-07; step 1\n",
      "28:  |F(x)| = 2.9717e-07; step 1\n",
      "29:  |F(x)| = 7.42387e-07; step 1\n",
      "0:  |F(x)| = 19.1503; step 0.14423\n",
      "1:  |F(x)| = 28.0905; step 1\n",
      "2:  |F(x)| = 16.7898; step 1\n",
      "3:  |F(x)| = 3.75227; step 1\n",
      "4:  |F(x)| = 2.72899; step 1\n",
      "5:  |F(x)| = 0.474007; step 1\n",
      "6:  |F(x)| = 0.327075; step 1\n",
      "7:  |F(x)| = 0.325762; step 1\n",
      "8:  |F(x)| = 0.0793539; step 1\n",
      "9:  |F(x)| = 0.00707024; step 1\n",
      "10:  |F(x)| = 0.00693192; step 1\n",
      "11:  |F(x)| = 0.0117775; step 1\n",
      "12:  |F(x)| = 0.00654303; step 1\n",
      "13:  |F(x)| = 0.000516878; step 1\n",
      "14:  |F(x)| = 0.000791638; step 1\n",
      "15:  |F(x)| = 0.000223252; step 1\n",
      "16:  |F(x)| = 5.96402e-05; step 1\n",
      "17:  |F(x)| = 1.96224e-05; step 1\n",
      "18:  |F(x)| = 3.59449e-05; step 1\n",
      "19:  |F(x)| = 2.90428e-05; step 1\n",
      "20:  |F(x)| = 7.37274e-06; step 1\n",
      "21:  |F(x)| = 4.55121e-06; step 1\n",
      "22:  |F(x)| = 2.79496e-06; step 1\n",
      "23:  |F(x)| = 6.71204e-07; step 1\n",
      "24:  |F(x)| = 2.77161e-07; step 1\n",
      "25:  |F(x)| = 1.96437e-07; step 1\n",
      "26:  |F(x)| = 3.8552e-07; step 1\n",
      "27:  |F(x)| = 1.08119e-07; step 1\n",
      "28:  |F(x)| = 3.71065e-08; step 1\n",
      "29:  |F(x)| = 4.18318e-08; step 1\n",
      "0:  |F(x)| = 17.7799; step 1\n",
      "1:  |F(x)| = 8.7613; step 1\n",
      "2:  |F(x)| = 2.72128; step 1\n",
      "3:  |F(x)| = 0.636781; step 1\n",
      "4:  |F(x)| = 0.247346; step 1\n",
      "5:  |F(x)| = 0.243472; step 0.16966\n",
      "6:  |F(x)| = 0.0659278; step 1\n",
      "7:  |F(x)| = 0.00943146; step 1\n",
      "8:  |F(x)| = 0.0024064; step 1\n",
      "9:  |F(x)| = 0.00130907; step 1\n",
      "10:  |F(x)| = 0.000226261; step 1\n",
      "11:  |F(x)| = 7.25554e-05; step 1\n",
      "12:  |F(x)| = 3.33847e-05; step 1\n",
      "13:  |F(x)| = 1.89106e-05; step 1\n",
      "14:  |F(x)| = 4.96205e-06; step 1\n",
      "15:  |F(x)| = 9.63515e-07; step 1\n",
      "16:  |F(x)| = 1.5834e-07; step 1\n",
      "17:  |F(x)| = 7.38788e-08; step 1\n",
      "18:  |F(x)| = 2.1904e-08; step 1\n",
      "19:  |F(x)| = 1.25938e-08; step 1\n",
      "20:  |F(x)| = 4.51077e-09; step 1\n",
      "21:  |F(x)| = 2.11074e-09; step 1\n",
      "22:  |F(x)| = 6.4081e-10; step 1\n",
      "23:  |F(x)| = 2.23388e-10; step 1\n",
      "24:  |F(x)| = 4.10978e-11; step 1\n",
      "25:  |F(x)| = 1.5504e-11; step 1\n",
      "26:  |F(x)| = 3.7943e-12; step 1\n",
      "27:  |F(x)| = 2.16005e-12; step 1\n",
      "28:  |F(x)| = 1.29319e-12; step 1\n",
      "29:  |F(x)| = 7.10543e-13; step 1\n"
     ]
    }
   ],
   "source": [
    "ges = cl.GraphEnsembleSet([m1,m2,m3,m4],[['n1','n2'],['n2','n3'],['n3','n4'],['n4','n5']])\n",
    "ges.fit([[const.DegreeSequence(d1)],\n",
    "         [const.BipartiteOutDegreeSequence(dout2),const.BipartiteInDegreeSequence(din2)],\n",
    "         [const.BipartiteOutDegreeSequence(dout3),const.BipartiteInDegreeSequence(din3)],\n",
    "        [const.DegreeSequence(d4)]], opt_kwargs=[{'nit':30,'fatol':1e-2,'disp':True}]*4)\n"
   ]
  },
  {
   "cell_type": "code",
   "execution_count": 59,
   "metadata": {
    "ExecuteTime": {
     "end_time": "2021-01-07T17:09:07.891678Z",
     "start_time": "2021-01-07T17:09:07.884994Z"
    }
   },
   "outputs": [],
   "source": [
    "def propagate_compound(adj_list,x):\n",
    "    spadjs = [sp.csr_matrix(adj) for adj in adj_list]\n",
    "    outvec = x\n",
    "    for i in range(len(adj_list)):\n",
    "        outvec = adj_list[i].T.dot(outvec)\n",
    "    return outvec\n",
    "x = np.zeros(1000)\n",
    "y = np.zeros(700)\n",
    "x[:200] = 1.\n",
    "x = x/x.sum()\n",
    "y[200:300]=1."
   ]
  },
  {
   "cell_type": "code",
   "execution_count": 60,
   "metadata": {
    "ExecuteTime": {
     "end_time": "2021-01-07T17:09:08.969331Z",
     "start_time": "2021-01-07T17:09:08.965380Z"
    }
   },
   "outputs": [],
   "source": [
    "def get_stochastic(m):\n",
    "    d = np.array(m.sum(axis=1)).flatten()\n",
    "    return np.asarray(m / d[:, None])"
   ]
  },
  {
   "cell_type": "code",
   "execution_count": 61,
   "metadata": {
    "ExecuteTime": {
     "end_time": "2021-01-07T17:09:19.412310Z",
     "start_time": "2021-01-07T17:09:10.482028Z"
    }
   },
   "outputs": [
    {
     "data": {
      "application/vnd.jupyter.widget-view+json": {
       "model_id": "14fdcce0cffd43998c58557be4d2bf53",
       "version_major": 2,
       "version_minor": 0
      },
      "text/plain": [
       "HBox(children=(HTML(value=''), FloatProgress(value=0.0), HTML(value='')))"
      ]
     },
     "metadata": {},
     "output_type": "display_data"
    },
    {
     "name": "stdout",
     "output_type": "stream",
     "text": [
      "\n"
     ]
    }
   ],
   "source": [
    "length = 1\n",
    "vals = np.zeros([100,700])\n",
    "for i in trange(vals.shape[0]):\n",
    "    radj1 = get_stochastic(m1.sample())\n",
    "    radj2 = get_stochastic(m2.sample())\n",
    "    radj3 = get_stochastic(m3.sample())\n",
    "    radj4 = get_stochastic(m4.sample())\n",
    "    vals[i,:] = propagate_compound([radj1,radj2,radj3,radj4],x)"
   ]
  },
  {
   "cell_type": "code",
   "execution_count": 71,
   "metadata": {
    "ExecuteTime": {
     "end_time": "2021-01-07T17:13:39.113143Z",
     "start_time": "2021-01-07T17:13:31.344638Z"
    }
   },
   "outputs": [
    {
     "data": {
      "application/vnd.jupyter.widget-view+json": {
       "model_id": "f64c332564b4400695be8216862c088e",
       "version_major": 2,
       "version_minor": 0
      },
      "text/plain": [
       "HBox(children=(HTML(value=''), FloatProgress(value=0.0), HTML(value='')))"
      ]
     },
     "metadata": {},
     "output_type": "display_data"
    },
    {
     "name": "stdout",
     "output_type": "stream",
     "text": [
      "\n"
     ]
    }
   ],
   "source": [
    "length = 1\n",
    "vals = np.zeros([100,700])\n",
    "for i in trange(vals.shape[0]):\n",
    "    radj1 = m1.sample()\n",
    "    radj2 = m2.sample()\n",
    "    radj3 = m3.sample()\n",
    "    radj4 = m4.sample()\n",
    "    vals[i,:] = propagate_compound([radj1,radj2,radj3,radj4],x)"
   ]
  },
  {
   "cell_type": "code",
   "execution_count": 55,
   "metadata": {
    "ExecuteTime": {
     "end_time": "2021-01-07T01:16:23.912425Z",
     "start_time": "2021-01-07T01:16:17.408353Z"
    }
   },
   "outputs": [
    {
     "data": {
      "application/vnd.jupyter.widget-view+json": {
       "model_id": "2887d7b464574c1fa5727b26e22d1e29",
       "version_major": 2,
       "version_minor": 0
      },
      "text/plain": [
       "HBox(children=(HTML(value=''), FloatProgress(value=0.0), HTML(value='')))"
      ]
     },
     "metadata": {},
     "output_type": "display_data"
    },
    {
     "name": "stdout",
     "output_type": "stream",
     "text": [
      "\n"
     ]
    }
   ],
   "source": [
    "length = 1\n",
    "vals = np.zeros([100,1000])\n",
    "for i in trange(vals.shape[0]):\n",
    "    radj1 = get_stochastic(m1.sample())\n",
    "    radj2 = get_stochastic(m2.sample())\n",
    "    radj3 = get_stochastic(m3.sample())\n",
    "    radj4 = get_stochastic(m4.sample())\n",
    "    vals[i,:] = propagate_compound([radj1],x)"
   ]
  },
  {
   "cell_type": "code",
   "execution_count": 18,
   "metadata": {
    "ExecuteTime": {
     "end_time": "2020-11-19T08:04:24.564381Z",
     "start_time": "2020-11-19T08:04:24.559656Z"
    }
   },
   "outputs": [],
   "source": []
  },
  {
   "cell_type": "code",
   "execution_count": 23,
   "metadata": {
    "ExecuteTime": {
     "end_time": "2020-11-19T08:08:38.769235Z",
     "start_time": "2020-11-19T08:08:38.692454Z"
    }
   },
   "outputs": [
    {
     "data": {
      "text/plain": [
       "(461128980.758, 461034942.66803855)"
      ]
     },
     "execution_count": 23,
     "metadata": {},
     "output_type": "execute_result"
    }
   ],
   "source": [
    "vals.mean(),ges.predict_mean(o)"
   ]
  },
  {
   "cell_type": "code",
   "execution_count": 80,
   "metadata": {
    "ExecuteTime": {
     "end_time": "2021-01-07T17:15:53.558371Z",
     "start_time": "2021-01-07T17:15:39.848510Z"
    }
   },
   "outputs": [
    {
     "data": {
      "application/vnd.jupyter.widget-view+json": {
       "model_id": "57bbdccddc28457281ca202d0e40b9d3",
       "version_major": 2,
       "version_minor": 0
      },
      "text/plain": [
       "HBox(children=(HTML(value=''), FloatProgress(value=0.0, max=700.0), HTML(value='')))"
      ]
     },
     "metadata": {},
     "output_type": "display_data"
    },
    {
     "name": "stdout",
     "output_type": "stream",
     "text": [
      "\n"
     ]
    }
   ],
   "source": [
    "mean_theo = np.zeros(700)\n",
    "std_theo = np.zeros(700)\n",
    "for i in trange(700):\n",
    "    y = np.zeros(700)\n",
    "    y[i] = 1.\n",
    "    o = obs.CompoundObservable([obs.Propagation(x, normalized=False), obs.Propagation(normalized=False),obs.Propagation(normalized=False),obs.Propagation(None,y,normalized=False)],[['n1','n2'],['n2','n3'],['n3','n4'],['n4','n5']])\n",
    "    mean_theo[i] = ges.predict_mean(o)\n",
    "    std_theo[i] = ges.predict_std(o)"
   ]
  },
  {
   "cell_type": "code",
   "execution_count": 56,
   "metadata": {
    "ExecuteTime": {
     "end_time": "2021-01-07T01:16:35.141490Z",
     "start_time": "2021-01-07T01:16:24.096983Z"
    }
   },
   "outputs": [
    {
     "data": {
      "application/vnd.jupyter.widget-view+json": {
       "model_id": "6b4cc4276472420db046588c349f00a1",
       "version_major": 2,
       "version_minor": 0
      },
      "text/plain": [
       "HBox(children=(HTML(value=''), FloatProgress(value=0.0, max=1000.0), HTML(value='')))"
      ]
     },
     "metadata": {},
     "output_type": "display_data"
    },
    {
     "name": "stdout",
     "output_type": "stream",
     "text": [
      "\n"
     ]
    }
   ],
   "source": [
    "std_theo = np.zeros(1000)\n",
    "mean_theo = np.zeros(1000)\n",
    "for i in trange(1000):\n",
    "    y = np.zeros(1000)\n",
    "    y[i] = 1.\n",
    "    o = obs.CompoundObservable([obs.Propagation(x, y, normalized=True)],[['n1','n2'],['n2','n3'],['n3','n4'],['n4','n5']])\n",
    "    mean_theo[i] = ges.predict_mean(o)\n",
    "    std_theo[i] = ges.predict_std(o)"
   ]
  },
  {
   "cell_type": "code",
   "execution_count": 35,
   "metadata": {
    "ExecuteTime": {
     "end_time": "2021-01-07T02:08:52.064230Z",
     "start_time": "2021-01-07T02:08:52.051763Z"
    }
   },
   "outputs": [
    {
     "ename": "AttributeError",
     "evalue": "'GraphEnsembleSet' object has no attribute 'adj_list'",
     "output_type": "error",
     "traceback": [
      "\u001b[0;31m---------------------------------------------------------------------------\u001b[0m",
      "\u001b[0;31mAttributeError\u001b[0m                            Traceback (most recent call last)",
      "\u001b[0;32m<ipython-input-35-a347edff2805>\u001b[0m in \u001b[0;36m<module>\u001b[0;34m\u001b[0m\n\u001b[0;32m----> 1\u001b[0;31m \u001b[0mo\u001b[0m\u001b[0;34m.\u001b[0m\u001b[0mgrad\u001b[0m\u001b[0;34m(\u001b[0m\u001b[0;34m[\u001b[0m\u001b[0mge\u001b[0m\u001b[0;34m.\u001b[0m\u001b[0madj_matrix\u001b[0m \u001b[0;32mfor\u001b[0m \u001b[0mge\u001b[0m \u001b[0;32min\u001b[0m \u001b[0mges\u001b[0m\u001b[0;34m.\u001b[0m\u001b[0madj_list\u001b[0m\u001b[0;34m]\u001b[0m\u001b[0;34m,\u001b[0m\u001b[0;36m0\u001b[0m\u001b[0;34m)\u001b[0m\u001b[0;34m\u001b[0m\u001b[0;34m\u001b[0m\u001b[0m\n\u001b[0m",
      "\u001b[0;31mAttributeError\u001b[0m: 'GraphEnsembleSet' object has no attribute 'adj_list'"
     ]
    }
   ],
   "source": [
    "o.grad([ge.adj_matrix for ge in ges],0)"
   ]
  },
  {
   "cell_type": "code",
   "execution_count": 32,
   "metadata": {
    "ExecuteTime": {
     "end_time": "2021-01-07T02:07:21.850001Z",
     "start_time": "2021-01-07T02:07:21.794701Z"
    }
   },
   "outputs": [
    {
     "data": {
      "text/plain": [
       "0.011552870459990922"
      ]
     },
     "execution_count": 32,
     "metadata": {},
     "output_type": "execute_result"
    }
   ],
   "source": [
    "ges.predict_std(o)"
   ]
  },
  {
   "cell_type": "code",
   "execution_count": 81,
   "metadata": {
    "ExecuteTime": {
     "end_time": "2021-01-07T17:15:55.814371Z",
     "start_time": "2021-01-07T17:15:55.586792Z"
    }
   },
   "outputs": [
    {
     "data": {
      "text/plain": [
       "[<matplotlib.lines.Line2D at 0x7fc22b90c4e0>]"
      ]
     },
     "execution_count": 81,
     "metadata": {},
     "output_type": "execute_result"
    },
    {
     "data": {
      "image/png": "[encoded data removed]",
      "text/plain": [
       "<Figure size 432x288 with 1 Axes>"
      ]
     },
     "metadata": {
      "needs_background": "light"
     },
     "output_type": "display_data"
    }
   ],
   "source": [
    "plt.plot(vals.mean(axis=0),mean_theo,'.')\n",
    "plt.plot(plt.xlim(),plt.xlim())"
   ]
  },
  {
   "cell_type": "code",
   "execution_count": 51,
   "metadata": {
    "ExecuteTime": {
     "end_time": "2021-01-07T01:12:53.457147Z",
     "start_time": "2021-01-07T01:12:53.178182Z"
    }
   },
   "outputs": [
    {
     "data": {
      "text/plain": [
       "[<matplotlib.lines.Line2D at 0x7fdf3265af98>]"
      ]
     },
     "execution_count": 51,
     "metadata": {},
     "output_type": "execute_result"
    },
    {
     "data": {
      "image/png": "[encoded data removed]",
      "text/plain": [
       "<Figure size 432x288 with 1 Axes>"
      ]
     },
     "metadata": {
      "needs_background": "light"
     },
     "output_type": "display_data"
    }
   ],
   "source": [
    "plt.plot(vals.mean(axis=0),mean_theo,'.')\n",
    "plt.plot(plt.xlim(),plt.xlim())"
   ]
  },
  {
   "cell_type": "code",
   "execution_count": 29,
   "metadata": {
    "ExecuteTime": {
     "end_time": "2021-01-07T01:54:11.878199Z",
     "start_time": "2021-01-07T01:54:11.873249Z"
    }
   },
   "outputs": [
    {
     "data": {
      "text/plain": [
       "(100, 700)"
      ]
     },
     "execution_count": 29,
     "metadata": {},
     "output_type": "execute_result"
    }
   ],
   "source": [
    "vals.shape"
   ]
  },
  {
   "cell_type": "code",
   "execution_count": 30,
   "metadata": {
    "ExecuteTime": {
     "end_time": "2021-01-07T01:54:15.337748Z",
     "start_time": "2021-01-07T01:54:15.333119Z"
    }
   },
   "outputs": [
    {
     "data": {
      "text/plain": [
       "(700,)"
      ]
     },
     "execution_count": 30,
     "metadata": {},
     "output_type": "execute_result"
    }
   ],
   "source": [
    "std_theo.shape"
   ]
  },
  {
   "cell_type": "code",
   "execution_count": 82,
   "metadata": {
    "ExecuteTime": {
     "end_time": "2021-01-07T17:15:58.669312Z",
     "start_time": "2021-01-07T17:15:58.437973Z"
    }
   },
   "outputs": [
    {
     "data": {
      "text/plain": [
       "[<matplotlib.lines.Line2D at 0x7fc22c93ca20>]"
      ]
     },
     "execution_count": 82,
     "metadata": {},
     "output_type": "execute_result"
    },
    {
     "data": {
      "image/png": "[encoded data removed]",
      "text/plain": [
       "<Figure size 432x288 with 1 Axes>"
      ]
     },
     "metadata": {
      "needs_background": "light"
     },
     "output_type": "display_data"
    }
   ],
   "source": [
    "plt.plot(vals.std(axis=0),std_theo,'.')\n",
    "plt.plot(plt.xlim(),plt.xlim())"
   ]
  },
  {
   "cell_type": "code",
   "execution_count": 58,
   "metadata": {
    "ExecuteTime": {
     "end_time": "2021-01-07T01:16:38.726839Z",
     "start_time": "2021-01-07T01:16:38.515459Z"
    }
   },
   "outputs": [
    {
     "data": {
      "text/plain": [
       "[<matplotlib.lines.Line2D at 0x7fdf41cf89b0>]"
      ]
     },
     "execution_count": 58,
     "metadata": {},
     "output_type": "execute_result"
    },
    {
     "data": {
      "image/png": "[encoded data removed]",
      "text/plain": [
       "<Figure size 432x288 with 1 Axes>"
      ]
     },
     "metadata": {
      "needs_background": "light"
     },
     "output_type": "display_data"
    }
   ],
   "source": [
    "plt.plot(vals.std(axis=0),std_theo,'.')\n",
    "plt.plot(plt.xlim(),plt.xlim())"
   ]
  },
  {
   "cell_type": "code",
   "execution_count": 16,
   "metadata": {
    "ExecuteTime": {
     "end_time": "2020-11-19T18:01:48.357936Z",
     "start_time": "2020-11-19T18:01:48.196718Z"
    }
   },
   "outputs": [
    {
     "data": {
      "text/plain": [
       "[<matplotlib.lines.Line2D at 0x7fd224a74f60>]"
      ]
     },
     "execution_count": 16,
     "metadata": {},
     "output_type": "execute_result"
    },
    {
     "data": {
      "image/png": "[encoded data removed]",
      "text/plain": [
       "<Figure size 432x288 with 1 Axes>"
      ]
     },
     "metadata": {
      "needs_background": "light"
     },
     "output_type": "display_data"
    }
   ],
   "source": [
    "plt.plot(vals.std(axis=0),std_theo,'.')\n",
    "plt.plot(plt.xlim(),plt.xlim())"
   ]
  },
  {
   "cell_type": "code",
   "execution_count": 29,
   "metadata": {
    "ExecuteTime": {
     "end_time": "2020-11-19T08:13:34.352652Z",
     "start_time": "2020-11-19T08:13:34.321077Z"
    }
   },
   "outputs": [
    {
     "data": {
      "text/plain": [
       "(7748765.866415226, 7236876.076995304)"
      ]
     },
     "execution_count": 29,
     "metadata": {},
     "output_type": "execute_result"
    }
   ],
   "source": [
    "vals.std(),ges.predict_std(o)"
   ]
  },
  {
   "cell_type": "markdown",
   "metadata": {
    "ExecuteTime": {
     "end_time": "2020-11-19T07:42:10.681647Z",
     "start_time": "2020-11-19T07:42:10.679023Z"
    }
   },
   "source": [
    "# NML"
   ]
  },
  {
   "cell_type": "code",
   "execution_count": null,
   "metadata": {
    "ExecuteTime": {
     "start_time": "2020-11-19T07:03:09.050Z"
    }
   },
   "outputs": [
    {
     "name": "stdout",
     "output_type": "stream",
     "text": [
      "> \u001b[0;32m/Users/reema/Postdoc/Progetti/MAXENT/claude/claude/observables.py\u001b[0m(296)\u001b[0;36mbackprop\u001b[0;34m()\u001b[0m\n",
      "\u001b[0;32m    294 \u001b[0;31m                                \u001b[0mf_args\u001b[0m \u001b[0;34m=\u001b[0m \u001b[0mlist\u001b[0m\u001b[0;34m(\u001b[0m\u001b[0mself\u001b[0m\u001b[0;34m[\u001b[0m\u001b[0mi\u001b[0m\u001b[0;34m]\u001b[0m\u001b[0;34m.\u001b[0m\u001b[0mf_args\u001b[0m\u001b[0;34m)\u001b[0m\u001b[0;34m\u001b[0m\u001b[0;34m\u001b[0m\u001b[0m\n",
      "\u001b[0m\u001b[0;32m    295 \u001b[0;31m                                \u001b[0mf_args\u001b[0m\u001b[0;34m[\u001b[0m\u001b[0mself\u001b[0m\u001b[0;34m[\u001b[0m\u001b[0mlen\u001b[0m\u001b[0;34m(\u001b[0m\u001b[0mself\u001b[0m\u001b[0;34m)\u001b[0m\u001b[0;34m-\u001b[0m\u001b[0mi\u001b[0m\u001b[0;34m-\u001b[0m\u001b[0;36m1\u001b[0m\u001b[0;34m]\u001b[0m\u001b[0;34m.\u001b[0m\u001b[0minput_variable_index\u001b[0m\u001b[0;34m]\u001b[0m \u001b[0;34m=\u001b[0m \u001b[0mobs_value\u001b[0m\u001b[0;34m\u001b[0m\u001b[0;34m\u001b[0m\u001b[0m\n",
      "\u001b[0m\u001b[0;32m--> 296 \u001b[0;31m                                \u001b[0mobs_value\u001b[0m \u001b[0;34m=\u001b[0m \u001b[0mself\u001b[0m\u001b[0;34m[\u001b[0m\u001b[0mlen\u001b[0m\u001b[0;34m(\u001b[0m\u001b[0mself\u001b[0m\u001b[0;34m)\u001b[0m\u001b[0;34m-\u001b[0m\u001b[0mi\u001b[0m\u001b[0;34m-\u001b[0m\u001b[0;36m1\u001b[0m\u001b[0;34m]\u001b[0m\u001b[0;34m.\u001b[0m\u001b[0mbackprop\u001b[0m\u001b[0;34m(\u001b[0m\u001b[0madj_list\u001b[0m\u001b[0;34m[\u001b[0m\u001b[0mlen\u001b[0m\u001b[0;34m(\u001b[0m\u001b[0mself\u001b[0m\u001b[0;34m)\u001b[0m\u001b[0;34m-\u001b[0m\u001b[0mi\u001b[0m\u001b[0;34m-\u001b[0m\u001b[0;36m1\u001b[0m\u001b[0;34m]\u001b[0m\u001b[0;34m,\u001b[0m \u001b[0;34m*\u001b[0m\u001b[0mf_args\u001b[0m\u001b[0;34m)\u001b[0m\u001b[0;34m\u001b[0m\u001b[0;34m\u001b[0m\u001b[0m\n",
      "\u001b[0m\u001b[0;32m    297 \u001b[0;31m                \u001b[0;32melif\u001b[0m \u001b[0mself\u001b[0m\u001b[0;34m.\u001b[0m\u001b[0mreduce_func\u001b[0m \u001b[0;34m==\u001b[0m \u001b[0;34m'sum'\u001b[0m\u001b[0;34m:\u001b[0m\u001b[0;34m\u001b[0m\u001b[0;34m\u001b[0m\u001b[0m\n",
      "\u001b[0m\u001b[0;32m    298 \u001b[0;31m                        \u001b[0;32mraise\u001b[0m \u001b[0mNotImplementedError\u001b[0m\u001b[0;34m\u001b[0m\u001b[0;34m\u001b[0m\u001b[0m\n",
      "\u001b[0m\n",
      "ipdb> i\n",
      "0\n",
      "ipdb> len(self)-i-1\n",
      "1\n"
     ]
    }
   ],
   "source": [
    "%debug"
   ]
  },
  {
   "cell_type": "code",
   "execution_count": null,
   "metadata": {},
   "outputs": [],
   "source": [
    "len()"
   ]
  },
  {
   "cell_type": "code",
   "execution_count": 14,
   "metadata": {
    "ExecuteTime": {
     "end_time": "2020-11-19T06:55:20.305033Z",
     "start_time": "2020-11-19T06:53:13.898631Z"
    }
   },
   "outputs": [
    {
     "name": "stdout",
     "output_type": "stream",
     "text": [
      "> \u001b[0;32m/Users/reema/Postdoc/Progetti/MAXENT/claude/claude/observables.py\u001b[0m(296)\u001b[0;36mbackprop\u001b[0;34m()\u001b[0m\n",
      "\u001b[0;32m    294 \u001b[0;31m                                \u001b[0mf_args\u001b[0m \u001b[0;34m=\u001b[0m \u001b[0mlist\u001b[0m\u001b[0;34m(\u001b[0m\u001b[0mself\u001b[0m\u001b[0;34m[\u001b[0m\u001b[0mi\u001b[0m\u001b[0;34m]\u001b[0m\u001b[0;34m.\u001b[0m\u001b[0mf_args\u001b[0m\u001b[0;34m)\u001b[0m\u001b[0;34m\u001b[0m\u001b[0;34m\u001b[0m\u001b[0m\n",
      "\u001b[0m\u001b[0;32m    295 \u001b[0;31m                                \u001b[0mf_args\u001b[0m\u001b[0;34m[\u001b[0m\u001b[0mself\u001b[0m\u001b[0;34m[\u001b[0m\u001b[0mlen\u001b[0m\u001b[0;34m(\u001b[0m\u001b[0mself\u001b[0m\u001b[0;34m)\u001b[0m\u001b[0;34m-\u001b[0m\u001b[0mi\u001b[0m\u001b[0;34m-\u001b[0m\u001b[0;36m1\u001b[0m\u001b[0;34m]\u001b[0m\u001b[0;34m.\u001b[0m\u001b[0minput_variable_index\u001b[0m\u001b[0;34m]\u001b[0m \u001b[0;34m=\u001b[0m \u001b[0mobs_value\u001b[0m\u001b[0;34m\u001b[0m\u001b[0;34m\u001b[0m\u001b[0m\n",
      "\u001b[0m\u001b[0;32m--> 296 \u001b[0;31m                                \u001b[0mobs_value\u001b[0m \u001b[0;34m=\u001b[0m \u001b[0mself\u001b[0m\u001b[0;34m[\u001b[0m\u001b[0mlen\u001b[0m\u001b[0;34m(\u001b[0m\u001b[0mself\u001b[0m\u001b[0;34m)\u001b[0m\u001b[0;34m-\u001b[0m\u001b[0mi\u001b[0m\u001b[0;34m-\u001b[0m\u001b[0;36m1\u001b[0m\u001b[0;34m]\u001b[0m\u001b[0;34m.\u001b[0m\u001b[0mbackprop\u001b[0m\u001b[0;34m(\u001b[0m\u001b[0madj_list\u001b[0m\u001b[0;34m[\u001b[0m\u001b[0mlen\u001b[0m\u001b[0;34m(\u001b[0m\u001b[0mself\u001b[0m\u001b[0;34m)\u001b[0m\u001b[0;34m-\u001b[0m\u001b[0mi\u001b[0m\u001b[0;34m-\u001b[0m\u001b[0;36m1\u001b[0m\u001b[0;34m]\u001b[0m\u001b[0;34m,\u001b[0m \u001b[0;34m*\u001b[0m\u001b[0mf_args\u001b[0m\u001b[0;34m)\u001b[0m\u001b[0;34m\u001b[0m\u001b[0;34m\u001b[0m\u001b[0m\n",
      "\u001b[0m\u001b[0;32m    297 \u001b[0;31m                \u001b[0;32melif\u001b[0m \u001b[0mself\u001b[0m\u001b[0;34m.\u001b[0m\u001b[0mreduce_func\u001b[0m \u001b[0;34m==\u001b[0m \u001b[0;34m'sum'\u001b[0m\u001b[0;34m:\u001b[0m\u001b[0;34m\u001b[0m\u001b[0;34m\u001b[0m\u001b[0m\n",
      "\u001b[0m\u001b[0;32m    298 \u001b[0;31m                        \u001b[0;32mraise\u001b[0m \u001b[0mNotImplementedError\u001b[0m\u001b[0;34m\u001b[0m\u001b[0;34m\u001b[0m\u001b[0m\n",
      "\u001b[0m\n",
      "ipdb> len(self)-i-1\n",
      "1\n",
      "ipdb> adj_list[len(self)-i-1]\n",
      "*** IndexError: list index out of range\n",
      "ipdb> len(adj_list)\n",
      "1\n",
      "ipdb> adj_list\n",
      "[array([[0.08586498, 0.09210363, 0.09567488, ..., 0.08675535, 0.08408508,\n",
      "        0.09567488],\n",
      "       [0.10801711, 0.11566162, 0.12002555, ..., 0.10910978, 0.10583119,\n",
      "        0.12002555],\n",
      "       [0.09570682, 0.10258031, 0.10651012, ..., 0.09668846, 0.09374383,\n",
      "        0.10651012],\n",
      "       ...,\n",
      "       [0.0883249 , 0.09472377, 0.0983856 , ..., 0.0892383 , 0.08649884,\n",
      "        0.0983856 ],\n",
      "       [0.10309194, 0.11043104, 0.1146232 , ..., 0.1041406 , 0.1009944 ,\n",
      "        0.1146232 ],\n",
      "       [0.08340541, 0.08948285, 0.09296289, ..., 0.08427263, 0.08167194,\n",
      "        0.09296289]])]\n",
      "ipdb> exit\n"
     ]
    }
   ],
   "source": [
    "%debug"
   ]
  },
  {
   "cell_type": "code",
   "execution_count": 23,
   "metadata": {
    "ExecuteTime": {
     "end_time": "2020-11-19T01:42:29.050543Z",
     "start_time": "2020-11-19T01:40:20.540518Z"
    }
   },
   "outputs": [
    {
     "name": "stdout",
     "output_type": "stream",
     "text": [
      "> \u001b[0;32m/Users/reema/Postdoc/Progetti/MAXENT/claude/claude/observables.py\u001b[0m(244)\u001b[0;36mfunc\u001b[0;34m()\u001b[0m\n",
      "\u001b[0;32m    242 \u001b[0;31m                \u001b[0mo\u001b[0m \u001b[0;34m=\u001b[0m \u001b[0minput_vector\u001b[0m\u001b[0;34m\u001b[0m\u001b[0;34m\u001b[0m\u001b[0m\n",
      "\u001b[0m\u001b[0;32m    243 \u001b[0;31m                \u001b[0;32mfor\u001b[0m \u001b[0mi\u001b[0m \u001b[0;32min\u001b[0m \u001b[0mrange\u001b[0m\u001b[0;34m(\u001b[0m\u001b[0mlength\u001b[0m\u001b[0;34m)\u001b[0m\u001b[0;34m:\u001b[0m\u001b[0;34m\u001b[0m\u001b[0;34m\u001b[0m\u001b[0m\n",
      "\u001b[0m\u001b[0;32m--> 244 \u001b[0;31m                        \u001b[0mo\u001b[0m \u001b[0;34m=\u001b[0m \u001b[0mo\u001b[0m\u001b[0;34m.\u001b[0m\u001b[0mdot\u001b[0m\u001b[0;34m(\u001b[0m\u001b[0madj\u001b[0m\u001b[0;34m)\u001b[0m\u001b[0;34m\u001b[0m\u001b[0;34m\u001b[0m\u001b[0m\n",
      "\u001b[0m\u001b[0;32m    245 \u001b[0;31m                \u001b[0;32mif\u001b[0m \u001b[0mproj_vector\u001b[0m \u001b[0;32mis\u001b[0m \u001b[0;32mNone\u001b[0m\u001b[0;34m:\u001b[0m\u001b[0;34m\u001b[0m\u001b[0;34m\u001b[0m\u001b[0m\n",
      "\u001b[0m\u001b[0;32m    246 \u001b[0;31m                        \u001b[0;32mreturn\u001b[0m \u001b[0mo\u001b[0m\u001b[0;34m\u001b[0m\u001b[0;34m\u001b[0m\u001b[0m\n",
      "\u001b[0m\n",
      "ipdb> o\n",
      "[array([1., 1., 1., 1., 1., 1., 1., 1., 1., 1., 1., 1., 1., 1., 1., 1., 1.,\n",
      "       1., 1., 1., 0., 0., 0., 0., 0., 0., 0., 0., 0., 0., 0., 0., 0., 0.,\n",
      "       0., 0., 0., 0., 0., 0., 0., 0., 0., 0., 0., 0., 0., 0., 0., 0., 0.,\n",
      "       0., 0., 0., 0., 0., 0., 0., 0., 0., 0., 0., 0., 0., 0., 0., 0., 0.,\n",
      "       0., 0., 0., 0., 0., 0., 0., 0., 0., 0., 0., 0., 0., 0., 0., 0., 0.,\n",
      "       0., 0., 0., 0., 0., 0., 0., 0., 0., 0., 0., 0., 0., 0., 0., 0., 0.,\n",
      "       0., 0., 0., 0., 0., 0., 0., 0., 0., 0., 0., 0., 0., 0., 0., 0., 0.,\n",
      "       0., 0., 0., 0., 0., 0., 0., 0., 0., 0., 0., 0., 0., 0., 0., 0., 0.,\n",
      "       0., 0., 0., 0., 0., 0., 0., 0., 0., 0., 0., 0., 0., 0., 0., 0., 0.,\n",
      "       0., 0., 0., 0., 0., 0., 0., 0., 0., 0., 0., 0., 0., 0., 0., 0., 0.,\n",
      "       0., 0., 0., 0., 0., 0., 0., 0., 0., 0., 0., 0., 0., 0., 0., 0., 0.,\n",
      "       0., 0., 0., 0., 0., 0., 0., 0., 0., 0., 0., 0., 0., 0., 0., 0., 0.,\n",
      "       0., 0., 0., 0., 0., 0., 0., 0., 0., 0., 0., 0., 0., 0., 0., 0., 0.,\n",
      "       0., 0., 0., 0., 0., 0., 0., 0., 0., 0., 0., 0., 0., 0., 0., 0., 0.,\n",
      "       0., 0., 0., 0., 0., 0., 0., 0., 0., 0., 0., 0., 0., 0., 0., 0., 0.,\n",
      "       0., 0., 0., 0., 0., 0., 0., 0., 0., 0., 0., 0., 0., 0., 0., 0., 0.,\n",
      "       0., 0., 0., 0., 0., 0., 0., 0., 0., 0., 0., 0., 0., 0., 0., 0., 0.,\n",
      "       0., 0., 0., 0., 0., 0., 0., 0., 0., 0., 0., 0., 0., 0., 0., 0., 0.,\n",
      "       0., 0., 0., 0., 0., 0., 0., 0., 0., 0., 0., 0., 0., 0., 0., 0., 0.,\n",
      "       0., 0., 0., 0., 0., 0., 0., 0., 0., 0., 0., 0., 0., 0., 0., 0., 0.,\n",
      "       0., 0., 0., 0., 0., 0., 0., 0., 0., 0., 0., 0., 0., 0., 0., 0., 0.,\n",
      "       0., 0., 0., 0., 0., 0., 0., 0., 0., 0., 0., 0., 0., 0., 0., 0., 0.,\n",
      "       0., 0., 0., 0., 0., 0., 0., 0., 0., 0., 0., 0., 0., 0., 0., 0., 0.,\n",
      "       0., 0., 0., 0., 0., 0., 0., 0., 0., 0., 0., 0., 0., 0., 0., 0., 0.,\n",
      "       0., 0., 0., 0., 0., 0., 0., 0., 0., 0., 0., 0., 0., 0., 0., 0., 0.,\n",
      "       0., 0., 0., 0., 0., 0., 0., 0., 0., 0., 0., 0., 0., 0., 0., 0., 0.,\n",
      "       0., 0., 0., 0., 0., 0., 0., 0., 0., 0., 0., 0., 0., 0., 0., 0., 0.,\n",
      "       0., 0., 0., 0., 0., 0., 0., 0., 0., 0., 0., 0., 0., 0., 0., 0., 0.,\n",
      "       0., 0., 0., 0., 0., 0., 0., 0., 0., 0., 0., 0., 0., 0., 0., 0., 0.,\n",
      "       0., 0., 0., 0., 0., 0., 0., 0., 0., 0., 0., 0., 0., 0., 0., 0., 0.,\n",
      "       0., 0., 0., 0., 0., 0., 0., 0., 0., 0., 0., 0., 0., 0., 0., 0., 0.,\n",
      "       0., 0., 0., 0., 0., 0., 0., 0., 0., 0., 0., 0., 0., 0., 0., 0., 0.,\n",
      "       0., 0., 0., 0., 0., 0., 0., 0., 0., 0., 0., 0., 0., 0., 0., 0., 0.,\n",
      "       0., 0., 0., 0., 0., 0., 0., 0., 0., 0., 0., 0., 0., 0., 0., 0., 0.,\n",
      "       0., 0., 0., 0., 0., 0., 0., 0., 0., 0., 0., 0., 0., 0., 0., 0., 0.,\n",
      "       0., 0., 0., 0., 0., 0., 0., 0., 0., 0., 0., 0., 0., 0., 0., 0., 0.,\n",
      "       0., 0., 0., 0., 0., 0., 0., 0., 0., 0., 0., 0., 0., 0., 0., 0., 0.,\n",
      "       0., 0., 0., 0., 0., 0., 0., 0., 0., 0., 0., 0., 0., 0., 0., 0., 0.,\n",
      "       0., 0., 0., 0., 0., 0., 0., 0., 0., 0., 0., 0., 0., 0., 0., 0., 0.,\n",
      "       0., 0., 0., 0., 0., 0., 0., 0., 0., 0., 0., 0., 0., 0., 0., 0., 0.,\n",
      "       0., 0., 0., 0., 0., 0., 0., 0., 0., 0., 0., 0., 0., 0., 0., 0., 0.,\n",
      "       0., 0., 0., 0., 0., 0., 0., 0., 0., 0., 0., 0., 0., 0., 0., 0., 0.,\n",
      "       0., 0., 0., 0., 0., 0., 0., 0., 0., 0., 0., 0., 0., 0., 0., 0., 0.,\n",
      "       0., 0., 0., 0., 0., 0., 0., 0., 0., 0., 0., 0., 0., 0., 0., 0., 0.,\n",
      "       0., 0., 0., 0., 0., 0., 0., 0., 0., 0., 0., 0., 0., 0., 0., 0., 0.,\n",
      "       0., 0., 0., 0., 0., 0., 0., 0., 0., 0., 0., 0., 0., 0., 0., 0., 0.,\n",
      "       0., 0., 0., 0., 0., 0., 0., 0., 0., 0., 0., 0., 0., 0., 0., 0., 0.,\n",
      "       0., 0., 0., 0., 0., 0., 0., 0., 0., 0., 0., 0., 0., 0., 0., 0., 0.,\n",
      "       0., 0., 0., 0., 0., 0., 0., 0., 0., 0., 0., 0., 0., 0., 0., 0., 0.,\n",
      "       0., 0., 0., 0., 0., 0., 0., 0., 0., 0., 0., 0., 0., 0., 0., 0., 0.,\n",
      "       0., 0., 0., 0., 0., 0., 0., 0., 0., 0., 0., 0., 0., 0., 0., 0., 0.,\n",
      "       0., 0., 0., 0., 0., 0., 0., 0., 0., 0., 0., 0., 0., 0., 0., 0., 0.,\n",
      "       0., 0., 0., 0., 0., 0., 0., 0., 0., 0., 0., 0., 0., 0., 0., 0., 0.,\n",
      "       0., 0., 0., 0., 0., 0., 0., 0., 0., 0., 0., 0., 0., 0., 0., 0., 0.,\n",
      "       0., 0., 0., 0., 0., 0., 0., 0., 0., 0., 0., 0., 0., 0., 0., 0., 0.,\n",
      "       0., 0., 0., 0., 0., 0., 0., 0., 0., 0., 0., 0., 0., 0., 0., 0., 0.,\n",
      "       0., 0., 0., 0., 0., 0., 0., 0., 0., 0., 0., 0., 0., 0., 0., 0., 0.,\n",
      "       0., 0., 0., 0., 0., 0., 0., 0., 0., 0., 0., 0., 0., 0., 0., 0., 0.,\n",
      "       0., 0., 0., 0., 0., 0., 0., 0., 0., 0., 0., 0., 0., 0.]), None, 1]\n",
      "ipdb> u\n",
      "> \u001b[0;32m/Users/reema/Postdoc/Progetti/MAXENT/claude/claude/observables.py\u001b[0m(278)\u001b[0;36mfunc\u001b[0;34m()\u001b[0m\n",
      "\u001b[0;32m    276 \u001b[0;31m                                \u001b[0mf_args\u001b[0m \u001b[0;34m=\u001b[0m \u001b[0mlist\u001b[0m\u001b[0;34m(\u001b[0m\u001b[0mself\u001b[0m\u001b[0;34m[\u001b[0m\u001b[0mi\u001b[0m\u001b[0;34m]\u001b[0m\u001b[0;34m.\u001b[0m\u001b[0mf_args\u001b[0m\u001b[0;34m)\u001b[0m\u001b[0;34m\u001b[0m\u001b[0;34m\u001b[0m\u001b[0m\n",
      "\u001b[0m\u001b[0;32m    277 \u001b[0;31m                                \u001b[0mf_args\u001b[0m\u001b[0;34m[\u001b[0m\u001b[0mself\u001b[0m\u001b[0;34m[\u001b[0m\u001b[0mi\u001b[0m\u001b[0;34m]\u001b[0m\u001b[0;34m.\u001b[0m\u001b[0minput_variable_index\u001b[0m\u001b[0;34m]\u001b[0m \u001b[0;34m=\u001b[0m \u001b[0mobs_value\u001b[0m\u001b[0;34m\u001b[0m\u001b[0;34m\u001b[0m\u001b[0m\n",
      "\u001b[0m\u001b[0;32m--> 278 \u001b[0;31m                                \u001b[0mobs_value\u001b[0m \u001b[0;34m=\u001b[0m \u001b[0mself\u001b[0m\u001b[0;34m[\u001b[0m\u001b[0mi\u001b[0m\u001b[0;34m]\u001b[0m\u001b[0;34m.\u001b[0m\u001b[0mfunc\u001b[0m\u001b[0;34m(\u001b[0m\u001b[0madj_list\u001b[0m\u001b[0;34m[\u001b[0m\u001b[0mi\u001b[0m\u001b[0;34m]\u001b[0m\u001b[0;34m,\u001b[0m \u001b[0mf_args\u001b[0m\u001b[0;34m)\u001b[0m\u001b[0;34m\u001b[0m\u001b[0;34m\u001b[0m\u001b[0m\n",
      "\u001b[0m\u001b[0;32m    279 \u001b[0;31m                \u001b[0;32melif\u001b[0m \u001b[0mself\u001b[0m\u001b[0;34m.\u001b[0m\u001b[0mreduce_func\u001b[0m \u001b[0;34m==\u001b[0m \u001b[0;34m'sum'\u001b[0m\u001b[0;34m:\u001b[0m\u001b[0;34m\u001b[0m\u001b[0;34m\u001b[0m\u001b[0m\n",
      "\u001b[0m\u001b[0;32m    280 \u001b[0;31m                        \u001b[0mobs_value\u001b[0m \u001b[0;34m=\u001b[0m \u001b[0mself\u001b[0m\u001b[0;34m[\u001b[0m\u001b[0;36m0\u001b[0m\u001b[0;34m]\u001b[0m\u001b[0;34m.\u001b[0m\u001b[0mfunc\u001b[0m\u001b[0;34m(\u001b[0m\u001b[0madj_list\u001b[0m\u001b[0;34m[\u001b[0m\u001b[0;36m0\u001b[0m\u001b[0;34m]\u001b[0m\u001b[0;34m,\u001b[0m \u001b[0;34m*\u001b[0m\u001b[0mself\u001b[0m\u001b[0;34m[\u001b[0m\u001b[0;36m0\u001b[0m\u001b[0;34m]\u001b[0m\u001b[0;34m.\u001b[0m\u001b[0mf_args\u001b[0m\u001b[0;34m)\u001b[0m\u001b[0;34m\u001b[0m\u001b[0;34m\u001b[0m\u001b[0m\n",
      "\u001b[0m\n",
      "ipdb> f_args\n",
      "[array([1., 1., 1., 1., 1., 1., 1., 1., 1., 1., 1., 1., 1., 1., 1., 1., 1.,\n",
      "       1., 1., 1., 0., 0., 0., 0., 0., 0., 0., 0., 0., 0., 0., 0., 0., 0.,\n",
      "       0., 0., 0., 0., 0., 0., 0., 0., 0., 0., 0., 0., 0., 0., 0., 0., 0.,\n",
      "       0., 0., 0., 0., 0., 0., 0., 0., 0., 0., 0., 0., 0., 0., 0., 0., 0.,\n",
      "       0., 0., 0., 0., 0., 0., 0., 0., 0., 0., 0., 0., 0., 0., 0., 0., 0.,\n",
      "       0., 0., 0., 0., 0., 0., 0., 0., 0., 0., 0., 0., 0., 0., 0., 0., 0.,\n",
      "       0., 0., 0., 0., 0., 0., 0., 0., 0., 0., 0., 0., 0., 0., 0., 0., 0.,\n",
      "       0., 0., 0., 0., 0., 0., 0., 0., 0., 0., 0., 0., 0., 0., 0., 0., 0.,\n",
      "       0., 0., 0., 0., 0., 0., 0., 0., 0., 0., 0., 0., 0., 0., 0., 0., 0.,\n",
      "       0., 0., 0., 0., 0., 0., 0., 0., 0., 0., 0., 0., 0., 0., 0., 0., 0.,\n",
      "       0., 0., 0., 0., 0., 0., 0., 0., 0., 0., 0., 0., 0., 0., 0., 0., 0.,\n",
      "       0., 0., 0., 0., 0., 0., 0., 0., 0., 0., 0., 0., 0., 0., 0., 0., 0.,\n",
      "       0., 0., 0., 0., 0., 0., 0., 0., 0., 0., 0., 0., 0., 0., 0., 0., 0.,\n",
      "       0., 0., 0., 0., 0., 0., 0., 0., 0., 0., 0., 0., 0., 0., 0., 0., 0.,\n",
      "       0., 0., 0., 0., 0., 0., 0., 0., 0., 0., 0., 0., 0., 0., 0., 0., 0.,\n",
      "       0., 0., 0., 0., 0., 0., 0., 0., 0., 0., 0., 0., 0., 0., 0., 0., 0.,\n",
      "       0., 0., 0., 0., 0., 0., 0., 0., 0., 0., 0., 0., 0., 0., 0., 0., 0.,\n",
      "       0., 0., 0., 0., 0., 0., 0., 0., 0., 0., 0., 0., 0., 0., 0., 0., 0.,\n",
      "       0., 0., 0., 0., 0., 0., 0., 0., 0., 0., 0., 0., 0., 0., 0., 0., 0.,\n",
      "       0., 0., 0., 0., 0., 0., 0., 0., 0., 0., 0., 0., 0., 0., 0., 0., 0.,\n",
      "       0., 0., 0., 0., 0., 0., 0., 0., 0., 0., 0., 0., 0., 0., 0., 0., 0.,\n",
      "       0., 0., 0., 0., 0., 0., 0., 0., 0., 0., 0., 0., 0., 0., 0., 0., 0.,\n",
      "       0., 0., 0., 0., 0., 0., 0., 0., 0., 0., 0., 0., 0., 0., 0., 0., 0.,\n",
      "       0., 0., 0., 0., 0., 0., 0., 0., 0., 0., 0., 0., 0., 0., 0., 0., 0.,\n",
      "       0., 0., 0., 0., 0., 0., 0., 0., 0., 0., 0., 0., 0., 0., 0., 0., 0.,\n",
      "       0., 0., 0., 0., 0., 0., 0., 0., 0., 0., 0., 0., 0., 0., 0., 0., 0.,\n",
      "       0., 0., 0., 0., 0., 0., 0., 0., 0., 0., 0., 0., 0., 0., 0., 0., 0.,\n",
      "       0., 0., 0., 0., 0., 0., 0., 0., 0., 0., 0., 0., 0., 0., 0., 0., 0.,\n",
      "       0., 0., 0., 0., 0., 0., 0., 0., 0., 0., 0., 0., 0., 0., 0., 0., 0.,\n",
      "       0., 0., 0., 0., 0., 0., 0., 0., 0., 0., 0., 0., 0., 0., 0., 0., 0.,\n",
      "       0., 0., 0., 0., 0., 0., 0., 0., 0., 0., 0., 0., 0., 0., 0., 0., 0.,\n",
      "       0., 0., 0., 0., 0., 0., 0., 0., 0., 0., 0., 0., 0., 0., 0., 0., 0.,\n",
      "       0., 0., 0., 0., 0., 0., 0., 0., 0., 0., 0., 0., 0., 0., 0., 0., 0.,\n",
      "       0., 0., 0., 0., 0., 0., 0., 0., 0., 0., 0., 0., 0., 0., 0., 0., 0.,\n",
      "       0., 0., 0., 0., 0., 0., 0., 0., 0., 0., 0., 0., 0., 0., 0., 0., 0.,\n",
      "       0., 0., 0., 0., 0., 0., 0., 0., 0., 0., 0., 0., 0., 0., 0., 0., 0.,\n",
      "       0., 0., 0., 0., 0., 0., 0., 0., 0., 0., 0., 0., 0., 0., 0., 0., 0.,\n",
      "       0., 0., 0., 0., 0., 0., 0., 0., 0., 0., 0., 0., 0., 0., 0., 0., 0.,\n",
      "       0., 0., 0., 0., 0., 0., 0., 0., 0., 0., 0., 0., 0., 0., 0., 0., 0.,\n",
      "       0., 0., 0., 0., 0., 0., 0., 0., 0., 0., 0., 0., 0., 0., 0., 0., 0.,\n",
      "       0., 0., 0., 0., 0., 0., 0., 0., 0., 0., 0., 0., 0., 0., 0., 0., 0.,\n",
      "       0., 0., 0., 0., 0., 0., 0., 0., 0., 0., 0., 0., 0., 0., 0., 0., 0.,\n",
      "       0., 0., 0., 0., 0., 0., 0., 0., 0., 0., 0., 0., 0., 0., 0., 0., 0.,\n",
      "       0., 0., 0., 0., 0., 0., 0., 0., 0., 0., 0., 0., 0., 0., 0., 0., 0.,\n",
      "       0., 0., 0., 0., 0., 0., 0., 0., 0., 0., 0., 0., 0., 0., 0., 0., 0.,\n",
      "       0., 0., 0., 0., 0., 0., 0., 0., 0., 0., 0., 0., 0., 0., 0., 0., 0.,\n",
      "       0., 0., 0., 0., 0., 0., 0., 0., 0., 0., 0., 0., 0., 0., 0., 0., 0.,\n",
      "       0., 0., 0., 0., 0., 0., 0., 0., 0., 0., 0., 0., 0., 0., 0., 0., 0.,\n",
      "       0., 0., 0., 0., 0., 0., 0., 0., 0., 0., 0., 0., 0., 0., 0., 0., 0.,\n",
      "       0., 0., 0., 0., 0., 0., 0., 0., 0., 0., 0., 0., 0., 0., 0., 0., 0.,\n",
      "       0., 0., 0., 0., 0., 0., 0., 0., 0., 0., 0., 0., 0., 0., 0., 0., 0.,\n",
      "       0., 0., 0., 0., 0., 0., 0., 0., 0., 0., 0., 0., 0., 0., 0., 0., 0.,\n",
      "       0., 0., 0., 0., 0., 0., 0., 0., 0., 0., 0., 0., 0., 0., 0., 0., 0.,\n",
      "       0., 0., 0., 0., 0., 0., 0., 0., 0., 0., 0., 0., 0., 0., 0., 0., 0.,\n",
      "       0., 0., 0., 0., 0., 0., 0., 0., 0., 0., 0., 0., 0., 0., 0., 0., 0.,\n",
      "       0., 0., 0., 0., 0., 0., 0., 0., 0., 0., 0., 0., 0., 0., 0., 0., 0.,\n",
      "       0., 0., 0., 0., 0., 0., 0., 0., 0., 0., 0., 0., 0., 0., 0., 0., 0.,\n",
      "       0., 0., 0., 0., 0., 0., 0., 0., 0., 0., 0., 0., 0., 0., 0., 0., 0.,\n",
      "       0., 0., 0., 0., 0., 0., 0., 0., 0., 0., 0., 0., 0., 0.]), None, 1]\n"
     ]
    },
    {
     "name": "stdout",
     "output_type": "stream",
     "text": [
      "ipdb> self[i].f_args\n",
      "[array([1., 1., 1., 1., 1., 1., 1., 1., 1., 1., 1., 1., 1., 1., 1., 1., 1.,\n",
      "       1., 1., 1., 0., 0., 0., 0., 0., 0., 0., 0., 0., 0., 0., 0., 0., 0.,\n",
      "       0., 0., 0., 0., 0., 0., 0., 0., 0., 0., 0., 0., 0., 0., 0., 0., 0.,\n",
      "       0., 0., 0., 0., 0., 0., 0., 0., 0., 0., 0., 0., 0., 0., 0., 0., 0.,\n",
      "       0., 0., 0., 0., 0., 0., 0., 0., 0., 0., 0., 0., 0., 0., 0., 0., 0.,\n",
      "       0., 0., 0., 0., 0., 0., 0., 0., 0., 0., 0., 0., 0., 0., 0., 0., 0.,\n",
      "       0., 0., 0., 0., 0., 0., 0., 0., 0., 0., 0., 0., 0., 0., 0., 0., 0.,\n",
      "       0., 0., 0., 0., 0., 0., 0., 0., 0., 0., 0., 0., 0., 0., 0., 0., 0.,\n",
      "       0., 0., 0., 0., 0., 0., 0., 0., 0., 0., 0., 0., 0., 0., 0., 0., 0.,\n",
      "       0., 0., 0., 0., 0., 0., 0., 0., 0., 0., 0., 0., 0., 0., 0., 0., 0.,\n",
      "       0., 0., 0., 0., 0., 0., 0., 0., 0., 0., 0., 0., 0., 0., 0., 0., 0.,\n",
      "       0., 0., 0., 0., 0., 0., 0., 0., 0., 0., 0., 0., 0., 0., 0., 0., 0.,\n",
      "       0., 0., 0., 0., 0., 0., 0., 0., 0., 0., 0., 0., 0., 0., 0., 0., 0.,\n",
      "       0., 0., 0., 0., 0., 0., 0., 0., 0., 0., 0., 0., 0., 0., 0., 0., 0.,\n",
      "       0., 0., 0., 0., 0., 0., 0., 0., 0., 0., 0., 0., 0., 0., 0., 0., 0.,\n",
      "       0., 0., 0., 0., 0., 0., 0., 0., 0., 0., 0., 0., 0., 0., 0., 0., 0.,\n",
      "       0., 0., 0., 0., 0., 0., 0., 0., 0., 0., 0., 0., 0., 0., 0., 0., 0.,\n",
      "       0., 0., 0., 0., 0., 0., 0., 0., 0., 0., 0., 0., 0., 0., 0., 0., 0.,\n",
      "       0., 0., 0., 0., 0., 0., 0., 0., 0., 0., 0., 0., 0., 0., 0., 0., 0.,\n",
      "       0., 0., 0., 0., 0., 0., 0., 0., 0., 0., 0., 0., 0., 0., 0., 0., 0.,\n",
      "       0., 0., 0., 0., 0., 0., 0., 0., 0., 0., 0., 0., 0., 0., 0., 0., 0.,\n",
      "       0., 0., 0., 0., 0., 0., 0., 0., 0., 0., 0., 0., 0., 0., 0., 0., 0.,\n",
      "       0., 0., 0., 0., 0., 0., 0., 0., 0., 0., 0., 0., 0., 0., 0., 0., 0.,\n",
      "       0., 0., 0., 0., 0., 0., 0., 0., 0., 0., 0., 0., 0., 0., 0., 0., 0.,\n",
      "       0., 0., 0., 0., 0., 0., 0., 0., 0., 0., 0., 0., 0., 0., 0., 0., 0.,\n",
      "       0., 0., 0., 0., 0., 0., 0., 0., 0., 0., 0., 0., 0., 0., 0., 0., 0.,\n",
      "       0., 0., 0., 0., 0., 0., 0., 0., 0., 0., 0., 0., 0., 0., 0., 0., 0.,\n",
      "       0., 0., 0., 0., 0., 0., 0., 0., 0., 0., 0., 0., 0., 0., 0., 0., 0.,\n",
      "       0., 0., 0., 0., 0., 0., 0., 0., 0., 0., 0., 0., 0., 0., 0., 0., 0.,\n",
      "       0., 0., 0., 0., 0., 0., 0., 0., 0., 0., 0., 0., 0., 0., 0., 0., 0.,\n",
      "       0., 0., 0., 0., 0., 0., 0., 0., 0., 0., 0., 0., 0., 0., 0., 0., 0.,\n",
      "       0., 0., 0., 0., 0., 0., 0., 0., 0., 0., 0., 0., 0., 0., 0., 0., 0.,\n",
      "       0., 0., 0., 0., 0., 0., 0., 0., 0., 0., 0., 0., 0., 0., 0., 0., 0.,\n",
      "       0., 0., 0., 0., 0., 0., 0., 0., 0., 0., 0., 0., 0., 0., 0., 0., 0.,\n",
      "       0., 0., 0., 0., 0., 0., 0., 0., 0., 0., 0., 0., 0., 0., 0., 0., 0.,\n",
      "       0., 0., 0., 0., 0., 0., 0., 0., 0., 0., 0., 0., 0., 0., 0., 0., 0.,\n",
      "       0., 0., 0., 0., 0., 0., 0., 0., 0., 0., 0., 0., 0., 0., 0., 0., 0.,\n",
      "       0., 0., 0., 0., 0., 0., 0., 0., 0., 0., 0., 0., 0., 0., 0., 0., 0.,\n",
      "       0., 0., 0., 0., 0., 0., 0., 0., 0., 0., 0., 0., 0., 0., 0., 0., 0.,\n",
      "       0., 0., 0., 0., 0., 0., 0., 0., 0., 0., 0., 0., 0., 0., 0., 0., 0.,\n",
      "       0., 0., 0., 0., 0., 0., 0., 0., 0., 0., 0., 0., 0., 0., 0., 0., 0.,\n",
      "       0., 0., 0., 0., 0., 0., 0., 0., 0., 0., 0., 0., 0., 0., 0., 0., 0.,\n",
      "       0., 0., 0., 0., 0., 0., 0., 0., 0., 0., 0., 0., 0., 0., 0., 0., 0.,\n",
      "       0., 0., 0., 0., 0., 0., 0., 0., 0., 0., 0., 0., 0., 0., 0., 0., 0.,\n",
      "       0., 0., 0., 0., 0., 0., 0., 0., 0., 0., 0., 0., 0., 0., 0., 0., 0.,\n",
      "       0., 0., 0., 0., 0., 0., 0., 0., 0., 0., 0., 0., 0., 0., 0., 0., 0.,\n",
      "       0., 0., 0., 0., 0., 0., 0., 0., 0., 0., 0., 0., 0., 0., 0., 0., 0.,\n",
      "       0., 0., 0., 0., 0., 0., 0., 0., 0., 0., 0., 0., 0., 0., 0., 0., 0.,\n",
      "       0., 0., 0., 0., 0., 0., 0., 0., 0., 0., 0., 0., 0., 0., 0., 0., 0.,\n",
      "       0., 0., 0., 0., 0., 0., 0., 0., 0., 0., 0., 0., 0., 0., 0., 0., 0.,\n",
      "       0., 0., 0., 0., 0., 0., 0., 0., 0., 0., 0., 0., 0., 0., 0., 0., 0.,\n",
      "       0., 0., 0., 0., 0., 0., 0., 0., 0., 0., 0., 0., 0., 0., 0., 0., 0.,\n",
      "       0., 0., 0., 0., 0., 0., 0., 0., 0., 0., 0., 0., 0., 0., 0., 0., 0.,\n",
      "       0., 0., 0., 0., 0., 0., 0., 0., 0., 0., 0., 0., 0., 0., 0., 0., 0.,\n",
      "       0., 0., 0., 0., 0., 0., 0., 0., 0., 0., 0., 0., 0., 0., 0., 0., 0.,\n",
      "       0., 0., 0., 0., 0., 0., 0., 0., 0., 0., 0., 0., 0., 0., 0., 0., 0.,\n",
      "       0., 0., 0., 0., 0., 0., 0., 0., 0., 0., 0., 0., 0., 0., 0., 0., 0.,\n",
      "       0., 0., 0., 0., 0., 0., 0., 0., 0., 0., 0., 0., 0., 0., 0., 0., 0.,\n",
      "       0., 0., 0., 0., 0., 0., 0., 0., 0., 0., 0., 0., 0., 0.]), None, 1]\n",
      "ipdb> exit\n"
     ]
    }
   ],
   "source": [
    "%debug"
   ]
  },
  {
   "cell_type": "code",
   "execution_count": null,
   "metadata": {
    "ExecuteTime": {
     "start_time": "2020-11-19T01:34:57.060Z"
    }
   },
   "outputs": [
    {
     "name": "stdout",
     "output_type": "stream",
     "text": [
      "> \u001b[0;32m/Users/reema/Postdoc/Progetti/MAXENT/claude/claude/base.py\u001b[0m(261)\u001b[0;36m<listcomp>\u001b[0;34m()\u001b[0m\n",
      "\u001b[0;32m    259 \u001b[0;31m\u001b[0;34m\u001b[0m\u001b[0m\n",
      "\u001b[0m\u001b[0;32m    260 \u001b[0;31m        \u001b[0;32mdef\u001b[0m \u001b[0mpredict_mean\u001b[0m\u001b[0;34m(\u001b[0m\u001b[0mself\u001b[0m\u001b[0;34m,\u001b[0m \u001b[0mobs\u001b[0m\u001b[0;34m)\u001b[0m\u001b[0;34m:\u001b[0m\u001b[0;34m\u001b[0m\u001b[0;34m\u001b[0m\u001b[0m\n",
      "\u001b[0m\u001b[0;32m--> 261 \u001b[0;31m                \u001b[0madj_list\u001b[0m \u001b[0;34m=\u001b[0m \u001b[0;34m[\u001b[0m\u001b[0mself\u001b[0m\u001b[0;34m.\u001b[0m\u001b[0mge_list\u001b[0m\u001b[0;34m.\u001b[0m\u001b[0madj_matrix\u001b[0m\u001b[0;34m[\u001b[0m\u001b[0mi\u001b[0m\u001b[0;34m]\u001b[0m \u001b[0;32mfor\u001b[0m \u001b[0mi\u001b[0m \u001b[0;32min\u001b[0m \u001b[0mrange\u001b[0m\u001b[0;34m(\u001b[0m\u001b[0mlen\u001b[0m\u001b[0;34m(\u001b[0m\u001b[0mself\u001b[0m\u001b[0;34m.\u001b[0m\u001b[0mge_list\u001b[0m\u001b[0;34m)\u001b[0m\u001b[0;34m)\u001b[0m\u001b[0;34m]\u001b[0m\u001b[0;34m\u001b[0m\u001b[0;34m\u001b[0m\u001b[0m\n",
      "\u001b[0m\u001b[0;32m    262 \u001b[0;31m                \u001b[0;32mreturn\u001b[0m \u001b[0mobs\u001b[0m\u001b[0;34m.\u001b[0m\u001b[0mfunc\u001b[0m\u001b[0;34m(\u001b[0m\u001b[0madj_list\u001b[0m\u001b[0;34m)\u001b[0m\u001b[0;34m\u001b[0m\u001b[0;34m\u001b[0m\u001b[0m\n",
      "\u001b[0m\u001b[0;32m    263 \u001b[0;31m\u001b[0;34m\u001b[0m\u001b[0m\n",
      "\u001b[0m\n",
      "ipdb> self.ge_list\n",
      "[<claude.base.GraphEnsemble object at 0x7fe777f6aba8>, <claude.base.BipartiteGraphEnsemble object at 0x7fe777f6a2e8>]\n"
     ]
    }
   ],
   "source": [
    "%debug"
   ]
  },
  {
   "cell_type": "code",
   "execution_count": null,
   "metadata": {},
   "outputs": [],
   "source": []
  },
  {
   "cell_type": "code",
   "execution_count": 22,
   "metadata": {
    "ExecuteTime": {
     "end_time": "2020-11-19T01:17:29.323840Z",
     "start_time": "2020-11-19T01:08:59.426957Z"
    }
   },
   "outputs": [
    {
     "name": "stdout",
     "output_type": "stream",
     "text": [
      "> \u001b[0;32m/Users/reema/Postdoc/Progetti/MAXENT/claude/claude/observables.py\u001b[0m(255)\u001b[0;36mgrad\u001b[0;34m()\u001b[0m\n",
      "\u001b[0;32m    253 \u001b[0;31m                \u001b[0mterm\u001b[0m \u001b[0;34m=\u001b[0m \u001b[0;36m0\u001b[0m\u001b[0;34m\u001b[0m\u001b[0;34m\u001b[0m\u001b[0m\n",
      "\u001b[0m\u001b[0;32m    254 \u001b[0;31m                \u001b[0;32mfor\u001b[0m \u001b[0ml\u001b[0m \u001b[0;32min\u001b[0m \u001b[0mrange\u001b[0m\u001b[0;34m(\u001b[0m\u001b[0mlength\u001b[0m\u001b[0;34m)\u001b[0m\u001b[0;34m:\u001b[0m\u001b[0;34m\u001b[0m\u001b[0;34m\u001b[0m\u001b[0m\n",
      "\u001b[0m\u001b[0;32m--> 255 \u001b[0;31m                        \u001b[0mterm\u001b[0m \u001b[0;34m=\u001b[0m \u001b[0mterm\u001b[0m \u001b[0;34m+\u001b[0m \u001b[0minput_vector\u001b[0m\u001b[0;34m.\u001b[0m\u001b[0mdot\u001b[0m\u001b[0;34m(\u001b[0m\u001b[0mpowers\u001b[0m\u001b[0;34m[\u001b[0m\u001b[0ml\u001b[0m\u001b[0;34m]\u001b[0m\u001b[0;34m)\u001b[0m\u001b[0;34m[\u001b[0m\u001b[0;34m:\u001b[0m\u001b[0;34m,\u001b[0m\u001b[0;32mNone\u001b[0m\u001b[0;34m]\u001b[0m \u001b[0;34m*\u001b[0m \u001b[0mpowers\u001b[0m\u001b[0;34m[\u001b[0m\u001b[0mlength\u001b[0m \u001b[0;34m-\u001b[0m \u001b[0;36m1\u001b[0m \u001b[0;34m-\u001b[0m \u001b[0ml\u001b[0m\u001b[0;34m]\u001b[0m\u001b[0;34m.\u001b[0m\u001b[0mdot\u001b[0m\u001b[0;34m(\u001b[0m\u001b[0mproj_vector\u001b[0m\u001b[0;34m)\u001b[0m\u001b[0;34m[\u001b[0m\u001b[0;32mNone\u001b[0m\u001b[0;34m,\u001b[0m \u001b[0;34m:\u001b[0m\u001b[0;34m]\u001b[0m\u001b[0;34m\u001b[0m\u001b[0;34m\u001b[0m\u001b[0m\n",
      "\u001b[0m\u001b[0;32m    256 \u001b[0;31m                \u001b[0;32mreturn\u001b[0m \u001b[0mterm\u001b[0m\u001b[0;34m\u001b[0m\u001b[0;34m\u001b[0m\u001b[0m\n",
      "\u001b[0m\u001b[0;32m    257 \u001b[0;31m\u001b[0;34m\u001b[0m\u001b[0m\n",
      "\u001b[0m\n",
      "ipdb> len(powers)\n",
      "2\n",
      "ipdb> input_vector.dot(powers[l])\n",
      "array([1., 1., 1., 1., 1., 1., 1., 1., 1., 1., 1., 1., 1., 1., 1., 1., 1.,\n",
      "       1., 1., 1., 0., 0., 0., 0., 0., 0., 0., 0., 0., 0., 0., 0., 0., 0.,\n",
      "       0., 0., 0., 0., 0., 0., 0., 0., 0., 0., 0., 0., 0., 0., 0., 0., 0.,\n",
      "       0., 0., 0., 0., 0., 0., 0., 0., 0., 0., 0., 0., 0., 0., 0., 0., 0.,\n",
      "       0., 0., 0., 0., 0., 0., 0., 0., 0., 0., 0., 0., 0., 0., 0., 0., 0.,\n",
      "       0., 0., 0., 0., 0., 0., 0., 0., 0., 0., 0., 0., 0., 0., 0., 0., 0.,\n",
      "       0., 0., 0., 0., 0., 0., 0., 0., 0., 0., 0., 0., 0., 0., 0., 0., 0.,\n",
      "       0., 0., 0., 0., 0., 0., 0., 0., 0., 0., 0., 0., 0., 0., 0., 0., 0.,\n",
      "       0., 0., 0., 0., 0., 0., 0., 0., 0., 0., 0., 0., 0., 0., 0., 0., 0.,\n",
      "       0., 0., 0., 0., 0., 0., 0., 0., 0., 0., 0., 0., 0., 0., 0., 0., 0.,\n",
      "       0., 0., 0., 0., 0., 0., 0., 0., 0., 0., 0., 0., 0., 0., 0., 0., 0.,\n",
      "       0., 0., 0., 0., 0., 0., 0., 0., 0., 0., 0., 0., 0., 0., 0., 0., 0.,\n",
      "       0., 0., 0., 0., 0., 0., 0., 0., 0., 0., 0., 0., 0., 0., 0., 0., 0.,\n",
      "       0., 0., 0., 0., 0., 0., 0., 0., 0., 0., 0., 0., 0., 0., 0., 0., 0.,\n",
      "       0., 0., 0., 0., 0., 0., 0., 0., 0., 0., 0., 0., 0., 0., 0., 0., 0.,\n",
      "       0., 0., 0., 0., 0., 0., 0., 0., 0., 0., 0., 0., 0., 0., 0., 0., 0.,\n",
      "       0., 0., 0., 0., 0., 0., 0., 0., 0., 0., 0., 0., 0., 0., 0., 0., 0.,\n",
      "       0., 0., 0., 0., 0., 0., 0., 0., 0., 0., 0., 0., 0., 0., 0., 0., 0.,\n",
      "       0., 0., 0., 0., 0., 0., 0., 0., 0., 0., 0., 0., 0., 0., 0., 0., 0.,\n",
      "       0., 0., 0., 0., 0., 0., 0., 0., 0., 0., 0., 0., 0., 0., 0., 0., 0.,\n",
      "       0., 0., 0., 0., 0., 0., 0., 0., 0., 0., 0., 0., 0., 0., 0., 0., 0.,\n",
      "       0., 0., 0., 0., 0., 0., 0., 0., 0., 0., 0., 0., 0., 0., 0., 0., 0.,\n",
      "       0., 0., 0., 0., 0., 0., 0., 0., 0., 0., 0., 0., 0., 0., 0., 0., 0.,\n",
      "       0., 0., 0., 0., 0., 0., 0., 0., 0., 0., 0., 0., 0., 0., 0., 0., 0.,\n",
      "       0., 0., 0., 0., 0., 0., 0., 0., 0., 0., 0., 0., 0., 0., 0., 0., 0.,\n",
      "       0., 0., 0., 0., 0., 0., 0., 0., 0., 0., 0., 0., 0., 0., 0., 0., 0.,\n",
      "       0., 0., 0., 0., 0., 0., 0., 0., 0., 0., 0., 0., 0., 0., 0., 0., 0.,\n",
      "       0., 0., 0., 0., 0., 0., 0., 0., 0., 0., 0., 0., 0., 0., 0., 0., 0.,\n",
      "       0., 0., 0., 0., 0., 0., 0., 0., 0., 0., 0., 0., 0., 0., 0., 0., 0.,\n",
      "       0., 0., 0., 0., 0., 0., 0., 0., 0., 0., 0., 0., 0., 0., 0., 0., 0.,\n",
      "       0., 0., 0., 0., 0., 0., 0., 0., 0., 0., 0., 0., 0., 0., 0., 0., 0.,\n",
      "       0., 0., 0., 0., 0., 0., 0., 0., 0., 0., 0., 0., 0., 0., 0., 0., 0.,\n",
      "       0., 0., 0., 0., 0., 0., 0., 0., 0., 0., 0., 0., 0., 0., 0., 0., 0.,\n",
      "       0., 0., 0., 0., 0., 0., 0., 0., 0., 0., 0., 0., 0., 0., 0., 0., 0.,\n",
      "       0., 0., 0., 0., 0., 0., 0., 0., 0., 0., 0., 0., 0., 0., 0., 0., 0.,\n",
      "       0., 0., 0., 0., 0., 0., 0., 0., 0., 0., 0., 0., 0., 0., 0., 0., 0.,\n",
      "       0., 0., 0., 0., 0., 0., 0., 0., 0., 0., 0., 0., 0., 0., 0., 0., 0.,\n",
      "       0., 0., 0., 0., 0., 0., 0., 0., 0., 0., 0., 0., 0., 0., 0., 0., 0.,\n",
      "       0., 0., 0., 0., 0., 0., 0., 0., 0., 0., 0., 0., 0., 0., 0., 0., 0.,\n",
      "       0., 0., 0., 0., 0., 0., 0., 0., 0., 0., 0., 0., 0., 0., 0., 0., 0.,\n",
      "       0., 0., 0., 0., 0., 0., 0., 0., 0., 0., 0., 0., 0., 0., 0., 0., 0.,\n",
      "       0., 0., 0., 0., 0., 0., 0., 0., 0., 0., 0., 0., 0., 0., 0., 0., 0.,\n",
      "       0., 0., 0., 0., 0., 0., 0., 0., 0., 0., 0., 0., 0., 0., 0., 0., 0.,\n",
      "       0., 0., 0., 0., 0., 0., 0., 0., 0., 0., 0., 0., 0., 0., 0., 0., 0.,\n",
      "       0., 0., 0., 0., 0., 0., 0., 0., 0., 0., 0., 0., 0., 0., 0., 0., 0.,\n",
      "       0., 0., 0., 0., 0., 0., 0., 0., 0., 0., 0., 0., 0., 0., 0., 0., 0.,\n",
      "       0., 0., 0., 0., 0., 0., 0., 0., 0., 0., 0., 0., 0., 0., 0., 0., 0.,\n",
      "       0., 0., 0., 0., 0., 0., 0., 0., 0., 0., 0., 0., 0., 0., 0., 0., 0.,\n",
      "       0., 0., 0., 0., 0., 0., 0., 0., 0., 0., 0., 0., 0., 0., 0., 0., 0.,\n",
      "       0., 0., 0., 0., 0., 0., 0., 0., 0., 0., 0., 0., 0., 0., 0., 0., 0.,\n",
      "       0., 0., 0., 0., 0., 0., 0., 0., 0., 0., 0., 0., 0., 0., 0., 0., 0.,\n",
      "       0., 0., 0., 0., 0., 0., 0., 0., 0., 0., 0., 0., 0., 0., 0., 0., 0.,\n",
      "       0., 0., 0., 0., 0., 0., 0., 0., 0., 0., 0., 0., 0., 0., 0., 0., 0.,\n",
      "       0., 0., 0., 0., 0., 0., 0., 0., 0., 0., 0., 0., 0., 0., 0., 0., 0.,\n",
      "       0., 0., 0., 0., 0., 0., 0., 0., 0., 0., 0., 0., 0., 0., 0., 0., 0.,\n",
      "       0., 0., 0., 0., 0., 0., 0., 0., 0., 0., 0., 0., 0., 0., 0., 0., 0.,\n",
      "       0., 0., 0., 0., 0., 0., 0., 0., 0., 0., 0., 0., 0., 0., 0., 0., 0.,\n",
      "       0., 0., 0., 0., 0., 0., 0., 0., 0., 0., 0., 0., 0., 0., 0., 0., 0.,\n",
      "       0., 0., 0., 0., 0., 0., 0., 0., 0., 0., 0., 0., 0., 0.])\n",
      "ipdb> exit\n"
     ]
    }
   ],
   "source": [
    "%debug"
   ]
  },
  {
   "cell_type": "code",
   "execution_count": null,
   "metadata": {},
   "outputs": [],
   "source": []
  },
  {
   "cell_type": "code",
   "execution_count": 9,
   "metadata": {
    "ExecuteTime": {
     "end_time": "2020-11-19T01:04:02.316402Z",
     "start_time": "2020-11-19T01:04:02.309724Z"
    }
   },
   "outputs": [],
   "source": [
    "def propagate_nstep(adj,x,n):\n",
    "    spadj = sp.csr_matrix(adj)**n\n",
    "    return spadj.T.dot(x)"
   ]
  },
  {
   "cell_type": "code",
   "execution_count": 144,
   "metadata": {
    "ExecuteTime": {
     "end_time": "2020-11-15T18:51:24.246138Z",
     "start_time": "2020-11-15T18:51:24.242017Z"
    }
   },
   "outputs": [],
   "source": [
    "def propagate_nstep_corr(adj,x,n):\n",
    "    spadj = sp.csr_matrix(adj)**n\n",
    "    spadj = np.asarray(spadj.todense())\n",
    "    np.fill_diagonal(spadj,adj.sum(axis=0))\n",
    "    return x.dot(spadj).flatten()"
   ]
  },
  {
   "cell_type": "code",
   "execution_count": 145,
   "metadata": {
    "ExecuteTime": {
     "end_time": "2020-11-15T18:51:25.886384Z",
     "start_time": "2020-11-15T18:51:25.875471Z"
    }
   },
   "outputs": [],
   "source": [
    "def propagate_nstep_corr2(adj,x,n):\n",
    "    spadj = sp.csr_matrix(adj)**n\n",
    "    spadj = np.asarray(spadj.todense())\n",
    "    np.fill_diagonal(spadj,adj.sum(axis=0))\n",
    "    return x.dot(spadj).flatten().sum()"
   ]
  },
  {
   "cell_type": "code",
   "execution_count": 149,
   "metadata": {
    "ExecuteTime": {
     "end_time": "2020-11-15T21:48:34.287937Z",
     "start_time": "2020-11-15T21:48:34.194132Z"
    }
   },
   "outputs": [
    {
     "data": {
      "text/plain": [
       "array([10.09827121,  9.04540432,  9.55528611, 11.38794329,  9.6572197 ,\n",
       "        9.45333829, 10.57398666,  9.86104432, 10.06481239, 11.08281285,\n",
       "       10.67577961, 10.98107526,  8.7393033 ,  9.96293541, 10.37035895,\n",
       "        9.35137623,  8.84135136,  9.6572197 ,  9.86104432, 11.08281285,\n",
       "       10.06481239,  9.35137623,  9.86104432,  9.45333829,  9.96293541,\n",
       "       10.67577961, 10.77755867, 13.11473001,  9.86104432, 10.47217978,\n",
       "       11.08281285,  8.7393033 ,  9.96293541, 10.47217978, 12.09943887,\n",
       "       10.57398666, 10.16667528,  9.96293541, 10.77755867, 10.57398666,\n",
       "        9.75913909, 12.30260252, 11.59129533,  9.75913909,  9.86104432,\n",
       "       10.47217978,  8.84135136,  9.86104432, 11.38794329,  9.75913909,\n",
       "       10.06481239, 10.16667528,  9.35137623, 10.77755867, 10.47217978,\n",
       "       10.47217978, 11.08281285, 10.87932388,  9.75913909,  9.75913909,\n",
       "       11.99783703, 11.99783703, 11.28624683,  9.45333829,  9.14740927,\n",
       "       11.28624683, 11.99783703, 10.87932388, 10.87932388,  9.6572197 ,\n",
       "        9.35137623, 12.09943887, 10.26852413, 11.48962611, 10.26852413,\n",
       "       11.28624683, 13.31763192, 10.47217978,  9.55528611,  9.75913909,\n",
       "       11.59129533, 10.16667528, 10.26852413,  9.6572197 ,  9.96293541,\n",
       "        9.2493999 , 12.20102735,  8.33096676,  9.45333829,  9.6572197 ,\n",
       "       10.47217978, 12.50571311,  9.35137623, 10.26852413, 10.57398666,\n",
       "       11.08281285, 10.16667528, 11.59129533,  9.2493999 , 10.87932388,\n",
       "       10.06481239, 10.37035895, 11.79459314, 10.77755867, 11.28624683,\n",
       "       10.16667528,  9.6572197 , 10.98107526, 11.28624683, 10.77755867,\n",
       "       10.77755867, 10.16667528,  8.84135136, 10.06481239,  9.96293541,\n",
       "       11.69295099, 11.08281285, 11.28624683, 10.26852413, 11.38794329,\n",
       "       10.47217978, 11.69295099, 10.98107526, 11.1845367 ,  9.14740927,\n",
       "        8.33096676, 11.69295099,  8.33096676,  9.14740927,  9.86104432,\n",
       "       11.38794329,  8.43307259, 10.16667528, 10.57398666, 10.26852413,\n",
       "        9.96293541, 10.67577961,  9.96293541, 10.57398666,  9.86104432,\n",
       "       10.77755867, 10.26852413,  9.6572197 ,  8.53516394,  9.35137623,\n",
       "       10.06481239, 12.09943887, 10.77755867,  9.14740927, 11.59129533,\n",
       "        8.53516394,  9.55528611, 10.06481239,  9.35137623, 10.47217978,\n",
       "       10.16667528,  9.75913909, 10.16667528, 11.59129533,  9.96293541,\n",
       "        9.2493999 , 10.06481239,  9.14740927,  9.86104432, 10.57398666,\n",
       "       10.37035895,  9.2493999 , 10.57398666, 10.06481239, 10.98107526,\n",
       "        8.43307259, 11.99783703, 11.1845367 , 10.87932388, 10.06481239,\n",
       "        8.02456223,  9.86104432,  9.6572197 , 11.48962611,  9.96293541,\n",
       "        9.2493999 , 10.37035895,  9.14740927, 10.26852413, 11.38794329,\n",
       "       10.87932388,  9.75913909, 11.69295099, 10.16667528,  9.14740927,\n",
       "       10.57398666,  9.55528611, 11.1845367 ,  9.86104432,  9.35137623,\n",
       "       11.28624683, 11.1845367 ,  9.96293541, 10.47217978,  9.6572197 ,\n",
       "       11.1845367 , 11.28624683, 10.87932388, 11.48962611, 10.67577961,\n",
       "        9.35137623,  9.6572197 , 10.57398666, 10.57398666, 12.70877098,\n",
       "        9.04540432, 11.08281285,  9.14740927, 10.57398666, 10.16667528,\n",
       "        8.94338502,  8.7393033 ,  9.35137623, 12.81028025, 10.57398666,\n",
       "       10.06481239, 10.87932388, 11.1845367 ,  9.04540432, 10.37035895,\n",
       "        7.92239831,  9.2493999 , 10.77755867, 10.16667528, 10.77755867,\n",
       "       10.47217978, 11.79459314, 11.1845367 , 11.59129533, 11.38794329,\n",
       "        9.96293541, 11.79459314,  9.6572197 ,  9.55528611,  9.2493999 ,\n",
       "        9.96293541,  8.7393033 ,  9.96293541,  9.96293541,  9.6572197 ,\n",
       "       10.26852413, 10.37035895, 10.06481239,  9.6572197 , 10.16667528,\n",
       "        8.63724084, 10.47217978, 10.26852413, 12.40416442,  9.75913909,\n",
       "        9.96293541, 10.47217978, 10.16667528, 10.77755867,  9.45333829,\n",
       "       12.30260252, 11.1845367 , 10.57398666, 10.26852413, 10.77755867,\n",
       "       10.16667528, 10.26852413, 11.79459314,  8.94338502,  9.86104432,\n",
       "        8.43307259, 11.38794329, 11.08281285, 10.16667528, 11.1845367 ,\n",
       "       11.59129533, 10.37035895,  9.35137623,  9.45333829, 10.06481239,\n",
       "       10.47217978, 10.67577961, 10.47217978,  9.75913909, 10.47217978,\n",
       "        9.75913909,  9.35137623, 10.98107526, 10.06481239,  9.75913909,\n",
       "       10.06481239, 10.57398666, 11.1845367 , 10.98107526, 11.1845367 ,\n",
       "       11.38794329, 10.37035895, 11.1845367 ,  9.96293541, 10.16667528,\n",
       "       10.57398666, 10.67577961,  9.75913909, 11.69295099, 10.16667528,\n",
       "        8.1267116 , 11.1845367 ,  9.75913909, 10.37035895, 10.98107526,\n",
       "       10.16667528,  9.75913909, 10.37035895,  9.35137623, 10.37035895,\n",
       "        8.53516394, 11.48962611, 11.28624683, 11.79459314,  9.86104432,\n",
       "        9.96293541,  9.04540432, 10.57398666, 10.67577961, 10.47217978,\n",
       "       10.47217978,  8.33096676, 11.59129533, 10.16667528,  8.22884644,\n",
       "        9.55528611,  9.86104432,  9.14740927,  9.86104432,  8.63724084,\n",
       "        9.6572197 ,  9.55528611,  9.96293541,  9.86104432, 11.08281285,\n",
       "        8.7393033 ,  9.04540432,  9.96293541, 10.67577961, 10.67577961,\n",
       "       11.69295099, 10.26852413, 13.01325973,  8.53516394, 10.26852413,\n",
       "        9.86104432, 10.87932388,  9.2493999 , 10.16667528, 11.28624683,\n",
       "        9.04540432, 12.30260252,  9.75913909, 11.48962611, 10.67577961,\n",
       "        9.6572197 , 10.37035895, 11.99783703,  9.55528611, 11.59129533,\n",
       "       10.87932388, 10.98107526, 11.59129533,  9.86104432,  9.55528611,\n",
       "       10.47217978,  8.84135136,  9.75913909, 10.16667528, 10.06481239,\n",
       "        9.6572197 , 10.57398666, 10.47217978, 10.57398666,  9.45333829,\n",
       "       10.26852413,  8.94338502, 10.26852413, 10.47217978, 11.99783703,\n",
       "        7.82021981,  9.96293541,  9.14740927,  9.45333829, 11.38794329,\n",
       "        9.96293541, 11.89622181, 11.28624683, 10.98107526,  8.94338502,\n",
       "       10.06481239, 11.99783703, 10.06481239,  9.96293541, 10.98107526,\n",
       "       10.57398666,  8.63724084, 10.57398666, 11.69295099, 10.16667528,\n",
       "        9.75913909,  9.2493999 , 10.06481239, 10.47217978, 10.26852413,\n",
       "        9.75913909, 10.67577961,  8.63724084, 10.98107526, 11.89622181,\n",
       "        8.1267116 , 13.11473001,  9.2493999 , 11.38794329,  8.94338502,\n",
       "       10.57398666,  8.63724084, 10.57398666,  9.04540432, 10.77755867,\n",
       "       12.09943887, 10.26852413, 10.67577961,  9.55528611, 10.87932388,\n",
       "        9.14740927, 10.26852413, 10.47217978,  9.2493999 , 11.08281285,\n",
       "       10.06481239, 10.47217978,  9.2493999 , 10.47217978, 10.87932388,\n",
       "        9.45333829,  8.33096676, 10.87932388, 10.06481239, 10.77755867,\n",
       "        8.63724084, 10.16667528, 10.67577961, 10.57398666, 10.06481239,\n",
       "        9.2493999 , 10.57398666,  9.04540432, 12.91177649, 10.26852413,\n",
       "       11.69295099, 10.98107526,  8.02456223, 11.38794329, 10.26852413,\n",
       "        9.45333829, 11.99783703,  9.35137623,  7.92239831,  9.96293541,\n",
       "        9.86104432, 10.16667528, 10.87932388, 10.06481239, 11.89622181,\n",
       "        9.55528611, 10.77755867, 10.57398666, 11.28624683, 10.26852413,\n",
       "       10.57398666,  8.63724084,  8.84135136, 10.37035895,  9.35137623,\n",
       "       11.89622181,  8.53516394,  9.45333829,  9.6572197 ,  9.86104432,\n",
       "        9.45333829,  9.75913909, 10.16667528, 10.16667528,  8.53516394,\n",
       "       10.06481239, 10.98107526,  8.7393033 , 10.87932388, 10.77755867,\n",
       "       10.06481239,  9.45333829, 11.1845367 ,  9.2493999 ,  8.84135136,\n",
       "       10.16667528, 10.87932388,  9.2493999 ,  9.14740927, 10.87932388,\n",
       "       12.70877098, 10.47217978, 11.1845367 , 10.06481239, 11.48962611,\n",
       "        9.86104432,  9.6572197 ,  8.84135136,  9.75913909,  9.14740927,\n",
       "       11.08281285, 11.69295099, 10.37035895,  9.04540432,  9.75913909,\n",
       "        9.86104432,  9.75913909,  9.55528611, 10.26852413,  8.63724084,\n",
       "       11.08281285,  9.45333829, 10.47217978,  9.2493999 , 10.87932388,\n",
       "       10.98107526, 11.38794329, 10.26852413,  8.94338502,  9.75913909,\n",
       "       11.28624683,  9.45333829, 10.57398666,  8.94338502,  9.14740927,\n",
       "       11.48962611, 10.37035895,  9.55528611,  9.2493999 ,  9.75913909,\n",
       "       11.28624683,  9.86104432,  8.1267116 ,  9.96293541, 10.37035895,\n",
       "       10.06481239,  9.6572197 , 10.06481239,  9.2493999 ,  8.94338502,\n",
       "        9.96293541, 11.28624683,  8.63724084, 10.47217978,  9.35137623,\n",
       "       10.47217978,  9.04540432,  9.96293541, 10.16667528,  8.94338502,\n",
       "        9.55528611,  8.94338502, 11.99783703, 12.20102735, 10.77755867,\n",
       "        8.94338502, 10.16667528, 10.37035895, 11.28624683,  8.84135136,\n",
       "       11.28624683,  9.86104432, 10.06481239, 11.1845367 ,  9.04540432,\n",
       "        9.35137623, 10.06481239, 10.98107526,  8.7393033 ,  9.14740927,\n",
       "       12.20102735, 11.08281285,  9.55528611, 11.38794329, 10.47217978,\n",
       "        9.75913909, 10.26852413,  9.86104432,  9.35137623,  9.96293541,\n",
       "       10.37035895, 11.48962611,  9.35137623, 10.67577961, 10.67577961,\n",
       "        9.96293541,  9.96293541, 10.16667528,  9.55528611, 10.26852413,\n",
       "       10.26852413, 10.16667528,  9.75913909, 10.77755867, 11.08281285,\n",
       "       11.28624683, 10.67577961,  9.86104432,  9.6572197 , 11.69295099,\n",
       "       10.26852413, 10.67577961, 11.08281285, 10.57398666,  8.63724084,\n",
       "       12.09943887, 10.98107526,  9.96293541,  9.6572197 ,  9.75913909,\n",
       "       10.57398666,  9.2493999 , 11.28624683,  8.94338502,  9.75913909,\n",
       "       11.1845367 ,  9.04540432, 11.38794329, 10.67577961,  9.6572197 ,\n",
       "       11.38794329, 11.1845367 ,  9.14740927, 10.47217978, 10.47217978,\n",
       "       10.87932388,  9.55528611, 10.77755867,  9.6572197 , 11.08281285,\n",
       "       10.67577961,  9.75913909,  9.04540432,  9.6572197 , 10.47217978,\n",
       "        9.35137623, 11.48962611, 10.77755867,  9.45333829,  9.6572197 ,\n",
       "        9.2493999 ,  9.55528611,  8.63724084,  9.04540432,  9.86104432,\n",
       "       13.41906363,  9.86104432,  9.6572197 , 10.57398666, 10.26852413,\n",
       "       10.67577961, 10.87932388,  8.84135136, 10.77755867, 10.06481239,\n",
       "        9.04540432,  8.84135136, 10.87932388, 10.87932388, 10.37035895,\n",
       "       12.09943887, 11.1845367 ,  9.6572197 ,  9.75913909, 10.47217978,\n",
       "       10.37035895,  8.33096676,  9.86104432,  8.22884644, 12.09943887,\n",
       "       10.16667528,  9.55528611, 10.26852413,  9.75913909, 11.38794329,\n",
       "        9.86104432, 11.69295099, 11.48962611, 10.67577961, 10.16667528,\n",
       "       11.28624683, 10.06481239,  9.2493999 , 10.47217978, 10.98107526,\n",
       "        9.86104432,  9.86104432, 10.57398666,  9.96293541, 11.08281285,\n",
       "        9.86104432,  9.6572197 ,  9.96293541, 10.47217978, 10.57398666,\n",
       "       12.09943887, 12.70877098,  9.6572197 , 10.26852413,  9.04540432,\n",
       "        9.86104432, 10.87932388,  9.86104432, 10.16667528, 10.77755867,\n",
       "       10.47217978,  8.02456223,  9.96293541, 10.98107526,  9.75913909,\n",
       "       10.26852413,  9.96293541,  9.75913909, 10.47217978, 11.08281285,\n",
       "       10.87932388, 10.47217978,  9.14740927, 10.87932388, 11.38794329,\n",
       "       10.98107526,  8.84135136,  9.45333829, 10.77755867,  9.35137623,\n",
       "       11.48962611, 10.87932388, 12.40416442,  9.86104432, 10.26852413,\n",
       "        9.86104432, 10.47217978, 10.98107526, 11.48962611,  9.86104432,\n",
       "       10.47217978, 10.77755867,  9.14740927, 10.26852413,  9.45333829,\n",
       "       12.20102735, 11.89622181, 12.30260252, 11.1845367 , 10.87932388,\n",
       "       12.40416442, 10.26852413,  9.35137623,  9.96293541,  9.75913909,\n",
       "        9.35137623, 10.57398666,  9.04540432, 11.99783703, 10.87932388,\n",
       "        9.14740927, 11.89622181, 11.89622181,  9.04540432,  9.75913909,\n",
       "        9.75913909,  9.86104432,  9.14740927,  9.96293541,  9.86104432,\n",
       "        9.75913909,  8.94338502,  9.2493999 ,  9.45333829,  9.86104432,\n",
       "       10.57398666,  9.75913909,  9.55528611,  9.35137623,  9.2493999 ,\n",
       "       10.57398666,  9.2493999 , 11.48962611, 10.47217978, 11.99783703,\n",
       "       11.48962611, 10.16667528,  9.35137623,  8.1267116 , 10.77755867,\n",
       "       11.69295099, 10.37035895,  9.55528611,  9.96293541, 12.09943887,\n",
       "       12.30260252,  9.2493999 , 10.06481239, 10.77755867, 11.79459314,\n",
       "       10.26852413, 10.16667528, 10.57398666,  9.96293541, 11.38794329,\n",
       "        9.35137623, 11.99783703, 10.87932388,  8.63724084, 11.69295099,\n",
       "       11.1845367 ,  8.63724084, 10.67577961, 10.37035895,  9.6572197 ,\n",
       "        9.96293541,  8.63724084, 10.57398666, 11.1845367 ,  9.96293541,\n",
       "        9.04540432, 10.16667528, 11.38794329, 10.98107526, 11.48962611,\n",
       "       11.48962611, 11.1845367 ,  9.75913909, 11.79459314, 10.16667528,\n",
       "        9.86104432,  8.84135136, 10.26852413,  8.53516394, 10.98107526,\n",
       "        9.96293541, 10.87932388, 10.87932388,  8.53516394,  9.75913909,\n",
       "       10.26852413, 10.98107526,  9.86104432, 11.38794329, 10.06481239,\n",
       "       11.59129533, 11.48962611,  8.43307259, 11.28624683, 12.30260252,\n",
       "       10.37035895, 10.06481239, 10.47217978, 10.16667528, 11.38794329,\n",
       "        9.86104432,  9.35137623, 11.1845367 , 10.16667528,  8.94338502,\n",
       "       10.16667528, 11.28624683, 10.37035895, 11.1845367 , 11.99783703,\n",
       "       10.47217978,  9.96293541,  9.35137623, 11.59129533, 10.57398666,\n",
       "       12.70877098, 10.37035895,  9.35137623, 10.16667528,  9.96293541,\n",
       "        9.86104432, 10.67577961, 11.28624683,  8.84135136, 10.87932388,\n",
       "       10.87932388, 10.26852413, 10.16667528,  9.86104432, 10.06481239,\n",
       "       10.77755867,  9.96293541,  7.82021981, 10.47217978, 10.37035895,\n",
       "        9.86104432, 10.26852413,  9.96293541, 11.89622181,  9.6572197 ,\n",
       "        8.63724084, 10.87932388,  7.71802671, 10.37035895, 11.59129533,\n",
       "        9.45333829,  9.45333829,  9.96293541, 10.06481239,  9.2493999 ,\n",
       "        9.55528611, 11.69295099, 11.08281285,  8.94338502,  9.35137623,\n",
       "        9.6572197 ,  9.86104432, 10.47217978, 11.59129533,  9.04540432,\n",
       "       11.48962611,  9.86104432, 11.28624683, 10.26852413,  9.86104432,\n",
       "       10.26852413, 10.26852413, 11.28624683,  9.14740927, 10.37035895,\n",
       "       10.77755867, 10.26852413, 12.40416442,  9.14740927, 10.06481239,\n",
       "       10.26852413, 10.26852413, 10.26852413,  9.96293541,  9.2493999 ,\n",
       "       10.57398666, 11.38794329, 11.38794329,  8.94338502, 10.98107526,\n",
       "        9.96293541, 10.67577961,  9.75913909, 10.26852413,  9.14740927,\n",
       "       10.87932388, 10.26852413, 10.06481239,  9.55528611,  8.94338502,\n",
       "       10.47217978,  9.35137623,  9.45333829, 10.06481239,  9.96293541,\n",
       "       10.37035895, 10.77755867,  8.84135136, 10.47217978, 10.37035895,\n",
       "        8.94338502,  8.84135136, 10.37035895, 11.08281285, 11.59129533,\n",
       "       10.47217978,  9.75913909, 10.57398666, 10.67577961,  9.86104432,\n",
       "       10.26852413, 10.77755867,  9.45333829, 10.77755867, 10.37035895,\n",
       "        9.2493999 , 11.59129533,  9.55528611, 10.67577961,  9.96293541,\n",
       "       11.48962611, 12.81028025, 10.06481239, 10.67577961,  9.86104432,\n",
       "        9.2493999 , 10.67577961,  9.45333829, 10.57398666, 10.37035895])"
      ]
     },
     "execution_count": 149,
     "metadata": {},
     "output_type": "execute_result"
    }
   ],
   "source": [
    "x.dot(np.linalg.matrix_power(m1.adj_matrix,2)) + 2 * x.dot(m1.sigma**2)"
   ]
  },
  {
   "cell_type": "code",
   "execution_count": 12,
   "metadata": {
    "ExecuteTime": {
     "end_time": "2020-11-19T01:04:37.476752Z",
     "start_time": "2020-11-19T01:04:37.398807Z"
    }
   },
   "outputs": [
    {
     "data": {
      "application/vnd.jupyter.widget-view+json": {
       "model_id": "6733b11e685d4a628744137e53b8c7ba",
       "version_major": 2,
       "version_minor": 0
      },
      "text/plain": [
       "HBox(children=(HTML(value=''), FloatProgress(value=0.0, max=300.0), HTML(value='')))"
      ]
     },
     "metadata": {},
     "output_type": "display_data"
    },
    {
     "name": "stdout",
     "output_type": "stream",
     "text": [
      "\n"
     ]
    },
    {
     "ename": "AttributeError",
     "evalue": "module 'jax.scipy.sparse' has no attribute 'csr_matrix'",
     "output_type": "error",
     "traceback": [
      "\u001b[0;31m---------------------------------------------------------------------------\u001b[0m",
      "\u001b[0;31mAttributeError\u001b[0m                            Traceback (most recent call last)",
      "\u001b[0;32m<ipython-input-12-f6c2b34c48ff>\u001b[0m in \u001b[0;36m<module>\u001b[0;34m\u001b[0m\n\u001b[1;32m      3\u001b[0m \u001b[0;32mfor\u001b[0m \u001b[0mi\u001b[0m \u001b[0;32min\u001b[0m \u001b[0mtrange\u001b[0m\u001b[0;34m(\u001b[0m\u001b[0mvals\u001b[0m\u001b[0;34m.\u001b[0m\u001b[0mshape\u001b[0m\u001b[0;34m[\u001b[0m\u001b[0;36m0\u001b[0m\u001b[0;34m]\u001b[0m\u001b[0;34m)\u001b[0m\u001b[0;34m:\u001b[0m\u001b[0;34m\u001b[0m\u001b[0;34m\u001b[0m\u001b[0m\n\u001b[1;32m      4\u001b[0m     \u001b[0mradj\u001b[0m \u001b[0;34m=\u001b[0m \u001b[0mm1\u001b[0m\u001b[0;34m.\u001b[0m\u001b[0msample\u001b[0m\u001b[0;34m(\u001b[0m\u001b[0;34m)\u001b[0m\u001b[0;34m\u001b[0m\u001b[0;34m\u001b[0m\u001b[0m\n\u001b[0;32m----> 5\u001b[0;31m     \u001b[0mvals\u001b[0m\u001b[0;34m[\u001b[0m\u001b[0mi\u001b[0m\u001b[0;34m,\u001b[0m\u001b[0;34m:\u001b[0m\u001b[0;34m]\u001b[0m \u001b[0;34m=\u001b[0m \u001b[0mpropagate_nstep\u001b[0m\u001b[0;34m(\u001b[0m\u001b[0mradj\u001b[0m\u001b[0;34m,\u001b[0m\u001b[0mx\u001b[0m\u001b[0;34m,\u001b[0m\u001b[0mlength\u001b[0m\u001b[0;34m)\u001b[0m\u001b[0;34m\u001b[0m\u001b[0;34m\u001b[0m\u001b[0m\n\u001b[0m",
      "\u001b[0;32m<ipython-input-9-fcff6c802246>\u001b[0m in \u001b[0;36mpropagate_nstep\u001b[0;34m(adj, x, n)\u001b[0m\n\u001b[1;32m      1\u001b[0m \u001b[0;32mdef\u001b[0m \u001b[0mpropagate_nstep\u001b[0m\u001b[0;34m(\u001b[0m\u001b[0madj\u001b[0m\u001b[0;34m,\u001b[0m\u001b[0mx\u001b[0m\u001b[0;34m,\u001b[0m\u001b[0mn\u001b[0m\u001b[0;34m)\u001b[0m\u001b[0;34m:\u001b[0m\u001b[0;34m\u001b[0m\u001b[0;34m\u001b[0m\u001b[0m\n\u001b[0;32m----> 2\u001b[0;31m     \u001b[0mspadj\u001b[0m \u001b[0;34m=\u001b[0m \u001b[0msp\u001b[0m\u001b[0;34m.\u001b[0m\u001b[0mcsr_matrix\u001b[0m\u001b[0;34m(\u001b[0m\u001b[0madj\u001b[0m\u001b[0;34m)\u001b[0m\u001b[0;34m**\u001b[0m\u001b[0mn\u001b[0m\u001b[0;34m\u001b[0m\u001b[0;34m\u001b[0m\u001b[0m\n\u001b[0m\u001b[1;32m      3\u001b[0m     \u001b[0;32mreturn\u001b[0m \u001b[0mspadj\u001b[0m\u001b[0;34m.\u001b[0m\u001b[0mT\u001b[0m\u001b[0;34m.\u001b[0m\u001b[0mdot\u001b[0m\u001b[0;34m(\u001b[0m\u001b[0mx\u001b[0m\u001b[0;34m)\u001b[0m\u001b[0;34m\u001b[0m\u001b[0;34m\u001b[0m\u001b[0m\n",
      "\u001b[0;31mAttributeError\u001b[0m: module 'jax.scipy.sparse' has no attribute 'csr_matrix'"
     ]
    }
   ],
   "source": [
    "length = 1\n",
    "vals = np.zeros([300,1000])\n",
    "for i in trange(vals.shape[0]):\n",
    "    radj = m1.sample()\n",
    "    vals[i,:] = propagate_nstep(radj,x,length)"
   ]
  },
  {
   "cell_type": "code",
   "execution_count": 146,
   "metadata": {
    "ExecuteTime": {
     "end_time": "2020-11-15T18:51:33.539505Z",
     "start_time": "2020-11-15T18:51:31.231412Z"
    }
   },
   "outputs": [
    {
     "data": {
      "text/plain": [
       "10079.792185331708"
      ]
     },
     "execution_count": 146,
     "metadata": {},
     "output_type": "execute_result"
    }
   ],
   "source": [
    "propagate_nstep_corr2(m1.adj_matrix,x,length)"
   ]
  },
  {
   "cell_type": "code",
   "execution_count": 147,
   "metadata": {
    "ExecuteTime": {
     "end_time": "2020-11-15T18:51:48.928339Z",
     "start_time": "2020-11-15T18:51:48.923460Z"
    }
   },
   "outputs": [
    {
     "data": {
      "text/plain": [
       "10113.623333333333"
      ]
     },
     "execution_count": 147,
     "metadata": {},
     "output_type": "execute_result"
    }
   ],
   "source": [
    "vals.sum(axis=1).mean()"
   ]
  },
  {
   "cell_type": "code",
   "execution_count": 143,
   "metadata": {
    "ExecuteTime": {
     "end_time": "2020-11-15T18:51:20.159395Z",
     "start_time": "2020-11-15T18:51:17.832696Z"
    }
   },
   "outputs": [
    {
     "data": {
      "text/plain": [
       "10079.792185331708"
      ]
     },
     "execution_count": 143,
     "metadata": {},
     "output_type": "execute_result"
    }
   ],
   "source": [
    "propagate_nstep_corr(m1.adj_matrix,x,length)"
   ]
  },
  {
   "cell_type": "code",
   "execution_count": null,
   "metadata": {},
   "outputs": [],
   "source": [
    "plt.plot(vals.mean(axis=0),x.dot(np.linalg.matrix_power(m1.adj_matrix,2)) + x * (m1.sigma**2).sum(axis=0),'.')\n",
    "plt.plot(plt.xlim(),plt.xlim())"
   ]
  },
  {
   "cell_type": "code",
   "execution_count": 148,
   "metadata": {
    "ExecuteTime": {
     "end_time": "2020-11-15T21:46:07.622281Z",
     "start_time": "2020-11-15T21:46:05.203263Z"
    }
   },
   "outputs": [
    {
     "data": {
      "text/plain": [
       "[<matplotlib.lines.Line2D at 0x7fc206f19e48>]"
      ]
     },
     "execution_count": 148,
     "metadata": {},
     "output_type": "execute_result"
    },
    {
     "data": {
      "image/png": "[encoded data removed]",
      "text/plain": [
       "<Figure size 432x288 with 1 Axes>"
      ]
     },
     "metadata": {
      "needs_background": "light"
     },
     "output_type": "display_data"
    }
   ],
   "source": [
    "plt.plot(vals.mean(axis=0),propagate_nstep_corr(m1.adj_matrix,x,length),'.')\n",
    "plt.plot(plt.xlim(),plt.xlim())"
   ]
  },
  {
   "cell_type": "code",
   "execution_count": 126,
   "metadata": {
    "ExecuteTime": {
     "end_time": "2020-11-15T00:47:22.835476Z",
     "start_time": "2020-11-15T00:47:22.830125Z"
    }
   },
   "outputs": [
    {
     "data": {
      "text/plain": [
       "9.898395532469255"
      ]
     },
     "execution_count": 126,
     "metadata": {},
     "output_type": "execute_result"
    }
   ],
   "source": [
    "(m1.adj_matrix[i,:]**2).sum()"
   ]
  },
  {
   "cell_type": "code",
   "execution_count": 11,
   "metadata": {
    "ExecuteTime": {
     "end_time": "2020-11-19T01:04:32.564611Z",
     "start_time": "2020-11-19T01:04:32.561053Z"
    }
   },
   "outputs": [],
   "source": [
    "x = np.zeros(1000)\n",
    "y = np.zeros(1000)\n",
    "x[:20] = 1.\n",
    "y[100:110]=1."
   ]
  },
  {
   "cell_type": "code",
   "execution_count": 27,
   "metadata": {
    "ExecuteTime": {
     "end_time": "2020-11-13T23:42:53.264102Z",
     "start_time": "2020-11-13T23:42:53.256676Z"
    }
   },
   "outputs": [
    {
     "data": {
      "text/plain": [
       "12623701.802730799"
      ]
     },
     "execution_count": 27,
     "metadata": {},
     "output_type": "execute_result"
    }
   ],
   "source": [
    "ges['proteins','proteins'].predict_mean(obs.SumOfPaths(x,y,3))"
   ]
  },
  {
   "cell_type": "code",
   "execution_count": 50,
   "metadata": {
    "ExecuteTime": {
     "end_time": "2020-11-13T23:59:54.261926Z",
     "start_time": "2020-11-13T23:59:54.248578Z"
    }
   },
   "outputs": [
    {
     "ename": "NameError",
     "evalue": "name 'adj' is not defined",
     "output_type": "error",
     "traceback": [
      "\u001b[0;31m---------------------------------------------------------------------------\u001b[0m",
      "\u001b[0;31mNameError\u001b[0m                                 Traceback (most recent call last)",
      "\u001b[0;32m<ipython-input-50-ab301fd06e13>\u001b[0m in \u001b[0;36m<module>\u001b[0;34m\u001b[0m\n\u001b[0;32m----> 1\u001b[0;31m \u001b[0;34m(\u001b[0m\u001b[0msp\u001b[0m\u001b[0;34m.\u001b[0m\u001b[0mcsr_matrix\u001b[0m\u001b[0;34m(\u001b[0m\u001b[0madj\u001b[0m\u001b[0;34m)\u001b[0m\u001b[0;34m**\u001b[0m\u001b[0;36m1\u001b[0m\u001b[0;34m)\u001b[0m\u001b[0;34m.\u001b[0m\u001b[0mtodense\u001b[0m\u001b[0;34m(\u001b[0m\u001b[0;34m)\u001b[0m\u001b[0;34m\u001b[0m\u001b[0;34m\u001b[0m\u001b[0m\n\u001b[0m",
      "\u001b[0;31mNameError\u001b[0m: name 'adj' is not defined"
     ]
    }
   ],
   "source": [
    "(sp.csr_matrix(adj)**1).todense()"
   ]
  },
  {
   "cell_type": "code",
   "execution_count": 60,
   "metadata": {
    "ExecuteTime": {
     "end_time": "2020-11-14T00:10:47.034471Z",
     "start_time": "2020-11-14T00:10:47.029769Z"
    }
   },
   "outputs": [],
   "source": [
    "def sumofpaths(adj,l):\n",
    "    padj = sp.csr_matrix(adj)\n",
    "    xpow = x\n",
    "    for i in range(l):\n",
    "        xpow = padj.dot(xpow)\n",
    "    return (xpow*y).sum()"
   ]
  },
  {
   "cell_type": "code",
   "execution_count": 89,
   "metadata": {
    "ExecuteTime": {
     "end_time": "2020-11-14T23:45:27.900140Z",
     "start_time": "2020-11-14T23:45:27.896168Z"
    }
   },
   "outputs": [],
   "source": [
    "def sumofpaths2(adj,l):\n",
    "    padj = sp.csr_matrix(adj)\n",
    "    xpow = x\n",
    "    for i in range(l):\n",
    "        xpow = padj.dot(xpow)\n",
    "    return xpow"
   ]
  },
  {
   "cell_type": "code",
   "execution_count": 99,
   "metadata": {
    "ExecuteTime": {
     "end_time": "2020-11-15T00:24:47.768172Z",
     "start_time": "2020-11-15T00:24:47.764776Z"
    }
   },
   "outputs": [],
   "source": [
    "def sumofpaths3(adj,l):\n",
    "    padj = np.linalg.matrix_power(adj,l)\n",
    "    #np.fill_diagonal(padj,np.diag(adj))\n",
    "    return x.dot(padj)"
   ]
  },
  {
   "cell_type": "code",
   "execution_count": 108,
   "metadata": {
    "ExecuteTime": {
     "end_time": "2020-11-15T00:28:48.692464Z",
     "start_time": "2020-11-15T00:28:48.688145Z"
    }
   },
   "outputs": [],
   "source": [
    "def propagate_nstep(adj,n):\n",
    "    p = sp.csr_matrix(adj)#utils.normalize_rows(adj.tocsr())\n",
    "    y = x.copy()\n",
    "    x0 = x.dot(np.eye(N))\n",
    "    for t in range(n):\n",
    "        y = p.T.dot(y)\n",
    "    return y"
   ]
  },
  {
   "cell_type": "code",
   "execution_count": 81,
   "metadata": {
    "ExecuteTime": {
     "end_time": "2020-11-14T07:22:16.981043Z",
     "start_time": "2020-11-14T07:22:16.634898Z"
    }
   },
   "outputs": [
    {
     "data": {
      "image/png": "[encoded data removed]",
      "text/plain": [
       "<Figure size 432x288 with 2 Axes>"
      ]
     },
     "metadata": {
      "needs_background": "light"
     },
     "output_type": "display_data"
    }
   ],
   "source": [
    "plot_adj(m1.sample())"
   ]
  },
  {
   "cell_type": "code",
   "execution_count": 87,
   "metadata": {
    "ExecuteTime": {
     "end_time": "2020-11-14T23:43:53.161317Z",
     "start_time": "2020-11-14T23:43:53.156374Z"
    }
   },
   "outputs": [
    {
     "data": {
      "text/plain": [
       "array([[0.        , 0.32321591, 0.3143452 , ..., 0.31820426, 0.31820426,\n",
       "        0.31303901],\n",
       "       [0.32321591, 0.        , 0.30419627, ..., 0.30816285, 0.30816285,\n",
       "        0.3028547 ],\n",
       "       [0.3143452 , 0.30419627, 0.        , ..., 0.29891644, 0.29891644,\n",
       "        0.29349022],\n",
       "       ...,\n",
       "       [0.31820426, 0.30816285, 0.29891644, ..., 0.        , 0.30293449,\n",
       "        0.29755798],\n",
       "       [0.31820426, 0.30816285, 0.29891644, ..., 0.30293449, 0.        ,\n",
       "        0.29755798],\n",
       "       [0.31303901, 0.3028547 , 0.29349022, ..., 0.29755798, 0.29755798,\n",
       "        0.        ]])"
      ]
     },
     "execution_count": 87,
     "metadata": {},
     "output_type": "execute_result"
    }
   ],
   "source": [
    "m1.sigma"
   ]
  },
  {
   "cell_type": "code",
   "execution_count": 85,
   "metadata": {
    "ExecuteTime": {
     "end_time": "2020-11-14T07:26:03.193649Z",
     "start_time": "2020-11-14T07:26:02.989492Z"
    }
   },
   "outputs": [
    {
     "data": {
      "text/plain": [
       "[<matplotlib.lines.Line2D at 0x7fc21e84dba8>]"
      ]
     },
     "execution_count": 85,
     "metadata": {},
     "output_type": "execute_result"
    },
    {
     "data": {
      "image/png": "[encoded data removed]",
      "text/plain": [
       "<Figure size 432x288 with 1 Axes>"
      ]
     },
     "metadata": {
      "needs_background": "light"
     },
     "output_type": "display_data"
    }
   ],
   "source": [
    "plt.plot(m1.adj_matrix.sum(axis=0), m1.sample().sum(axis=0),'.')\n",
    "plt.plot(plt.xlim(),plt.xlim())"
   ]
  },
  {
   "cell_type": "code",
   "execution_count": 82,
   "metadata": {
    "ExecuteTime": {
     "end_time": "2020-11-14T07:22:30.350911Z",
     "start_time": "2020-11-14T07:22:30.011353Z"
    }
   },
   "outputs": [
    {
     "data": {
      "image/png": "[encoded data removed]",
      "text/plain": [
       "<Figure size 432x288 with 2 Axes>"
      ]
     },
     "metadata": {
      "needs_background": "light"
     },
     "output_type": "display_data"
    }
   ],
   "source": [
    "plot_adj(m1.adj_matrix)"
   ]
  },
  {
   "cell_type": "code",
   "execution_count": 71,
   "metadata": {
    "ExecuteTime": {
     "end_time": "2020-11-14T07:11:24.927522Z",
     "start_time": "2020-11-14T07:11:24.853307Z"
    }
   },
   "outputs": [
    {
     "data": {
      "text/plain": [
       "array([116.00120765, 107.84010291, 100.69434009,  96.60898673,\n",
       "       103.75736677,  96.60898673, 109.88092062, 101.71544252,\n",
       "       109.88092062, 102.73645129, 100.68508627, 104.76732334,\n",
       "       101.7058001 , 100.68508627, 111.90731734, 118.02342565,\n",
       "        97.62232178,  86.38407106,  87.40626339, 117.00431931,\n",
       "       105.78762617, 102.72641066,  93.5371702 ,  97.62232178,\n",
       "       100.68508627, 103.74691829, 101.7058001 , 105.78762617,\n",
       "        97.62232178, 105.78762617,  97.62232178,  97.62232178,\n",
       "       109.86782266,  91.49396081, 130.24526427,  90.4721967 ,\n",
       "       108.84792501,  86.38407106,  92.51561855,  98.64334744,\n",
       "        95.5799564 ,  99.66426882,  89.45032594,  83.31684677,\n",
       "       112.92691517, 102.72641066, 119.04243499,  91.49396081,\n",
       "       103.74691829, 111.90731734, 106.80782715, 105.78762617,\n",
       "       112.92691517, 106.80782715, 102.72641066, 109.86782266,\n",
       "       106.80782715, 112.92691517, 104.76732334, 104.76732334,\n",
       "       100.68508627,  98.64334744, 103.74691829,  94.55861605,\n",
       "       114.96581384,  87.40626339, 109.86782266, 102.72641066,\n",
       "        96.60119154, 105.78762617, 117.00431931,  96.60119154,\n",
       "       117.00431931, 103.74691829, 106.80782715, 124.13604209,\n",
       "        95.5799564 ,  83.31684677,  86.38407106,  96.60119154,\n",
       "        86.38407106, 103.74691829, 121.0801644 ,  93.5371702 ,\n",
       "        83.31684677, 118.02342565,  96.60119154, 118.02342565,\n",
       "        85.36177102, 119.04243499, 125.15447877, 105.78762617,\n",
       "        84.33936301,  98.64334744, 119.04243499,  99.66426882,\n",
       "       109.86782266, 109.86782266, 105.78762617,  98.64334744,\n",
       "        97.62232178,  98.64334744,  96.60119154,  99.66426882,\n",
       "       104.76732334, 111.90731734,  94.55861605,  99.66426882,\n",
       "       106.80782715, 107.82792663, 107.82792663, 107.82792663,\n",
       "       105.78762617,  96.60119154, 105.78762617, 111.90731734,\n",
       "       111.90731734, 109.86782266,  91.49396081, 102.72641066,\n",
       "        96.60119154, 105.78762617,  87.40626339,  89.45032594,\n",
       "        98.64334744,  98.64334744, 108.84792501, 118.02342565,\n",
       "        96.60119154,  99.66426882, 117.00431931, 120.06134776,\n",
       "       122.09888536,  97.62232178, 104.76732334, 103.74691829,\n",
       "        93.5371702 ,  90.4721967 , 101.7058001 , 103.74691829,\n",
       "        90.4721967 , 107.82792663,  89.45032594, 103.74691829,\n",
       "        98.64334744, 102.72641066,  99.66426882, 114.96581384,\n",
       "       104.76732334, 101.7058001 , 105.78762617, 103.74691829,\n",
       "        97.62232178, 103.74691829, 102.72641066, 112.92691517,\n",
       "       103.74691829, 106.80782715,  99.66426882,  94.55861605,\n",
       "       103.74691829, 105.78762617, 115.98511551,  93.5371702 ,\n",
       "        88.42834826, 106.80782715,  97.62232178,  83.31684677,\n",
       "       107.82792663, 102.72641066,  99.66426882, 100.68508627,\n",
       "       103.74691829, 109.86782266, 101.7058001 , 109.86782266,\n",
       "       115.98511551,  83.31684677,  84.33936301,  94.55861605,\n",
       "       124.13604209, 109.86782266, 121.0801644 , 102.72641066,\n",
       "        92.51561855, 108.84792501, 101.7058001 ,  93.5371702 ,\n",
       "       107.82792663, 104.76732334, 120.06134776, 104.76732334,\n",
       "       119.04243499, 119.04243499,  92.51561855,  87.40626339,\n",
       "        97.62232178,  97.62232178, 114.96581384,  95.5799564 ,\n",
       "        99.66426882, 108.84792501, 111.90731734,  86.38407106,\n",
       "        99.66426882,  93.5371702 ,  99.66426882, 120.06134776,\n",
       "        96.60119154, 110.88761997, 112.92691517,  97.62232178,\n",
       "       118.02342565, 121.0801644 ,  97.62232178, 106.80782715,\n",
       "       125.15447877, 102.72641066,  90.4721967 , 107.82792663,\n",
       "        99.66426882, 113.94641386, 111.90731734, 106.80782715,\n",
       "       122.09888536,  85.36177102, 105.78762617, 128.20922775,\n",
       "        79.22569453,  84.33936301, 113.94641386, 102.72641066,\n",
       "        77.17946255, 106.80782715,  72.06195333, 103.74691829,\n",
       "       123.11751111,  95.5799564 ,  94.55861605,  98.64334744,\n",
       "        93.5371702 ,  96.60119154,  92.51561855, 111.90731734,\n",
       "       104.76732334,  90.4721967 , 107.82792663,  98.64334744,\n",
       "       108.84792501,  95.5799564 ,  90.4721967 ,  87.40626339,\n",
       "        99.66426882,  97.62232178,  96.60119154, 106.80782715,\n",
       "       106.80782715, 102.72641066, 106.80782715, 107.82792663,\n",
       "       103.74691829, 106.80782715, 102.72641066,  93.5371702 ,\n",
       "       105.78762617,  97.62232178, 107.82792663, 109.86782266,\n",
       "       103.74691829,  98.64334744, 122.09888536, 109.86782266,\n",
       "        93.5371702 , 115.98511551, 106.80782715,  97.62232178,\n",
       "        86.38407106, 107.82792663,  98.64334744, 102.72641066,\n",
       "       119.04243499,  99.66426882, 103.74691829, 106.80782715,\n",
       "       114.96581384, 107.82792663, 103.74691829,  96.60119154,\n",
       "        85.36177102,  95.5799564 , 103.74691829, 102.72641066,\n",
       "        94.55861605, 103.74691829, 100.68508627, 103.74691829,\n",
       "        96.60119154, 101.7058001 ,  91.49396081, 109.86782266,\n",
       "       104.76732334,  90.4721967 , 110.88761997, 125.15447877,\n",
       "       101.7058001 , 100.68508627,  90.4721967 , 105.78762617,\n",
       "       105.78762617,  92.51561855, 117.00431931,  94.55861605,\n",
       "        98.64334744,  82.29422205, 106.80782715, 119.04243499,\n",
       "        90.4721967 ,  84.33936301,  85.36177102, 100.68508627,\n",
       "       102.72641066,  99.66426882,  98.64334744,  92.51561855,\n",
       "       106.80782715,  91.49396081,  92.51561855, 100.68508627,\n",
       "       107.82792663, 117.00431931, 100.68508627, 105.78762617,\n",
       "       110.88761997,  83.31684677, 114.96581384,  92.51561855,\n",
       "        99.66426882, 120.06134776, 101.7058001 , 105.78762617,\n",
       "        80.24864618, 108.84792501,  94.55861605, 103.74691829,\n",
       "        99.66426882, 101.7058001 ,  98.64334744, 119.04243499,\n",
       "       101.7058001 , 101.7058001 , 121.0801644 , 115.98511551,\n",
       "       108.84792501,  98.64334744,  92.51561855,  92.51561855,\n",
       "       101.7058001 , 103.74691829,  92.51561855, 102.72641066,\n",
       "       111.90731734, 100.68508627,  81.27148861, 123.11751111,\n",
       "        88.42834826,  99.66426882,  92.51561855,  93.5371702 ,\n",
       "       102.72641066, 112.92691517, 105.78762617,  88.42834826,\n",
       "       100.68508627,  81.27148861, 108.84792501, 120.06134776,\n",
       "       106.80782715, 100.68508627, 106.80782715, 122.09888536,\n",
       "       105.78762617, 127.19107113, 114.96581384, 102.72641066,\n",
       "        87.40626339, 101.7058001 ,  94.55861605, 105.78762617,\n",
       "       109.86782266,  85.36177102, 104.76732334, 126.17282163,\n",
       "       106.80782715, 105.78762617, 109.86782266,  77.17946255,\n",
       "       114.96581384, 114.96581384, 113.94641386,  94.55861605,\n",
       "        93.5371702 ,  91.49396081, 104.76732334, 123.11751111,\n",
       "        98.64334744, 106.80782715, 111.90731734,  96.60119154,\n",
       "        88.42834826, 114.96581384,  92.51561855, 106.80782715,\n",
       "       108.84792501, 107.82792663,  95.5799564 ,  98.64334744,\n",
       "       105.78762617,  97.62232178, 108.84792501, 103.74691829,\n",
       "        93.5371702 , 104.76732334, 108.84792501, 106.80782715,\n",
       "       110.88761997,  99.66426882, 100.68508627,  97.62232178,\n",
       "       100.68508627,  86.38407106, 110.88761997,  86.38407106,\n",
       "       113.94641386, 114.96581384, 100.68508627, 102.72641066,\n",
       "       100.68508627,  83.31684677, 119.04243499,  93.5371702 ,\n",
       "       104.76732334, 108.84792501, 109.86782266,  98.64334744,\n",
       "       101.7058001 , 113.94641386, 104.76732334, 112.92691517,\n",
       "       100.68508627,  81.27148861, 100.68508627, 105.78762617,\n",
       "       100.68508627, 110.88761997, 104.76732334, 124.13604209,\n",
       "       112.92691517, 112.92691517,  91.49396081,  96.60119154,\n",
       "        93.5371702 ,  96.60119154, 106.80782715, 122.09888536,\n",
       "        88.42834826, 109.86782266,  99.66426882,  98.64334744,\n",
       "       102.72641066, 102.72641066, 105.78762617,  94.55861605,\n",
       "        96.60119154, 119.04243499, 108.84792501, 105.78762617,\n",
       "        92.51561855, 107.82792663,  95.5799564 , 103.74691829,\n",
       "       102.72641066,  91.49396081,  97.62232178, 109.86782266,\n",
       "        93.5371702 , 100.68508627, 101.7058001 ,  85.36177102,\n",
       "       107.82792663, 121.0801644 ,  97.62232178,  76.15618171,\n",
       "       101.7058001 , 105.78762617, 100.68508627, 111.90731734,\n",
       "        94.55861605, 104.76732334, 121.0801644 ,  99.66426882,\n",
       "        97.62232178,  86.38407106, 108.84792501,  96.60119154,\n",
       "        98.64334744, 104.76732334,  97.62232178,  80.24864618,\n",
       "        91.49396081, 105.78762617, 108.84792501,  99.66426882,\n",
       "       104.76732334, 108.84792501, 107.82792663,  80.24864618,\n",
       "       111.90731734, 107.82792663, 103.74691829,  94.55861605,\n",
       "       112.92691517, 103.74691829, 118.02342565,  97.62232178,\n",
       "       102.72641066, 109.86782266, 102.72641066,  99.66426882,\n",
       "        95.5799564 ,  98.64334744, 111.90731734,  97.62232178,\n",
       "       111.90731734, 103.74691829, 101.7058001 ,  91.49396081,\n",
       "        97.62232178, 114.96581384,  83.31684677,  96.60119154,\n",
       "        96.60119154,  97.62232178, 104.76732334, 104.76732334,\n",
       "        91.49396081, 100.68508627, 107.82792663, 106.80782715,\n",
       "        90.4721967 , 101.7058001 , 110.88761997,  87.40626339,\n",
       "       107.82792663,  96.60119154, 107.82792663, 101.7058001 ,\n",
       "        96.60119154, 118.02342565, 107.82792663, 118.02342565,\n",
       "       100.68508627, 119.04243499,  98.64334744,  95.5799564 ,\n",
       "        93.5371702 , 103.74691829, 105.78762617,  95.5799564 ,\n",
       "        92.51561855,  91.49396081,  99.66426882, 113.94641386,\n",
       "       110.88761997, 120.06134776, 102.72641066,  87.40626339,\n",
       "       100.68508627, 109.86782266,  79.22569453,  91.49396081,\n",
       "       119.04243499, 107.82792663,  94.55861605, 101.7058001 ,\n",
       "       110.88761997,  98.64334744,  93.5371702 , 102.72641066,\n",
       "        84.33936301,  88.42834826, 110.88761997, 101.7058001 ,\n",
       "        93.5371702 ,  98.64334744,  96.60119154, 100.68508627,\n",
       "        96.60119154, 106.80782715, 117.00431931, 110.88761997,\n",
       "       115.98511551, 109.86782266,  98.64334744,  90.4721967 ,\n",
       "       115.98511551, 107.82792663,  96.60119154,  97.62232178,\n",
       "       104.76732334, 109.86782266,  95.5799564 , 111.90731734,\n",
       "       106.80782715, 112.92691517,  91.49396081, 101.7058001 ,\n",
       "       118.02342565, 112.92691517,  88.42834826,  99.66426882,\n",
       "       108.84792501, 110.88761997, 109.86782266, 106.80782715,\n",
       "       109.86782266,  96.60119154, 125.15447877, 104.76732334,\n",
       "       103.74691829, 121.0801644 ,  90.4721967 , 108.84792501,\n",
       "       103.74691829, 114.96581384,  97.62232178,  93.5371702 ,\n",
       "       103.74691829,  98.64334744, 127.19107113,  92.51561855,\n",
       "       109.86782266,  93.5371702 , 107.82792663, 104.76732334,\n",
       "       101.7058001 , 109.86782266, 102.72641066,  99.66426882,\n",
       "       107.82792663, 105.78762617,  99.66426882,  97.62232178,\n",
       "       100.68508627,  92.51561855, 109.86782266, 104.76732334,\n",
       "       101.7058001 , 106.80782715,  93.5371702 , 101.7058001 ,\n",
       "       105.78762617, 107.82792663,  97.62232178,  97.62232178,\n",
       "       105.78762617,  95.5799564 , 113.94641386, 102.72641066,\n",
       "       107.82792663, 115.98511551,  88.42834826, 108.84792501,\n",
       "        86.38407106, 100.68508627,  89.45032594, 100.68508627,\n",
       "       119.04243499, 102.72641066, 121.0801644 , 103.74691829,\n",
       "        98.64334744, 101.7058001 ,  94.55861605, 103.74691829,\n",
       "       107.82792663, 108.84792501, 122.09888536, 103.74691829,\n",
       "       118.02342565,  99.66426882,  95.5799564 , 105.78762617,\n",
       "       115.98511551, 105.78762617, 111.90731734,  97.62232178,\n",
       "        77.17946255, 120.06134776, 104.76732334, 111.90731734,\n",
       "       100.68508627, 108.84792501,  85.36177102, 102.72641066,\n",
       "       104.76732334, 112.92691517,  92.51561855,  95.5799564 ,\n",
       "       108.84792501, 113.94641386,  97.62232178, 106.80782715,\n",
       "        95.5799564 ,  99.66426882,  98.64334744, 105.78762617,\n",
       "        91.49396081, 107.82792663,  99.66426882, 111.90731734,\n",
       "       112.92691517,  94.55861605,  92.51561855, 105.78762617,\n",
       "        92.51561855, 114.96581384, 117.00431931,  99.66426882,\n",
       "       114.96581384, 118.02342565,  99.66426882,  90.4721967 ,\n",
       "        94.55861605, 123.11751111, 104.76732334,  89.45032594,\n",
       "       106.80782715,  98.64334744,  95.5799564 , 114.96581384,\n",
       "        99.66426882,  97.62232178, 107.82792663,  98.64334744,\n",
       "       101.7058001 , 112.92691517, 104.76732334,  89.45032594,\n",
       "        92.51561855, 100.68508627,  86.38407106, 103.74691829,\n",
       "       107.82792663, 109.86782266, 104.76732334,  97.62232178,\n",
       "       112.92691517,  95.5799564 ,  97.62232178, 114.96581384,\n",
       "        96.60119154, 115.98511551, 114.96581384,  98.64334744,\n",
       "        88.42834826,  95.5799564 ,  98.64334744, 100.68508627,\n",
       "        91.49396081, 104.76732334, 122.09888536,  83.31684677,\n",
       "        91.49396081,  98.64334744, 106.80782715, 100.68508627,\n",
       "       117.00431931, 106.80782715, 111.90731734, 120.06134776,\n",
       "       104.76732334, 101.7058001 ,  95.5799564 ,  91.49396081,\n",
       "        96.60119154, 100.68508627, 107.82792663, 109.86782266,\n",
       "        95.5799564 , 117.00431931,  91.49396081, 102.72641066,\n",
       "       107.82792663,  94.55861605, 113.94641386, 108.84792501,\n",
       "        94.55861605, 104.76732334, 104.76732334, 107.82792663,\n",
       "        89.45032594, 113.94641386, 103.74691829,  94.55861605,\n",
       "       102.72641066,  86.38407106,  90.4721967 , 104.76732334,\n",
       "        83.31684677, 114.96581384, 101.7058001 , 119.04243499,\n",
       "        97.62232178,  92.51561855,  94.55861605,  88.42834826,\n",
       "        95.5799564 , 101.7058001 ,  83.31684677, 110.88761997,\n",
       "       125.15447877,  81.27148861, 100.68508627, 100.68508627,\n",
       "       102.72641066, 102.72641066, 104.76732334,  97.62232178,\n",
       "       108.84792501, 124.13604209,  79.22569453,  92.51561855,\n",
       "       107.82792663, 120.06134776, 105.78762617, 119.04243499,\n",
       "       101.7058001 , 104.76732334, 105.78762617, 105.78762617,\n",
       "       105.78762617, 104.76732334,  97.62232178,  95.5799564 ,\n",
       "        94.55861605,  85.36177102,  91.49396081, 101.7058001 ,\n",
       "       115.98511551, 102.72641066, 102.72641066, 102.72641066,\n",
       "        99.66426882, 108.84792501, 106.80782715, 100.68508627,\n",
       "        96.60119154, 103.74691829,  86.38407106, 103.74691829,\n",
       "       112.92691517, 114.96581384, 104.76732334, 114.96581384,\n",
       "        90.4721967 , 109.86782266,  91.49396081, 104.76732334,\n",
       "       112.92691517, 103.74691829,  94.55861605, 114.96581384,\n",
       "       110.88761997,  94.55861605, 104.76732334, 100.68508627,\n",
       "        96.60119154,  85.36177102, 106.80782715,  89.45032594,\n",
       "       103.74691829, 104.76732334, 103.74691829,  84.33936301,\n",
       "        93.5371702 , 114.96581384,  93.5371702 ,  96.60119154,\n",
       "        91.49396081, 101.7058001 , 104.76732334,  99.66426882,\n",
       "       114.96581384,  90.4721967 ,  83.31684677, 105.78762617,\n",
       "       112.92691517,  77.17946255, 121.0801644 ,  93.5371702 ,\n",
       "        95.5799564 , 101.7058001 ,  99.66426882,  88.42834826,\n",
       "        96.60119154, 106.80782715,  96.60119154, 110.88761997,\n",
       "       101.7058001 , 105.78762617, 101.7058001 , 112.92691517,\n",
       "        80.24864618,  93.5371702 ,  96.60119154, 109.86782266,\n",
       "        99.66426882,  95.5799564 , 106.80782715, 106.80782715,\n",
       "        94.55861605, 119.04243499, 114.96581384,  92.51561855,\n",
       "        91.49396081, 101.7058001 , 105.78762617, 103.74691829,\n",
       "       114.96581384, 103.74691829, 120.06134776,  87.40626339,\n",
       "        96.60119154, 101.7058001 , 113.94641386,  97.62232178,\n",
       "       105.78762617, 112.92691517, 111.90731734,  92.51561855,\n",
       "       105.78762617, 120.06134776,  95.5799564 , 104.76732334,\n",
       "        99.66426882,  99.66426882, 100.68508627,  92.51561855,\n",
       "       106.80782715,  98.64334744, 100.68508627,  99.66426882,\n",
       "        95.5799564 , 109.86782266, 114.96581384,  97.62232178,\n",
       "       112.92691517, 118.02342565, 127.19107113,  97.62232178,\n",
       "       101.7058001 ,  93.5371702 ,  91.49396081, 122.09888536,\n",
       "       103.74691829, 102.72641066,  98.64334744,  87.40626339,\n",
       "        99.66426882,  89.45032594,  93.5371702 , 115.98511551,\n",
       "       106.80782715, 105.78762617,  83.31684677, 100.68508627,\n",
       "       105.78762617,  91.49396081, 100.68508627,  88.42834826,\n",
       "       114.96581384, 111.90731734, 122.09888536, 112.92691517,\n",
       "        98.64334744, 126.17282163, 106.80782715,  85.36177102,\n",
       "        98.64334744,  99.66426882, 117.00431931,  88.42834826,\n",
       "        90.4721967 ,  98.64334744, 123.11751111,  97.62232178,\n",
       "        94.55861605, 103.74691829, 103.74691829,  99.66426882])"
      ]
     },
     "execution_count": 71,
     "metadata": {},
     "output_type": "execute_result"
    }
   ],
   "source": [
    "plt.plot(sumofpaths2(m1.adj_matrix,2),"
   ]
  },
  {
   "cell_type": "code",
   "execution_count": 10,
   "metadata": {
    "ExecuteTime": {
     "end_time": "2020-11-14T01:27:55.464411Z",
     "start_time": "2020-11-14T01:27:55.461575Z"
    }
   },
   "outputs": [],
   "source": [
    "from scipy import sparse as sp"
   ]
  },
  {
   "cell_type": "code",
   "execution_count": 51,
   "metadata": {
    "ExecuteTime": {
     "end_time": "2020-11-14T00:00:39.474616Z",
     "start_time": "2020-11-14T00:00:39.455819Z"
    }
   },
   "outputs": [
    {
     "data": {
      "text/plain": [
       "1999.0"
      ]
     },
     "execution_count": 51,
     "metadata": {},
     "output_type": "execute_result"
    }
   ],
   "source": [
    "((sp.csr_matrix(radj)**1).dot(x)*y).sum()"
   ]
  },
  {
   "cell_type": "code",
   "execution_count": 45,
   "metadata": {
    "ExecuteTime": {
     "end_time": "2020-11-13T23:57:52.238354Z",
     "start_time": "2020-11-13T23:57:37.001968Z"
    }
   },
   "outputs": [
    {
     "data": {
      "application/vnd.jupyter.widget-view+json": {
       "model_id": "92fb14b913884d0ab0d958cc533cb12d",
       "version_major": 2,
       "version_minor": 0
      },
      "text/plain": [
       "HBox(children=(HTML(value=''), FloatProgress(value=0.0, max=300.0), HTML(value='')))"
      ]
     },
     "metadata": {},
     "output_type": "display_data"
    },
    {
     "name": "stdout",
     "output_type": "stream",
     "text": [
      "\n"
     ]
    }
   ],
   "source": [
    "vals1 = np.zeros(300)\n",
    "for i in trange(len(vals)):\n",
    "    radj = ges['proteins','proteins'].sample()\n",
    "    vals1[i] = sumofpaths(radj,1)\n",
    "    "
   ]
  },
  {
   "cell_type": "code",
   "execution_count": 61,
   "metadata": {
    "ExecuteTime": {
     "end_time": "2020-11-14T00:11:04.817746Z",
     "start_time": "2020-11-14T00:10:50.034335Z"
    }
   },
   "outputs": [
    {
     "data": {
      "application/vnd.jupyter.widget-view+json": {
       "model_id": "bc58a7486d854cb4a13a15d7f07c9c43",
       "version_major": 2,
       "version_minor": 0
      },
      "text/plain": [
       "HBox(children=(HTML(value=''), FloatProgress(value=0.0, max=300.0), HTML(value='')))"
      ]
     },
     "metadata": {},
     "output_type": "display_data"
    },
    {
     "name": "stdout",
     "output_type": "stream",
     "text": [
      "\n"
     ]
    }
   ],
   "source": []
  },
  {
   "cell_type": "code",
   "execution_count": 48,
   "metadata": {
    "ExecuteTime": {
     "end_time": "2020-11-13T23:59:21.151822Z",
     "start_time": "2020-11-13T23:59:21.145071Z"
    }
   },
   "outputs": [
    {
     "data": {
      "text/plain": [
       "2015.6942623850564"
      ]
     },
     "execution_count": 48,
     "metadata": {},
     "output_type": "execute_result"
    }
   ],
   "source": [
    "ges['proteins','proteins'].predict_mean(obs.SumOfPaths(x,y,1))"
   ]
  },
  {
   "cell_type": "code",
   "execution_count": 57,
   "metadata": {
    "ExecuteTime": {
     "end_time": "2020-11-14T00:08:06.138290Z",
     "start_time": "2020-11-14T00:08:06.046310Z"
    }
   },
   "outputs": [
    {
     "data": {
      "text/plain": [
       "12623701.802730799"
      ]
     },
     "execution_count": 57,
     "metadata": {},
     "output_type": "execute_result"
    }
   ],
   "source": [
    "x.dot(np.linalg.matrix_power(ges['proteins','proteins'].adj_matrix,3)).dot(y)"
   ]
  },
  {
   "cell_type": "code",
   "execution_count": 54,
   "metadata": {
    "ExecuteTime": {
     "end_time": "2020-11-14T06:39:10.462144Z",
     "start_time": "2020-11-14T06:39:10.389740Z"
    }
   },
   "outputs": [
    {
     "data": {
      "application/vnd.jupyter.widget-view+json": {
       "model_id": "aa43f36cae4e497191d3b02b52c569a4",
       "version_major": 2,
       "version_minor": 0
      },
      "text/plain": [
       "HBox(children=(HTML(value=''), FloatProgress(value=0.0, max=300.0), HTML(value='')))"
      ]
     },
     "metadata": {},
     "output_type": "display_data"
    },
    {
     "name": "stdout",
     "output_type": "stream",
     "text": [
      "\n"
     ]
    },
    {
     "ename": "NameError",
     "evalue": "name 'sumofpaths' is not defined",
     "output_type": "error",
     "traceback": [
      "\u001b[0;31m---------------------------------------------------------------------------\u001b[0m",
      "\u001b[0;31mNameError\u001b[0m                                 Traceback (most recent call last)",
      "\u001b[0;32m<ipython-input-54-6b1aaea8a31a>\u001b[0m in \u001b[0;36m<module>\u001b[0;34m\u001b[0m\n\u001b[1;32m      3\u001b[0m \u001b[0;32mfor\u001b[0m \u001b[0mi\u001b[0m \u001b[0;32min\u001b[0m \u001b[0mtrange\u001b[0m\u001b[0;34m(\u001b[0m\u001b[0mlen\u001b[0m\u001b[0;34m(\u001b[0m\u001b[0mvals\u001b[0m\u001b[0;34m)\u001b[0m\u001b[0;34m)\u001b[0m\u001b[0;34m:\u001b[0m\u001b[0;34m\u001b[0m\u001b[0;34m\u001b[0m\u001b[0m\n\u001b[1;32m      4\u001b[0m     \u001b[0mradj\u001b[0m \u001b[0;34m=\u001b[0m \u001b[0mges\u001b[0m\u001b[0;34m[\u001b[0m\u001b[0;34m'proteins'\u001b[0m\u001b[0;34m,\u001b[0m\u001b[0;34m'proteins'\u001b[0m\u001b[0;34m]\u001b[0m\u001b[0;34m.\u001b[0m\u001b[0msample\u001b[0m\u001b[0;34m(\u001b[0m\u001b[0;34m)\u001b[0m\u001b[0;34m\u001b[0m\u001b[0;34m\u001b[0m\u001b[0m\n\u001b[0;32m----> 5\u001b[0;31m     \u001b[0mvals\u001b[0m\u001b[0;34m[\u001b[0m\u001b[0mi\u001b[0m\u001b[0;34m]\u001b[0m \u001b[0;34m=\u001b[0m \u001b[0msumofpaths\u001b[0m\u001b[0;34m(\u001b[0m\u001b[0mradj\u001b[0m\u001b[0;34m,\u001b[0m\u001b[0mlength\u001b[0m\u001b[0;34m)\u001b[0m\u001b[0;34m\u001b[0m\u001b[0;34m\u001b[0m\u001b[0m\n\u001b[0m\u001b[1;32m      6\u001b[0m \u001b[0;34m\u001b[0m\u001b[0m\n\u001b[1;32m      7\u001b[0m \u001b[0mplt\u001b[0m\u001b[0;34m.\u001b[0m\u001b[0mhist\u001b[0m\u001b[0;34m(\u001b[0m\u001b[0mvals\u001b[0m\u001b[0;34m)\u001b[0m\u001b[0;34m\u001b[0m\u001b[0;34m\u001b[0m\u001b[0m\n",
      "\u001b[0;31mNameError\u001b[0m: name 'sumofpaths' is not defined"
     ]
    }
   ],
   "source": [
    "length = 1\n",
    "vals = np.zeros(300)\n",
    "for i in trange(len(vals)):\n",
    "    radj = ges['proteins','proteins'].sample()\n",
    "    vals[i] = sumofpaths(radj,length)\n",
    "    \n",
    "plt.hist(vals)\n",
    "plt.axvline(m1.predict_mean(obs.SumOfPaths(x,y,length)),color='red')\n",
    "print(m1.predict_std(obs.SumOfPaths(x,y,length)),vals.std())"
   ]
  },
  {
   "cell_type": "code",
   "execution_count": 78,
   "metadata": {
    "ExecuteTime": {
     "end_time": "2020-11-14T00:22:09.765863Z",
     "start_time": "2020-11-14T00:22:09.752715Z"
    }
   },
   "outputs": [
    {
     "ename": "TypeError",
     "evalue": "func() missing 2 required positional arguments: 'adj' and 'input_vector'",
     "output_type": "error",
     "traceback": [
      "\u001b[0;31m---------------------------------------------------------------------------\u001b[0m",
      "\u001b[0;31mTypeError\u001b[0m                                 Traceback (most recent call last)",
      "\u001b[0;32m<ipython-input-78-d4dcf2c404bf>\u001b[0m in \u001b[0;36m<module>\u001b[0;34m\u001b[0m\n\u001b[0;32m----> 1\u001b[0;31m \u001b[0mobs\u001b[0m\u001b[0;34m.\u001b[0m\u001b[0mSumOfPaths\u001b[0m\u001b[0;34m(\u001b[0m\u001b[0mx\u001b[0m\u001b[0;34m,\u001b[0m\u001b[0mlength\u001b[0m\u001b[0;34m=\u001b[0m\u001b[0mlength\u001b[0m\u001b[0;34m)\u001b[0m\u001b[0;34m.\u001b[0m\u001b[0mfunc\u001b[0m\u001b[0;34m(\u001b[0m\u001b[0;34m)\u001b[0m\u001b[0;34m\u001b[0m\u001b[0;34m\u001b[0m\u001b[0m\n\u001b[0m",
      "\u001b[0;31mTypeError\u001b[0m: func() missing 2 required positional arguments: 'adj' and 'input_vector'"
     ]
    }
   ],
   "source": []
  },
  {
   "cell_type": "code",
   "execution_count": 53,
   "metadata": {
    "ExecuteTime": {
     "end_time": "2020-11-14T06:38:28.805001Z",
     "start_time": "2020-11-14T06:38:28.784946Z"
    }
   },
   "outputs": [
    {
     "data": {
      "text/plain": [
       "array([0., 0., 0., 0., 1., 1., 1., 1., 0., 0., 0., 1., 0., 3., 3., 3., 4.,\n",
       "       1., 1., 2., 3., 1., 1., 1., 1., 3., 0., 0., 0., 1., 1., 0., 1., 0.,\n",
       "       2., 1., 0., 0., 0., 2., 3., 0., 0., 0., 3., 1., 0., 2., 0., 2., 1.,\n",
       "       2., 0., 2., 1., 2., 0., 0., 0., 0., 0., 1., 3., 1., 1., 0., 1., 2.,\n",
       "       1., 2., 0., 0., 2., 0., 0., 1., 3., 3., 1., 0., 1., 2., 2., 1., 2.,\n",
       "       2., 0., 1., 0., 0., 1., 0., 0., 0., 2., 2., 2., 2., 0., 1., 0., 0.,\n",
       "       4., 3., 0., 1., 0., 0., 2., 1., 1., 1., 0., 3., 3., 2., 1., 1., 1.,\n",
       "       2., 2., 0., 1., 1., 0., 1., 1., 1., 1., 2., 1., 1., 2., 0., 1., 2.,\n",
       "       1., 0., 3., 1., 2., 1., 1., 0., 1., 1., 1., 1., 1., 1., 2., 1., 3.,\n",
       "       0., 2., 0., 3., 1., 0., 3., 2., 1., 0., 4., 0., 0., 1., 0., 3., 0.,\n",
       "       1., 0., 1., 0., 0., 0., 0., 0., 1., 2., 1., 1., 2., 1., 2., 1., 0.,\n",
       "       0., 1., 0., 1., 1., 1., 0., 0., 2., 1., 1., 0., 1., 1., 0., 0., 0.,\n",
       "       2., 1., 0., 2., 1., 0., 1., 0., 0., 4., 2., 2., 0., 0., 0., 0., 3.,\n",
       "       1., 1., 0., 1., 1., 1., 0., 1., 2., 1., 1., 0., 1., 0., 1., 0., 1.,\n",
       "       3., 0., 2., 0., 2., 1., 0., 1., 1., 3., 1., 0., 1., 1., 1., 1., 0.,\n",
       "       0., 1., 1., 0., 1., 0., 2., 0., 0., 1., 1., 1., 1., 0., 2., 1., 1.,\n",
       "       0., 0., 2., 1., 1., 1., 1., 1., 0., 0., 3., 2., 2., 2., 0., 2., 0.,\n",
       "       3., 0., 0., 3., 0., 1., 2., 1., 2., 1., 1., 0., 1., 3., 0., 0., 1.,\n",
       "       1., 2., 1., 0., 0., 1., 2., 0., 1., 0., 0., 0., 1., 4., 0., 1., 0.,\n",
       "       0., 0., 1., 2., 1., 3., 0., 2., 1., 4., 3., 1., 0., 0., 4., 2., 2.,\n",
       "       0., 2., 0., 1., 2., 0., 1., 1., 1., 0., 0., 1., 1., 1., 0., 1., 0.,\n",
       "       0., 2., 1., 0., 0., 1., 1., 1., 0., 0., 1., 3., 1., 1., 0., 0., 0.,\n",
       "       1., 1., 3., 1., 0., 1., 4., 2., 1., 0., 1., 2., 0., 0., 2., 0., 0.,\n",
       "       1., 1., 2., 2., 1., 0., 2., 3., 1., 1., 1., 1., 0., 0., 1., 2., 2.,\n",
       "       0., 1., 0., 1., 1., 1., 0., 0., 1., 0., 1., 0., 1., 0., 1., 1., 0.,\n",
       "       4., 2., 0., 0., 0., 1., 1., 0., 3., 1., 1., 1., 3., 0., 2., 3., 0.,\n",
       "       2., 1., 0., 3., 1., 1., 1., 1., 1., 1., 1., 3., 1., 0., 0., 3., 2.,\n",
       "       0., 0., 2., 1., 1., 0., 1., 1., 3., 1., 1., 2., 1., 0., 2., 0., 1.,\n",
       "       0., 2., 2., 2., 0., 0., 1., 1., 0., 0., 0., 1., 1., 1., 1., 0., 0.,\n",
       "       1., 3., 1., 1., 1., 2., 1., 1., 2., 0., 1., 1., 2., 2., 0., 1., 3.,\n",
       "       2., 1., 0., 2., 0., 0., 1., 1., 2., 2., 0., 1., 0., 1., 1., 1., 0.,\n",
       "       0., 2., 1., 1., 1., 0., 3., 0., 0., 2., 3., 1., 0., 1., 0., 3., 3.,\n",
       "       0., 2., 1., 1., 1., 1., 0., 1., 0., 1., 2., 0., 0., 1., 3., 1., 2.,\n",
       "       2., 0., 2., 0., 2., 2., 1., 0., 0., 1., 0., 0., 1., 0., 0., 1., 3.,\n",
       "       1., 0., 1., 1., 2., 1., 0., 3., 0., 0., 0., 1., 3., 3., 1., 2., 0.,\n",
       "       1., 1., 2., 1., 1., 3., 1., 0., 1., 2., 0., 0., 1., 0., 2., 0., 2.,\n",
       "       2., 0., 0., 3., 0., 1., 2., 2., 1., 2., 0., 1., 1., 2., 2., 1., 1.,\n",
       "       0., 1., 2., 1., 2., 1., 3., 1., 2., 0., 2., 0., 2., 0., 1., 1., 2.,\n",
       "       2., 1., 3., 1., 2., 2., 0., 0., 0., 2., 3., 0., 1., 0., 2., 0., 0.,\n",
       "       0., 0., 4., 3., 1., 1., 1., 0., 2., 1., 3., 0., 2., 3., 0., 2., 1.,\n",
       "       1., 1., 1., 0., 1., 0., 1., 0., 3., 1., 1., 0., 0., 2., 1., 1., 1.,\n",
       "       0., 1., 0., 3., 2., 2., 1., 0., 1., 1., 0., 4., 0., 0., 0., 0., 0.,\n",
       "       3., 2., 0., 2., 1., 0., 1., 1., 1., 1., 1., 0., 1., 1., 1., 1., 1.,\n",
       "       3., 1., 1., 1., 0., 2., 1., 0., 1., 1., 0., 0., 1., 0., 1., 1., 0.,\n",
       "       0., 0., 1., 2., 3., 1., 3., 2., 1., 2., 0., 3., 3., 0., 1., 0., 1.,\n",
       "       3., 1., 3., 2., 0., 1., 0., 0., 0., 1., 2., 1., 1., 1., 1., 1., 0.,\n",
       "       0., 0., 1., 2., 0., 2., 0., 2., 0., 1., 0., 3., 0., 2., 2., 0., 0.,\n",
       "       1., 1., 0., 1., 3., 3., 0., 1., 1., 1., 0., 1., 1., 0., 2., 0., 2.,\n",
       "       2., 2., 0., 0., 4., 0., 2., 2., 0., 1., 1., 2., 0., 1., 0., 2., 2.,\n",
       "       0., 1., 1., 3., 0., 1., 0., 0., 0., 1., 0., 0., 2., 3., 1., 2., 1.,\n",
       "       1., 1., 0., 2., 0., 0., 0., 1., 1., 0., 0., 1., 4., 1., 2., 1., 1.,\n",
       "       0., 1., 1., 0., 0., 1., 1., 0., 2., 0., 0., 1., 1., 0., 3., 0., 0.,\n",
       "       0., 2., 2., 0., 1., 2., 2., 0., 2., 0., 0., 2., 1., 2., 1., 1., 2.,\n",
       "       2., 1., 0., 0., 1., 0., 1., 1., 1., 2., 1., 0., 0., 0., 0., 0., 0.,\n",
       "       0., 0., 1., 2., 1., 1., 0., 3., 1., 2., 0., 0., 1., 1., 0., 4., 0.,\n",
       "       0., 0., 3., 0., 1., 0., 0., 0., 2., 0., 1., 0., 0., 1., 0., 0., 1.,\n",
       "       2., 1., 0., 1., 1., 0., 1., 2., 1., 1., 2., 0., 1., 0., 0., 0., 1.,\n",
       "       1., 1., 3., 1., 1., 1., 2., 1., 0., 2., 0., 1., 0., 2., 1., 1., 0.,\n",
       "       2., 0., 1., 0., 1., 1., 1., 1., 2., 1., 0., 0., 1., 1.])"
      ]
     },
     "execution_count": 53,
     "metadata": {},
     "output_type": "execute_result"
    }
   ],
   "source": [
    "obs.SumOfPaths(x,length=length).func(radj,x)"
   ]
  },
  {
   "cell_type": "code",
   "execution_count": 109,
   "metadata": {
    "ExecuteTime": {
     "end_time": "2020-11-15T00:29:10.246508Z",
     "start_time": "2020-11-15T00:29:00.759603Z"
    }
   },
   "outputs": [
    {
     "data": {
      "application/vnd.jupyter.widget-view+json": {
       "model_id": "81b6655dba2a41cc80bb43512a6d03e0",
       "version_major": 2,
       "version_minor": 0
      },
      "text/plain": [
       "HBox(children=(HTML(value=''), FloatProgress(value=0.0, max=300.0), HTML(value='')))"
      ]
     },
     "metadata": {},
     "output_type": "display_data"
    },
    {
     "name": "stdout",
     "output_type": "stream",
     "text": [
      "\n"
     ]
    }
   ],
   "source": [
    "length = 2\n",
    "vals = np.zeros([300,1000])\n",
    "for i in trange(vals.shape[0]):\n",
    "    radj = ges['proteins','proteins'].sample()\n",
    "    vals[i,:] = propagate_nstep(radj,length)\n",
    "    "
   ]
  },
  {
   "cell_type": "code",
   "execution_count": 20,
   "metadata": {
    "ExecuteTime": {
     "end_time": "2020-11-14T06:12:05.751051Z",
     "start_time": "2020-11-14T06:12:05.450108Z"
    }
   },
   "outputs": [
    {
     "data": {
      "text/plain": [
       "[1000]"
      ]
     },
     "execution_count": 20,
     "metadata": {},
     "output_type": "execute_result"
    }
   ],
   "source": []
  },
  {
   "cell_type": "code",
   "execution_count": 21,
   "metadata": {
    "ExecuteTime": {
     "end_time": "2020-11-14T06:13:59.751607Z",
     "start_time": "2020-11-14T06:12:41.125467Z"
    }
   },
   "outputs": [
    {
     "data": {
      "application/vnd.jupyter.widget-view+json": {
       "model_id": "0e86e1ce81f94162825f470cf5c43587",
       "version_major": 2,
       "version_minor": 0
      },
      "text/plain": [
       "HBox(children=(HTML(value=''), FloatProgress(value=0.0, max=300.0), HTML(value='')))"
      ]
     },
     "metadata": {},
     "output_type": "display_data"
    },
    {
     "name": "stdout",
     "output_type": "stream",
     "text": [
      "\n"
     ]
    }
   ],
   "source": [
    "ccs = np.zeros(300)\n",
    "for i in trange(300):\n",
    "    ccs[i] = max([len(cc) for cc in nx.connected_components(nx.from_numpy_matrix(ges['proteins','proteins'].sample()))])"
   ]
  },
  {
   "cell_type": "code",
   "execution_count": 110,
   "metadata": {
    "ExecuteTime": {
     "end_time": "2020-11-15T00:29:10.812348Z",
     "start_time": "2020-11-15T00:29:10.587213Z"
    }
   },
   "outputs": [
    {
     "data": {
      "text/plain": [
       "[<matplotlib.lines.Line2D at 0x7fc21ec0f470>]"
      ]
     },
     "execution_count": 110,
     "metadata": {},
     "output_type": "execute_result"
    },
    {
     "data": {
      "image/png": "[encoded data removed]",
      "text/plain": [
       "<Figure size 432x288 with 1 Axes>"
      ]
     },
     "metadata": {
      "needs_background": "light"
     },
     "output_type": "display_data"
    }
   ],
   "source": [
    "plt.plot(vals.mean(axis=0),sumofpaths3(ges['proteins','proteins'].adj_matrix,2),'.')\n",
    "plt.plot(plt.xlim(),plt.xlim())"
   ]
  },
  {
   "cell_type": "code",
   "execution_count": 92,
   "metadata": {
    "ExecuteTime": {
     "end_time": "2020-11-14T23:46:31.047671Z",
     "start_time": "2020-11-14T23:46:31.042679Z"
    }
   },
   "outputs": [
    {
     "data": {
      "text/plain": [
       "array([[0.        , 0.11851412, 0.11117215, ..., 0.1143239 , 0.1143239 ,\n",
       "        0.11011979],\n",
       "       [0.11851412, 0.        , 0.10318187, ..., 0.10625433, 0.10625433,\n",
       "        0.10215702],\n",
       "       [0.11117215, 0.10318187, 0.        , ..., 0.09918962, 0.09918962,\n",
       "        0.09519945],\n",
       "       ...,\n",
       "       [0.1143239 , 0.10625433, 0.09918962, ..., 0.        , 0.10221778,\n",
       "        0.09818008],\n",
       "       [0.1143239 , 0.10625433, 0.09918962, ..., 0.10221778, 0.        ,\n",
       "        0.09818008],\n",
       "       [0.11011979, 0.10215702, 0.09519945, ..., 0.09818008, 0.09818008,\n",
       "        0.        ]])"
      ]
     },
     "execution_count": 92,
     "metadata": {},
     "output_type": "execute_result"
    }
   ],
   "source": [
    "ges['proteins','proteins'].adj_matrix"
   ]
  },
  {
   "cell_type": "code",
   "execution_count": 68,
   "metadata": {
    "ExecuteTime": {
     "end_time": "2020-11-14T06:56:38.720591Z",
     "start_time": "2020-11-14T06:56:38.503042Z"
    }
   },
   "outputs": [
    {
     "data": {
      "text/plain": [
       "[<matplotlib.lines.Line2D at 0x7fc21eb31e80>]"
      ]
     },
     "execution_count": 68,
     "metadata": {},
     "output_type": "execute_result"
    },
    {
     "data": {
      "image/png": "[encoded data removed]",
      "text/plain": [
       "<Figure size 432x288 with 1 Axes>"
      ]
     },
     "metadata": {
      "needs_background": "light"
     },
     "output_type": "display_data"
    }
   ],
   "source": [
    "plt.plot(vals.mean(axis=0),ges['proteins','proteins'].predict_mean(obs.SumOfPaths(x,length=length)),'.')\n",
    "plt.plot(plt.xlim(),plt.xlim())"
   ]
  },
  {
   "cell_type": "code",
   "execution_count": null,
   "metadata": {},
   "outputs": [],
   "source": []
  },
  {
   "cell_type": "code",
   "execution_count": 61,
   "metadata": {
    "ExecuteTime": {
     "end_time": "2020-11-14T06:41:06.114579Z",
     "start_time": "2020-11-14T06:41:06.029699Z"
    }
   },
   "outputs": [
    {
     "ename": "TypeError",
     "evalue": "unsupported operand type(s) for *: 'float' and 'NoneType'",
     "output_type": "error",
     "traceback": [
      "\u001b[0;31m---------------------------------------------------------------------------\u001b[0m",
      "\u001b[0;31mTypeError\u001b[0m                                 Traceback (most recent call last)",
      "\u001b[0;32m<ipython-input-61-5663466af8d8>\u001b[0m in \u001b[0;36m<module>\u001b[0;34m\u001b[0m\n\u001b[0;32m----> 1\u001b[0;31m \u001b[0mplt\u001b[0m\u001b[0;34m.\u001b[0m\u001b[0mplot\u001b[0m\u001b[0;34m(\u001b[0m\u001b[0mvals\u001b[0m\u001b[0;34m.\u001b[0m\u001b[0mstd\u001b[0m\u001b[0;34m(\u001b[0m\u001b[0maxis\u001b[0m\u001b[0;34m=\u001b[0m\u001b[0;36m0\u001b[0m\u001b[0;34m)\u001b[0m\u001b[0;34m,\u001b[0m\u001b[0mges\u001b[0m\u001b[0;34m[\u001b[0m\u001b[0;34m'proteins'\u001b[0m\u001b[0;34m,\u001b[0m\u001b[0;34m'proteins'\u001b[0m\u001b[0;34m]\u001b[0m\u001b[0;34m.\u001b[0m\u001b[0mpredict_std\u001b[0m\u001b[0;34m(\u001b[0m\u001b[0mobs\u001b[0m\u001b[0;34m.\u001b[0m\u001b[0mSumOfPaths\u001b[0m\u001b[0;34m(\u001b[0m\u001b[0mx\u001b[0m\u001b[0;34m,\u001b[0m\u001b[0mlength\u001b[0m\u001b[0;34m=\u001b[0m\u001b[0mlength\u001b[0m\u001b[0;34m)\u001b[0m\u001b[0;34m)\u001b[0m\u001b[0;34m,\u001b[0m\u001b[0;34m'.'\u001b[0m\u001b[0;34m)\u001b[0m\u001b[0;34m\u001b[0m\u001b[0;34m\u001b[0m\u001b[0m\n\u001b[0m\u001b[1;32m      2\u001b[0m \u001b[0mplt\u001b[0m\u001b[0;34m.\u001b[0m\u001b[0mplot\u001b[0m\u001b[0;34m(\u001b[0m\u001b[0mplt\u001b[0m\u001b[0;34m.\u001b[0m\u001b[0mxlim\u001b[0m\u001b[0;34m(\u001b[0m\u001b[0;34m)\u001b[0m\u001b[0;34m,\u001b[0m\u001b[0mplt\u001b[0m\u001b[0;34m.\u001b[0m\u001b[0mxlim\u001b[0m\u001b[0;34m(\u001b[0m\u001b[0;34m)\u001b[0m\u001b[0;34m)\u001b[0m\u001b[0;34m\u001b[0m\u001b[0;34m\u001b[0m\u001b[0m\n",
      "\u001b[0;32m~/Postdoc/Progetti/MAXENT/claude/claude/base.py\u001b[0m in \u001b[0;36mpredict_std\u001b[0;34m(self, obs, g_args, obs_dim_idx, batch_size)\u001b[0m\n\u001b[1;32m     53\u001b[0m                         \u001b[0;31m#       std_vec = np.sqrt(((self.sigma * grad_term) ** 2).sum())\u001b[0m\u001b[0;34m\u001b[0m\u001b[0;34m\u001b[0m\u001b[0;34m\u001b[0m\u001b[0m\n\u001b[1;32m     54\u001b[0m                         \u001b[0;31m#else:\u001b[0m\u001b[0;34m\u001b[0m\u001b[0;34m\u001b[0m\u001b[0;34m\u001b[0m\u001b[0m\n\u001b[0;32m---> 55\u001b[0;31m                         \u001b[0mgrad_term\u001b[0m \u001b[0;34m=\u001b[0m \u001b[0mfunc_grad\u001b[0m\u001b[0;34m(\u001b[0m\u001b[0mself\u001b[0m\u001b[0;34m.\u001b[0m\u001b[0madj_matrix\u001b[0m\u001b[0;34m,\u001b[0m \u001b[0;34m*\u001b[0m\u001b[0mg_args\u001b[0m\u001b[0;34m)\u001b[0m\u001b[0;34m\u001b[0m\u001b[0;34m\u001b[0m\u001b[0m\n\u001b[0m\u001b[1;32m     56\u001b[0m                         \u001b[0msum_dims\u001b[0m \u001b[0;34m=\u001b[0m \u001b[0mtuple\u001b[0m\u001b[0;34m(\u001b[0m\u001b[0;34m[\u001b[0m\u001b[0mdim\u001b[0m \u001b[0;32mfor\u001b[0m \u001b[0mdim\u001b[0m \u001b[0;32min\u001b[0m \u001b[0mrange\u001b[0m\u001b[0;34m(\u001b[0m\u001b[0mlen\u001b[0m\u001b[0;34m(\u001b[0m\u001b[0mgrad_term\u001b[0m\u001b[0;34m.\u001b[0m\u001b[0mshape\u001b[0m\u001b[0;34m)\u001b[0m\u001b[0;34m)\u001b[0m \u001b[0;32mif\u001b[0m \u001b[0mdim\u001b[0m \u001b[0;34m!=\u001b[0m \u001b[0mobs_dim_idx\u001b[0m\u001b[0;34m]\u001b[0m\u001b[0;34m)\u001b[0m\u001b[0;34m\u001b[0m\u001b[0;34m\u001b[0m\u001b[0m\n\u001b[1;32m     57\u001b[0m                         \u001b[0mstd_vec\u001b[0m \u001b[0;34m=\u001b[0m \u001b[0mnp\u001b[0m\u001b[0;34m.\u001b[0m\u001b[0msqrt\u001b[0m\u001b[0;34m(\u001b[0m\u001b[0;34m(\u001b[0m\u001b[0;34m(\u001b[0m\u001b[0mself\u001b[0m\u001b[0;34m.\u001b[0m\u001b[0msigma\u001b[0m \u001b[0;34m*\u001b[0m \u001b[0mgrad_term\u001b[0m\u001b[0;34m)\u001b[0m \u001b[0;34m**\u001b[0m \u001b[0;36m2\u001b[0m\u001b[0;34m)\u001b[0m\u001b[0;34m.\u001b[0m\u001b[0msum\u001b[0m\u001b[0;34m(\u001b[0m\u001b[0maxis\u001b[0m\u001b[0;34m=\u001b[0m\u001b[0msum_dims\u001b[0m\u001b[0;34m)\u001b[0m\u001b[0;34m)\u001b[0m\u001b[0;34m\u001b[0m\u001b[0;34m\u001b[0m\u001b[0m\n",
      "\u001b[0;32m~/Postdoc/Progetti/MAXENT/claude/claude/observables.py\u001b[0m in \u001b[0;36mgrad\u001b[0;34m(self, adj, input_vector, proj_vector, length)\u001b[0m\n\u001b[1;32m    221\u001b[0m                 \u001b[0mterm\u001b[0m \u001b[0;34m=\u001b[0m \u001b[0;36m0\u001b[0m\u001b[0;34m\u001b[0m\u001b[0;34m\u001b[0m\u001b[0m\n\u001b[1;32m    222\u001b[0m                 \u001b[0;32mfor\u001b[0m \u001b[0ml\u001b[0m \u001b[0;32min\u001b[0m \u001b[0mrange\u001b[0m\u001b[0;34m(\u001b[0m\u001b[0mlength\u001b[0m\u001b[0;34m)\u001b[0m\u001b[0;34m:\u001b[0m\u001b[0;34m\u001b[0m\u001b[0;34m\u001b[0m\u001b[0m\n\u001b[0;32m--> 223\u001b[0;31m                         \u001b[0mterm\u001b[0m \u001b[0;34m=\u001b[0m \u001b[0mterm\u001b[0m \u001b[0;34m+\u001b[0m \u001b[0minput_vector\u001b[0m\u001b[0;34m.\u001b[0m\u001b[0mdot\u001b[0m\u001b[0;34m(\u001b[0m\u001b[0mpowers\u001b[0m\u001b[0;34m[\u001b[0m\u001b[0ml\u001b[0m\u001b[0;34m]\u001b[0m\u001b[0;34m)\u001b[0m\u001b[0;34m[\u001b[0m\u001b[0;34m:\u001b[0m\u001b[0;34m,\u001b[0m\u001b[0;32mNone\u001b[0m\u001b[0;34m]\u001b[0m \u001b[0;34m*\u001b[0m \u001b[0mpowers\u001b[0m\u001b[0;34m[\u001b[0m\u001b[0mlength\u001b[0m \u001b[0;34m-\u001b[0m \u001b[0;36m1\u001b[0m \u001b[0;34m-\u001b[0m \u001b[0ml\u001b[0m\u001b[0;34m]\u001b[0m\u001b[0;34m.\u001b[0m\u001b[0mdot\u001b[0m\u001b[0;34m(\u001b[0m\u001b[0mproj_vector\u001b[0m\u001b[0;34m)\u001b[0m\u001b[0;34m[\u001b[0m\u001b[0;32mNone\u001b[0m\u001b[0;34m,\u001b[0m \u001b[0;34m:\u001b[0m\u001b[0;34m]\u001b[0m\u001b[0;34m\u001b[0m\u001b[0;34m\u001b[0m\u001b[0m\n\u001b[0m\u001b[1;32m    224\u001b[0m                 \u001b[0;32mreturn\u001b[0m \u001b[0mterm\u001b[0m\u001b[0;34m\u001b[0m\u001b[0;34m\u001b[0m\u001b[0m\n\u001b[1;32m    225\u001b[0m \u001b[0;34m\u001b[0m\u001b[0m\n",
      "\u001b[0;31mTypeError\u001b[0m: unsupported operand type(s) for *: 'float' and 'NoneType'"
     ]
    }
   ],
   "source": [
    "plt.plot(vals.std(axis=0),ges['proteins','proteins'].predict_std(obs.SumOfPaths(x,length=length)),'.')\n",
    "plt.plot(plt.xlim(),plt.xlim())"
   ]
  },
  {
   "cell_type": "code",
   "execution_count": 44,
   "metadata": {
    "ExecuteTime": {
     "end_time": "2020-11-13T23:56:36.155480Z",
     "start_time": "2020-11-13T23:56:35.554110Z"
    }
   },
   "outputs": [
    {
     "name": "stdout",
     "output_type": "stream",
     "text": [
      "234574.0327539533 282440.0325471328\n"
     ]
    },
    {
     "data": {
      "image/png": "[encoded data removed]",
      "text/plain": [
       "<Figure size 432x288 with 1 Axes>"
      ]
     },
     "metadata": {
      "needs_background": "light"
     },
     "output_type": "display_data"
    }
   ],
   "source": [
    "plt.hist(vals)\n",
    "plt.axvline(ges['proteins','proteins'].predict_mean(obs.SumOfPaths(x,y,3)),color='red')\n",
    "print(ges['proteins','proteins'].predict_std(obs.SumOfPaths(x,y,3)),vals.std())"
   ]
  },
  {
   "cell_type": "code",
   "execution_count": 20,
   "metadata": {
    "ExecuteTime": {
     "end_time": "2020-11-13T23:41:06.763871Z",
     "start_time": "2020-11-13T23:39:55.098411Z"
    }
   },
   "outputs": [
    {
     "name": "stdout",
     "output_type": "stream",
     "text": [
      "> \u001b[0;32m/Users/reema/Postdoc/Progetti/MAXENT/claude/claude/observables.py\u001b[0m(223)\u001b[0;36mgrad\u001b[0;34m()\u001b[0m\n",
      "\u001b[0;32m    221 \u001b[0;31m                \u001b[0mterm\u001b[0m \u001b[0;34m=\u001b[0m \u001b[0;36m0\u001b[0m\u001b[0;34m\u001b[0m\u001b[0;34m\u001b[0m\u001b[0m\n",
      "\u001b[0m\u001b[0;32m    222 \u001b[0;31m                \u001b[0;32mfor\u001b[0m \u001b[0ml\u001b[0m \u001b[0;32min\u001b[0m \u001b[0mrange\u001b[0m\u001b[0;34m(\u001b[0m\u001b[0mlength\u001b[0m\u001b[0;34m)\u001b[0m\u001b[0;34m:\u001b[0m\u001b[0;34m\u001b[0m\u001b[0;34m\u001b[0m\u001b[0m\n",
      "\u001b[0m\u001b[0;32m--> 223 \u001b[0;31m                        \u001b[0mterm\u001b[0m \u001b[0;34m=\u001b[0m \u001b[0mterm\u001b[0m \u001b[0;34m+\u001b[0m \u001b[0minput_vector\u001b[0m\u001b[0;34m.\u001b[0m\u001b[0mdot\u001b[0m\u001b[0;34m(\u001b[0m\u001b[0mpowers\u001b[0m\u001b[0;34m[\u001b[0m\u001b[0ml\u001b[0m\u001b[0;34m]\u001b[0m\u001b[0;34m[\u001b[0m\u001b[0;34m:\u001b[0m\u001b[0;34m,\u001b[0m\u001b[0;32mNone\u001b[0m\u001b[0;34m]\u001b[0m\u001b[0;34m)\u001b[0m \u001b[0;34m*\u001b[0m \u001b[0mpowers\u001b[0m\u001b[0;34m[\u001b[0m\u001b[0mlength\u001b[0m \u001b[0;34m-\u001b[0m \u001b[0;36m1\u001b[0m \u001b[0;34m-\u001b[0m \u001b[0ml\u001b[0m\u001b[0;34m]\u001b[0m\u001b[0;34m.\u001b[0m\u001b[0mdot\u001b[0m\u001b[0;34m(\u001b[0m\u001b[0mproj_vector\u001b[0m\u001b[0;34m)\u001b[0m\u001b[0;34m[\u001b[0m\u001b[0;32mNone\u001b[0m\u001b[0;34m,\u001b[0m \u001b[0;34m:\u001b[0m\u001b[0;34m]\u001b[0m\u001b[0;34m\u001b[0m\u001b[0;34m\u001b[0m\u001b[0m\n",
      "\u001b[0m\u001b[0;32m    224 \u001b[0;31m                \u001b[0;32mreturn\u001b[0m \u001b[0mterm\u001b[0m\u001b[0;34m\u001b[0m\u001b[0;34m\u001b[0m\u001b[0m\n",
      "\u001b[0m\u001b[0;32m    225 \u001b[0;31m\u001b[0;34m\u001b[0m\u001b[0m\n",
      "\u001b[0m\n",
      "ipdb> input_vector.dot(powers[l][:,None]).shape\n",
      "*** ValueError: shapes (1000,) and (1000,1,1000) not aligned: 1000 (dim 0) != 1 (dim 1)\n",
      "ipdb> input_vector.dot(powers[l])[:,None]\n",
      "array([[1.],\n",
      "       [1.],\n",
      "       [1.],\n",
      "       [1.],\n",
      "       [1.],\n",
      "       [1.],\n",
      "       [1.],\n",
      "       [1.],\n",
      "       [1.],\n",
      "       [1.],\n",
      "       [1.],\n",
      "       [1.],\n",
      "       [1.],\n",
      "       [1.],\n",
      "       [1.],\n",
      "       [1.],\n",
      "       [1.],\n",
      "       [1.],\n",
      "       [1.],\n",
      "       [1.],\n",
      "       [1.],\n",
      "       [1.],\n",
      "       [1.],\n",
      "       [1.],\n",
      "       [1.],\n",
      "       [1.],\n",
      "       [1.],\n",
      "       [1.],\n",
      "       [1.],\n",
      "       [1.],\n",
      "       [1.],\n",
      "       [1.],\n",
      "       [1.],\n",
      "       [1.],\n",
      "       [1.],\n",
      "       [1.],\n",
      "       [1.],\n",
      "       [1.],\n",
      "       [1.],\n",
      "       [1.],\n",
      "       [1.],\n",
      "       [1.],\n",
      "       [1.],\n",
      "       [1.],\n",
      "       [1.],\n",
      "       [1.],\n",
      "       [1.],\n",
      "       [1.],\n",
      "       [1.],\n",
      "       [1.],\n",
      "       [1.],\n",
      "       [1.],\n",
      "       [1.],\n",
      "       [1.],\n",
      "       [1.],\n",
      "       [1.],\n",
      "       [1.],\n",
      "       [1.],\n",
      "       [1.],\n",
      "       [1.],\n",
      "       [1.],\n",
      "       [1.],\n",
      "       [1.],\n",
      "       [1.],\n",
      "       [1.],\n",
      "       [1.],\n",
      "       [1.],\n",
      "       [1.],\n",
      "       [1.],\n",
      "       [1.],\n",
      "       [1.],\n",
      "       [1.],\n",
      "       [1.],\n",
      "       [1.],\n",
      "       [1.],\n",
      "       [1.],\n",
      "       [1.],\n",
      "       [1.],\n",
      "       [1.],\n",
      "       [1.],\n",
      "       [1.],\n",
      "       [1.],\n",
      "       [1.],\n",
      "       [1.],\n",
      "       [1.],\n",
      "       [1.],\n",
      "       [1.],\n",
      "       [1.],\n",
      "       [1.],\n",
      "       [1.],\n",
      "       [1.],\n",
      "       [1.],\n",
      "       [1.],\n",
      "       [1.],\n",
      "       [1.],\n",
      "       [1.],\n",
      "       [1.],\n",
      "       [1.],\n",
      "       [1.],\n",
      "       [1.],\n",
      "       [0.],\n",
      "       [0.],\n",
      "       [0.],\n",
      "       [0.],\n",
      "       [0.],\n",
      "       [0.],\n",
      "       [0.],\n",
      "       [0.],\n",
      "       [0.],\n",
      "       [0.],\n",
      "       [0.],\n",
      "       [0.],\n",
      "       [0.],\n",
      "       [0.],\n",
      "       [0.],\n",
      "       [0.],\n",
      "       [0.],\n",
      "       [0.],\n",
      "       [0.],\n",
      "       [0.],\n",
      "       [0.],\n",
      "       [0.],\n",
      "       [0.],\n",
      "       [0.],\n",
      "       [0.],\n",
      "       [0.],\n",
      "       [0.],\n",
      "       [0.],\n",
      "       [0.],\n",
      "       [0.],\n",
      "       [0.],\n",
      "       [0.],\n",
      "       [0.],\n",
      "       [0.],\n",
      "       [0.],\n",
      "       [0.],\n",
      "       [0.],\n",
      "       [0.],\n",
      "       [0.],\n",
      "       [0.],\n",
      "       [0.],\n",
      "       [0.],\n",
      "       [0.],\n",
      "       [0.],\n",
      "       [0.],\n",
      "       [0.],\n",
      "       [0.],\n",
      "       [0.],\n",
      "       [0.],\n",
      "       [0.],\n",
      "       [0.],\n",
      "       [0.],\n",
      "       [0.],\n",
      "       [0.],\n",
      "       [0.],\n",
      "       [0.],\n",
      "       [0.],\n",
      "       [0.],\n",
      "       [0.],\n",
      "       [0.],\n",
      "       [0.],\n",
      "       [0.],\n",
      "       [0.],\n",
      "       [0.],\n",
      "       [0.],\n",
      "       [0.],\n",
      "       [0.],\n",
      "       [0.],\n",
      "       [0.],\n",
      "       [0.],\n",
      "       [0.],\n",
      "       [0.],\n",
      "       [0.],\n",
      "       [0.],\n",
      "       [0.],\n",
      "       [0.],\n",
      "       [0.],\n",
      "       [0.],\n",
      "       [0.],\n",
      "       [0.],\n",
      "       [0.],\n",
      "       [0.],\n",
      "       [0.],\n",
      "       [0.],\n",
      "       [0.],\n",
      "       [0.],\n",
      "       [0.],\n",
      "       [0.],\n",
      "       [0.],\n",
      "       [0.],\n",
      "       [0.],\n",
      "       [0.],\n",
      "       [0.],\n",
      "       [0.],\n",
      "       [0.],\n",
      "       [0.],\n",
      "       [0.],\n",
      "       [0.],\n",
      "       [0.],\n",
      "       [0.],\n",
      "       [0.],\n",
      "       [0.],\n",
      "       [0.],\n",
      "       [0.],\n",
      "       [0.],\n",
      "       [0.],\n",
      "       [0.],\n",
      "       [0.],\n",
      "       [0.],\n",
      "       [0.],\n",
      "       [0.],\n",
      "       [0.],\n",
      "       [0.],\n",
      "       [0.],\n",
      "       [0.],\n",
      "       [0.],\n",
      "       [0.],\n",
      "       [0.],\n",
      "       [0.],\n",
      "       [0.],\n",
      "       [0.],\n",
      "       [0.],\n",
      "       [0.],\n",
      "       [0.],\n",
      "       [0.],\n",
      "       [0.],\n",
      "       [0.],\n",
      "       [0.],\n",
      "       [0.],\n",
      "       [0.],\n",
      "       [0.],\n",
      "       [0.],\n",
      "       [0.],\n",
      "       [0.],\n",
      "       [0.],\n",
      "       [0.],\n",
      "       [0.],\n",
      "       [0.],\n",
      "       [0.],\n",
      "       [0.],\n",
      "       [0.],\n",
      "       [0.],\n",
      "       [0.],\n",
      "       [0.],\n",
      "       [0.],\n",
      "       [0.],\n",
      "       [0.],\n",
      "       [0.],\n",
      "       [0.],\n",
      "       [0.],\n",
      "       [0.],\n",
      "       [0.],\n",
      "       [0.],\n",
      "       [0.],\n",
      "       [0.],\n",
      "       [0.],\n",
      "       [0.],\n",
      "       [0.],\n",
      "       [0.],\n",
      "       [0.],\n",
      "       [0.],\n",
      "       [0.],\n",
      "       [0.],\n",
      "       [0.],\n",
      "       [0.],\n",
      "       [0.],\n",
      "       [0.],\n",
      "       [0.],\n",
      "       [0.],\n",
      "       [0.],\n",
      "       [0.],\n",
      "       [0.],\n",
      "       [0.],\n",
      "       [0.],\n",
      "       [0.],\n",
      "       [0.],\n",
      "       [0.],\n",
      "       [0.],\n",
      "       [0.],\n",
      "       [0.],\n",
      "       [0.],\n",
      "       [0.],\n",
      "       [0.],\n",
      "       [0.],\n",
      "       [0.],\n",
      "       [0.],\n",
      "       [0.],\n",
      "       [0.],\n",
      "       [0.],\n",
      "       [0.],\n",
      "       [0.],\n",
      "       [0.],\n",
      "       [0.],\n",
      "       [0.],\n",
      "       [0.],\n",
      "       [0.],\n",
      "       [0.],\n",
      "       [0.],\n",
      "       [0.],\n",
      "       [0.],\n",
      "       [0.],\n",
      "       [0.],\n",
      "       [0.],\n",
      "       [0.],\n",
      "       [0.],\n",
      "       [0.],\n",
      "       [0.],\n",
      "       [0.],\n",
      "       [0.],\n",
      "       [0.],\n",
      "       [0.],\n",
      "       [0.],\n",
      "       [0.],\n",
      "       [0.],\n",
      "       [0.],\n",
      "       [0.],\n",
      "       [0.],\n",
      "       [0.],\n",
      "       [0.],\n",
      "       [0.],\n",
      "       [0.],\n",
      "       [0.],\n",
      "       [0.],\n",
      "       [0.],\n",
      "       [0.],\n",
      "       [0.],\n",
      "       [0.],\n",
      "       [0.],\n",
      "       [0.],\n",
      "       [0.],\n",
      "       [0.],\n",
      "       [0.],\n",
      "       [0.],\n",
      "       [0.],\n",
      "       [0.],\n",
      "       [0.],\n",
      "       [0.],\n",
      "       [0.],\n",
      "       [0.],\n",
      "       [0.],\n",
      "       [0.],\n",
      "       [0.],\n",
      "       [0.],\n",
      "       [0.],\n",
      "       [0.],\n",
      "       [0.],\n",
      "       [0.],\n",
      "       [0.],\n",
      "       [0.],\n",
      "       [0.],\n",
      "       [0.],\n",
      "       [0.],\n",
      "       [0.],\n",
      "       [0.],\n",
      "       [0.],\n",
      "       [0.],\n",
      "       [0.],\n",
      "       [0.],\n",
      "       [0.],\n",
      "       [0.],\n",
      "       [0.],\n",
      "       [0.],\n",
      "       [0.],\n",
      "       [0.],\n",
      "       [0.],\n",
      "       [0.],\n",
      "       [0.],\n",
      "       [0.],\n",
      "       [0.],\n",
      "       [0.],\n",
      "       [0.],\n",
      "       [0.],\n",
      "       [0.],\n",
      "       [0.],\n",
      "       [0.],\n",
      "       [0.],\n",
      "       [0.],\n",
      "       [0.],\n",
      "       [0.],\n",
      "       [0.],\n",
      "       [0.],\n",
      "       [0.],\n",
      "       [0.],\n",
      "       [0.],\n",
      "       [0.],\n",
      "       [0.],\n",
      "       [0.],\n",
      "       [0.],\n",
      "       [0.],\n",
      "       [0.],\n",
      "       [0.],\n",
      "       [0.],\n",
      "       [0.],\n",
      "       [0.],\n",
      "       [0.],\n",
      "       [0.],\n",
      "       [0.],\n",
      "       [0.],\n",
      "       [0.],\n",
      "       [0.],\n",
      "       [0.],\n",
      "       [0.],\n",
      "       [0.],\n",
      "       [0.],\n",
      "       [0.],\n",
      "       [0.],\n",
      "       [0.],\n",
      "       [0.],\n",
      "       [0.],\n",
      "       [0.],\n",
      "       [0.],\n",
      "       [0.],\n",
      "       [0.],\n",
      "       [0.],\n",
      "       [0.],\n",
      "       [0.],\n",
      "       [0.],\n",
      "       [0.],\n",
      "       [0.],\n",
      "       [0.],\n",
      "       [0.],\n",
      "       [0.],\n",
      "       [0.],\n",
      "       [0.],\n",
      "       [0.],\n",
      "       [0.],\n",
      "       [0.],\n",
      "       [0.],\n",
      "       [0.],\n",
      "       [0.],\n",
      "       [0.],\n",
      "       [0.],\n",
      "       [0.],\n",
      "       [0.],\n",
      "       [0.],\n",
      "       [0.],\n",
      "       [0.],\n",
      "       [0.],\n",
      "       [0.],\n",
      "       [0.],\n",
      "       [0.],\n",
      "       [0.],\n",
      "       [0.],\n",
      "       [0.],\n",
      "       [0.],\n",
      "       [0.],\n",
      "       [0.],\n",
      "       [0.],\n",
      "       [0.],\n",
      "       [0.],\n",
      "       [0.],\n",
      "       [0.],\n",
      "       [0.],\n",
      "       [0.],\n",
      "       [0.],\n",
      "       [0.],\n",
      "       [0.],\n",
      "       [0.],\n",
      "       [0.],\n",
      "       [0.],\n",
      "       [0.],\n",
      "       [0.],\n",
      "       [0.],\n",
      "       [0.],\n",
      "       [0.],\n",
      "       [0.],\n",
      "       [0.],\n",
      "       [0.],\n",
      "       [0.],\n",
      "       [0.],\n",
      "       [0.],\n",
      "       [0.],\n",
      "       [0.],\n",
      "       [0.],\n",
      "       [0.],\n",
      "       [0.],\n",
      "       [0.],\n",
      "       [0.],\n",
      "       [0.],\n",
      "       [0.],\n",
      "       [0.],\n",
      "       [0.],\n",
      "       [0.],\n",
      "       [0.],\n",
      "       [0.],\n",
      "       [0.],\n",
      "       [0.],\n",
      "       [0.],\n",
      "       [0.],\n",
      "       [0.],\n",
      "       [0.],\n",
      "       [0.],\n",
      "       [0.],\n",
      "       [0.],\n",
      "       [0.],\n",
      "       [0.],\n",
      "       [0.],\n",
      "       [0.],\n",
      "       [0.],\n",
      "       [0.],\n",
      "       [0.],\n",
      "       [0.],\n",
      "       [0.],\n",
      "       [0.],\n",
      "       [0.],\n",
      "       [0.],\n",
      "       [0.],\n",
      "       [0.],\n",
      "       [0.],\n",
      "       [0.],\n",
      "       [0.],\n",
      "       [0.],\n",
      "       [0.],\n",
      "       [0.],\n",
      "       [0.],\n",
      "       [0.],\n",
      "       [0.],\n",
      "       [0.],\n",
      "       [0.],\n",
      "       [0.],\n",
      "       [0.],\n",
      "       [0.],\n",
      "       [0.],\n",
      "       [0.],\n",
      "       [0.],\n",
      "       [0.],\n",
      "       [0.],\n",
      "       [0.],\n",
      "       [0.],\n",
      "       [0.],\n",
      "       [0.],\n",
      "       [0.],\n",
      "       [0.],\n",
      "       [0.],\n",
      "       [0.],\n",
      "       [0.],\n",
      "       [0.],\n",
      "       [0.],\n",
      "       [0.],\n",
      "       [0.],\n",
      "       [0.],\n",
      "       [0.],\n",
      "       [0.],\n",
      "       [0.],\n",
      "       [0.],\n",
      "       [0.],\n",
      "       [0.],\n",
      "       [0.],\n",
      "       [0.],\n",
      "       [0.],\n",
      "       [0.],\n",
      "       [0.],\n",
      "       [0.],\n",
      "       [0.],\n",
      "       [0.],\n",
      "       [0.],\n",
      "       [0.],\n",
      "       [0.],\n",
      "       [0.],\n",
      "       [0.],\n",
      "       [0.],\n",
      "       [0.],\n",
      "       [0.],\n",
      "       [0.],\n",
      "       [0.],\n",
      "       [0.],\n",
      "       [0.],\n",
      "       [0.],\n",
      "       [0.],\n",
      "       [0.],\n",
      "       [0.],\n",
      "       [0.],\n",
      "       [0.],\n",
      "       [0.],\n",
      "       [0.],\n",
      "       [0.],\n",
      "       [0.],\n",
      "       [0.],\n",
      "       [0.],\n",
      "       [0.],\n",
      "       [0.],\n",
      "       [0.],\n",
      "       [0.],\n",
      "       [0.],\n",
      "       [0.],\n",
      "       [0.],\n",
      "       [0.],\n",
      "       [0.],\n",
      "       [0.],\n",
      "       [0.],\n",
      "       [0.],\n",
      "       [0.],\n",
      "       [0.],\n",
      "       [0.],\n",
      "       [0.],\n",
      "       [0.],\n",
      "       [0.],\n",
      "       [0.],\n",
      "       [0.],\n",
      "       [0.],\n",
      "       [0.],\n",
      "       [0.],\n",
      "       [0.],\n",
      "       [0.],\n",
      "       [0.],\n",
      "       [0.],\n",
      "       [0.],\n",
      "       [0.],\n",
      "       [0.],\n",
      "       [0.],\n",
      "       [0.],\n",
      "       [0.],\n",
      "       [0.],\n",
      "       [0.],\n",
      "       [0.],\n",
      "       [0.],\n",
      "       [0.],\n",
      "       [0.],\n",
      "       [0.],\n",
      "       [0.],\n",
      "       [0.],\n",
      "       [0.],\n",
      "       [0.],\n",
      "       [0.],\n",
      "       [0.],\n",
      "       [0.],\n",
      "       [0.],\n",
      "       [0.],\n",
      "       [0.],\n",
      "       [0.],\n",
      "       [0.],\n",
      "       [0.],\n",
      "       [0.],\n",
      "       [0.],\n",
      "       [0.],\n",
      "       [0.],\n",
      "       [0.],\n",
      "       [0.],\n",
      "       [0.],\n",
      "       [0.],\n",
      "       [0.],\n",
      "       [0.],\n",
      "       [0.],\n",
      "       [0.],\n",
      "       [0.],\n",
      "       [0.],\n",
      "       [0.],\n",
      "       [0.],\n",
      "       [0.],\n",
      "       [0.],\n",
      "       [0.],\n",
      "       [0.],\n",
      "       [0.],\n",
      "       [0.],\n",
      "       [0.],\n",
      "       [0.],\n",
      "       [0.],\n",
      "       [0.],\n",
      "       [0.],\n",
      "       [0.],\n",
      "       [0.],\n",
      "       [0.],\n",
      "       [0.],\n",
      "       [0.],\n",
      "       [0.],\n",
      "       [0.],\n",
      "       [0.],\n",
      "       [0.],\n",
      "       [0.],\n",
      "       [0.],\n",
      "       [0.],\n",
      "       [0.],\n",
      "       [0.],\n",
      "       [0.],\n",
      "       [0.],\n",
      "       [0.],\n",
      "       [0.],\n",
      "       [0.],\n",
      "       [0.],\n",
      "       [0.],\n",
      "       [0.],\n",
      "       [0.],\n",
      "       [0.],\n",
      "       [0.],\n",
      "       [0.],\n",
      "       [0.],\n",
      "       [0.],\n",
      "       [0.],\n",
      "       [0.],\n",
      "       [0.],\n",
      "       [0.],\n",
      "       [0.],\n",
      "       [0.],\n",
      "       [0.],\n",
      "       [0.],\n",
      "       [0.],\n",
      "       [0.],\n",
      "       [0.],\n",
      "       [0.],\n",
      "       [0.],\n",
      "       [0.],\n",
      "       [0.],\n",
      "       [0.],\n",
      "       [0.],\n",
      "       [0.],\n",
      "       [0.],\n",
      "       [0.],\n",
      "       [0.],\n",
      "       [0.],\n",
      "       [0.],\n",
      "       [0.],\n",
      "       [0.],\n",
      "       [0.],\n",
      "       [0.],\n",
      "       [0.],\n",
      "       [0.],\n",
      "       [0.],\n",
      "       [0.],\n",
      "       [0.],\n",
      "       [0.],\n",
      "       [0.],\n",
      "       [0.],\n",
      "       [0.],\n",
      "       [0.],\n",
      "       [0.],\n",
      "       [0.],\n",
      "       [0.],\n",
      "       [0.],\n",
      "       [0.],\n",
      "       [0.],\n",
      "       [0.],\n",
      "       [0.],\n",
      "       [0.],\n",
      "       [0.],\n",
      "       [0.],\n",
      "       [0.],\n",
      "       [0.],\n",
      "       [0.],\n",
      "       [0.],\n",
      "       [0.],\n",
      "       [0.],\n",
      "       [0.],\n",
      "       [0.],\n",
      "       [0.],\n",
      "       [0.],\n",
      "       [0.],\n",
      "       [0.],\n",
      "       [0.],\n",
      "       [0.],\n",
      "       [0.],\n",
      "       [0.],\n",
      "       [0.],\n",
      "       [0.],\n",
      "       [0.],\n",
      "       [0.],\n",
      "       [0.],\n",
      "       [0.],\n",
      "       [0.],\n",
      "       [0.],\n",
      "       [0.],\n",
      "       [0.],\n",
      "       [0.],\n",
      "       [0.],\n",
      "       [0.],\n",
      "       [0.],\n",
      "       [0.],\n",
      "       [0.],\n",
      "       [0.],\n",
      "       [0.],\n",
      "       [0.],\n",
      "       [0.],\n",
      "       [0.],\n",
      "       [0.],\n",
      "       [0.],\n",
      "       [0.],\n",
      "       [0.],\n",
      "       [0.],\n",
      "       [0.],\n",
      "       [0.],\n",
      "       [0.],\n",
      "       [0.],\n",
      "       [0.],\n",
      "       [0.],\n",
      "       [0.],\n",
      "       [0.],\n",
      "       [0.],\n",
      "       [0.],\n",
      "       [0.],\n",
      "       [0.],\n",
      "       [0.],\n",
      "       [0.],\n",
      "       [0.],\n",
      "       [0.],\n",
      "       [0.],\n",
      "       [0.],\n",
      "       [0.],\n",
      "       [0.],\n",
      "       [0.],\n",
      "       [0.],\n",
      "       [0.],\n",
      "       [0.],\n",
      "       [0.],\n",
      "       [0.],\n",
      "       [0.],\n",
      "       [0.],\n",
      "       [0.],\n",
      "       [0.],\n",
      "       [0.],\n",
      "       [0.],\n",
      "       [0.],\n",
      "       [0.],\n",
      "       [0.],\n",
      "       [0.],\n",
      "       [0.],\n",
      "       [0.],\n",
      "       [0.],\n",
      "       [0.],\n",
      "       [0.],\n",
      "       [0.],\n",
      "       [0.],\n",
      "       [0.],\n",
      "       [0.],\n",
      "       [0.],\n",
      "       [0.],\n",
      "       [0.],\n",
      "       [0.],\n",
      "       [0.],\n",
      "       [0.],\n",
      "       [0.],\n",
      "       [0.],\n",
      "       [0.],\n",
      "       [0.],\n",
      "       [0.],\n",
      "       [0.],\n",
      "       [0.],\n",
      "       [0.],\n",
      "       [0.],\n",
      "       [0.],\n",
      "       [0.],\n",
      "       [0.],\n",
      "       [0.],\n",
      "       [0.],\n",
      "       [0.],\n",
      "       [0.],\n",
      "       [0.],\n",
      "       [0.],\n",
      "       [0.],\n",
      "       [0.],\n",
      "       [0.],\n",
      "       [0.],\n",
      "       [0.],\n",
      "       [0.],\n",
      "       [0.],\n",
      "       [0.],\n",
      "       [0.],\n",
      "       [0.],\n",
      "       [0.],\n",
      "       [0.],\n",
      "       [0.],\n",
      "       [0.],\n",
      "       [0.],\n",
      "       [0.],\n",
      "       [0.],\n",
      "       [0.],\n",
      "       [0.],\n",
      "       [0.],\n",
      "       [0.],\n",
      "       [0.],\n",
      "       [0.],\n",
      "       [0.],\n",
      "       [0.],\n",
      "       [0.],\n",
      "       [0.],\n",
      "       [0.],\n",
      "       [0.],\n",
      "       [0.],\n",
      "       [0.],\n",
      "       [0.],\n",
      "       [0.],\n",
      "       [0.],\n",
      "       [0.],\n",
      "       [0.],\n",
      "       [0.],\n",
      "       [0.],\n",
      "       [0.],\n",
      "       [0.],\n",
      "       [0.],\n",
      "       [0.],\n",
      "       [0.],\n",
      "       [0.],\n",
      "       [0.],\n",
      "       [0.],\n",
      "       [0.],\n",
      "       [0.],\n",
      "       [0.],\n",
      "       [0.],\n",
      "       [0.],\n",
      "       [0.],\n",
      "       [0.],\n",
      "       [0.],\n",
      "       [0.],\n",
      "       [0.],\n",
      "       [0.],\n",
      "       [0.],\n",
      "       [0.],\n",
      "       [0.],\n",
      "       [0.],\n",
      "       [0.],\n",
      "       [0.],\n",
      "       [0.],\n",
      "       [0.],\n",
      "       [0.],\n",
      "       [0.],\n",
      "       [0.],\n",
      "       [0.],\n",
      "       [0.],\n",
      "       [0.],\n",
      "       [0.],\n",
      "       [0.],\n",
      "       [0.],\n",
      "       [0.],\n",
      "       [0.],\n",
      "       [0.],\n",
      "       [0.],\n",
      "       [0.],\n",
      "       [0.],\n",
      "       [0.],\n",
      "       [0.],\n",
      "       [0.],\n",
      "       [0.],\n",
      "       [0.],\n",
      "       [0.],\n",
      "       [0.],\n",
      "       [0.],\n",
      "       [0.],\n",
      "       [0.],\n",
      "       [0.],\n",
      "       [0.],\n",
      "       [0.],\n",
      "       [0.],\n",
      "       [0.],\n",
      "       [0.],\n",
      "       [0.],\n",
      "       [0.],\n",
      "       [0.],\n",
      "       [0.],\n",
      "       [0.],\n",
      "       [0.],\n",
      "       [0.],\n",
      "       [0.],\n",
      "       [0.],\n",
      "       [0.],\n",
      "       [0.],\n",
      "       [0.],\n",
      "       [0.],\n",
      "       [0.],\n",
      "       [0.],\n",
      "       [0.],\n",
      "       [0.],\n",
      "       [0.],\n",
      "       [0.],\n",
      "       [0.],\n",
      "       [0.],\n",
      "       [0.],\n",
      "       [0.],\n",
      "       [0.],\n",
      "       [0.],\n",
      "       [0.],\n",
      "       [0.],\n",
      "       [0.],\n",
      "       [0.],\n",
      "       [0.],\n",
      "       [0.],\n",
      "       [0.],\n",
      "       [0.],\n",
      "       [0.],\n",
      "       [0.],\n",
      "       [0.],\n",
      "       [0.],\n",
      "       [0.],\n",
      "       [0.],\n",
      "       [0.],\n",
      "       [0.],\n",
      "       [0.],\n",
      "       [0.],\n",
      "       [0.],\n",
      "       [0.],\n",
      "       [0.],\n",
      "       [0.],\n",
      "       [0.],\n",
      "       [0.],\n",
      "       [0.],\n",
      "       [0.],\n",
      "       [0.],\n",
      "       [0.],\n",
      "       [0.],\n",
      "       [0.],\n",
      "       [0.],\n",
      "       [0.],\n",
      "       [0.]])\n"
     ]
    },
    {
     "name": "stdout",
     "output_type": "stream",
     "text": [
      "ipdb> input_vector.dot(powers[l][:,None]).shape\n",
      "*** ValueError: shapes (1000,) and (1000,1,1000) not aligned: 1000 (dim 0) != 1 (dim 1)\n",
      "ipdb> input_vector.dot(powers[l])[:,None].shape\n",
      "(1000, 1)\n",
      "ipdb> exit\n"
     ]
    }
   ],
   "source": [
    "%debug"
   ]
  },
  {
   "cell_type": "code",
   "execution_count": null,
   "metadata": {},
   "outputs": [],
   "source": [
    "m = cl.BipartiteGraphEnsemble(1000,400)\n",
    "m.fit([const.BipartiteOutDegreeSequence(bp_dout),const.BipartiteInDegreeSequence(bp_din)], opt_kwargs={'nit':100,'fatol':1e-2,'disp':True})"
   ]
  }
 ],
 "metadata": {
  "kernelspec": {
   "display_name": "claude",
   "language": "python",
   "name": "claude"
  },
  "toc": {
   "base_numbering": 1,
   "nav_menu": {},
   "number_sections": true,
   "sideBar": true,
   "skip_h1_title": false,
   "title_cell": "Table of Contents",
   "title_sidebar": "Contents",
   "toc_cell": false,
   "toc_position": {},
   "toc_section_display": true,
   "toc_window_display": false
  },
  "varInspector": {
   "cols": {
    "lenName": 16,
    "lenType": 16,
    "lenVar": 40
   },
   "kernels_config": {
    "python": {
     "delete_cmd_postfix": "",
     "delete_cmd_prefix": "del ",
     "library": "var_list.py",
     "varRefreshCmd": "print(var_dic_list())"
    },
    "r": {
     "delete_cmd_postfix": ") ",
     "delete_cmd_prefix": "rm(",
     "library": "var_list.r",
     "varRefreshCmd": "cat(var_dic_list()) "
    }
   },
   "types_to_exclude": [
    "module",
    "function",
    "builtin_function_or_method",
    "instance",
    "_Feature"
   ],
   "window_display": false
  }
 },
 "nbformat": 4,
 "nbformat_minor": 2
}
