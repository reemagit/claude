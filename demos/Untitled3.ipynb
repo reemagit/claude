{
 "cells": [
  {
   "cell_type": "code",
   "execution_count": 1,
   "metadata": {
    "ExecuteTime": {
     "end_time": "2020-12-27T22:53:03.830871Z",
     "start_time": "2020-12-27T22:52:56.961263Z"
    }
   },
   "outputs": [
    {
     "data": {
      "text/html": [
       "<style>.container { width:100% !important; }</style>"
      ],
      "text/plain": [
       "<IPython.core.display.HTML object>"
      ]
     },
     "metadata": {},
     "output_type": "display_data"
    }
   ],
   "source": [
    "import jax.numpy as jnp\n",
    "from jax import grad, jit, vmap, jacfwd, jacrev\n",
    "from jax import random\n",
    "import matplotlib.pyplot as plt\n",
    "import matplotlib\n",
    "from mpl_toolkits.axes_grid1 import make_axes_locatable\n",
    "import networkx as nx\n",
    "import pandas as pd\n",
    "from tqdm.auto import tqdm, trange\n",
    "from scipy.sparse import csc_matrix\n",
    "from IPython.core.display import display, HTML\n",
    "display(HTML(\"<style>.container { width:100% !important; }</style>\"))"
   ]
  },
  {
   "cell_type": "code",
   "execution_count": 2,
   "metadata": {
    "ExecuteTime": {
     "end_time": "2020-12-27T22:53:03.848166Z",
     "start_time": "2020-12-27T22:53:03.845344Z"
    }
   },
   "outputs": [],
   "source": [
    "from scipy import sparse as sp"
   ]
  },
  {
   "cell_type": "code",
   "execution_count": 3,
   "metadata": {
    "ExecuteTime": {
     "end_time": "2020-12-27T22:53:03.914134Z",
     "start_time": "2020-12-27T22:53:03.860679Z"
    }
   },
   "outputs": [],
   "source": [
    "import claude as cl\n",
    "from claude import observables as obs\n",
    "from claude import constraints as const"
   ]
  },
  {
   "cell_type": "code",
   "execution_count": 4,
   "metadata": {
    "ExecuteTime": {
     "end_time": "2020-12-27T22:53:03.940572Z",
     "start_time": "2020-12-27T22:53:03.933474Z"
    }
   },
   "outputs": [
    {
     "data": {
      "text/plain": [
       "<module 'claude.constraints' from '/Users/reema/Postdoc/Progetti/MAXENT/claude/claude/constraints.py'>"
      ]
     },
     "execution_count": 4,
     "metadata": {},
     "output_type": "execute_result"
    }
   ],
   "source": [
    "from importlib import reload\n",
    "reload(obs)\n",
    "reload(cl)\n",
    "reload(const)"
   ]
  },
  {
   "cell_type": "code",
   "execution_count": 5,
   "metadata": {
    "ExecuteTime": {
     "end_time": "2020-12-27T22:53:04.916675Z",
     "start_time": "2020-12-27T22:53:03.972160Z"
    }
   },
   "outputs": [],
   "source": [
    "\n",
    "N = 1000\n",
    "ba = nx.erdos_renyi_graph(N,0.1)\n",
    "gn = nx.scale_free_graph(1000)\n",
    "bp = nx.bipartite.random_graph(1000,400,0.1)\n",
    "ba_adj = np.asarray(nx.adj_matrix(ba).todense())\n",
    "gn_adj = np.sign(np.asarray(nx.adj_matrix(gn).todense()))\n",
    "bp_adj = np.asarray(nx.adj_matrix(bp).todense())[:1000,1000:]\n",
    "d = np.array(ba_adj.sum(axis=0)).flatten()\n",
    "dinv = 1/d\n",
    "\n",
    "din = np.array(gn_adj.sum(axis=0)).flatten()\n",
    "dout = np.array(gn_adj.sum(axis=1)).flatten()\n",
    "\n",
    "bp_din = np.array(bp_adj.sum(axis=0)).flatten()\n",
    "bp_dout = np.array(bp_adj.sum(axis=1)).flatten()"
   ]
  },
  {
   "cell_type": "code",
   "execution_count": 6,
   "metadata": {
    "ExecuteTime": {
     "end_time": "2020-12-27T22:53:04.975797Z",
     "start_time": "2020-12-27T22:53:04.972021Z"
    }
   },
   "outputs": [],
   "source": [
    "def plot_adj(adj, vmax=1):\n",
    "    plt.imshow(adj,cmap=matplotlib.cm.get_cmap('gray_r'),vmin=0,vmax=vmax)\n",
    "    plt.colorbar()"
   ]
  },
  {
   "cell_type": "markdown",
   "metadata": {},
   "source": [
    "# Test"
   ]
  },
  {
   "cell_type": "code",
   "execution_count": 7,
   "metadata": {
    "ExecuteTime": {
     "end_time": "2020-11-19T16:45:58.209636Z",
     "start_time": "2020-11-19T16:45:58.205796Z"
    }
   },
   "outputs": [],
   "source": [
    "m1 = cl.GraphEnsemble(1000)\n",
    "m2 = cl.BipartiteGraphEnsemble(1000,400)\n",
    "ges = cl.GraphEnsembleSet([m1,m2],[['proteins','proteins'],['proteins','mirna']])\n",
    "#m.fit([const.DegreeSequence(d)], opt_kwargs={'nit':100,'fatol':1e-2,'disp':True})\n",
    "#m.fit([const.BipartiteOutDegreeSequence(bp_dout),const.BipartiteInDegreeSequence(bp_din)], opt_kwargs={'nit':100,'fatol':1e-2,'disp':True})"
   ]
  },
  {
   "cell_type": "code",
   "execution_count": 8,
   "metadata": {
    "ExecuteTime": {
     "end_time": "2020-11-19T07:24:38.804886Z",
     "start_time": "2020-11-19T07:24:31.627306Z"
    }
   },
   "outputs": [
    {
     "name": "stdout",
     "output_type": "stream",
     "text": [
      "0:  |F(x)| = 23.9007; step 1\n",
      "1:  |F(x)| = 11.7973; step 1\n",
      "2:  |F(x)| = 3.50258; step 1\n",
      "3:  |F(x)| = 1.09361; step 1\n",
      "4:  |F(x)| = 0.218471; step 1\n",
      "5:  |F(x)| = 0.273144; step 1\n",
      "6:  |F(x)| = 0.0874826; step 1\n",
      "7:  |F(x)| = 0.01761; step 1\n",
      "8:  |F(x)| = 0.00401002; step 1\n",
      "9:  |F(x)| = 0.00247286; step 1\n",
      "10:  |F(x)| = 0.000592961; step 1\n",
      "11:  |F(x)| = 6.57082e-05; step 1\n",
      "12:  |F(x)| = 3.40112e-05; step 1\n",
      "13:  |F(x)| = 1.76952e-05; step 1\n",
      "14:  |F(x)| = 3.81353e-06; step 1\n",
      "15:  |F(x)| = 9.21373e-07; step 1\n",
      "16:  |F(x)| = 3.05788e-07; step 1\n",
      "17:  |F(x)| = 1.14055e-07; step 1\n",
      "18:  |F(x)| = 2.00595e-08; step 1\n",
      "19:  |F(x)| = 5.34422e-09; step 1\n",
      "20:  |F(x)| = 2.09315e-09; step 1\n",
      "21:  |F(x)| = 7.00041e-10; step 1\n",
      "22:  |F(x)| = 2.11358e-10; step 1\n",
      "23:  |F(x)| = 1.09154e-10; step 1\n",
      "24:  |F(x)| = 4.29452e-11; step 1\n",
      "25:  |F(x)| = 1.73088e-11; step 1\n",
      "26:  |F(x)| = 4.34852e-12; step 1\n",
      "27:  |F(x)| = 2.41585e-12; step 1\n",
      "28:  |F(x)| = 7.95808e-13; step 1\n",
      "29:  |F(x)| = 2.55795e-13; step 1\n",
      "30:  |F(x)| = 9.9476e-14; step 1\n",
      "31:  |F(x)| = 5.68434e-14; step 1\n",
      "0:  |F(x)| = 25.9867; step 0.116329\n",
      "1:  |F(x)| = 40.9218; step 1\n",
      "2:  |F(x)| = 44.5137; step 1\n",
      "3:  |F(x)| = 9.77705; step 1\n",
      "4:  |F(x)| = 8.86359; step 1\n",
      "5:  |F(x)| = 1.28374; step 1\n",
      "6:  |F(x)| = 0.652473; step 1\n",
      "7:  |F(x)| = 0.545455; step 1\n",
      "8:  |F(x)| = 0.247271; step 1\n",
      "9:  |F(x)| = 0.0411026; step 1\n",
      "10:  |F(x)| = 0.0667203; step 1\n",
      "11:  |F(x)| = 0.0638535; step 1\n",
      "12:  |F(x)| = 0.0222066; step 1\n",
      "13:  |F(x)| = 0.0036765; step 1\n",
      "14:  |F(x)| = 0.00475313; step 1\n",
      "15:  |F(x)| = 0.00210108; step 1\n",
      "16:  |F(x)| = 0.000615915; step 1\n",
      "17:  |F(x)| = 0.00023092; step 1\n",
      "18:  |F(x)| = 0.000203901; step 1\n",
      "19:  |F(x)| = 0.000141404; step 1\n",
      "20:  |F(x)| = 8.51992e-05; step 1\n",
      "21:  |F(x)| = 7.13544e-06; step 1\n",
      "22:  |F(x)| = 1.11995e-05; step 1\n",
      "23:  |F(x)| = 5.66937e-06; step 1\n",
      "24:  |F(x)| = 2.63286e-06; step 1\n",
      "25:  |F(x)| = 1.13902e-06; step 1\n",
      "26:  |F(x)| = 9.3853e-07; step 1\n",
      "27:  |F(x)| = 5.00104e-07; step 1\n",
      "28:  |F(x)| = 1.90934e-07; step 1\n",
      "29:  |F(x)| = 5.96478e-08; step 1\n",
      "30:  |F(x)| = 3.73004e-08; step 1\n",
      "31:  |F(x)| = 2.06166e-08; step 1\n",
      "32:  |F(x)| = 8.22747e-09; step 1\n",
      "33:  |F(x)| = 6.33767e-09; step 1\n",
      "34:  |F(x)| = 4.61995e-09; step 1\n",
      "35:  |F(x)| = 2.47763e-09; step 1\n",
      "36:  |F(x)| = 7.28562e-10; step 1\n",
      "37:  |F(x)| = 4.41119e-10; step 1\n",
      "38:  |F(x)| = 2.02803e-10; step 1\n",
      "39:  |F(x)| = 6.66347e-11; step 1\n",
      "40:  |F(x)| = 2.34479e-11; step 1\n",
      "41:  |F(x)| = 3.76303e-11; step 1\n",
      "42:  |F(x)| = 2.26521e-11; step 1\n",
      "43:  |F(x)| = 7.81597e-12; step 1\n",
      "44:  |F(x)| = 4.22062e-12; step 1\n",
      "45:  |F(x)| = 1.33582e-12; step 1\n",
      "46:  |F(x)| = 7.38964e-13; step 1\n",
      "47:  |F(x)| = 8.2423e-13; step 1\n",
      "48:  |F(x)| = 3.41061e-13; step 1\n",
      "49:  |F(x)| = 4.83169e-13; step 1\n",
      "50:  |F(x)| = 4.40536e-13; step 1\n",
      "51:  |F(x)| = 3.55271e-13; step 1\n",
      "52:  |F(x)| = 4.12115e-13; step 0.391889\n",
      "53:  |F(x)| = 4.12115e-13; step 0.0247255\n",
      "54:  |F(x)| = 4.83169e-13; step 1\n",
      "55:  |F(x)| = 3.41061e-13; step 0.494356\n",
      "56:  |F(x)| = 3.41061e-13; step 0.0337935\n",
      "57:  |F(x)| = 3.41061e-13; step 0.0586174\n",
      "58:  |F(x)| = 3.41061e-13; step 0.0653557\n",
      "59:  |F(x)| = 4.26326e-13; step 0.0967217\n",
      "60:  |F(x)| = 4.12115e-13; step 0.0369048\n",
      "61:  |F(x)| = 1.7053e-13; step 0.0328327\n",
      "62:  |F(x)| = 1.7053e-13; step 0.0244622\n",
      "63:  |F(x)| = 7.38964e-13; step 1\n",
      "64:  |F(x)| = 4.54747e-13; step 1\n",
      "65:  |F(x)| = 4.26326e-13; step 1\n",
      "66:  |F(x)| = 3.69482e-13; step 1\n",
      "67:  |F(x)| = 4.40536e-13; step 0.435152\n",
      "68:  |F(x)| = 4.40536e-13; step 0.0528362\n",
      "69:  |F(x)| = 4.40536e-13; step 0.0905542\n",
      "70:  |F(x)| = 4.26326e-13; step 0.112713\n",
      "71:  |F(x)| = 2.98428e-13; step 0.0593268\n",
      "72:  |F(x)| = 2.98428e-13; step 0.061367\n",
      "73:  |F(x)| = 1.98952e-13; step 0.0397596\n",
      "74:  |F(x)| = 1.98952e-13; step 0.0383295\n",
      "75:  |F(x)| = 4.26326e-13; step 1\n",
      "76:  |F(x)| = 3.41061e-13; step 1\n",
      "77:  |F(x)| = 4.68958e-13; step 1\n",
      "78:  |F(x)| = 4.40536e-13; step 0.390773\n",
      "79:  |F(x)| = 4.40536e-13; step 0.0683555\n",
      "80:  |F(x)| = 7.67386e-13; step 1\n",
      "81:  |F(x)| = 4.83169e-13; step 0.122582\n",
      "82:  |F(x)| = 7.24754e-13; step 1\n",
      "83:  |F(x)| = 3.41061e-13; step 1\n",
      "84:  |F(x)| = 3.41061e-13; step 0.237858\n",
      "85:  |F(x)| = 3.41061e-13; step 0.265091\n",
      "86:  |F(x)| = 3.41061e-13; step 0.010627\n",
      "87:  |F(x)| = 4.26326e-13; step 1\n",
      "88:  |F(x)| = 4.12115e-13; step 0.117514\n",
      "89:  |F(x)| = 4.12115e-13; step 0.138547\n",
      "90:  |F(x)| = 3.97904e-13; step 0.236135\n",
      "91:  |F(x)| = 3.69482e-13; step 0.165443\n",
      "92:  |F(x)| = 4.26326e-13; step 0.155144\n",
      "93:  |F(x)| = 3.69482e-13; step 0.0713173\n",
      "94:  |F(x)| = 3.41061e-13; step 0.0329301\n",
      "95:  |F(x)| = 1.08002e-12; step 1\n",
      "96:  |F(x)| = 5.40012e-13; step 1\n",
      "97:  |F(x)| = 5.40012e-13; step 0.419852\n",
      "98:  |F(x)| = 4.26326e-13; step 0.458526\n",
      "99:  |F(x)| = 4.40536e-13; step 0.308737\n"
     ]
    }
   ],
   "source": [
    "ges.fit([[const.DegreeSequence(d)],[const.BipartiteOutDegreeSequence(bp_dout),const.BipartiteInDegreeSequence(bp_din)]], opt_kwargs=[{'nit':32,'fatol':1e-2,'disp':True},{'nit':100,'fatol':1e-2,'disp':True}])\n"
   ]
  },
  {
   "cell_type": "markdown",
   "metadata": {},
   "source": [
    "# One step"
   ]
  },
  {
   "cell_type": "code",
   "execution_count": 25,
   "metadata": {
    "ExecuteTime": {
     "end_time": "2020-11-19T07:29:09.408703Z",
     "start_time": "2020-11-19T07:29:09.403187Z"
    }
   },
   "outputs": [],
   "source": [
    "def propagate_nstep(adj,x,n):\n",
    "    spadj = sp.csr_matrix(adj)**n\n",
    "    return spadj.T.dot(x)\n",
    "x = np.zeros(1000)\n",
    "y = np.zeros(1000)\n",
    "x[:20] = 1.\n",
    "y[100:110]=1."
   ]
  },
  {
   "cell_type": "code",
   "execution_count": 26,
   "metadata": {
    "ExecuteTime": {
     "end_time": "2020-11-19T07:29:21.779629Z",
     "start_time": "2020-11-19T07:29:10.569073Z"
    }
   },
   "outputs": [
    {
     "data": {
      "application/vnd.jupyter.widget-view+json": {
       "model_id": "0fb7bd5d36884135b987585b4fcdb336",
       "version_major": 2,
       "version_minor": 0
      },
      "text/plain": [
       "HBox(children=(HTML(value=''), FloatProgress(value=0.0, max=1000.0), HTML(value='')))"
      ]
     },
     "metadata": {},
     "output_type": "display_data"
    },
    {
     "name": "stdout",
     "output_type": "stream",
     "text": [
      "\n"
     ]
    },
    {
     "ename": "KeyboardInterrupt",
     "evalue": "",
     "output_type": "error",
     "traceback": [
      "\u001b[0;31m---------------------------------------------------------------------------\u001b[0m",
      "\u001b[0;31mKeyboardInterrupt\u001b[0m                         Traceback (most recent call last)",
      "\u001b[0;32m<ipython-input-26-41e953221216>\u001b[0m in \u001b[0;36m<module>\u001b[0;34m\u001b[0m\n\u001b[1;32m      2\u001b[0m \u001b[0mvals\u001b[0m \u001b[0;34m=\u001b[0m \u001b[0mnp\u001b[0m\u001b[0;34m.\u001b[0m\u001b[0mzeros\u001b[0m\u001b[0;34m(\u001b[0m\u001b[0;34m[\u001b[0m\u001b[0;36m1000\u001b[0m\u001b[0;34m,\u001b[0m\u001b[0;36m1000\u001b[0m\u001b[0;34m]\u001b[0m\u001b[0;34m)\u001b[0m\u001b[0;34m\u001b[0m\u001b[0;34m\u001b[0m\u001b[0m\n\u001b[1;32m      3\u001b[0m \u001b[0;32mfor\u001b[0m \u001b[0mi\u001b[0m \u001b[0;32min\u001b[0m \u001b[0mtrange\u001b[0m\u001b[0;34m(\u001b[0m\u001b[0mvals\u001b[0m\u001b[0;34m.\u001b[0m\u001b[0mshape\u001b[0m\u001b[0;34m[\u001b[0m\u001b[0;36m0\u001b[0m\u001b[0;34m]\u001b[0m\u001b[0;34m)\u001b[0m\u001b[0;34m:\u001b[0m\u001b[0;34m\u001b[0m\u001b[0;34m\u001b[0m\u001b[0m\n\u001b[0;32m----> 4\u001b[0;31m     \u001b[0mradj\u001b[0m \u001b[0;34m=\u001b[0m \u001b[0mm1\u001b[0m\u001b[0;34m.\u001b[0m\u001b[0msample\u001b[0m\u001b[0;34m(\u001b[0m\u001b[0;34m)\u001b[0m\u001b[0;34m\u001b[0m\u001b[0;34m\u001b[0m\u001b[0m\n\u001b[0m\u001b[1;32m      5\u001b[0m     \u001b[0mvals\u001b[0m\u001b[0;34m[\u001b[0m\u001b[0mi\u001b[0m\u001b[0;34m,\u001b[0m\u001b[0;34m:\u001b[0m\u001b[0;34m]\u001b[0m \u001b[0;34m=\u001b[0m \u001b[0mpropagate_nstep\u001b[0m\u001b[0;34m(\u001b[0m\u001b[0mradj\u001b[0m\u001b[0;34m,\u001b[0m\u001b[0mx\u001b[0m\u001b[0;34m,\u001b[0m\u001b[0mlength\u001b[0m\u001b[0;34m)\u001b[0m\u001b[0;34m\u001b[0m\u001b[0;34m\u001b[0m\u001b[0m\n",
      "\u001b[0;32m~/Postdoc/Progetti/MAXENT/claude/claude/base.py\u001b[0m in \u001b[0;36msample\u001b[0;34m(self)\u001b[0m\n\u001b[1;32m     93\u001b[0m                 \u001b[0;32melse\u001b[0m\u001b[0;34m:\u001b[0m\u001b[0;34m\u001b[0m\u001b[0;34m\u001b[0m\u001b[0m\n\u001b[1;32m     94\u001b[0m                         \u001b[0ms\u001b[0m \u001b[0;34m=\u001b[0m \u001b[0mnp\u001b[0m\u001b[0;34m.\u001b[0m\u001b[0mtriu\u001b[0m\u001b[0;34m(\u001b[0m\u001b[0;34m(\u001b[0m\u001b[0mnp\u001b[0m\u001b[0;34m.\u001b[0m\u001b[0mrandom\u001b[0m\u001b[0;34m.\u001b[0m\u001b[0mrand\u001b[0m\u001b[0;34m(\u001b[0m\u001b[0mself\u001b[0m\u001b[0;34m.\u001b[0m\u001b[0mN\u001b[0m\u001b[0;34m,\u001b[0m \u001b[0mself\u001b[0m\u001b[0;34m.\u001b[0m\u001b[0mN\u001b[0m\u001b[0;34m)\u001b[0m \u001b[0;34m<=\u001b[0m \u001b[0mself\u001b[0m\u001b[0;34m.\u001b[0m\u001b[0madj_matrix\u001b[0m\u001b[0;34m)\u001b[0m\u001b[0;34m.\u001b[0m\u001b[0mastype\u001b[0m\u001b[0;34m(\u001b[0m\u001b[0mint\u001b[0m\u001b[0;34m)\u001b[0m\u001b[0;34m,\u001b[0m \u001b[0;36m1\u001b[0m\u001b[0;34m)\u001b[0m\u001b[0;34m\u001b[0m\u001b[0;34m\u001b[0m\u001b[0m\n\u001b[0;32m---> 95\u001b[0;31m                         \u001b[0;32mreturn\u001b[0m \u001b[0ms\u001b[0m \u001b[0;34m+\u001b[0m \u001b[0ms\u001b[0m\u001b[0;34m.\u001b[0m\u001b[0mT\u001b[0m\u001b[0;34m\u001b[0m\u001b[0;34m\u001b[0m\u001b[0m\n\u001b[0m\u001b[1;32m     96\u001b[0m \u001b[0;34m\u001b[0m\u001b[0m\n\u001b[1;32m     97\u001b[0m         \u001b[0;32mdef\u001b[0m \u001b[0meval_coupling_matrix\u001b[0m\u001b[0;34m(\u001b[0m\u001b[0mself\u001b[0m\u001b[0;34m,\u001b[0m \u001b[0mtheta\u001b[0m\u001b[0;34m)\u001b[0m\u001b[0;34m:\u001b[0m\u001b[0;34m\u001b[0m\u001b[0;34m\u001b[0m\u001b[0m\n",
      "\u001b[0;31mKeyboardInterrupt\u001b[0m: "
     ]
    }
   ],
   "source": [
    "length = 1\n",
    "vals = np.zeros([1000,1000])\n",
    "for i in trange(vals.shape[0]):\n",
    "    radj = m1.sample()\n",
    "    vals[i,:] = propagate_nstep(radj,x,length)"
   ]
  },
  {
   "cell_type": "code",
   "execution_count": 27,
   "metadata": {
    "ExecuteTime": {
     "end_time": "2020-11-19T07:30:07.622307Z",
     "start_time": "2020-11-19T07:29:24.135602Z"
    }
   },
   "outputs": [
    {
     "data": {
      "application/vnd.jupyter.widget-view+json": {
       "model_id": "2b2f8b6b79ca4743a996b61b3f1b48f3",
       "version_major": 2,
       "version_minor": 0
      },
      "text/plain": [
       "HBox(children=(HTML(value=''), FloatProgress(value=0.0, max=1000.0), HTML(value='')))"
      ]
     },
     "metadata": {},
     "output_type": "display_data"
    },
    {
     "name": "stdout",
     "output_type": "stream",
     "text": [
      "\n"
     ]
    }
   ],
   "source": [
    "length = 1\n",
    "vals = np.zeros(1000)\n",
    "for i in trange(vals.shape[0]):\n",
    "    radj = m1.sample()\n",
    "    vals[i] = (y*propagate_nstep(radj,x,length)).sum()"
   ]
  },
  {
   "cell_type": "code",
   "execution_count": 20,
   "metadata": {
    "ExecuteTime": {
     "end_time": "2020-11-19T01:08:01.326623Z",
     "start_time": "2020-11-19T01:08:01.137711Z"
    }
   },
   "outputs": [
    {
     "data": {
      "text/plain": [
       "[<matplotlib.lines.Line2D at 0x7fcbdb0f2eb8>]"
      ]
     },
     "execution_count": 20,
     "metadata": {},
     "output_type": "execute_result"
    },
    {
     "data": {
      "image/png": "[encoded data removed]",
      "text/plain": [
       "<Figure size 432x288 with 1 Axes>"
      ]
     },
     "metadata": {
      "needs_background": "light"
     },
     "output_type": "display_data"
    }
   ],
   "source": [
    "plt.plot(vals.mean(axis=0),m1.predict_mean(obs.SumOfPaths(x)),'.')\n",
    "plt.plot(plt.xlim(),plt.xlim())"
   ]
  },
  {
   "cell_type": "code",
   "execution_count": 28,
   "metadata": {
    "ExecuteTime": {
     "end_time": "2020-11-19T07:30:08.516246Z",
     "start_time": "2020-11-19T07:30:08.504276Z"
    }
   },
   "outputs": [
    {
     "data": {
      "text/plain": [
       "(19.396, 19.451577634030848)"
      ]
     },
     "execution_count": 28,
     "metadata": {},
     "output_type": "execute_result"
    }
   ],
   "source": [
    "vals.mean(axis=0),m1.predict_mean(obs.SumOfPaths(x,y))"
   ]
  },
  {
   "cell_type": "code",
   "execution_count": 30,
   "metadata": {
    "ExecuteTime": {
     "end_time": "2020-11-19T07:30:17.428932Z",
     "start_time": "2020-11-19T07:30:17.416784Z"
    }
   },
   "outputs": [
    {
     "data": {
      "text/plain": [
       "(4.297346157804838, 4.187520495644869)"
      ]
     },
     "execution_count": 30,
     "metadata": {},
     "output_type": "execute_result"
    }
   ],
   "source": [
    "vals.std(axis=0),m1.predict_std(obs.SumOfPaths(x,y))"
   ]
  },
  {
   "cell_type": "code",
   "execution_count": 34,
   "metadata": {
    "ExecuteTime": {
     "end_time": "2020-11-19T07:33:21.427302Z",
     "start_time": "2020-11-19T07:33:21.417011Z"
    }
   },
   "outputs": [
    {
     "data": {
      "text/plain": [
       "4.187520495644869"
      ]
     },
     "execution_count": 34,
     "metadata": {},
     "output_type": "execute_result"
    }
   ],
   "source": [
    "np.sqrt(((x[:,None]*y[None,:]*m1.sigma)**2).sum())"
   ]
  },
  {
   "cell_type": "code",
   "execution_count": 35,
   "metadata": {
    "ExecuteTime": {
     "end_time": "2020-11-19T07:34:08.836043Z",
     "start_time": "2020-11-19T07:34:08.817716Z"
    }
   },
   "outputs": [
    {
     "data": {
      "text/plain": [
       "4.187520495644869"
      ]
     },
     "execution_count": 35,
     "metadata": {},
     "output_type": "execute_result"
    }
   ],
   "source": [
    "m1.predict_std(obs.Connectivity(np.where(x)[0],np.where(y)[0]))"
   ]
  },
  {
   "cell_type": "markdown",
   "metadata": {},
   "source": [
    "# Compound propagation"
   ]
  },
  {
   "cell_type": "code",
   "execution_count": 36,
   "metadata": {
    "ExecuteTime": {
     "end_time": "2020-11-19T07:39:55.918621Z",
     "start_time": "2020-11-19T07:39:55.900436Z"
    }
   },
   "outputs": [],
   "source": [
    "def propagate_compound(adj_list,x):\n",
    "    spadjs = [sp.csr_matrix(adj) for adj in adj_list]\n",
    "    outvec = x\n",
    "    for i in range(len(adj_list)):\n",
    "        outvec = adj_list[i].T.dot(outvec)\n",
    "    return outvec\n",
    "x = np.zeros(1000)\n",
    "y = np.zeros(400)\n",
    "x[:200] = 1.\n",
    "y[200:300]=1."
   ]
  },
  {
   "cell_type": "code",
   "execution_count": 37,
   "metadata": {
    "ExecuteTime": {
     "end_time": "2020-11-19T07:40:57.632248Z",
     "start_time": "2020-11-19T07:39:59.866655Z"
    }
   },
   "outputs": [
    {
     "data": {
      "application/vnd.jupyter.widget-view+json": {
       "model_id": "a0acb4cfb2234cc4be460cbb5c6858cf",
       "version_major": 2,
       "version_minor": 0
      },
      "text/plain": [
       "HBox(children=(HTML(value=''), FloatProgress(value=0.0, max=1000.0), HTML(value='')))"
      ]
     },
     "metadata": {},
     "output_type": "display_data"
    },
    {
     "name": "stdout",
     "output_type": "stream",
     "text": [
      "\n"
     ]
    }
   ],
   "source": [
    "length = 1\n",
    "vals = np.zeros(1000)\n",
    "for i in trange(vals.shape[0]):\n",
    "    radj1 = m1.sample()\n",
    "    radj2 = m2.sample()\n",
    "    vals[i] = (y*propagate_compound([radj1,radj2],x)).sum()"
   ]
  },
  {
   "cell_type": "code",
   "execution_count": 38,
   "metadata": {
    "ExecuteTime": {
     "end_time": "2020-11-19T07:41:09.149563Z",
     "start_time": "2020-11-19T07:41:09.142659Z"
    }
   },
   "outputs": [
    {
     "data": {
      "text/plain": [
       "196494.895"
      ]
     },
     "execution_count": 38,
     "metadata": {},
     "output_type": "execute_result"
    }
   ],
   "source": [
    "vals.mean()"
   ]
  },
  {
   "cell_type": "code",
   "execution_count": 39,
   "metadata": {
    "ExecuteTime": {
     "end_time": "2020-11-19T07:41:10.652685Z",
     "start_time": "2020-11-19T07:41:10.648880Z"
    }
   },
   "outputs": [],
   "source": [
    "o = obs.CompoundObservable([obs.SumOfPaths(x), obs.SumOfPaths(None,y)],[['proteins','proteins'],['proteins','mirna']])"
   ]
  },
  {
   "cell_type": "code",
   "execution_count": 40,
   "metadata": {
    "ExecuteTime": {
     "end_time": "2020-11-19T07:41:11.484060Z",
     "start_time": "2020-11-19T07:41:11.469493Z"
    }
   },
   "outputs": [
    {
     "data": {
      "text/plain": [
       "196518.14004170787"
      ]
     },
     "execution_count": 40,
     "metadata": {},
     "output_type": "execute_result"
    }
   ],
   "source": [
    "ges.predict_mean(o)"
   ]
  },
  {
   "cell_type": "code",
   "execution_count": 41,
   "metadata": {
    "ExecuteTime": {
     "end_time": "2020-11-19T07:41:16.839205Z",
     "start_time": "2020-11-19T07:41:16.783013Z"
    }
   },
   "outputs": [
    {
     "data": {
      "text/plain": [
       "2302.8148918591346"
      ]
     },
     "execution_count": 41,
     "metadata": {},
     "output_type": "execute_result"
    }
   ],
   "source": [
    "ges.predict_std(o)"
   ]
  },
  {
   "cell_type": "code",
   "execution_count": 42,
   "metadata": {
    "ExecuteTime": {
     "end_time": "2020-11-19T07:41:21.757322Z",
     "start_time": "2020-11-19T07:41:21.753250Z"
    }
   },
   "outputs": [
    {
     "data": {
      "text/plain": [
       "2406.497303130631"
      ]
     },
     "execution_count": 42,
     "metadata": {},
     "output_type": "execute_result"
    }
   ],
   "source": [
    "vals.std()"
   ]
  },
  {
   "cell_type": "markdown",
   "metadata": {},
   "source": [
    "# Compound propagation more matrices"
   ]
  },
  {
   "cell_type": "code",
   "execution_count": 7,
   "metadata": {
    "ExecuteTime": {
     "end_time": "2020-11-19T18:00:47.257353Z",
     "start_time": "2020-11-19T18:00:46.556392Z"
    }
   },
   "outputs": [],
   "source": [
    "g1 = nx.barabasi_albert_graph(1000,20)\n",
    "g2 = nx.bipartite.random_graph(1000,400,0.1)\n",
    "g3 = nx.bipartite.random_graph(400,700,0.1)\n",
    "g4 = nx.erdos_renyi_graph(700,0.1)\n",
    "graphs = [g1,g2,g3,g4]\n",
    "adjs = [np.asarray(nx.adj_matrix(g).todense()) for g in graphs]\n",
    "adjs[1] = adjs[1][:1000,1000:]\n",
    "adjs[2] = adjs[2][:400,400:]\n",
    "d1 = np.array(adjs[0].sum(axis=0)).flatten()\n",
    "din2 = np.array(adjs[1].sum(axis=0)).flatten()\n",
    "dout2 = np.array(adjs[1].sum(axis=1)).flatten()\n",
    "din3 = np.array(adjs[2].sum(axis=0)).flatten()\n",
    "dout3 = np.array(adjs[2].sum(axis=1)).flatten()\n",
    "d4 = np.array(adjs[3].sum(axis=0)).flatten()\n"
   ]
  },
  {
   "cell_type": "code",
   "execution_count": 8,
   "metadata": {
    "ExecuteTime": {
     "end_time": "2020-11-19T18:00:48.112131Z",
     "start_time": "2020-11-19T18:00:48.107699Z"
    }
   },
   "outputs": [],
   "source": [
    "m1 = cl.GraphEnsemble(1000)\n",
    "m2 = cl.BipartiteGraphEnsemble(1000,400)\n",
    "m3 = cl.BipartiteGraphEnsemble(400,700)\n",
    "m4 = cl.GraphEnsemble(700)\n"
   ]
  },
  {
   "cell_type": "code",
   "execution_count": 9,
   "metadata": {
    "ExecuteTime": {
     "end_time": "2020-11-19T18:00:49.076497Z",
     "start_time": "2020-11-19T18:00:48.843740Z"
    }
   },
   "outputs": [
    {
     "ename": "NameError",
     "evalue": "name 'ges' is not defined",
     "output_type": "error",
     "traceback": [
      "\u001b[0;31m---------------------------------------------------------------------------\u001b[0m",
      "\u001b[0;31mNameError\u001b[0m                                 Traceback (most recent call last)",
      "\u001b[0;32m<ipython-input-9-0ae0b31b3c92>\u001b[0m in \u001b[0;36m<module>\u001b[0;34m\u001b[0m\n\u001b[0;32m----> 1\u001b[0;31m \u001b[0mges\u001b[0m\u001b[0;34m.\u001b[0m\u001b[0mcheck_consistency\u001b[0m\u001b[0;34m(\u001b[0m\u001b[0mges\u001b[0m\u001b[0;34m.\u001b[0m\u001b[0mge_list\u001b[0m\u001b[0;34m,\u001b[0m\u001b[0;34m[\u001b[0m\u001b[0;34m[\u001b[0m\u001b[0;34m'n1'\u001b[0m\u001b[0;34m,\u001b[0m\u001b[0;34m'n2'\u001b[0m\u001b[0;34m]\u001b[0m\u001b[0;34m,\u001b[0m\u001b[0;34m[\u001b[0m\u001b[0;34m'n2'\u001b[0m\u001b[0;34m,\u001b[0m\u001b[0;34m'n3'\u001b[0m\u001b[0;34m]\u001b[0m\u001b[0;34m,\u001b[0m\u001b[0;34m[\u001b[0m\u001b[0;34m'n4'\u001b[0m\u001b[0;34m,\u001b[0m\u001b[0;34m'n5'\u001b[0m\u001b[0;34m]\u001b[0m\u001b[0;34m,\u001b[0m\u001b[0;34m[\u001b[0m\u001b[0;34m'n3'\u001b[0m\u001b[0;34m,\u001b[0m\u001b[0;34m'n4'\u001b[0m\u001b[0;34m]\u001b[0m\u001b[0;34m]\u001b[0m \u001b[0;34m)\u001b[0m\u001b[0;34m\u001b[0m\u001b[0;34m\u001b[0m\u001b[0m\n\u001b[0m",
      "\u001b[0;31mNameError\u001b[0m: name 'ges' is not defined"
     ]
    }
   ],
   "source": [
    "ges.check_consistency(ges.ge_list,[['n1','n2'],['n2','n3'],['n4','n5'],['n3','n4']] )"
   ]
  },
  {
   "cell_type": "code",
   "execution_count": 10,
   "metadata": {
    "ExecuteTime": {
     "end_time": "2020-11-19T18:00:52.052599Z",
     "start_time": "2020-11-19T18:00:49.233073Z"
    }
   },
   "outputs": [
    {
     "name": "stdout",
     "output_type": "stream",
     "text": [
      "0:  |F(x)| = 89.4545; step 1\n",
      "1:  |F(x)| = 45.8853; step 1\n",
      "2:  |F(x)| = 87.1376; step 1\n",
      "3:  |F(x)| = 202.174; step 1\n",
      "4:  |F(x)| = 195.121; step 1\n",
      "5:  |F(x)| = 42.1859; step 1\n",
      "6:  |F(x)| = 31.5585; step 0.420005\n",
      "7:  |F(x)| = 3.29088; step 1\n",
      "8:  |F(x)| = 1.74145; step 1\n",
      "9:  |F(x)| = 1.50674; step 1\n",
      "10:  |F(x)| = 0.556779; step 1\n",
      "11:  |F(x)| = 0.428419; step 1\n",
      "12:  |F(x)| = 0.366823; step 1\n",
      "13:  |F(x)| = 0.140074; step 1\n",
      "14:  |F(x)| = 0.105454; step 1\n",
      "15:  |F(x)| = 0.0766483; step 1\n",
      "16:  |F(x)| = 0.061031; step 1\n",
      "17:  |F(x)| = 0.0197647; step 1\n",
      "18:  |F(x)| = 0.0169875; step 1\n",
      "19:  |F(x)| = 0.0127876; step 1\n",
      "20:  |F(x)| = 0.0054248; step 1\n",
      "21:  |F(x)| = 0.00322374; step 1\n",
      "22:  |F(x)| = 0.00277818; step 1\n",
      "23:  |F(x)| = 0.00171633; step 1\n",
      "24:  |F(x)| = 0.00127048; step 1\n",
      "25:  |F(x)| = 0.00080865; step 1\n",
      "26:  |F(x)| = 0.000729436; step 1\n",
      "27:  |F(x)| = 0.000557828; step 1\n",
      "28:  |F(x)| = 0.000383001; step 1\n",
      "29:  |F(x)| = 0.000291375; step 1\n",
      "0:  |F(x)| = 30.5888; step 0.103264\n",
      "1:  |F(x)| = 32.1508; step 1\n",
      "2:  |F(x)| = 27.6275; step 1\n",
      "3:  |F(x)| = 4.92588; step 1\n",
      "4:  |F(x)| = 4.50324; step 1\n",
      "5:  |F(x)| = 0.954262; step 1\n",
      "6:  |F(x)| = 0.841541; step 1\n",
      "7:  |F(x)| = 0.699371; step 1\n",
      "8:  |F(x)| = 0.292738; step 1\n",
      "9:  |F(x)| = 0.111767; step 1\n",
      "10:  |F(x)| = 0.0471415; step 1\n",
      "11:  |F(x)| = 0.0363063; step 1\n",
      "12:  |F(x)| = 0.00899084; step 1\n",
      "13:  |F(x)| = 0.00207387; step 1\n",
      "14:  |F(x)| = 0.00381931; step 1\n",
      "15:  |F(x)| = 0.00218203; step 1\n",
      "16:  |F(x)| = 0.00115738; step 1\n",
      "17:  |F(x)| = 0.00048303; step 1\n",
      "18:  |F(x)| = 5.68036e-05; step 1\n",
      "19:  |F(x)| = 0.000117657; step 1\n",
      "20:  |F(x)| = 5.10261e-05; step 1\n",
      "21:  |F(x)| = 1.96265e-05; step 1\n",
      "22:  |F(x)| = 1.79564e-05; step 1\n",
      "23:  |F(x)| = 1.04589e-05; step 1\n",
      "24:  |F(x)| = 4.51085e-06; step 1\n",
      "25:  |F(x)| = 1.18682e-06; step 1\n",
      "26:  |F(x)| = 8.47348e-07; step 1\n",
      "27:  |F(x)| = 3.74212e-07; step 1\n",
      "28:  |F(x)| = 2.11253e-07; step 1\n",
      "29:  |F(x)| = 6.23214e-08; step 1\n",
      "0:  |F(x)| = 16.9992; step 0.154373\n",
      "1:  |F(x)| = 7.99013; step 0.463531\n",
      "2:  |F(x)| = 10.4237; step 1\n",
      "3:  |F(x)| = 2.24223; step 1\n",
      "4:  |F(x)| = 1.539; step 1\n",
      "5:  |F(x)| = 0.733498; step 1\n",
      "6:  |F(x)| = 0.179827; step 1\n",
      "7:  |F(x)| = 0.189035; step 1\n",
      "8:  |F(x)| = 0.0539778; step 1\n",
      "9:  |F(x)| = 0.00679225; step 1\n",
      "10:  |F(x)| = 0.00703107; step 1\n",
      "11:  |F(x)| = 0.00300158; step 0.496575\n",
      "12:  |F(x)| = 0.00299572; step 1\n",
      "13:  |F(x)| = 0.000206929; step 1\n",
      "14:  |F(x)| = 6.87211e-05; step 0.302663\n",
      "15:  |F(x)| = 9.17719e-05; step 1\n",
      "16:  |F(x)| = 4.71384e-05; step 0.350886\n",
      "17:  |F(x)| = 7.59117e-06; step 1\n",
      "18:  |F(x)| = 4.96075e-06; step 1\n",
      "19:  |F(x)| = 3.98211e-06; step 1\n",
      "20:  |F(x)| = 4.41803e-06; step 1\n",
      "21:  |F(x)| = 1.39652e-06; step 1\n",
      "22:  |F(x)| = 3.10242e-07; step 1\n",
      "23:  |F(x)| = 1.96976e-07; step 1\n",
      "24:  |F(x)| = 1.63011e-07; step 1\n",
      "25:  |F(x)| = 5.01284e-08; step 1\n",
      "26:  |F(x)| = 2.04411e-08; step 1\n",
      "27:  |F(x)| = 3.38771e-08; step 1\n",
      "28:  |F(x)| = 2.49466e-08; step 1\n",
      "29:  |F(x)| = 5.48962e-09; step 1\n",
      "0:  |F(x)| = 20.5724; step 1\n",
      "1:  |F(x)| = 10.0034; step 1\n",
      "2:  |F(x)| = 3.40092; step 1\n",
      "3:  |F(x)| = 1.38869; step 0.495919\n",
      "4:  |F(x)| = 0.48753; step 1\n",
      "5:  |F(x)| = 0.224187; step 1\n",
      "6:  |F(x)| = 0.0982234; step 1\n",
      "7:  |F(x)| = 0.0111528; step 1\n",
      "8:  |F(x)| = 0.00472032; step 1\n",
      "9:  |F(x)| = 0.00314371; step 1\n",
      "10:  |F(x)| = 0.000477859; step 1\n",
      "11:  |F(x)| = 0.000197994; step 1\n",
      "12:  |F(x)| = 3.05966e-05; step 1\n",
      "13:  |F(x)| = 2.92156e-05; step 1\n",
      "14:  |F(x)| = 2.05408e-05; step 1\n",
      "15:  |F(x)| = 5.48805e-06; step 1\n",
      "16:  |F(x)| = 7.69009e-07; step 1\n",
      "17:  |F(x)| = 4.81075e-07; step 1\n",
      "18:  |F(x)| = 1.5358e-07; step 1\n",
      "19:  |F(x)| = 7.96127e-08; step 1\n",
      "20:  |F(x)| = 1.35154e-08; step 1\n",
      "21:  |F(x)| = 8.07614e-09; step 1\n",
      "22:  |F(x)| = 4.51936e-09; step 1\n",
      "23:  |F(x)| = 2.86992e-09; step 1\n",
      "24:  |F(x)| = 1.47549e-09; step 1\n",
      "25:  |F(x)| = 6.4616e-10; step 1\n",
      "26:  |F(x)| = 9.80052e-11; step 1\n",
      "27:  |F(x)| = 6.55689e-11; step 1\n",
      "28:  |F(x)| = 2.65317e-11; step 1\n",
      "29:  |F(x)| = 1.10276e-11; step 1\n"
     ]
    }
   ],
   "source": [
    "ges = cl.GraphEnsembleSet([m1,m2,m3,m4],[['n1','n2'],['n2','n3'],['n3','n4'],['n4','n5']])\n",
    "ges.fit([[const.DegreeSequence(d1)],\n",
    "         [const.BipartiteOutDegreeSequence(dout2),const.BipartiteInDegreeSequence(din2)],\n",
    "         [const.BipartiteOutDegreeSequence(dout3),const.BipartiteInDegreeSequence(din3)],\n",
    "        [const.DegreeSequence(d4)]], opt_kwargs=[{'nit':30,'fatol':1e-2,'disp':True}]*4)\n"
   ]
  },
  {
   "cell_type": "code",
   "execution_count": 11,
   "metadata": {
    "ExecuteTime": {
     "end_time": "2020-11-19T18:00:56.518150Z",
     "start_time": "2020-11-19T18:00:56.512746Z"
    }
   },
   "outputs": [],
   "source": [
    "def propagate_compound(adj_list,x):\n",
    "    spadjs = [sp.csr_matrix(adj) for adj in adj_list]\n",
    "    outvec = x\n",
    "    for i in range(len(adj_list)):\n",
    "        outvec = adj_list[i].T.dot(outvec)\n",
    "    return outvec\n",
    "x = np.zeros(1000)\n",
    "y = np.zeros(700)\n",
    "x[:200] = 1.\n",
    "x = x/x.sum()\n",
    "y[200:300]=1."
   ]
  },
  {
   "cell_type": "code",
   "execution_count": 12,
   "metadata": {
    "ExecuteTime": {
     "end_time": "2020-11-19T18:00:58.051468Z",
     "start_time": "2020-11-19T18:00:58.047800Z"
    }
   },
   "outputs": [],
   "source": [
    "def get_stochastic(m):\n",
    "    d = np.array(m.sum(axis=1)).flatten()\n",
    "    return np.asarray(m / d[:, None])"
   ]
  },
  {
   "cell_type": "code",
   "execution_count": 13,
   "metadata": {
    "ExecuteTime": {
     "end_time": "2020-11-19T18:01:08.511065Z",
     "start_time": "2020-11-19T18:00:59.529213Z"
    }
   },
   "outputs": [
    {
     "data": {
      "application/vnd.jupyter.widget-view+json": {
       "model_id": "36c3ae6992274031b48172a5f286ba25",
       "version_major": 2,
       "version_minor": 0
      },
      "text/plain": [
       "HBox(children=(HTML(value=''), FloatProgress(value=0.0), HTML(value='')))"
      ]
     },
     "metadata": {},
     "output_type": "display_data"
    },
    {
     "name": "stdout",
     "output_type": "stream",
     "text": [
      "\n"
     ]
    }
   ],
   "source": [
    "length = 1\n",
    "vals = np.zeros([100,700])\n",
    "for i in trange(vals.shape[0]):\n",
    "    radj1 = get_stochastic(m1.sample())\n",
    "    radj2 = get_stochastic(m2.sample())\n",
    "    radj3 = get_stochastic(m3.sample())\n",
    "    radj4 = get_stochastic(m4.sample())\n",
    "    vals[i,:] = propagate_compound([radj1,radj2,radj3,radj4],x)"
   ]
  },
  {
   "cell_type": "code",
   "execution_count": 46,
   "metadata": {
    "ExecuteTime": {
     "end_time": "2020-11-19T17:08:15.115957Z",
     "start_time": "2020-11-19T17:08:15.111682Z"
    }
   },
   "outputs": [
    {
     "data": {
      "text/plain": [
       "(1000,)"
      ]
     },
     "execution_count": 46,
     "metadata": {},
     "output_type": "execute_result"
    }
   ],
   "source": [
    "x.shape"
   ]
  },
  {
   "cell_type": "code",
   "execution_count": 47,
   "metadata": {
    "ExecuteTime": {
     "end_time": "2020-11-19T17:08:29.387852Z",
     "start_time": "2020-11-19T17:08:23.054524Z"
    }
   },
   "outputs": [
    {
     "data": {
      "application/vnd.jupyter.widget-view+json": {
       "model_id": "3b5905c0152944a4a52d9c886d79cecd",
       "version_major": 2,
       "version_minor": 0
      },
      "text/plain": [
       "HBox(children=(HTML(value=''), FloatProgress(value=0.0), HTML(value='')))"
      ]
     },
     "metadata": {},
     "output_type": "display_data"
    },
    {
     "name": "stdout",
     "output_type": "stream",
     "text": [
      "\n"
     ]
    }
   ],
   "source": [
    "length = 1\n",
    "vals = np.zeros([100,1000])\n",
    "for i in trange(vals.shape[0]):\n",
    "    radj1 = get_stochastic(m1.sample())\n",
    "    radj2 = get_stochastic(m2.sample())\n",
    "    radj3 = get_stochastic(m3.sample())\n",
    "    radj4 = get_stochastic(m4.sample())\n",
    "    vals[i,:] = propagate_compound([radj1],x)"
   ]
  },
  {
   "cell_type": "code",
   "execution_count": 18,
   "metadata": {
    "ExecuteTime": {
     "end_time": "2020-11-19T08:04:24.564381Z",
     "start_time": "2020-11-19T08:04:24.559656Z"
    }
   },
   "outputs": [],
   "source": []
  },
  {
   "cell_type": "code",
   "execution_count": 23,
   "metadata": {
    "ExecuteTime": {
     "end_time": "2020-11-19T08:08:38.769235Z",
     "start_time": "2020-11-19T08:08:38.692454Z"
    }
   },
   "outputs": [
    {
     "data": {
      "text/plain": [
       "(461128980.758, 461034942.66803855)"
      ]
     },
     "execution_count": 23,
     "metadata": {},
     "output_type": "execute_result"
    }
   ],
   "source": [
    "vals.mean(),ges.predict_mean(o)"
   ]
  },
  {
   "cell_type": "code",
   "execution_count": 14,
   "metadata": {
    "ExecuteTime": {
     "end_time": "2020-11-19T18:01:45.396538Z",
     "start_time": "2020-11-19T18:01:09.723758Z"
    }
   },
   "outputs": [
    {
     "data": {
      "application/vnd.jupyter.widget-view+json": {
       "model_id": "72bf288f259e403da8598a127ae877a1",
       "version_major": 2,
       "version_minor": 0
      },
      "text/plain": [
       "HBox(children=(HTML(value=''), FloatProgress(value=0.0, max=700.0), HTML(value='')))"
      ]
     },
     "metadata": {},
     "output_type": "display_data"
    },
    {
     "name": "stdout",
     "output_type": "stream",
     "text": [
      "\n"
     ]
    }
   ],
   "source": [
    "mean_theo = np.zeros(700)\n",
    "std_theo = np.zeros(700)\n",
    "for i in trange(700):\n",
    "    y = np.zeros(700)\n",
    "    y[i] = 1.\n",
    "    o = obs.CompoundObservable([obs.Propagation(x, normalized=True), obs.Propagation(normalized=True),obs.Propagation(normalized=True),obs.Propagation(None,y,normalized=True)],[['n1','n2'],['n2','n3'],['n3','n4'],['n4','n5']])\n",
    "    mean_theo[i] = ges.predict_mean(o)\n",
    "    std_theo[i] = ges.predict_std(o)"
   ]
  },
  {
   "cell_type": "code",
   "execution_count": 53,
   "metadata": {
    "ExecuteTime": {
     "end_time": "2020-11-19T17:10:01.109383Z",
     "start_time": "2020-11-19T17:09:50.828043Z"
    }
   },
   "outputs": [
    {
     "data": {
      "application/vnd.jupyter.widget-view+json": {
       "model_id": "9f445952a7514cfa9198753a780f9c57",
       "version_major": 2,
       "version_minor": 0
      },
      "text/plain": [
       "HBox(children=(HTML(value=''), FloatProgress(value=0.0, max=1000.0), HTML(value='')))"
      ]
     },
     "metadata": {},
     "output_type": "display_data"
    },
    {
     "name": "stdout",
     "output_type": "stream",
     "text": [
      "\n"
     ]
    }
   ],
   "source": [
    "std_theo = np.zeros(1000)\n",
    "mean_theo = np.zeros(1000)\n",
    "for i in trange(1000):\n",
    "    y = np.zeros(1000)\n",
    "    y[i] = 1.\n",
    "    o = obs.CompoundObservable([obs.Propagation(x, y, normalized=True)],[['n1','n2'],['n2','n3'],['n3','n4'],['n4','n5']])\n",
    "    mean_theo[i] = ges.predict_mean(o)\n",
    "    std_theo[i] = ges.predict_std(o)"
   ]
  },
  {
   "cell_type": "code",
   "execution_count": 15,
   "metadata": {
    "ExecuteTime": {
     "end_time": "2020-11-19T18:01:46.891148Z",
     "start_time": "2020-11-19T18:01:46.692957Z"
    }
   },
   "outputs": [
    {
     "data": {
      "text/plain": [
       "[<matplotlib.lines.Line2D at 0x7fd23c13e860>]"
      ]
     },
     "execution_count": 15,
     "metadata": {},
     "output_type": "execute_result"
    },
    {
     "data": {
      "image/png": "[encoded data removed]",
      "text/plain": [
       "<Figure size 432x288 with 1 Axes>"
      ]
     },
     "metadata": {
      "needs_background": "light"
     },
     "output_type": "display_data"
    }
   ],
   "source": [
    "plt.plot(vals.mean(axis=0),mean_theo,'.')\n",
    "plt.plot(plt.xlim(),plt.xlim())"
   ]
  },
  {
   "cell_type": "code",
   "execution_count": 16,
   "metadata": {
    "ExecuteTime": {
     "end_time": "2020-11-19T18:01:48.357936Z",
     "start_time": "2020-11-19T18:01:48.196718Z"
    }
   },
   "outputs": [
    {
     "data": {
      "text/plain": [
       "[<matplotlib.lines.Line2D at 0x7fd224a74f60>]"
      ]
     },
     "execution_count": 16,
     "metadata": {},
     "output_type": "execute_result"
    },
    {
     "data": {
      "image/png": "[encoded data removed]",
      "text/plain": [
       "<Figure size 432x288 with 1 Axes>"
      ]
     },
     "metadata": {
      "needs_background": "light"
     },
     "output_type": "display_data"
    }
   ],
   "source": [
    "plt.plot(vals.std(axis=0),std_theo,'.')\n",
    "plt.plot(plt.xlim(),plt.xlim())"
   ]
  },
  {
   "cell_type": "code",
   "execution_count": 29,
   "metadata": {
    "ExecuteTime": {
     "end_time": "2020-11-19T08:13:34.352652Z",
     "start_time": "2020-11-19T08:13:34.321077Z"
    }
   },
   "outputs": [
    {
     "data": {
      "text/plain": [
       "(7748765.866415226, 7236876.076995304)"
      ]
     },
     "execution_count": 29,
     "metadata": {},
     "output_type": "execute_result"
    }
   ],
   "source": [
    "vals.std(),ges.predict_std(o)"
   ]
  },
  {
   "cell_type": "markdown",
   "metadata": {
    "ExecuteTime": {
     "end_time": "2020-11-19T07:42:10.681647Z",
     "start_time": "2020-11-19T07:42:10.679023Z"
    }
   },
   "source": [
    "# NML"
   ]
  },
  {
   "cell_type": "code",
   "execution_count": null,
   "metadata": {
    "ExecuteTime": {
     "start_time": "2020-11-19T07:03:09.050Z"
    }
   },
   "outputs": [
    {
     "name": "stdout",
     "output_type": "stream",
     "text": [
      "> \u001b[0;32m/Users/reema/Postdoc/Progetti/MAXENT/claude/claude/observables.py\u001b[0m(296)\u001b[0;36mbackprop\u001b[0;34m()\u001b[0m\n",
      "\u001b[0;32m    294 \u001b[0;31m                                \u001b[0mf_args\u001b[0m \u001b[0;34m=\u001b[0m \u001b[0mlist\u001b[0m\u001b[0;34m(\u001b[0m\u001b[0mself\u001b[0m\u001b[0;34m[\u001b[0m\u001b[0mi\u001b[0m\u001b[0;34m]\u001b[0m\u001b[0;34m.\u001b[0m\u001b[0mf_args\u001b[0m\u001b[0;34m)\u001b[0m\u001b[0;34m\u001b[0m\u001b[0;34m\u001b[0m\u001b[0m\n",
      "\u001b[0m\u001b[0;32m    295 \u001b[0;31m                                \u001b[0mf_args\u001b[0m\u001b[0;34m[\u001b[0m\u001b[0mself\u001b[0m\u001b[0;34m[\u001b[0m\u001b[0mlen\u001b[0m\u001b[0;34m(\u001b[0m\u001b[0mself\u001b[0m\u001b[0;34m)\u001b[0m\u001b[0;34m-\u001b[0m\u001b[0mi\u001b[0m\u001b[0;34m-\u001b[0m\u001b[0;36m1\u001b[0m\u001b[0;34m]\u001b[0m\u001b[0;34m.\u001b[0m\u001b[0minput_variable_index\u001b[0m\u001b[0;34m]\u001b[0m \u001b[0;34m=\u001b[0m \u001b[0mobs_value\u001b[0m\u001b[0;34m\u001b[0m\u001b[0;34m\u001b[0m\u001b[0m\n",
      "\u001b[0m\u001b[0;32m--> 296 \u001b[0;31m                                \u001b[0mobs_value\u001b[0m \u001b[0;34m=\u001b[0m \u001b[0mself\u001b[0m\u001b[0;34m[\u001b[0m\u001b[0mlen\u001b[0m\u001b[0;34m(\u001b[0m\u001b[0mself\u001b[0m\u001b[0;34m)\u001b[0m\u001b[0;34m-\u001b[0m\u001b[0mi\u001b[0m\u001b[0;34m-\u001b[0m\u001b[0;36m1\u001b[0m\u001b[0;34m]\u001b[0m\u001b[0;34m.\u001b[0m\u001b[0mbackprop\u001b[0m\u001b[0;34m(\u001b[0m\u001b[0madj_list\u001b[0m\u001b[0;34m[\u001b[0m\u001b[0mlen\u001b[0m\u001b[0;34m(\u001b[0m\u001b[0mself\u001b[0m\u001b[0;34m)\u001b[0m\u001b[0;34m-\u001b[0m\u001b[0mi\u001b[0m\u001b[0;34m-\u001b[0m\u001b[0;36m1\u001b[0m\u001b[0;34m]\u001b[0m\u001b[0;34m,\u001b[0m \u001b[0;34m*\u001b[0m\u001b[0mf_args\u001b[0m\u001b[0;34m)\u001b[0m\u001b[0;34m\u001b[0m\u001b[0;34m\u001b[0m\u001b[0m\n",
      "\u001b[0m\u001b[0;32m    297 \u001b[0;31m                \u001b[0;32melif\u001b[0m \u001b[0mself\u001b[0m\u001b[0;34m.\u001b[0m\u001b[0mreduce_func\u001b[0m \u001b[0;34m==\u001b[0m \u001b[0;34m'sum'\u001b[0m\u001b[0;34m:\u001b[0m\u001b[0;34m\u001b[0m\u001b[0;34m\u001b[0m\u001b[0m\n",
      "\u001b[0m\u001b[0;32m    298 \u001b[0;31m                        \u001b[0;32mraise\u001b[0m \u001b[0mNotImplementedError\u001b[0m\u001b[0;34m\u001b[0m\u001b[0;34m\u001b[0m\u001b[0m\n",
      "\u001b[0m\n",
      "ipdb> i\n",
      "0\n",
      "ipdb> len(self)-i-1\n",
      "1\n"
     ]
    }
   ],
   "source": [
    "%debug"
   ]
  },
  {
   "cell_type": "code",
   "execution_count": null,
   "metadata": {},
   "outputs": [],
   "source": [
    "len()"
   ]
  },
  {
   "cell_type": "code",
   "execution_count": 14,
   "metadata": {
    "ExecuteTime": {
     "end_time": "2020-11-19T06:55:20.305033Z",
     "start_time": "2020-11-19T06:53:13.898631Z"
    }
   },
   "outputs": [
    {
     "name": "stdout",
     "output_type": "stream",
     "text": [
      "> \u001b[0;32m/Users/reema/Postdoc/Progetti/MAXENT/claude/claude/observables.py\u001b[0m(296)\u001b[0;36mbackprop\u001b[0;34m()\u001b[0m\n",
      "\u001b[0;32m    294 \u001b[0;31m                                \u001b[0mf_args\u001b[0m \u001b[0;34m=\u001b[0m \u001b[0mlist\u001b[0m\u001b[0;34m(\u001b[0m\u001b[0mself\u001b[0m\u001b[0;34m[\u001b[0m\u001b[0mi\u001b[0m\u001b[0;34m]\u001b[0m\u001b[0;34m.\u001b[0m\u001b[0mf_args\u001b[0m\u001b[0;34m)\u001b[0m\u001b[0;34m\u001b[0m\u001b[0;34m\u001b[0m\u001b[0m\n",
      "\u001b[0m\u001b[0;32m    295 \u001b[0;31m                                \u001b[0mf_args\u001b[0m\u001b[0;34m[\u001b[0m\u001b[0mself\u001b[0m\u001b[0;34m[\u001b[0m\u001b[0mlen\u001b[0m\u001b[0;34m(\u001b[0m\u001b[0mself\u001b[0m\u001b[0;34m)\u001b[0m\u001b[0;34m-\u001b[0m\u001b[0mi\u001b[0m\u001b[0;34m-\u001b[0m\u001b[0;36m1\u001b[0m\u001b[0;34m]\u001b[0m\u001b[0;34m.\u001b[0m\u001b[0minput_variable_index\u001b[0m\u001b[0;34m]\u001b[0m \u001b[0;34m=\u001b[0m \u001b[0mobs_value\u001b[0m\u001b[0;34m\u001b[0m\u001b[0;34m\u001b[0m\u001b[0m\n",
      "\u001b[0m\u001b[0;32m--> 296 \u001b[0;31m                                \u001b[0mobs_value\u001b[0m \u001b[0;34m=\u001b[0m \u001b[0mself\u001b[0m\u001b[0;34m[\u001b[0m\u001b[0mlen\u001b[0m\u001b[0;34m(\u001b[0m\u001b[0mself\u001b[0m\u001b[0;34m)\u001b[0m\u001b[0;34m-\u001b[0m\u001b[0mi\u001b[0m\u001b[0;34m-\u001b[0m\u001b[0;36m1\u001b[0m\u001b[0;34m]\u001b[0m\u001b[0;34m.\u001b[0m\u001b[0mbackprop\u001b[0m\u001b[0;34m(\u001b[0m\u001b[0madj_list\u001b[0m\u001b[0;34m[\u001b[0m\u001b[0mlen\u001b[0m\u001b[0;34m(\u001b[0m\u001b[0mself\u001b[0m\u001b[0;34m)\u001b[0m\u001b[0;34m-\u001b[0m\u001b[0mi\u001b[0m\u001b[0;34m-\u001b[0m\u001b[0;36m1\u001b[0m\u001b[0;34m]\u001b[0m\u001b[0;34m,\u001b[0m \u001b[0;34m*\u001b[0m\u001b[0mf_args\u001b[0m\u001b[0;34m)\u001b[0m\u001b[0;34m\u001b[0m\u001b[0;34m\u001b[0m\u001b[0m\n",
      "\u001b[0m\u001b[0;32m    297 \u001b[0;31m                \u001b[0;32melif\u001b[0m \u001b[0mself\u001b[0m\u001b[0;34m.\u001b[0m\u001b[0mreduce_func\u001b[0m \u001b[0;34m==\u001b[0m \u001b[0;34m'sum'\u001b[0m\u001b[0;34m:\u001b[0m\u001b[0;34m\u001b[0m\u001b[0;34m\u001b[0m\u001b[0m\n",
      "\u001b[0m\u001b[0;32m    298 \u001b[0;31m                        \u001b[0;32mraise\u001b[0m \u001b[0mNotImplementedError\u001b[0m\u001b[0;34m\u001b[0m\u001b[0;34m\u001b[0m\u001b[0m\n",
      "\u001b[0m\n",
      "ipdb> len(self)-i-1\n",
      "1\n",
      "ipdb> adj_list[len(self)-i-1]\n",
      "*** IndexError: list index out of range\n",
      "ipdb> len(adj_list)\n",
      "1\n",
      "ipdb> adj_list\n",
      "[array([[0.08586498, 0.09210363, 0.09567488, ..., 0.08675535, 0.08408508,\n",
      "        0.09567488],\n",
      "       [0.10801711, 0.11566162, 0.12002555, ..., 0.10910978, 0.10583119,\n",
      "        0.12002555],\n",
      "       [0.09570682, 0.10258031, 0.10651012, ..., 0.09668846, 0.09374383,\n",
      "        0.10651012],\n",
      "       ...,\n",
      "       [0.0883249 , 0.09472377, 0.0983856 , ..., 0.0892383 , 0.08649884,\n",
      "        0.0983856 ],\n",
      "       [0.10309194, 0.11043104, 0.1146232 , ..., 0.1041406 , 0.1009944 ,\n",
      "        0.1146232 ],\n",
      "       [0.08340541, 0.08948285, 0.09296289, ..., 0.08427263, 0.08167194,\n",
      "        0.09296289]])]\n",
      "ipdb> exit\n"
     ]
    }
   ],
   "source": [
    "%debug"
   ]
  },
  {
   "cell_type": "code",
   "execution_count": 23,
   "metadata": {
    "ExecuteTime": {
     "end_time": "2020-11-19T01:42:29.050543Z",
     "start_time": "2020-11-19T01:40:20.540518Z"
    }
   },
   "outputs": [
    {
     "name": "stdout",
     "output_type": "stream",
     "text": [
      "> \u001b[0;32m/Users/reema/Postdoc/Progetti/MAXENT/claude/claude/observables.py\u001b[0m(244)\u001b[0;36mfunc\u001b[0;34m()\u001b[0m\n",
      "\u001b[0;32m    242 \u001b[0;31m                \u001b[0mo\u001b[0m \u001b[0;34m=\u001b[0m \u001b[0minput_vector\u001b[0m\u001b[0;34m\u001b[0m\u001b[0;34m\u001b[0m\u001b[0m\n",
      "\u001b[0m\u001b[0;32m    243 \u001b[0;31m                \u001b[0;32mfor\u001b[0m \u001b[0mi\u001b[0m \u001b[0;32min\u001b[0m \u001b[0mrange\u001b[0m\u001b[0;34m(\u001b[0m\u001b[0mlength\u001b[0m\u001b[0;34m)\u001b[0m\u001b[0;34m:\u001b[0m\u001b[0;34m\u001b[0m\u001b[0;34m\u001b[0m\u001b[0m\n",
      "\u001b[0m\u001b[0;32m--> 244 \u001b[0;31m                        \u001b[0mo\u001b[0m \u001b[0;34m=\u001b[0m \u001b[0mo\u001b[0m\u001b[0;34m.\u001b[0m\u001b[0mdot\u001b[0m\u001b[0;34m(\u001b[0m\u001b[0madj\u001b[0m\u001b[0;34m)\u001b[0m\u001b[0;34m\u001b[0m\u001b[0;34m\u001b[0m\u001b[0m\n",
      "\u001b[0m\u001b[0;32m    245 \u001b[0;31m                \u001b[0;32mif\u001b[0m \u001b[0mproj_vector\u001b[0m \u001b[0;32mis\u001b[0m \u001b[0;32mNone\u001b[0m\u001b[0;34m:\u001b[0m\u001b[0;34m\u001b[0m\u001b[0;34m\u001b[0m\u001b[0m\n",
      "\u001b[0m\u001b[0;32m    246 \u001b[0;31m                        \u001b[0;32mreturn\u001b[0m \u001b[0mo\u001b[0m\u001b[0;34m\u001b[0m\u001b[0;34m\u001b[0m\u001b[0m\n",
      "\u001b[0m\n",
      "ipdb> o\n",
      "[array([1., 1., 1., 1., 1., 1., 1., 1., 1., 1., 1., 1., 1., 1., 1., 1., 1.,\n",
      "       1., 1., 1., 0., 0., 0., 0., 0., 0., 0., 0., 0., 0., 0., 0., 0., 0.,\n",
      "       0., 0., 0., 0., 0., 0., 0., 0., 0., 0., 0., 0., 0., 0., 0., 0., 0.,\n",
      "       0., 0., 0., 0., 0., 0., 0., 0., 0., 0., 0., 0., 0., 0., 0., 0., 0.,\n",
      "       0., 0., 0., 0., 0., 0., 0., 0., 0., 0., 0., 0., 0., 0., 0., 0., 0.,\n",
      "       0., 0., 0., 0., 0., 0., 0., 0., 0., 0., 0., 0., 0., 0., 0., 0., 0.,\n",
      "       0., 0., 0., 0., 0., 0., 0., 0., 0., 0., 0., 0., 0., 0., 0., 0., 0.,\n",
      "       0., 0., 0., 0., 0., 0., 0., 0., 0., 0., 0., 0., 0., 0., 0., 0., 0.,\n",
      "       0., 0., 0., 0., 0., 0., 0., 0., 0., 0., 0., 0., 0., 0., 0., 0., 0.,\n",
      "       0., 0., 0., 0., 0., 0., 0., 0., 0., 0., 0., 0., 0., 0., 0., 0., 0.,\n",
      "       0., 0., 0., 0., 0., 0., 0., 0., 0., 0., 0., 0., 0., 0., 0., 0., 0.,\n",
      "       0., 0., 0., 0., 0., 0., 0., 0., 0., 0., 0., 0., 0., 0., 0., 0., 0.,\n",
      "       0., 0., 0., 0., 0., 0., 0., 0., 0., 0., 0., 0., 0., 0., 0., 0., 0.,\n",
      "       0., 0., 0., 0., 0., 0., 0., 0., 0., 0., 0., 0., 0., 0., 0., 0., 0.,\n",
      "       0., 0., 0., 0., 0., 0., 0., 0., 0., 0., 0., 0., 0., 0., 0., 0., 0.,\n",
      "       0., 0., 0., 0., 0., 0., 0., 0., 0., 0., 0., 0., 0., 0., 0., 0., 0.,\n",
      "       0., 0., 0., 0., 0., 0., 0., 0., 0., 0., 0., 0., 0., 0., 0., 0., 0.,\n",
      "       0., 0., 0., 0., 0., 0., 0., 0., 0., 0., 0., 0., 0., 0., 0., 0., 0.,\n",
      "       0., 0., 0., 0., 0., 0., 0., 0., 0., 0., 0., 0., 0., 0., 0., 0., 0.,\n",
      "       0., 0., 0., 0., 0., 0., 0., 0., 0., 0., 0., 0., 0., 0., 0., 0., 0.,\n",
      "       0., 0., 0., 0., 0., 0., 0., 0., 0., 0., 0., 0., 0., 0., 0., 0., 0.,\n",
      "       0., 0., 0., 0., 0., 0., 0., 0., 0., 0., 0., 0., 0., 0., 0., 0., 0.,\n",
      "       0., 0., 0., 0., 0., 0., 0., 0., 0., 0., 0., 0., 0., 0., 0., 0., 0.,\n",
      "       0., 0., 0., 0., 0., 0., 0., 0., 0., 0., 0., 0., 0., 0., 0., 0., 0.,\n",
      "       0., 0., 0., 0., 0., 0., 0., 0., 0., 0., 0., 0., 0., 0., 0., 0., 0.,\n",
      "       0., 0., 0., 0., 0., 0., 0., 0., 0., 0., 0., 0., 0., 0., 0., 0., 0.,\n",
      "       0., 0., 0., 0., 0., 0., 0., 0., 0., 0., 0., 0., 0., 0., 0., 0., 0.,\n",
      "       0., 0., 0., 0., 0., 0., 0., 0., 0., 0., 0., 0., 0., 0., 0., 0., 0.,\n",
      "       0., 0., 0., 0., 0., 0., 0., 0., 0., 0., 0., 0., 0., 0., 0., 0., 0.,\n",
      "       0., 0., 0., 0., 0., 0., 0., 0., 0., 0., 0., 0., 0., 0., 0., 0., 0.,\n",
      "       0., 0., 0., 0., 0., 0., 0., 0., 0., 0., 0., 0., 0., 0., 0., 0., 0.,\n",
      "       0., 0., 0., 0., 0., 0., 0., 0., 0., 0., 0., 0., 0., 0., 0., 0., 0.,\n",
      "       0., 0., 0., 0., 0., 0., 0., 0., 0., 0., 0., 0., 0., 0., 0., 0., 0.,\n",
      "       0., 0., 0., 0., 0., 0., 0., 0., 0., 0., 0., 0., 0., 0., 0., 0., 0.,\n",
      "       0., 0., 0., 0., 0., 0., 0., 0., 0., 0., 0., 0., 0., 0., 0., 0., 0.,\n",
      "       0., 0., 0., 0., 0., 0., 0., 0., 0., 0., 0., 0., 0., 0., 0., 0., 0.,\n",
      "       0., 0., 0., 0., 0., 0., 0., 0., 0., 0., 0., 0., 0., 0., 0., 0., 0.,\n",
      "       0., 0., 0., 0., 0., 0., 0., 0., 0., 0., 0., 0., 0., 0., 0., 0., 0.,\n",
      "       0., 0., 0., 0., 0., 0., 0., 0., 0., 0., 0., 0., 0., 0., 0., 0., 0.,\n",
      "       0., 0., 0., 0., 0., 0., 0., 0., 0., 0., 0., 0., 0., 0., 0., 0., 0.,\n",
      "       0., 0., 0., 0., 0., 0., 0., 0., 0., 0., 0., 0., 0., 0., 0., 0., 0.,\n",
      "       0., 0., 0., 0., 0., 0., 0., 0., 0., 0., 0., 0., 0., 0., 0., 0., 0.,\n",
      "       0., 0., 0., 0., 0., 0., 0., 0., 0., 0., 0., 0., 0., 0., 0., 0., 0.,\n",
      "       0., 0., 0., 0., 0., 0., 0., 0., 0., 0., 0., 0., 0., 0., 0., 0., 0.,\n",
      "       0., 0., 0., 0., 0., 0., 0., 0., 0., 0., 0., 0., 0., 0., 0., 0., 0.,\n",
      "       0., 0., 0., 0., 0., 0., 0., 0., 0., 0., 0., 0., 0., 0., 0., 0., 0.,\n",
      "       0., 0., 0., 0., 0., 0., 0., 0., 0., 0., 0., 0., 0., 0., 0., 0., 0.,\n",
      "       0., 0., 0., 0., 0., 0., 0., 0., 0., 0., 0., 0., 0., 0., 0., 0., 0.,\n",
      "       0., 0., 0., 0., 0., 0., 0., 0., 0., 0., 0., 0., 0., 0., 0., 0., 0.,\n",
      "       0., 0., 0., 0., 0., 0., 0., 0., 0., 0., 0., 0., 0., 0., 0., 0., 0.,\n",
      "       0., 0., 0., 0., 0., 0., 0., 0., 0., 0., 0., 0., 0., 0., 0., 0., 0.,\n",
      "       0., 0., 0., 0., 0., 0., 0., 0., 0., 0., 0., 0., 0., 0., 0., 0., 0.,\n",
      "       0., 0., 0., 0., 0., 0., 0., 0., 0., 0., 0., 0., 0., 0., 0., 0., 0.,\n",
      "       0., 0., 0., 0., 0., 0., 0., 0., 0., 0., 0., 0., 0., 0., 0., 0., 0.,\n",
      "       0., 0., 0., 0., 0., 0., 0., 0., 0., 0., 0., 0., 0., 0., 0., 0., 0.,\n",
      "       0., 0., 0., 0., 0., 0., 0., 0., 0., 0., 0., 0., 0., 0., 0., 0., 0.,\n",
      "       0., 0., 0., 0., 0., 0., 0., 0., 0., 0., 0., 0., 0., 0., 0., 0., 0.,\n",
      "       0., 0., 0., 0., 0., 0., 0., 0., 0., 0., 0., 0., 0., 0., 0., 0., 0.,\n",
      "       0., 0., 0., 0., 0., 0., 0., 0., 0., 0., 0., 0., 0., 0.]), None, 1]\n",
      "ipdb> u\n",
      "> \u001b[0;32m/Users/reema/Postdoc/Progetti/MAXENT/claude/claude/observables.py\u001b[0m(278)\u001b[0;36mfunc\u001b[0;34m()\u001b[0m\n",
      "\u001b[0;32m    276 \u001b[0;31m                                \u001b[0mf_args\u001b[0m \u001b[0;34m=\u001b[0m \u001b[0mlist\u001b[0m\u001b[0;34m(\u001b[0m\u001b[0mself\u001b[0m\u001b[0;34m[\u001b[0m\u001b[0mi\u001b[0m\u001b[0;34m]\u001b[0m\u001b[0;34m.\u001b[0m\u001b[0mf_args\u001b[0m\u001b[0;34m)\u001b[0m\u001b[0;34m\u001b[0m\u001b[0;34m\u001b[0m\u001b[0m\n",
      "\u001b[0m\u001b[0;32m    277 \u001b[0;31m                                \u001b[0mf_args\u001b[0m\u001b[0;34m[\u001b[0m\u001b[0mself\u001b[0m\u001b[0;34m[\u001b[0m\u001b[0mi\u001b[0m\u001b[0;34m]\u001b[0m\u001b[0;34m.\u001b[0m\u001b[0minput_variable_index\u001b[0m\u001b[0;34m]\u001b[0m \u001b[0;34m=\u001b[0m \u001b[0mobs_value\u001b[0m\u001b[0;34m\u001b[0m\u001b[0;34m\u001b[0m\u001b[0m\n",
      "\u001b[0m\u001b[0;32m--> 278 \u001b[0;31m                                \u001b[0mobs_value\u001b[0m \u001b[0;34m=\u001b[0m \u001b[0mself\u001b[0m\u001b[0;34m[\u001b[0m\u001b[0mi\u001b[0m\u001b[0;34m]\u001b[0m\u001b[0;34m.\u001b[0m\u001b[0mfunc\u001b[0m\u001b[0;34m(\u001b[0m\u001b[0madj_list\u001b[0m\u001b[0;34m[\u001b[0m\u001b[0mi\u001b[0m\u001b[0;34m]\u001b[0m\u001b[0;34m,\u001b[0m \u001b[0mf_args\u001b[0m\u001b[0;34m)\u001b[0m\u001b[0;34m\u001b[0m\u001b[0;34m\u001b[0m\u001b[0m\n",
      "\u001b[0m\u001b[0;32m    279 \u001b[0;31m                \u001b[0;32melif\u001b[0m \u001b[0mself\u001b[0m\u001b[0;34m.\u001b[0m\u001b[0mreduce_func\u001b[0m \u001b[0;34m==\u001b[0m \u001b[0;34m'sum'\u001b[0m\u001b[0;34m:\u001b[0m\u001b[0;34m\u001b[0m\u001b[0;34m\u001b[0m\u001b[0m\n",
      "\u001b[0m\u001b[0;32m    280 \u001b[0;31m                        \u001b[0mobs_value\u001b[0m \u001b[0;34m=\u001b[0m \u001b[0mself\u001b[0m\u001b[0;34m[\u001b[0m\u001b[0;36m0\u001b[0m\u001b[0;34m]\u001b[0m\u001b[0;34m.\u001b[0m\u001b[0mfunc\u001b[0m\u001b[0;34m(\u001b[0m\u001b[0madj_list\u001b[0m\u001b[0;34m[\u001b[0m\u001b[0;36m0\u001b[0m\u001b[0;34m]\u001b[0m\u001b[0;34m,\u001b[0m \u001b[0;34m*\u001b[0m\u001b[0mself\u001b[0m\u001b[0;34m[\u001b[0m\u001b[0;36m0\u001b[0m\u001b[0;34m]\u001b[0m\u001b[0;34m.\u001b[0m\u001b[0mf_args\u001b[0m\u001b[0;34m)\u001b[0m\u001b[0;34m\u001b[0m\u001b[0;34m\u001b[0m\u001b[0m\n",
      "\u001b[0m\n",
      "ipdb> f_args\n",
      "[array([1., 1., 1., 1., 1., 1., 1., 1., 1., 1., 1., 1., 1., 1., 1., 1., 1.,\n",
      "       1., 1., 1., 0., 0., 0., 0., 0., 0., 0., 0., 0., 0., 0., 0., 0., 0.,\n",
      "       0., 0., 0., 0., 0., 0., 0., 0., 0., 0., 0., 0., 0., 0., 0., 0., 0.,\n",
      "       0., 0., 0., 0., 0., 0., 0., 0., 0., 0., 0., 0., 0., 0., 0., 0., 0.,\n",
      "       0., 0., 0., 0., 0., 0., 0., 0., 0., 0., 0., 0., 0., 0., 0., 0., 0.,\n",
      "       0., 0., 0., 0., 0., 0., 0., 0., 0., 0., 0., 0., 0., 0., 0., 0., 0.,\n",
      "       0., 0., 0., 0., 0., 0., 0., 0., 0., 0., 0., 0., 0., 0., 0., 0., 0.,\n",
      "       0., 0., 0., 0., 0., 0., 0., 0., 0., 0., 0., 0., 0., 0., 0., 0., 0.,\n",
      "       0., 0., 0., 0., 0., 0., 0., 0., 0., 0., 0., 0., 0., 0., 0., 0., 0.,\n",
      "       0., 0., 0., 0., 0., 0., 0., 0., 0., 0., 0., 0., 0., 0., 0., 0., 0.,\n",
      "       0., 0., 0., 0., 0., 0., 0., 0., 0., 0., 0., 0., 0., 0., 0., 0., 0.,\n",
      "       0., 0., 0., 0., 0., 0., 0., 0., 0., 0., 0., 0., 0., 0., 0., 0., 0.,\n",
      "       0., 0., 0., 0., 0., 0., 0., 0., 0., 0., 0., 0., 0., 0., 0., 0., 0.,\n",
      "       0., 0., 0., 0., 0., 0., 0., 0., 0., 0., 0., 0., 0., 0., 0., 0., 0.,\n",
      "       0., 0., 0., 0., 0., 0., 0., 0., 0., 0., 0., 0., 0., 0., 0., 0., 0.,\n",
      "       0., 0., 0., 0., 0., 0., 0., 0., 0., 0., 0., 0., 0., 0., 0., 0., 0.,\n",
      "       0., 0., 0., 0., 0., 0., 0., 0., 0., 0., 0., 0., 0., 0., 0., 0., 0.,\n",
      "       0., 0., 0., 0., 0., 0., 0., 0., 0., 0., 0., 0., 0., 0., 0., 0., 0.,\n",
      "       0., 0., 0., 0., 0., 0., 0., 0., 0., 0., 0., 0., 0., 0., 0., 0., 0.,\n",
      "       0., 0., 0., 0., 0., 0., 0., 0., 0., 0., 0., 0., 0., 0., 0., 0., 0.,\n",
      "       0., 0., 0., 0., 0., 0., 0., 0., 0., 0., 0., 0., 0., 0., 0., 0., 0.,\n",
      "       0., 0., 0., 0., 0., 0., 0., 0., 0., 0., 0., 0., 0., 0., 0., 0., 0.,\n",
      "       0., 0., 0., 0., 0., 0., 0., 0., 0., 0., 0., 0., 0., 0., 0., 0., 0.,\n",
      "       0., 0., 0., 0., 0., 0., 0., 0., 0., 0., 0., 0., 0., 0., 0., 0., 0.,\n",
      "       0., 0., 0., 0., 0., 0., 0., 0., 0., 0., 0., 0., 0., 0., 0., 0., 0.,\n",
      "       0., 0., 0., 0., 0., 0., 0., 0., 0., 0., 0., 0., 0., 0., 0., 0., 0.,\n",
      "       0., 0., 0., 0., 0., 0., 0., 0., 0., 0., 0., 0., 0., 0., 0., 0., 0.,\n",
      "       0., 0., 0., 0., 0., 0., 0., 0., 0., 0., 0., 0., 0., 0., 0., 0., 0.,\n",
      "       0., 0., 0., 0., 0., 0., 0., 0., 0., 0., 0., 0., 0., 0., 0., 0., 0.,\n",
      "       0., 0., 0., 0., 0., 0., 0., 0., 0., 0., 0., 0., 0., 0., 0., 0., 0.,\n",
      "       0., 0., 0., 0., 0., 0., 0., 0., 0., 0., 0., 0., 0., 0., 0., 0., 0.,\n",
      "       0., 0., 0., 0., 0., 0., 0., 0., 0., 0., 0., 0., 0., 0., 0., 0., 0.,\n",
      "       0., 0., 0., 0., 0., 0., 0., 0., 0., 0., 0., 0., 0., 0., 0., 0., 0.,\n",
      "       0., 0., 0., 0., 0., 0., 0., 0., 0., 0., 0., 0., 0., 0., 0., 0., 0.,\n",
      "       0., 0., 0., 0., 0., 0., 0., 0., 0., 0., 0., 0., 0., 0., 0., 0., 0.,\n",
      "       0., 0., 0., 0., 0., 0., 0., 0., 0., 0., 0., 0., 0., 0., 0., 0., 0.,\n",
      "       0., 0., 0., 0., 0., 0., 0., 0., 0., 0., 0., 0., 0., 0., 0., 0., 0.,\n",
      "       0., 0., 0., 0., 0., 0., 0., 0., 0., 0., 0., 0., 0., 0., 0., 0., 0.,\n",
      "       0., 0., 0., 0., 0., 0., 0., 0., 0., 0., 0., 0., 0., 0., 0., 0., 0.,\n",
      "       0., 0., 0., 0., 0., 0., 0., 0., 0., 0., 0., 0., 0., 0., 0., 0., 0.,\n",
      "       0., 0., 0., 0., 0., 0., 0., 0., 0., 0., 0., 0., 0., 0., 0., 0., 0.,\n",
      "       0., 0., 0., 0., 0., 0., 0., 0., 0., 0., 0., 0., 0., 0., 0., 0., 0.,\n",
      "       0., 0., 0., 0., 0., 0., 0., 0., 0., 0., 0., 0., 0., 0., 0., 0., 0.,\n",
      "       0., 0., 0., 0., 0., 0., 0., 0., 0., 0., 0., 0., 0., 0., 0., 0., 0.,\n",
      "       0., 0., 0., 0., 0., 0., 0., 0., 0., 0., 0., 0., 0., 0., 0., 0., 0.,\n",
      "       0., 0., 0., 0., 0., 0., 0., 0., 0., 0., 0., 0., 0., 0., 0., 0., 0.,\n",
      "       0., 0., 0., 0., 0., 0., 0., 0., 0., 0., 0., 0., 0., 0., 0., 0., 0.,\n",
      "       0., 0., 0., 0., 0., 0., 0., 0., 0., 0., 0., 0., 0., 0., 0., 0., 0.,\n",
      "       0., 0., 0., 0., 0., 0., 0., 0., 0., 0., 0., 0., 0., 0., 0., 0., 0.,\n",
      "       0., 0., 0., 0., 0., 0., 0., 0., 0., 0., 0., 0., 0., 0., 0., 0., 0.,\n",
      "       0., 0., 0., 0., 0., 0., 0., 0., 0., 0., 0., 0., 0., 0., 0., 0., 0.,\n",
      "       0., 0., 0., 0., 0., 0., 0., 0., 0., 0., 0., 0., 0., 0., 0., 0., 0.,\n",
      "       0., 0., 0., 0., 0., 0., 0., 0., 0., 0., 0., 0., 0., 0., 0., 0., 0.,\n",
      "       0., 0., 0., 0., 0., 0., 0., 0., 0., 0., 0., 0., 0., 0., 0., 0., 0.,\n",
      "       0., 0., 0., 0., 0., 0., 0., 0., 0., 0., 0., 0., 0., 0., 0., 0., 0.,\n",
      "       0., 0., 0., 0., 0., 0., 0., 0., 0., 0., 0., 0., 0., 0., 0., 0., 0.,\n",
      "       0., 0., 0., 0., 0., 0., 0., 0., 0., 0., 0., 0., 0., 0., 0., 0., 0.,\n",
      "       0., 0., 0., 0., 0., 0., 0., 0., 0., 0., 0., 0., 0., 0., 0., 0., 0.,\n",
      "       0., 0., 0., 0., 0., 0., 0., 0., 0., 0., 0., 0., 0., 0.]), None, 1]\n"
     ]
    },
    {
     "name": "stdout",
     "output_type": "stream",
     "text": [
      "ipdb> self[i].f_args\n",
      "[array([1., 1., 1., 1., 1., 1., 1., 1., 1., 1., 1., 1., 1., 1., 1., 1., 1.,\n",
      "       1., 1., 1., 0., 0., 0., 0., 0., 0., 0., 0., 0., 0., 0., 0., 0., 0.,\n",
      "       0., 0., 0., 0., 0., 0., 0., 0., 0., 0., 0., 0., 0., 0., 0., 0., 0.,\n",
      "       0., 0., 0., 0., 0., 0., 0., 0., 0., 0., 0., 0., 0., 0., 0., 0., 0.,\n",
      "       0., 0., 0., 0., 0., 0., 0., 0., 0., 0., 0., 0., 0., 0., 0., 0., 0.,\n",
      "       0., 0., 0., 0., 0., 0., 0., 0., 0., 0., 0., 0., 0., 0., 0., 0., 0.,\n",
      "       0., 0., 0., 0., 0., 0., 0., 0., 0., 0., 0., 0., 0., 0., 0., 0., 0.,\n",
      "       0., 0., 0., 0., 0., 0., 0., 0., 0., 0., 0., 0., 0., 0., 0., 0., 0.,\n",
      "       0., 0., 0., 0., 0., 0., 0., 0., 0., 0., 0., 0., 0., 0., 0., 0., 0.,\n",
      "       0., 0., 0., 0., 0., 0., 0., 0., 0., 0., 0., 0., 0., 0., 0., 0., 0.,\n",
      "       0., 0., 0., 0., 0., 0., 0., 0., 0., 0., 0., 0., 0., 0., 0., 0., 0.,\n",
      "       0., 0., 0., 0., 0., 0., 0., 0., 0., 0., 0., 0., 0., 0., 0., 0., 0.,\n",
      "       0., 0., 0., 0., 0., 0., 0., 0., 0., 0., 0., 0., 0., 0., 0., 0., 0.,\n",
      "       0., 0., 0., 0., 0., 0., 0., 0., 0., 0., 0., 0., 0., 0., 0., 0., 0.,\n",
      "       0., 0., 0., 0., 0., 0., 0., 0., 0., 0., 0., 0., 0., 0., 0., 0., 0.,\n",
      "       0., 0., 0., 0., 0., 0., 0., 0., 0., 0., 0., 0., 0., 0., 0., 0., 0.,\n",
      "       0., 0., 0., 0., 0., 0., 0., 0., 0., 0., 0., 0., 0., 0., 0., 0., 0.,\n",
      "       0., 0., 0., 0., 0., 0., 0., 0., 0., 0., 0., 0., 0., 0., 0., 0., 0.,\n",
      "       0., 0., 0., 0., 0., 0., 0., 0., 0., 0., 0., 0., 0., 0., 0., 0., 0.,\n",
      "       0., 0., 0., 0., 0., 0., 0., 0., 0., 0., 0., 0., 0., 0., 0., 0., 0.,\n",
      "       0., 0., 0., 0., 0., 0., 0., 0., 0., 0., 0., 0., 0., 0., 0., 0., 0.,\n",
      "       0., 0., 0., 0., 0., 0., 0., 0., 0., 0., 0., 0., 0., 0., 0., 0., 0.,\n",
      "       0., 0., 0., 0., 0., 0., 0., 0., 0., 0., 0., 0., 0., 0., 0., 0., 0.,\n",
      "       0., 0., 0., 0., 0., 0., 0., 0., 0., 0., 0., 0., 0., 0., 0., 0., 0.,\n",
      "       0., 0., 0., 0., 0., 0., 0., 0., 0., 0., 0., 0., 0., 0., 0., 0., 0.,\n",
      "       0., 0., 0., 0., 0., 0., 0., 0., 0., 0., 0., 0., 0., 0., 0., 0., 0.,\n",
      "       0., 0., 0., 0., 0., 0., 0., 0., 0., 0., 0., 0., 0., 0., 0., 0., 0.,\n",
      "       0., 0., 0., 0., 0., 0., 0., 0., 0., 0., 0., 0., 0., 0., 0., 0., 0.,\n",
      "       0., 0., 0., 0., 0., 0., 0., 0., 0., 0., 0., 0., 0., 0., 0., 0., 0.,\n",
      "       0., 0., 0., 0., 0., 0., 0., 0., 0., 0., 0., 0., 0., 0., 0., 0., 0.,\n",
      "       0., 0., 0., 0., 0., 0., 0., 0., 0., 0., 0., 0., 0., 0., 0., 0., 0.,\n",
      "       0., 0., 0., 0., 0., 0., 0., 0., 0., 0., 0., 0., 0., 0., 0., 0., 0.,\n",
      "       0., 0., 0., 0., 0., 0., 0., 0., 0., 0., 0., 0., 0., 0., 0., 0., 0.,\n",
      "       0., 0., 0., 0., 0., 0., 0., 0., 0., 0., 0., 0., 0., 0., 0., 0., 0.,\n",
      "       0., 0., 0., 0., 0., 0., 0., 0., 0., 0., 0., 0., 0., 0., 0., 0., 0.,\n",
      "       0., 0., 0., 0., 0., 0., 0., 0., 0., 0., 0., 0., 0., 0., 0., 0., 0.,\n",
      "       0., 0., 0., 0., 0., 0., 0., 0., 0., 0., 0., 0., 0., 0., 0., 0., 0.,\n",
      "       0., 0., 0., 0., 0., 0., 0., 0., 0., 0., 0., 0., 0., 0., 0., 0., 0.,\n",
      "       0., 0., 0., 0., 0., 0., 0., 0., 0., 0., 0., 0., 0., 0., 0., 0., 0.,\n",
      "       0., 0., 0., 0., 0., 0., 0., 0., 0., 0., 0., 0., 0., 0., 0., 0., 0.,\n",
      "       0., 0., 0., 0., 0., 0., 0., 0., 0., 0., 0., 0., 0., 0., 0., 0., 0.,\n",
      "       0., 0., 0., 0., 0., 0., 0., 0., 0., 0., 0., 0., 0., 0., 0., 0., 0.,\n",
      "       0., 0., 0., 0., 0., 0., 0., 0., 0., 0., 0., 0., 0., 0., 0., 0., 0.,\n",
      "       0., 0., 0., 0., 0., 0., 0., 0., 0., 0., 0., 0., 0., 0., 0., 0., 0.,\n",
      "       0., 0., 0., 0., 0., 0., 0., 0., 0., 0., 0., 0., 0., 0., 0., 0., 0.,\n",
      "       0., 0., 0., 0., 0., 0., 0., 0., 0., 0., 0., 0., 0., 0., 0., 0., 0.,\n",
      "       0., 0., 0., 0., 0., 0., 0., 0., 0., 0., 0., 0., 0., 0., 0., 0., 0.,\n",
      "       0., 0., 0., 0., 0., 0., 0., 0., 0., 0., 0., 0., 0., 0., 0., 0., 0.,\n",
      "       0., 0., 0., 0., 0., 0., 0., 0., 0., 0., 0., 0., 0., 0., 0., 0., 0.,\n",
      "       0., 0., 0., 0., 0., 0., 0., 0., 0., 0., 0., 0., 0., 0., 0., 0., 0.,\n",
      "       0., 0., 0., 0., 0., 0., 0., 0., 0., 0., 0., 0., 0., 0., 0., 0., 0.,\n",
      "       0., 0., 0., 0., 0., 0., 0., 0., 0., 0., 0., 0., 0., 0., 0., 0., 0.,\n",
      "       0., 0., 0., 0., 0., 0., 0., 0., 0., 0., 0., 0., 0., 0., 0., 0., 0.,\n",
      "       0., 0., 0., 0., 0., 0., 0., 0., 0., 0., 0., 0., 0., 0., 0., 0., 0.,\n",
      "       0., 0., 0., 0., 0., 0., 0., 0., 0., 0., 0., 0., 0., 0., 0., 0., 0.,\n",
      "       0., 0., 0., 0., 0., 0., 0., 0., 0., 0., 0., 0., 0., 0., 0., 0., 0.,\n",
      "       0., 0., 0., 0., 0., 0., 0., 0., 0., 0., 0., 0., 0., 0., 0., 0., 0.,\n",
      "       0., 0., 0., 0., 0., 0., 0., 0., 0., 0., 0., 0., 0., 0., 0., 0., 0.,\n",
      "       0., 0., 0., 0., 0., 0., 0., 0., 0., 0., 0., 0., 0., 0.]), None, 1]\n",
      "ipdb> exit\n"
     ]
    }
   ],
   "source": [
    "%debug"
   ]
  },
  {
   "cell_type": "code",
   "execution_count": null,
   "metadata": {
    "ExecuteTime": {
     "start_time": "2020-11-19T01:34:57.060Z"
    }
   },
   "outputs": [
    {
     "name": "stdout",
     "output_type": "stream",
     "text": [
      "> \u001b[0;32m/Users/reema/Postdoc/Progetti/MAXENT/claude/claude/base.py\u001b[0m(261)\u001b[0;36m<listcomp>\u001b[0;34m()\u001b[0m\n",
      "\u001b[0;32m    259 \u001b[0;31m\u001b[0;34m\u001b[0m\u001b[0m\n",
      "\u001b[0m\u001b[0;32m    260 \u001b[0;31m        \u001b[0;32mdef\u001b[0m \u001b[0mpredict_mean\u001b[0m\u001b[0;34m(\u001b[0m\u001b[0mself\u001b[0m\u001b[0;34m,\u001b[0m \u001b[0mobs\u001b[0m\u001b[0;34m)\u001b[0m\u001b[0;34m:\u001b[0m\u001b[0;34m\u001b[0m\u001b[0;34m\u001b[0m\u001b[0m\n",
      "\u001b[0m\u001b[0;32m--> 261 \u001b[0;31m                \u001b[0madj_list\u001b[0m \u001b[0;34m=\u001b[0m \u001b[0;34m[\u001b[0m\u001b[0mself\u001b[0m\u001b[0;34m.\u001b[0m\u001b[0mge_list\u001b[0m\u001b[0;34m.\u001b[0m\u001b[0madj_matrix\u001b[0m\u001b[0;34m[\u001b[0m\u001b[0mi\u001b[0m\u001b[0;34m]\u001b[0m \u001b[0;32mfor\u001b[0m \u001b[0mi\u001b[0m \u001b[0;32min\u001b[0m \u001b[0mrange\u001b[0m\u001b[0;34m(\u001b[0m\u001b[0mlen\u001b[0m\u001b[0;34m(\u001b[0m\u001b[0mself\u001b[0m\u001b[0;34m.\u001b[0m\u001b[0mge_list\u001b[0m\u001b[0;34m)\u001b[0m\u001b[0;34m)\u001b[0m\u001b[0;34m]\u001b[0m\u001b[0;34m\u001b[0m\u001b[0;34m\u001b[0m\u001b[0m\n",
      "\u001b[0m\u001b[0;32m    262 \u001b[0;31m                \u001b[0;32mreturn\u001b[0m \u001b[0mobs\u001b[0m\u001b[0;34m.\u001b[0m\u001b[0mfunc\u001b[0m\u001b[0;34m(\u001b[0m\u001b[0madj_list\u001b[0m\u001b[0;34m)\u001b[0m\u001b[0;34m\u001b[0m\u001b[0;34m\u001b[0m\u001b[0m\n",
      "\u001b[0m\u001b[0;32m    263 \u001b[0;31m\u001b[0;34m\u001b[0m\u001b[0m\n",
      "\u001b[0m\n",
      "ipdb> self.ge_list\n",
      "[<claude.base.GraphEnsemble object at 0x7fe777f6aba8>, <claude.base.BipartiteGraphEnsemble object at 0x7fe777f6a2e8>]\n"
     ]
    }
   ],
   "source": [
    "%debug"
   ]
  },
  {
   "cell_type": "code",
   "execution_count": null,
   "metadata": {},
   "outputs": [],
   "source": []
  },
  {
   "cell_type": "code",
   "execution_count": 22,
   "metadata": {
    "ExecuteTime": {
     "end_time": "2020-11-19T01:17:29.323840Z",
     "start_time": "2020-11-19T01:08:59.426957Z"
    }
   },
   "outputs": [
    {
     "name": "stdout",
     "output_type": "stream",
     "text": [
      "> \u001b[0;32m/Users/reema/Postdoc/Progetti/MAXENT/claude/claude/observables.py\u001b[0m(255)\u001b[0;36mgrad\u001b[0;34m()\u001b[0m\n",
      "\u001b[0;32m    253 \u001b[0;31m                \u001b[0mterm\u001b[0m \u001b[0;34m=\u001b[0m \u001b[0;36m0\u001b[0m\u001b[0;34m\u001b[0m\u001b[0;34m\u001b[0m\u001b[0m\n",
      "\u001b[0m\u001b[0;32m    254 \u001b[0;31m                \u001b[0;32mfor\u001b[0m \u001b[0ml\u001b[0m \u001b[0;32min\u001b[0m \u001b[0mrange\u001b[0m\u001b[0;34m(\u001b[0m\u001b[0mlength\u001b[0m\u001b[0;34m)\u001b[0m\u001b[0;34m:\u001b[0m\u001b[0;34m\u001b[0m\u001b[0;34m\u001b[0m\u001b[0m\n",
      "\u001b[0m\u001b[0;32m--> 255 \u001b[0;31m                        \u001b[0mterm\u001b[0m \u001b[0;34m=\u001b[0m \u001b[0mterm\u001b[0m \u001b[0;34m+\u001b[0m \u001b[0minput_vector\u001b[0m\u001b[0;34m.\u001b[0m\u001b[0mdot\u001b[0m\u001b[0;34m(\u001b[0m\u001b[0mpowers\u001b[0m\u001b[0;34m[\u001b[0m\u001b[0ml\u001b[0m\u001b[0;34m]\u001b[0m\u001b[0;34m)\u001b[0m\u001b[0;34m[\u001b[0m\u001b[0;34m:\u001b[0m\u001b[0;34m,\u001b[0m\u001b[0;32mNone\u001b[0m\u001b[0;34m]\u001b[0m \u001b[0;34m*\u001b[0m \u001b[0mpowers\u001b[0m\u001b[0;34m[\u001b[0m\u001b[0mlength\u001b[0m \u001b[0;34m-\u001b[0m \u001b[0;36m1\u001b[0m \u001b[0;34m-\u001b[0m \u001b[0ml\u001b[0m\u001b[0;34m]\u001b[0m\u001b[0;34m.\u001b[0m\u001b[0mdot\u001b[0m\u001b[0;34m(\u001b[0m\u001b[0mproj_vector\u001b[0m\u001b[0;34m)\u001b[0m\u001b[0;34m[\u001b[0m\u001b[0;32mNone\u001b[0m\u001b[0;34m,\u001b[0m \u001b[0;34m:\u001b[0m\u001b[0;34m]\u001b[0m\u001b[0;34m\u001b[0m\u001b[0;34m\u001b[0m\u001b[0m\n",
      "\u001b[0m\u001b[0;32m    256 \u001b[0;31m                \u001b[0;32mreturn\u001b[0m \u001b[0mterm\u001b[0m\u001b[0;34m\u001b[0m\u001b[0;34m\u001b[0m\u001b[0m\n",
      "\u001b[0m\u001b[0;32m    257 \u001b[0;31m\u001b[0;34m\u001b[0m\u001b[0m\n",
      "\u001b[0m\n",
      "ipdb> len(powers)\n",
      "2\n",
      "ipdb> input_vector.dot(powers[l])\n",
      "array([1., 1., 1., 1., 1., 1., 1., 1., 1., 1., 1., 1., 1., 1., 1., 1., 1.,\n",
      "       1., 1., 1., 0., 0., 0., 0., 0., 0., 0., 0., 0., 0., 0., 0., 0., 0.,\n",
      "       0., 0., 0., 0., 0., 0., 0., 0., 0., 0., 0., 0., 0., 0., 0., 0., 0.,\n",
      "       0., 0., 0., 0., 0., 0., 0., 0., 0., 0., 0., 0., 0., 0., 0., 0., 0.,\n",
      "       0., 0., 0., 0., 0., 0., 0., 0., 0., 0., 0., 0., 0., 0., 0., 0., 0.,\n",
      "       0., 0., 0., 0., 0., 0., 0., 0., 0., 0., 0., 0., 0., 0., 0., 0., 0.,\n",
      "       0., 0., 0., 0., 0., 0., 0., 0., 0., 0., 0., 0., 0., 0., 0., 0., 0.,\n",
      "       0., 0., 0., 0., 0., 0., 0., 0., 0., 0., 0., 0., 0., 0., 0., 0., 0.,\n",
      "       0., 0., 0., 0., 0., 0., 0., 0., 0., 0., 0., 0., 0., 0., 0., 0., 0.,\n",
      "       0., 0., 0., 0., 0., 0., 0., 0., 0., 0., 0., 0., 0., 0., 0., 0., 0.,\n",
      "       0., 0., 0., 0., 0., 0., 0., 0., 0., 0., 0., 0., 0., 0., 0., 0., 0.,\n",
      "       0., 0., 0., 0., 0., 0., 0., 0., 0., 0., 0., 0., 0., 0., 0., 0., 0.,\n",
      "       0., 0., 0., 0., 0., 0., 0., 0., 0., 0., 0., 0., 0., 0., 0., 0., 0.,\n",
      "       0., 0., 0., 0., 0., 0., 0., 0., 0., 0., 0., 0., 0., 0., 0., 0., 0.,\n",
      "       0., 0., 0., 0., 0., 0., 0., 0., 0., 0., 0., 0., 0., 0., 0., 0., 0.,\n",
      "       0., 0., 0., 0., 0., 0., 0., 0., 0., 0., 0., 0., 0., 0., 0., 0., 0.,\n",
      "       0., 0., 0., 0., 0., 0., 0., 0., 0., 0., 0., 0., 0., 0., 0., 0., 0.,\n",
      "       0., 0., 0., 0., 0., 0., 0., 0., 0., 0., 0., 0., 0., 0., 0., 0., 0.,\n",
      "       0., 0., 0., 0., 0., 0., 0., 0., 0., 0., 0., 0., 0., 0., 0., 0., 0.,\n",
      "       0., 0., 0., 0., 0., 0., 0., 0., 0., 0., 0., 0., 0., 0., 0., 0., 0.,\n",
      "       0., 0., 0., 0., 0., 0., 0., 0., 0., 0., 0., 0., 0., 0., 0., 0., 0.,\n",
      "       0., 0., 0., 0., 0., 0., 0., 0., 0., 0., 0., 0., 0., 0., 0., 0., 0.,\n",
      "       0., 0., 0., 0., 0., 0., 0., 0., 0., 0., 0., 0., 0., 0., 0., 0., 0.,\n",
      "       0., 0., 0., 0., 0., 0., 0., 0., 0., 0., 0., 0., 0., 0., 0., 0., 0.,\n",
      "       0., 0., 0., 0., 0., 0., 0., 0., 0., 0., 0., 0., 0., 0., 0., 0., 0.,\n",
      "       0., 0., 0., 0., 0., 0., 0., 0., 0., 0., 0., 0., 0., 0., 0., 0., 0.,\n",
      "       0., 0., 0., 0., 0., 0., 0., 0., 0., 0., 0., 0., 0., 0., 0., 0., 0.,\n",
      "       0., 0., 0., 0., 0., 0., 0., 0., 0., 0., 0., 0., 0., 0., 0., 0., 0.,\n",
      "       0., 0., 0., 0., 0., 0., 0., 0., 0., 0., 0., 0., 0., 0., 0., 0., 0.,\n",
      "       0., 0., 0., 0., 0., 0., 0., 0., 0., 0., 0., 0., 0., 0., 0., 0., 0.,\n",
      "       0., 0., 0., 0., 0., 0., 0., 0., 0., 0., 0., 0., 0., 0., 0., 0., 0.,\n",
      "       0., 0., 0., 0., 0., 0., 0., 0., 0., 0., 0., 0., 0., 0., 0., 0., 0.,\n",
      "       0., 0., 0., 0., 0., 0., 0., 0., 0., 0., 0., 0., 0., 0., 0., 0., 0.,\n",
      "       0., 0., 0., 0., 0., 0., 0., 0., 0., 0., 0., 0., 0., 0., 0., 0., 0.,\n",
      "       0., 0., 0., 0., 0., 0., 0., 0., 0., 0., 0., 0., 0., 0., 0., 0., 0.,\n",
      "       0., 0., 0., 0., 0., 0., 0., 0., 0., 0., 0., 0., 0., 0., 0., 0., 0.,\n",
      "       0., 0., 0., 0., 0., 0., 0., 0., 0., 0., 0., 0., 0., 0., 0., 0., 0.,\n",
      "       0., 0., 0., 0., 0., 0., 0., 0., 0., 0., 0., 0., 0., 0., 0., 0., 0.,\n",
      "       0., 0., 0., 0., 0., 0., 0., 0., 0., 0., 0., 0., 0., 0., 0., 0., 0.,\n",
      "       0., 0., 0., 0., 0., 0., 0., 0., 0., 0., 0., 0., 0., 0., 0., 0., 0.,\n",
      "       0., 0., 0., 0., 0., 0., 0., 0., 0., 0., 0., 0., 0., 0., 0., 0., 0.,\n",
      "       0., 0., 0., 0., 0., 0., 0., 0., 0., 0., 0., 0., 0., 0., 0., 0., 0.,\n",
      "       0., 0., 0., 0., 0., 0., 0., 0., 0., 0., 0., 0., 0., 0., 0., 0., 0.,\n",
      "       0., 0., 0., 0., 0., 0., 0., 0., 0., 0., 0., 0., 0., 0., 0., 0., 0.,\n",
      "       0., 0., 0., 0., 0., 0., 0., 0., 0., 0., 0., 0., 0., 0., 0., 0., 0.,\n",
      "       0., 0., 0., 0., 0., 0., 0., 0., 0., 0., 0., 0., 0., 0., 0., 0., 0.,\n",
      "       0., 0., 0., 0., 0., 0., 0., 0., 0., 0., 0., 0., 0., 0., 0., 0., 0.,\n",
      "       0., 0., 0., 0., 0., 0., 0., 0., 0., 0., 0., 0., 0., 0., 0., 0., 0.,\n",
      "       0., 0., 0., 0., 0., 0., 0., 0., 0., 0., 0., 0., 0., 0., 0., 0., 0.,\n",
      "       0., 0., 0., 0., 0., 0., 0., 0., 0., 0., 0., 0., 0., 0., 0., 0., 0.,\n",
      "       0., 0., 0., 0., 0., 0., 0., 0., 0., 0., 0., 0., 0., 0., 0., 0., 0.,\n",
      "       0., 0., 0., 0., 0., 0., 0., 0., 0., 0., 0., 0., 0., 0., 0., 0., 0.,\n",
      "       0., 0., 0., 0., 0., 0., 0., 0., 0., 0., 0., 0., 0., 0., 0., 0., 0.,\n",
      "       0., 0., 0., 0., 0., 0., 0., 0., 0., 0., 0., 0., 0., 0., 0., 0., 0.,\n",
      "       0., 0., 0., 0., 0., 0., 0., 0., 0., 0., 0., 0., 0., 0., 0., 0., 0.,\n",
      "       0., 0., 0., 0., 0., 0., 0., 0., 0., 0., 0., 0., 0., 0., 0., 0., 0.,\n",
      "       0., 0., 0., 0., 0., 0., 0., 0., 0., 0., 0., 0., 0., 0., 0., 0., 0.,\n",
      "       0., 0., 0., 0., 0., 0., 0., 0., 0., 0., 0., 0., 0., 0., 0., 0., 0.,\n",
      "       0., 0., 0., 0., 0., 0., 0., 0., 0., 0., 0., 0., 0., 0.])\n",
      "ipdb> exit\n"
     ]
    }
   ],
   "source": [
    "%debug"
   ]
  },
  {
   "cell_type": "code",
   "execution_count": null,
   "metadata": {},
   "outputs": [],
   "source": []
  },
  {
   "cell_type": "code",
   "execution_count": 9,
   "metadata": {
    "ExecuteTime": {
     "end_time": "2020-11-19T01:04:02.316402Z",
     "start_time": "2020-11-19T01:04:02.309724Z"
    }
   },
   "outputs": [],
   "source": [
    "def propagate_nstep(adj,x,n):\n",
    "    spadj = sp.csr_matrix(adj)**n\n",
    "    return spadj.T.dot(x)"
   ]
  },
  {
   "cell_type": "code",
   "execution_count": 144,
   "metadata": {
    "ExecuteTime": {
     "end_time": "2020-11-15T18:51:24.246138Z",
     "start_time": "2020-11-15T18:51:24.242017Z"
    }
   },
   "outputs": [],
   "source": [
    "def propagate_nstep_corr(adj,x,n):\n",
    "    spadj = sp.csr_matrix(adj)**n\n",
    "    spadj = np.asarray(spadj.todense())\n",
    "    np.fill_diagonal(spadj,adj.sum(axis=0))\n",
    "    return x.dot(spadj).flatten()"
   ]
  },
  {
   "cell_type": "code",
   "execution_count": 145,
   "metadata": {
    "ExecuteTime": {
     "end_time": "2020-11-15T18:51:25.886384Z",
     "start_time": "2020-11-15T18:51:25.875471Z"
    }
   },
   "outputs": [],
   "source": [
    "def propagate_nstep_corr2(adj,x,n):\n",
    "    spadj = sp.csr_matrix(adj)**n\n",
    "    spadj = np.asarray(spadj.todense())\n",
    "    np.fill_diagonal(spadj,adj.sum(axis=0))\n",
    "    return x.dot(spadj).flatten().sum()"
   ]
  },
  {
   "cell_type": "code",
   "execution_count": 149,
   "metadata": {
    "ExecuteTime": {
     "end_time": "2020-11-15T21:48:34.287937Z",
     "start_time": "2020-11-15T21:48:34.194132Z"
    }
   },
   "outputs": [
    {
     "data": {
      "text/plain": [
       "array([10.09827121,  9.04540432,  9.55528611, 11.38794329,  9.6572197 ,\n",
       "        9.45333829, 10.57398666,  9.86104432, 10.06481239, 11.08281285,\n",
       "       10.67577961, 10.98107526,  8.7393033 ,  9.96293541, 10.37035895,\n",
       "        9.35137623,  8.84135136,  9.6572197 ,  9.86104432, 11.08281285,\n",
       "       10.06481239,  9.35137623,  9.86104432,  9.45333829,  9.96293541,\n",
       "       10.67577961, 10.77755867, 13.11473001,  9.86104432, 10.47217978,\n",
       "       11.08281285,  8.7393033 ,  9.96293541, 10.47217978, 12.09943887,\n",
       "       10.57398666, 10.16667528,  9.96293541, 10.77755867, 10.57398666,\n",
       "        9.75913909, 12.30260252, 11.59129533,  9.75913909,  9.86104432,\n",
       "       10.47217978,  8.84135136,  9.86104432, 11.38794329,  9.75913909,\n",
       "       10.06481239, 10.16667528,  9.35137623, 10.77755867, 10.47217978,\n",
       "       10.47217978, 11.08281285, 10.87932388,  9.75913909,  9.75913909,\n",
       "       11.99783703, 11.99783703, 11.28624683,  9.45333829,  9.14740927,\n",
       "       11.28624683, 11.99783703, 10.87932388, 10.87932388,  9.6572197 ,\n",
       "        9.35137623, 12.09943887, 10.26852413, 11.48962611, 10.26852413,\n",
       "       11.28624683, 13.31763192, 10.47217978,  9.55528611,  9.75913909,\n",
       "       11.59129533, 10.16667528, 10.26852413,  9.6572197 ,  9.96293541,\n",
       "        9.2493999 , 12.20102735,  8.33096676,  9.45333829,  9.6572197 ,\n",
       "       10.47217978, 12.50571311,  9.35137623, 10.26852413, 10.57398666,\n",
       "       11.08281285, 10.16667528, 11.59129533,  9.2493999 , 10.87932388,\n",
       "       10.06481239, 10.37035895, 11.79459314, 10.77755867, 11.28624683,\n",
       "       10.16667528,  9.6572197 , 10.98107526, 11.28624683, 10.77755867,\n",
       "       10.77755867, 10.16667528,  8.84135136, 10.06481239,  9.96293541,\n",
       "       11.69295099, 11.08281285, 11.28624683, 10.26852413, 11.38794329,\n",
       "       10.47217978, 11.69295099, 10.98107526, 11.1845367 ,  9.14740927,\n",
       "        8.33096676, 11.69295099,  8.33096676,  9.14740927,  9.86104432,\n",
       "       11.38794329,  8.43307259, 10.16667528, 10.57398666, 10.26852413,\n",
       "        9.96293541, 10.67577961,  9.96293541, 10.57398666,  9.86104432,\n",
       "       10.77755867, 10.26852413,  9.6572197 ,  8.53516394,  9.35137623,\n",
       "       10.06481239, 12.09943887, 10.77755867,  9.14740927, 11.59129533,\n",
       "        8.53516394,  9.55528611, 10.06481239,  9.35137623, 10.47217978,\n",
       "       10.16667528,  9.75913909, 10.16667528, 11.59129533,  9.96293541,\n",
       "        9.2493999 , 10.06481239,  9.14740927,  9.86104432, 10.57398666,\n",
       "       10.37035895,  9.2493999 , 10.57398666, 10.06481239, 10.98107526,\n",
       "        8.43307259, 11.99783703, 11.1845367 , 10.87932388, 10.06481239,\n",
       "        8.02456223,  9.86104432,  9.6572197 , 11.48962611,  9.96293541,\n",
       "        9.2493999 , 10.37035895,  9.14740927, 10.26852413, 11.38794329,\n",
       "       10.87932388,  9.75913909, 11.69295099, 10.16667528,  9.14740927,\n",
       "       10.57398666,  9.55528611, 11.1845367 ,  9.86104432,  9.35137623,\n",
       "       11.28624683, 11.1845367 ,  9.96293541, 10.47217978,  9.6572197 ,\n",
       "       11.1845367 , 11.28624683, 10.87932388, 11.48962611, 10.67577961,\n",
       "        9.35137623,  9.6572197 , 10.57398666, 10.57398666, 12.70877098,\n",
       "        9.04540432, 11.08281285,  9.14740927, 10.57398666, 10.16667528,\n",
       "        8.94338502,  8.7393033 ,  9.35137623, 12.81028025, 10.57398666,\n",
       "       10.06481239, 10.87932388, 11.1845367 ,  9.04540432, 10.37035895,\n",
       "        7.92239831,  9.2493999 , 10.77755867, 10.16667528, 10.77755867,\n",
       "       10.47217978, 11.79459314, 11.1845367 , 11.59129533, 11.38794329,\n",
       "        9.96293541, 11.79459314,  9.6572197 ,  9.55528611,  9.2493999 ,\n",
       "        9.96293541,  8.7393033 ,  9.96293541,  9.96293541,  9.6572197 ,\n",
       "       10.26852413, 10.37035895, 10.06481239,  9.6572197 , 10.16667528,\n",
       "        8.63724084, 10.47217978, 10.26852413, 12.40416442,  9.75913909,\n",
       "        9.96293541, 10.47217978, 10.16667528, 10.77755867,  9.45333829,\n",
       "       12.30260252, 11.1845367 , 10.57398666, 10.26852413, 10.77755867,\n",
       "       10.16667528, 10.26852413, 11.79459314,  8.94338502,  9.86104432,\n",
       "        8.43307259, 11.38794329, 11.08281285, 10.16667528, 11.1845367 ,\n",
       "       11.59129533, 10.37035895,  9.35137623,  9.45333829, 10.06481239,\n",
       "       10.47217978, 10.67577961, 10.47217978,  9.75913909, 10.47217978,\n",
       "        9.75913909,  9.35137623, 10.98107526, 10.06481239,  9.75913909,\n",
       "       10.06481239, 10.57398666, 11.1845367 , 10.98107526, 11.1845367 ,\n",
       "       11.38794329, 10.37035895, 11.1845367 ,  9.96293541, 10.16667528,\n",
       "       10.57398666, 10.67577961,  9.75913909, 11.69295099, 10.16667528,\n",
       "        8.1267116 , 11.1845367 ,  9.75913909, 10.37035895, 10.98107526,\n",
       "       10.16667528,  9.75913909, 10.37035895,  9.35137623, 10.37035895,\n",
       "        8.53516394, 11.48962611, 11.28624683, 11.79459314,  9.86104432,\n",
       "        9.96293541,  9.04540432, 10.57398666, 10.67577961, 10.47217978,\n",
       "       10.47217978,  8.33096676, 11.59129533, 10.16667528,  8.22884644,\n",
       "        9.55528611,  9.86104432,  9.14740927,  9.86104432,  8.63724084,\n",
       "        9.6572197 ,  9.55528611,  9.96293541,  9.86104432, 11.08281285,\n",
       "        8.7393033 ,  9.04540432,  9.96293541, 10.67577961, 10.67577961,\n",
       "       11.69295099, 10.26852413, 13.01325973,  8.53516394, 10.26852413,\n",
       "        9.86104432, 10.87932388,  9.2493999 , 10.16667528, 11.28624683,\n",
       "        9.04540432, 12.30260252,  9.75913909, 11.48962611, 10.67577961,\n",
       "        9.6572197 , 10.37035895, 11.99783703,  9.55528611, 11.59129533,\n",
       "       10.87932388, 10.98107526, 11.59129533,  9.86104432,  9.55528611,\n",
       "       10.47217978,  8.84135136,  9.75913909, 10.16667528, 10.06481239,\n",
       "        9.6572197 , 10.57398666, 10.47217978, 10.57398666,  9.45333829,\n",
       "       10.26852413,  8.94338502, 10.26852413, 10.47217978, 11.99783703,\n",
       "        7.82021981,  9.96293541,  9.14740927,  9.45333829, 11.38794329,\n",
       "        9.96293541, 11.89622181, 11.28624683, 10.98107526,  8.94338502,\n",
       "       10.06481239, 11.99783703, 10.06481239,  9.96293541, 10.98107526,\n",
       "       10.57398666,  8.63724084, 10.57398666, 11.69295099, 10.16667528,\n",
       "        9.75913909,  9.2493999 , 10.06481239, 10.47217978, 10.26852413,\n",
       "        9.75913909, 10.67577961,  8.63724084, 10.98107526, 11.89622181,\n",
       "        8.1267116 , 13.11473001,  9.2493999 , 11.38794329,  8.94338502,\n",
       "       10.57398666,  8.63724084, 10.57398666,  9.04540432, 10.77755867,\n",
       "       12.09943887, 10.26852413, 10.67577961,  9.55528611, 10.87932388,\n",
       "        9.14740927, 10.26852413, 10.47217978,  9.2493999 , 11.08281285,\n",
       "       10.06481239, 10.47217978,  9.2493999 , 10.47217978, 10.87932388,\n",
       "        9.45333829,  8.33096676, 10.87932388, 10.06481239, 10.77755867,\n",
       "        8.63724084, 10.16667528, 10.67577961, 10.57398666, 10.06481239,\n",
       "        9.2493999 , 10.57398666,  9.04540432, 12.91177649, 10.26852413,\n",
       "       11.69295099, 10.98107526,  8.02456223, 11.38794329, 10.26852413,\n",
       "        9.45333829, 11.99783703,  9.35137623,  7.92239831,  9.96293541,\n",
       "        9.86104432, 10.16667528, 10.87932388, 10.06481239, 11.89622181,\n",
       "        9.55528611, 10.77755867, 10.57398666, 11.28624683, 10.26852413,\n",
       "       10.57398666,  8.63724084,  8.84135136, 10.37035895,  9.35137623,\n",
       "       11.89622181,  8.53516394,  9.45333829,  9.6572197 ,  9.86104432,\n",
       "        9.45333829,  9.75913909, 10.16667528, 10.16667528,  8.53516394,\n",
       "       10.06481239, 10.98107526,  8.7393033 , 10.87932388, 10.77755867,\n",
       "       10.06481239,  9.45333829, 11.1845367 ,  9.2493999 ,  8.84135136,\n",
       "       10.16667528, 10.87932388,  9.2493999 ,  9.14740927, 10.87932388,\n",
       "       12.70877098, 10.47217978, 11.1845367 , 10.06481239, 11.48962611,\n",
       "        9.86104432,  9.6572197 ,  8.84135136,  9.75913909,  9.14740927,\n",
       "       11.08281285, 11.69295099, 10.37035895,  9.04540432,  9.75913909,\n",
       "        9.86104432,  9.75913909,  9.55528611, 10.26852413,  8.63724084,\n",
       "       11.08281285,  9.45333829, 10.47217978,  9.2493999 , 10.87932388,\n",
       "       10.98107526, 11.38794329, 10.26852413,  8.94338502,  9.75913909,\n",
       "       11.28624683,  9.45333829, 10.57398666,  8.94338502,  9.14740927,\n",
       "       11.48962611, 10.37035895,  9.55528611,  9.2493999 ,  9.75913909,\n",
       "       11.28624683,  9.86104432,  8.1267116 ,  9.96293541, 10.37035895,\n",
       "       10.06481239,  9.6572197 , 10.06481239,  9.2493999 ,  8.94338502,\n",
       "        9.96293541, 11.28624683,  8.63724084, 10.47217978,  9.35137623,\n",
       "       10.47217978,  9.04540432,  9.96293541, 10.16667528,  8.94338502,\n",
       "        9.55528611,  8.94338502, 11.99783703, 12.20102735, 10.77755867,\n",
       "        8.94338502, 10.16667528, 10.37035895, 11.28624683,  8.84135136,\n",
       "       11.28624683,  9.86104432, 10.06481239, 11.1845367 ,  9.04540432,\n",
       "        9.35137623, 10.06481239, 10.98107526,  8.7393033 ,  9.14740927,\n",
       "       12.20102735, 11.08281285,  9.55528611, 11.38794329, 10.47217978,\n",
       "        9.75913909, 10.26852413,  9.86104432,  9.35137623,  9.96293541,\n",
       "       10.37035895, 11.48962611,  9.35137623, 10.67577961, 10.67577961,\n",
       "        9.96293541,  9.96293541, 10.16667528,  9.55528611, 10.26852413,\n",
       "       10.26852413, 10.16667528,  9.75913909, 10.77755867, 11.08281285,\n",
       "       11.28624683, 10.67577961,  9.86104432,  9.6572197 , 11.69295099,\n",
       "       10.26852413, 10.67577961, 11.08281285, 10.57398666,  8.63724084,\n",
       "       12.09943887, 10.98107526,  9.96293541,  9.6572197 ,  9.75913909,\n",
       "       10.57398666,  9.2493999 , 11.28624683,  8.94338502,  9.75913909,\n",
       "       11.1845367 ,  9.04540432, 11.38794329, 10.67577961,  9.6572197 ,\n",
       "       11.38794329, 11.1845367 ,  9.14740927, 10.47217978, 10.47217978,\n",
       "       10.87932388,  9.55528611, 10.77755867,  9.6572197 , 11.08281285,\n",
       "       10.67577961,  9.75913909,  9.04540432,  9.6572197 , 10.47217978,\n",
       "        9.35137623, 11.48962611, 10.77755867,  9.45333829,  9.6572197 ,\n",
       "        9.2493999 ,  9.55528611,  8.63724084,  9.04540432,  9.86104432,\n",
       "       13.41906363,  9.86104432,  9.6572197 , 10.57398666, 10.26852413,\n",
       "       10.67577961, 10.87932388,  8.84135136, 10.77755867, 10.06481239,\n",
       "        9.04540432,  8.84135136, 10.87932388, 10.87932388, 10.37035895,\n",
       "       12.09943887, 11.1845367 ,  9.6572197 ,  9.75913909, 10.47217978,\n",
       "       10.37035895,  8.33096676,  9.86104432,  8.22884644, 12.09943887,\n",
       "       10.16667528,  9.55528611, 10.26852413,  9.75913909, 11.38794329,\n",
       "        9.86104432, 11.69295099, 11.48962611, 10.67577961, 10.16667528,\n",
       "       11.28624683, 10.06481239,  9.2493999 , 10.47217978, 10.98107526,\n",
       "        9.86104432,  9.86104432, 10.57398666,  9.96293541, 11.08281285,\n",
       "        9.86104432,  9.6572197 ,  9.96293541, 10.47217978, 10.57398666,\n",
       "       12.09943887, 12.70877098,  9.6572197 , 10.26852413,  9.04540432,\n",
       "        9.86104432, 10.87932388,  9.86104432, 10.16667528, 10.77755867,\n",
       "       10.47217978,  8.02456223,  9.96293541, 10.98107526,  9.75913909,\n",
       "       10.26852413,  9.96293541,  9.75913909, 10.47217978, 11.08281285,\n",
       "       10.87932388, 10.47217978,  9.14740927, 10.87932388, 11.38794329,\n",
       "       10.98107526,  8.84135136,  9.45333829, 10.77755867,  9.35137623,\n",
       "       11.48962611, 10.87932388, 12.40416442,  9.86104432, 10.26852413,\n",
       "        9.86104432, 10.47217978, 10.98107526, 11.48962611,  9.86104432,\n",
       "       10.47217978, 10.77755867,  9.14740927, 10.26852413,  9.45333829,\n",
       "       12.20102735, 11.89622181, 12.30260252, 11.1845367 , 10.87932388,\n",
       "       12.40416442, 10.26852413,  9.35137623,  9.96293541,  9.75913909,\n",
       "        9.35137623, 10.57398666,  9.04540432, 11.99783703, 10.87932388,\n",
       "        9.14740927, 11.89622181, 11.89622181,  9.04540432,  9.75913909,\n",
       "        9.75913909,  9.86104432,  9.14740927,  9.96293541,  9.86104432,\n",
       "        9.75913909,  8.94338502,  9.2493999 ,  9.45333829,  9.86104432,\n",
       "       10.57398666,  9.75913909,  9.55528611,  9.35137623,  9.2493999 ,\n",
       "       10.57398666,  9.2493999 , 11.48962611, 10.47217978, 11.99783703,\n",
       "       11.48962611, 10.16667528,  9.35137623,  8.1267116 , 10.77755867,\n",
       "       11.69295099, 10.37035895,  9.55528611,  9.96293541, 12.09943887,\n",
       "       12.30260252,  9.2493999 , 10.06481239, 10.77755867, 11.79459314,\n",
       "       10.26852413, 10.16667528, 10.57398666,  9.96293541, 11.38794329,\n",
       "        9.35137623, 11.99783703, 10.87932388,  8.63724084, 11.69295099,\n",
       "       11.1845367 ,  8.63724084, 10.67577961, 10.37035895,  9.6572197 ,\n",
       "        9.96293541,  8.63724084, 10.57398666, 11.1845367 ,  9.96293541,\n",
       "        9.04540432, 10.16667528, 11.38794329, 10.98107526, 11.48962611,\n",
       "       11.48962611, 11.1845367 ,  9.75913909, 11.79459314, 10.16667528,\n",
       "        9.86104432,  8.84135136, 10.26852413,  8.53516394, 10.98107526,\n",
       "        9.96293541, 10.87932388, 10.87932388,  8.53516394,  9.75913909,\n",
       "       10.26852413, 10.98107526,  9.86104432, 11.38794329, 10.06481239,\n",
       "       11.59129533, 11.48962611,  8.43307259, 11.28624683, 12.30260252,\n",
       "       10.37035895, 10.06481239, 10.47217978, 10.16667528, 11.38794329,\n",
       "        9.86104432,  9.35137623, 11.1845367 , 10.16667528,  8.94338502,\n",
       "       10.16667528, 11.28624683, 10.37035895, 11.1845367 , 11.99783703,\n",
       "       10.47217978,  9.96293541,  9.35137623, 11.59129533, 10.57398666,\n",
       "       12.70877098, 10.37035895,  9.35137623, 10.16667528,  9.96293541,\n",
       "        9.86104432, 10.67577961, 11.28624683,  8.84135136, 10.87932388,\n",
       "       10.87932388, 10.26852413, 10.16667528,  9.86104432, 10.06481239,\n",
       "       10.77755867,  9.96293541,  7.82021981, 10.47217978, 10.37035895,\n",
       "        9.86104432, 10.26852413,  9.96293541, 11.89622181,  9.6572197 ,\n",
       "        8.63724084, 10.87932388,  7.71802671, 10.37035895, 11.59129533,\n",
       "        9.45333829,  9.45333829,  9.96293541, 10.06481239,  9.2493999 ,\n",
       "        9.55528611, 11.69295099, 11.08281285,  8.94338502,  9.35137623,\n",
       "        9.6572197 ,  9.86104432, 10.47217978, 11.59129533,  9.04540432,\n",
       "       11.48962611,  9.86104432, 11.28624683, 10.26852413,  9.86104432,\n",
       "       10.26852413, 10.26852413, 11.28624683,  9.14740927, 10.37035895,\n",
       "       10.77755867, 10.26852413, 12.40416442,  9.14740927, 10.06481239,\n",
       "       10.26852413, 10.26852413, 10.26852413,  9.96293541,  9.2493999 ,\n",
       "       10.57398666, 11.38794329, 11.38794329,  8.94338502, 10.98107526,\n",
       "        9.96293541, 10.67577961,  9.75913909, 10.26852413,  9.14740927,\n",
       "       10.87932388, 10.26852413, 10.06481239,  9.55528611,  8.94338502,\n",
       "       10.47217978,  9.35137623,  9.45333829, 10.06481239,  9.96293541,\n",
       "       10.37035895, 10.77755867,  8.84135136, 10.47217978, 10.37035895,\n",
       "        8.94338502,  8.84135136, 10.37035895, 11.08281285, 11.59129533,\n",
       "       10.47217978,  9.75913909, 10.57398666, 10.67577961,  9.86104432,\n",
       "       10.26852413, 10.77755867,  9.45333829, 10.77755867, 10.37035895,\n",
       "        9.2493999 , 11.59129533,  9.55528611, 10.67577961,  9.96293541,\n",
       "       11.48962611, 12.81028025, 10.06481239, 10.67577961,  9.86104432,\n",
       "        9.2493999 , 10.67577961,  9.45333829, 10.57398666, 10.37035895])"
      ]
     },
     "execution_count": 149,
     "metadata": {},
     "output_type": "execute_result"
    }
   ],
   "source": [
    "x.dot(np.linalg.matrix_power(m1.adj_matrix,2)) + 2 * x.dot(m1.sigma**2)"
   ]
  },
  {
   "cell_type": "code",
   "execution_count": 12,
   "metadata": {
    "ExecuteTime": {
     "end_time": "2020-11-19T01:04:37.476752Z",
     "start_time": "2020-11-19T01:04:37.398807Z"
    }
   },
   "outputs": [
    {
     "data": {
      "application/vnd.jupyter.widget-view+json": {
       "model_id": "6733b11e685d4a628744137e53b8c7ba",
       "version_major": 2,
       "version_minor": 0
      },
      "text/plain": [
       "HBox(children=(HTML(value=''), FloatProgress(value=0.0, max=300.0), HTML(value='')))"
      ]
     },
     "metadata": {},
     "output_type": "display_data"
    },
    {
     "name": "stdout",
     "output_type": "stream",
     "text": [
      "\n"
     ]
    },
    {
     "ename": "AttributeError",
     "evalue": "module 'jax.scipy.sparse' has no attribute 'csr_matrix'",
     "output_type": "error",
     "traceback": [
      "\u001b[0;31m---------------------------------------------------------------------------\u001b[0m",
      "\u001b[0;31mAttributeError\u001b[0m                            Traceback (most recent call last)",
      "\u001b[0;32m<ipython-input-12-f6c2b34c48ff>\u001b[0m in \u001b[0;36m<module>\u001b[0;34m\u001b[0m\n\u001b[1;32m      3\u001b[0m \u001b[0;32mfor\u001b[0m \u001b[0mi\u001b[0m \u001b[0;32min\u001b[0m \u001b[0mtrange\u001b[0m\u001b[0;34m(\u001b[0m\u001b[0mvals\u001b[0m\u001b[0;34m.\u001b[0m\u001b[0mshape\u001b[0m\u001b[0;34m[\u001b[0m\u001b[0;36m0\u001b[0m\u001b[0;34m]\u001b[0m\u001b[0;34m)\u001b[0m\u001b[0;34m:\u001b[0m\u001b[0;34m\u001b[0m\u001b[0;34m\u001b[0m\u001b[0m\n\u001b[1;32m      4\u001b[0m     \u001b[0mradj\u001b[0m \u001b[0;34m=\u001b[0m \u001b[0mm1\u001b[0m\u001b[0;34m.\u001b[0m\u001b[0msample\u001b[0m\u001b[0;34m(\u001b[0m\u001b[0;34m)\u001b[0m\u001b[0;34m\u001b[0m\u001b[0;34m\u001b[0m\u001b[0m\n\u001b[0;32m----> 5\u001b[0;31m     \u001b[0mvals\u001b[0m\u001b[0;34m[\u001b[0m\u001b[0mi\u001b[0m\u001b[0;34m,\u001b[0m\u001b[0;34m:\u001b[0m\u001b[0;34m]\u001b[0m \u001b[0;34m=\u001b[0m \u001b[0mpropagate_nstep\u001b[0m\u001b[0;34m(\u001b[0m\u001b[0mradj\u001b[0m\u001b[0;34m,\u001b[0m\u001b[0mx\u001b[0m\u001b[0;34m,\u001b[0m\u001b[0mlength\u001b[0m\u001b[0;34m)\u001b[0m\u001b[0;34m\u001b[0m\u001b[0;34m\u001b[0m\u001b[0m\n\u001b[0m",
      "\u001b[0;32m<ipython-input-9-fcff6c802246>\u001b[0m in \u001b[0;36mpropagate_nstep\u001b[0;34m(adj, x, n)\u001b[0m\n\u001b[1;32m      1\u001b[0m \u001b[0;32mdef\u001b[0m \u001b[0mpropagate_nstep\u001b[0m\u001b[0;34m(\u001b[0m\u001b[0madj\u001b[0m\u001b[0;34m,\u001b[0m\u001b[0mx\u001b[0m\u001b[0;34m,\u001b[0m\u001b[0mn\u001b[0m\u001b[0;34m)\u001b[0m\u001b[0;34m:\u001b[0m\u001b[0;34m\u001b[0m\u001b[0;34m\u001b[0m\u001b[0m\n\u001b[0;32m----> 2\u001b[0;31m     \u001b[0mspadj\u001b[0m \u001b[0;34m=\u001b[0m \u001b[0msp\u001b[0m\u001b[0;34m.\u001b[0m\u001b[0mcsr_matrix\u001b[0m\u001b[0;34m(\u001b[0m\u001b[0madj\u001b[0m\u001b[0;34m)\u001b[0m\u001b[0;34m**\u001b[0m\u001b[0mn\u001b[0m\u001b[0;34m\u001b[0m\u001b[0;34m\u001b[0m\u001b[0m\n\u001b[0m\u001b[1;32m      3\u001b[0m     \u001b[0;32mreturn\u001b[0m \u001b[0mspadj\u001b[0m\u001b[0;34m.\u001b[0m\u001b[0mT\u001b[0m\u001b[0;34m.\u001b[0m\u001b[0mdot\u001b[0m\u001b[0;34m(\u001b[0m\u001b[0mx\u001b[0m\u001b[0;34m)\u001b[0m\u001b[0;34m\u001b[0m\u001b[0;34m\u001b[0m\u001b[0m\n",
      "\u001b[0;31mAttributeError\u001b[0m: module 'jax.scipy.sparse' has no attribute 'csr_matrix'"
     ]
    }
   ],
   "source": [
    "length = 1\n",
    "vals = np.zeros([300,1000])\n",
    "for i in trange(vals.shape[0]):\n",
    "    radj = m1.sample()\n",
    "    vals[i,:] = propagate_nstep(radj,x,length)"
   ]
  },
  {
   "cell_type": "code",
   "execution_count": 146,
   "metadata": {
    "ExecuteTime": {
     "end_time": "2020-11-15T18:51:33.539505Z",
     "start_time": "2020-11-15T18:51:31.231412Z"
    }
   },
   "outputs": [
    {
     "data": {
      "text/plain": [
       "10079.792185331708"
      ]
     },
     "execution_count": 146,
     "metadata": {},
     "output_type": "execute_result"
    }
   ],
   "source": [
    "propagate_nstep_corr2(m1.adj_matrix,x,length)"
   ]
  },
  {
   "cell_type": "code",
   "execution_count": 147,
   "metadata": {
    "ExecuteTime": {
     "end_time": "2020-11-15T18:51:48.928339Z",
     "start_time": "2020-11-15T18:51:48.923460Z"
    }
   },
   "outputs": [
    {
     "data": {
      "text/plain": [
       "10113.623333333333"
      ]
     },
     "execution_count": 147,
     "metadata": {},
     "output_type": "execute_result"
    }
   ],
   "source": [
    "vals.sum(axis=1).mean()"
   ]
  },
  {
   "cell_type": "code",
   "execution_count": 143,
   "metadata": {
    "ExecuteTime": {
     "end_time": "2020-11-15T18:51:20.159395Z",
     "start_time": "2020-11-15T18:51:17.832696Z"
    }
   },
   "outputs": [
    {
     "data": {
      "text/plain": [
       "10079.792185331708"
      ]
     },
     "execution_count": 143,
     "metadata": {},
     "output_type": "execute_result"
    }
   ],
   "source": [
    "propagate_nstep_corr(m1.adj_matrix,x,length)"
   ]
  },
  {
   "cell_type": "code",
   "execution_count": null,
   "metadata": {},
   "outputs": [],
   "source": [
    "plt.plot(vals.mean(axis=0),x.dot(np.linalg.matrix_power(m1.adj_matrix,2)) + x * (m1.sigma**2).sum(axis=0),'.')\n",
    "plt.plot(plt.xlim(),plt.xlim())"
   ]
  },
  {
   "cell_type": "code",
   "execution_count": 148,
   "metadata": {
    "ExecuteTime": {
     "end_time": "2020-11-15T21:46:07.622281Z",
     "start_time": "2020-11-15T21:46:05.203263Z"
    }
   },
   "outputs": [
    {
     "data": {
      "text/plain": [
       "[<matplotlib.lines.Line2D at 0x7fc206f19e48>]"
      ]
     },
     "execution_count": 148,
     "metadata": {},
     "output_type": "execute_result"
    },
    {
     "data": {
      "image/png": "[encoded data removed]",
      "text/plain": [
       "<Figure size 432x288 with 1 Axes>"
      ]
     },
     "metadata": {
      "needs_background": "light"
     },
     "output_type": "display_data"
    }
   ],
   "source": [
    "plt.plot(vals.mean(axis=0),propagate_nstep_corr(m1.adj_matrix,x,length),'.')\n",
    "plt.plot(plt.xlim(),plt.xlim())"
   ]
  },
  {
   "cell_type": "code",
   "execution_count": 126,
   "metadata": {
    "ExecuteTime": {
     "end_time": "2020-11-15T00:47:22.835476Z",
     "start_time": "2020-11-15T00:47:22.830125Z"
    }
   },
   "outputs": [
    {
     "data": {
      "text/plain": [
       "9.898395532469255"
      ]
     },
     "execution_count": 126,
     "metadata": {},
     "output_type": "execute_result"
    }
   ],
   "source": [
    "(m1.adj_matrix[i,:]**2).sum()"
   ]
  },
  {
   "cell_type": "code",
   "execution_count": 11,
   "metadata": {
    "ExecuteTime": {
     "end_time": "2020-11-19T01:04:32.564611Z",
     "start_time": "2020-11-19T01:04:32.561053Z"
    }
   },
   "outputs": [],
   "source": [
    "x = np.zeros(1000)\n",
    "y = np.zeros(1000)\n",
    "x[:20] = 1.\n",
    "y[100:110]=1."
   ]
  },
  {
   "cell_type": "code",
   "execution_count": 27,
   "metadata": {
    "ExecuteTime": {
     "end_time": "2020-11-13T23:42:53.264102Z",
     "start_time": "2020-11-13T23:42:53.256676Z"
    }
   },
   "outputs": [
    {
     "data": {
      "text/plain": [
       "12623701.802730799"
      ]
     },
     "execution_count": 27,
     "metadata": {},
     "output_type": "execute_result"
    }
   ],
   "source": [
    "ges['proteins','proteins'].predict_mean(obs.SumOfPaths(x,y,3))"
   ]
  },
  {
   "cell_type": "code",
   "execution_count": 50,
   "metadata": {
    "ExecuteTime": {
     "end_time": "2020-11-13T23:59:54.261926Z",
     "start_time": "2020-11-13T23:59:54.248578Z"
    }
   },
   "outputs": [
    {
     "ename": "NameError",
     "evalue": "name 'adj' is not defined",
     "output_type": "error",
     "traceback": [
      "\u001b[0;31m---------------------------------------------------------------------------\u001b[0m",
      "\u001b[0;31mNameError\u001b[0m                                 Traceback (most recent call last)",
      "\u001b[0;32m<ipython-input-50-ab301fd06e13>\u001b[0m in \u001b[0;36m<module>\u001b[0;34m\u001b[0m\n\u001b[0;32m----> 1\u001b[0;31m \u001b[0;34m(\u001b[0m\u001b[0msp\u001b[0m\u001b[0;34m.\u001b[0m\u001b[0mcsr_matrix\u001b[0m\u001b[0;34m(\u001b[0m\u001b[0madj\u001b[0m\u001b[0;34m)\u001b[0m\u001b[0;34m**\u001b[0m\u001b[0;36m1\u001b[0m\u001b[0;34m)\u001b[0m\u001b[0;34m.\u001b[0m\u001b[0mtodense\u001b[0m\u001b[0;34m(\u001b[0m\u001b[0;34m)\u001b[0m\u001b[0;34m\u001b[0m\u001b[0;34m\u001b[0m\u001b[0m\n\u001b[0m",
      "\u001b[0;31mNameError\u001b[0m: name 'adj' is not defined"
     ]
    }
   ],
   "source": [
    "(sp.csr_matrix(adj)**1).todense()"
   ]
  },
  {
   "cell_type": "code",
   "execution_count": 60,
   "metadata": {
    "ExecuteTime": {
     "end_time": "2020-11-14T00:10:47.034471Z",
     "start_time": "2020-11-14T00:10:47.029769Z"
    }
   },
   "outputs": [],
   "source": [
    "def sumofpaths(adj,l):\n",
    "    padj = sp.csr_matrix(adj)\n",
    "    xpow = x\n",
    "    for i in range(l):\n",
    "        xpow = padj.dot(xpow)\n",
    "    return (xpow*y).sum()"
   ]
  },
  {
   "cell_type": "code",
   "execution_count": 89,
   "metadata": {
    "ExecuteTime": {
     "end_time": "2020-11-14T23:45:27.900140Z",
     "start_time": "2020-11-14T23:45:27.896168Z"
    }
   },
   "outputs": [],
   "source": [
    "def sumofpaths2(adj,l):\n",
    "    padj = sp.csr_matrix(adj)\n",
    "    xpow = x\n",
    "    for i in range(l):\n",
    "        xpow = padj.dot(xpow)\n",
    "    return xpow"
   ]
  },
  {
   "cell_type": "code",
   "execution_count": 99,
   "metadata": {
    "ExecuteTime": {
     "end_time": "2020-11-15T00:24:47.768172Z",
     "start_time": "2020-11-15T00:24:47.764776Z"
    }
   },
   "outputs": [],
   "source": [
    "def sumofpaths3(adj,l):\n",
    "    padj = np.linalg.matrix_power(adj,l)\n",
    "    #np.fill_diagonal(padj,np.diag(adj))\n",
    "    return x.dot(padj)"
   ]
  },
  {
   "cell_type": "code",
   "execution_count": 108,
   "metadata": {
    "ExecuteTime": {
     "end_time": "2020-11-15T00:28:48.692464Z",
     "start_time": "2020-11-15T00:28:48.688145Z"
    }
   },
   "outputs": [],
   "source": [
    "def propagate_nstep(adj,n):\n",
    "    p = sp.csr_matrix(adj)#utils.normalize_rows(adj.tocsr())\n",
    "    y = x.copy()\n",
    "    x0 = x.dot(np.eye(N))\n",
    "    for t in range(n):\n",
    "        y = p.T.dot(y)\n",
    "    return y"
   ]
  },
  {
   "cell_type": "code",
   "execution_count": 81,
   "metadata": {
    "ExecuteTime": {
     "end_time": "2020-11-14T07:22:16.981043Z",
     "start_time": "2020-11-14T07:22:16.634898Z"
    }
   },
   "outputs": [
    {
     "data": {
      "image/png": "[encoded data removed]",
      "text/plain": [
       "<Figure size 432x288 with 2 Axes>"
      ]
     },
     "metadata": {
      "needs_background": "light"
     },
     "output_type": "display_data"
    }
   ],
   "source": [
    "plot_adj(m1.sample())"
   ]
  },
  {
   "cell_type": "code",
   "execution_count": 87,
   "metadata": {
    "ExecuteTime": {
     "end_time": "2020-11-14T23:43:53.161317Z",
     "start_time": "2020-11-14T23:43:53.156374Z"
    }
   },
   "outputs": [
    {
     "data": {
      "text/plain": [
       "array([[0.        , 0.32321591, 0.3143452 , ..., 0.31820426, 0.31820426,\n",
       "        0.31303901],\n",
       "       [0.32321591, 0.        , 0.30419627, ..., 0.30816285, 0.30816285,\n",
       "        0.3028547 ],\n",
       "       [0.3143452 , 0.30419627, 0.        , ..., 0.29891644, 0.29891644,\n",
       "        0.29349022],\n",
       "       ...,\n",
       "       [0.31820426, 0.30816285, 0.29891644, ..., 0.        , 0.30293449,\n",
       "        0.29755798],\n",
       "       [0.31820426, 0.30816285, 0.29891644, ..., 0.30293449, 0.        ,\n",
       "        0.29755798],\n",
       "       [0.31303901, 0.3028547 , 0.29349022, ..., 0.29755798, 0.29755798,\n",
       "        0.        ]])"
      ]
     },
     "execution_count": 87,
     "metadata": {},
     "output_type": "execute_result"
    }
   ],
   "source": [
    "m1.sigma"
   ]
  },
  {
   "cell_type": "code",
   "execution_count": 85,
   "metadata": {
    "ExecuteTime": {
     "end_time": "2020-11-14T07:26:03.193649Z",
     "start_time": "2020-11-14T07:26:02.989492Z"
    }
   },
   "outputs": [
    {
     "data": {
      "text/plain": [
       "[<matplotlib.lines.Line2D at 0x7fc21e84dba8>]"
      ]
     },
     "execution_count": 85,
     "metadata": {},
     "output_type": "execute_result"
    },
    {
     "data": {
      "image/png": "[encoded data removed]",
      "text/plain": [
       "<Figure size 432x288 with 1 Axes>"
      ]
     },
     "metadata": {
      "needs_background": "light"
     },
     "output_type": "display_data"
    }
   ],
   "source": [
    "plt.plot(m1.adj_matrix.sum(axis=0), m1.sample().sum(axis=0),'.')\n",
    "plt.plot(plt.xlim(),plt.xlim())"
   ]
  },
  {
   "cell_type": "code",
   "execution_count": 82,
   "metadata": {
    "ExecuteTime": {
     "end_time": "2020-11-14T07:22:30.350911Z",
     "start_time": "2020-11-14T07:22:30.011353Z"
    }
   },
   "outputs": [
    {
     "data": {
      "image/png": "[encoded data removed]",
      "text/plain": [
       "<Figure size 432x288 with 2 Axes>"
      ]
     },
     "metadata": {
      "needs_background": "light"
     },
     "output_type": "display_data"
    }
   ],
   "source": [
    "plot_adj(m1.adj_matrix)"
   ]
  },
  {
   "cell_type": "code",
   "execution_count": 71,
   "metadata": {
    "ExecuteTime": {
     "end_time": "2020-11-14T07:11:24.927522Z",
     "start_time": "2020-11-14T07:11:24.853307Z"
    }
   },
   "outputs": [
    {
     "data": {
      "text/plain": [
       "array([116.00120765, 107.84010291, 100.69434009,  96.60898673,\n",
       "       103.75736677,  96.60898673, 109.88092062, 101.71544252,\n",
       "       109.88092062, 102.73645129, 100.68508627, 104.76732334,\n",
       "       101.7058001 , 100.68508627, 111.90731734, 118.02342565,\n",
       "        97.62232178,  86.38407106,  87.40626339, 117.00431931,\n",
       "       105.78762617, 102.72641066,  93.5371702 ,  97.62232178,\n",
       "       100.68508627, 103.74691829, 101.7058001 , 105.78762617,\n",
       "        97.62232178, 105.78762617,  97.62232178,  97.62232178,\n",
       "       109.86782266,  91.49396081, 130.24526427,  90.4721967 ,\n",
       "       108.84792501,  86.38407106,  92.51561855,  98.64334744,\n",
       "        95.5799564 ,  99.66426882,  89.45032594,  83.31684677,\n",
       "       112.92691517, 102.72641066, 119.04243499,  91.49396081,\n",
       "       103.74691829, 111.90731734, 106.80782715, 105.78762617,\n",
       "       112.92691517, 106.80782715, 102.72641066, 109.86782266,\n",
       "       106.80782715, 112.92691517, 104.76732334, 104.76732334,\n",
       "       100.68508627,  98.64334744, 103.74691829,  94.55861605,\n",
       "       114.96581384,  87.40626339, 109.86782266, 102.72641066,\n",
       "        96.60119154, 105.78762617, 117.00431931,  96.60119154,\n",
       "       117.00431931, 103.74691829, 106.80782715, 124.13604209,\n",
       "        95.5799564 ,  83.31684677,  86.38407106,  96.60119154,\n",
       "        86.38407106, 103.74691829, 121.0801644 ,  93.5371702 ,\n",
       "        83.31684677, 118.02342565,  96.60119154, 118.02342565,\n",
       "        85.36177102, 119.04243499, 125.15447877, 105.78762617,\n",
       "        84.33936301,  98.64334744, 119.04243499,  99.66426882,\n",
       "       109.86782266, 109.86782266, 105.78762617,  98.64334744,\n",
       "        97.62232178,  98.64334744,  96.60119154,  99.66426882,\n",
       "       104.76732334, 111.90731734,  94.55861605,  99.66426882,\n",
       "       106.80782715, 107.82792663, 107.82792663, 107.82792663,\n",
       "       105.78762617,  96.60119154, 105.78762617, 111.90731734,\n",
       "       111.90731734, 109.86782266,  91.49396081, 102.72641066,\n",
       "        96.60119154, 105.78762617,  87.40626339,  89.45032594,\n",
       "        98.64334744,  98.64334744, 108.84792501, 118.02342565,\n",
       "        96.60119154,  99.66426882, 117.00431931, 120.06134776,\n",
       "       122.09888536,  97.62232178, 104.76732334, 103.74691829,\n",
       "        93.5371702 ,  90.4721967 , 101.7058001 , 103.74691829,\n",
       "        90.4721967 , 107.82792663,  89.45032594, 103.74691829,\n",
       "        98.64334744, 102.72641066,  99.66426882, 114.96581384,\n",
       "       104.76732334, 101.7058001 , 105.78762617, 103.74691829,\n",
       "        97.62232178, 103.74691829, 102.72641066, 112.92691517,\n",
       "       103.74691829, 106.80782715,  99.66426882,  94.55861605,\n",
       "       103.74691829, 105.78762617, 115.98511551,  93.5371702 ,\n",
       "        88.42834826, 106.80782715,  97.62232178,  83.31684677,\n",
       "       107.82792663, 102.72641066,  99.66426882, 100.68508627,\n",
       "       103.74691829, 109.86782266, 101.7058001 , 109.86782266,\n",
       "       115.98511551,  83.31684677,  84.33936301,  94.55861605,\n",
       "       124.13604209, 109.86782266, 121.0801644 , 102.72641066,\n",
       "        92.51561855, 108.84792501, 101.7058001 ,  93.5371702 ,\n",
       "       107.82792663, 104.76732334, 120.06134776, 104.76732334,\n",
       "       119.04243499, 119.04243499,  92.51561855,  87.40626339,\n",
       "        97.62232178,  97.62232178, 114.96581384,  95.5799564 ,\n",
       "        99.66426882, 108.84792501, 111.90731734,  86.38407106,\n",
       "        99.66426882,  93.5371702 ,  99.66426882, 120.06134776,\n",
       "        96.60119154, 110.88761997, 112.92691517,  97.62232178,\n",
       "       118.02342565, 121.0801644 ,  97.62232178, 106.80782715,\n",
       "       125.15447877, 102.72641066,  90.4721967 , 107.82792663,\n",
       "        99.66426882, 113.94641386, 111.90731734, 106.80782715,\n",
       "       122.09888536,  85.36177102, 105.78762617, 128.20922775,\n",
       "        79.22569453,  84.33936301, 113.94641386, 102.72641066,\n",
       "        77.17946255, 106.80782715,  72.06195333, 103.74691829,\n",
       "       123.11751111,  95.5799564 ,  94.55861605,  98.64334744,\n",
       "        93.5371702 ,  96.60119154,  92.51561855, 111.90731734,\n",
       "       104.76732334,  90.4721967 , 107.82792663,  98.64334744,\n",
       "       108.84792501,  95.5799564 ,  90.4721967 ,  87.40626339,\n",
       "        99.66426882,  97.62232178,  96.60119154, 106.80782715,\n",
       "       106.80782715, 102.72641066, 106.80782715, 107.82792663,\n",
       "       103.74691829, 106.80782715, 102.72641066,  93.5371702 ,\n",
       "       105.78762617,  97.62232178, 107.82792663, 109.86782266,\n",
       "       103.74691829,  98.64334744, 122.09888536, 109.86782266,\n",
       "        93.5371702 , 115.98511551, 106.80782715,  97.62232178,\n",
       "        86.38407106, 107.82792663,  98.64334744, 102.72641066,\n",
       "       119.04243499,  99.66426882, 103.74691829, 106.80782715,\n",
       "       114.96581384, 107.82792663, 103.74691829,  96.60119154,\n",
       "        85.36177102,  95.5799564 , 103.74691829, 102.72641066,\n",
       "        94.55861605, 103.74691829, 100.68508627, 103.74691829,\n",
       "        96.60119154, 101.7058001 ,  91.49396081, 109.86782266,\n",
       "       104.76732334,  90.4721967 , 110.88761997, 125.15447877,\n",
       "       101.7058001 , 100.68508627,  90.4721967 , 105.78762617,\n",
       "       105.78762617,  92.51561855, 117.00431931,  94.55861605,\n",
       "        98.64334744,  82.29422205, 106.80782715, 119.04243499,\n",
       "        90.4721967 ,  84.33936301,  85.36177102, 100.68508627,\n",
       "       102.72641066,  99.66426882,  98.64334744,  92.51561855,\n",
       "       106.80782715,  91.49396081,  92.51561855, 100.68508627,\n",
       "       107.82792663, 117.00431931, 100.68508627, 105.78762617,\n",
       "       110.88761997,  83.31684677, 114.96581384,  92.51561855,\n",
       "        99.66426882, 120.06134776, 101.7058001 , 105.78762617,\n",
       "        80.24864618, 108.84792501,  94.55861605, 103.74691829,\n",
       "        99.66426882, 101.7058001 ,  98.64334744, 119.04243499,\n",
       "       101.7058001 , 101.7058001 , 121.0801644 , 115.98511551,\n",
       "       108.84792501,  98.64334744,  92.51561855,  92.51561855,\n",
       "       101.7058001 , 103.74691829,  92.51561855, 102.72641066,\n",
       "       111.90731734, 100.68508627,  81.27148861, 123.11751111,\n",
       "        88.42834826,  99.66426882,  92.51561855,  93.5371702 ,\n",
       "       102.72641066, 112.92691517, 105.78762617,  88.42834826,\n",
       "       100.68508627,  81.27148861, 108.84792501, 120.06134776,\n",
       "       106.80782715, 100.68508627, 106.80782715, 122.09888536,\n",
       "       105.78762617, 127.19107113, 114.96581384, 102.72641066,\n",
       "        87.40626339, 101.7058001 ,  94.55861605, 105.78762617,\n",
       "       109.86782266,  85.36177102, 104.76732334, 126.17282163,\n",
       "       106.80782715, 105.78762617, 109.86782266,  77.17946255,\n",
       "       114.96581384, 114.96581384, 113.94641386,  94.55861605,\n",
       "        93.5371702 ,  91.49396081, 104.76732334, 123.11751111,\n",
       "        98.64334744, 106.80782715, 111.90731734,  96.60119154,\n",
       "        88.42834826, 114.96581384,  92.51561855, 106.80782715,\n",
       "       108.84792501, 107.82792663,  95.5799564 ,  98.64334744,\n",
       "       105.78762617,  97.62232178, 108.84792501, 103.74691829,\n",
       "        93.5371702 , 104.76732334, 108.84792501, 106.80782715,\n",
       "       110.88761997,  99.66426882, 100.68508627,  97.62232178,\n",
       "       100.68508627,  86.38407106, 110.88761997,  86.38407106,\n",
       "       113.94641386, 114.96581384, 100.68508627, 102.72641066,\n",
       "       100.68508627,  83.31684677, 119.04243499,  93.5371702 ,\n",
       "       104.76732334, 108.84792501, 109.86782266,  98.64334744,\n",
       "       101.7058001 , 113.94641386, 104.76732334, 112.92691517,\n",
       "       100.68508627,  81.27148861, 100.68508627, 105.78762617,\n",
       "       100.68508627, 110.88761997, 104.76732334, 124.13604209,\n",
       "       112.92691517, 112.92691517,  91.49396081,  96.60119154,\n",
       "        93.5371702 ,  96.60119154, 106.80782715, 122.09888536,\n",
       "        88.42834826, 109.86782266,  99.66426882,  98.64334744,\n",
       "       102.72641066, 102.72641066, 105.78762617,  94.55861605,\n",
       "        96.60119154, 119.04243499, 108.84792501, 105.78762617,\n",
       "        92.51561855, 107.82792663,  95.5799564 , 103.74691829,\n",
       "       102.72641066,  91.49396081,  97.62232178, 109.86782266,\n",
       "        93.5371702 , 100.68508627, 101.7058001 ,  85.36177102,\n",
       "       107.82792663, 121.0801644 ,  97.62232178,  76.15618171,\n",
       "       101.7058001 , 105.78762617, 100.68508627, 111.90731734,\n",
       "        94.55861605, 104.76732334, 121.0801644 ,  99.66426882,\n",
       "        97.62232178,  86.38407106, 108.84792501,  96.60119154,\n",
       "        98.64334744, 104.76732334,  97.62232178,  80.24864618,\n",
       "        91.49396081, 105.78762617, 108.84792501,  99.66426882,\n",
       "       104.76732334, 108.84792501, 107.82792663,  80.24864618,\n",
       "       111.90731734, 107.82792663, 103.74691829,  94.55861605,\n",
       "       112.92691517, 103.74691829, 118.02342565,  97.62232178,\n",
       "       102.72641066, 109.86782266, 102.72641066,  99.66426882,\n",
       "        95.5799564 ,  98.64334744, 111.90731734,  97.62232178,\n",
       "       111.90731734, 103.74691829, 101.7058001 ,  91.49396081,\n",
       "        97.62232178, 114.96581384,  83.31684677,  96.60119154,\n",
       "        96.60119154,  97.62232178, 104.76732334, 104.76732334,\n",
       "        91.49396081, 100.68508627, 107.82792663, 106.80782715,\n",
       "        90.4721967 , 101.7058001 , 110.88761997,  87.40626339,\n",
       "       107.82792663,  96.60119154, 107.82792663, 101.7058001 ,\n",
       "        96.60119154, 118.02342565, 107.82792663, 118.02342565,\n",
       "       100.68508627, 119.04243499,  98.64334744,  95.5799564 ,\n",
       "        93.5371702 , 103.74691829, 105.78762617,  95.5799564 ,\n",
       "        92.51561855,  91.49396081,  99.66426882, 113.94641386,\n",
       "       110.88761997, 120.06134776, 102.72641066,  87.40626339,\n",
       "       100.68508627, 109.86782266,  79.22569453,  91.49396081,\n",
       "       119.04243499, 107.82792663,  94.55861605, 101.7058001 ,\n",
       "       110.88761997,  98.64334744,  93.5371702 , 102.72641066,\n",
       "        84.33936301,  88.42834826, 110.88761997, 101.7058001 ,\n",
       "        93.5371702 ,  98.64334744,  96.60119154, 100.68508627,\n",
       "        96.60119154, 106.80782715, 117.00431931, 110.88761997,\n",
       "       115.98511551, 109.86782266,  98.64334744,  90.4721967 ,\n",
       "       115.98511551, 107.82792663,  96.60119154,  97.62232178,\n",
       "       104.76732334, 109.86782266,  95.5799564 , 111.90731734,\n",
       "       106.80782715, 112.92691517,  91.49396081, 101.7058001 ,\n",
       "       118.02342565, 112.92691517,  88.42834826,  99.66426882,\n",
       "       108.84792501, 110.88761997, 109.86782266, 106.80782715,\n",
       "       109.86782266,  96.60119154, 125.15447877, 104.76732334,\n",
       "       103.74691829, 121.0801644 ,  90.4721967 , 108.84792501,\n",
       "       103.74691829, 114.96581384,  97.62232178,  93.5371702 ,\n",
       "       103.74691829,  98.64334744, 127.19107113,  92.51561855,\n",
       "       109.86782266,  93.5371702 , 107.82792663, 104.76732334,\n",
       "       101.7058001 , 109.86782266, 102.72641066,  99.66426882,\n",
       "       107.82792663, 105.78762617,  99.66426882,  97.62232178,\n",
       "       100.68508627,  92.51561855, 109.86782266, 104.76732334,\n",
       "       101.7058001 , 106.80782715,  93.5371702 , 101.7058001 ,\n",
       "       105.78762617, 107.82792663,  97.62232178,  97.62232178,\n",
       "       105.78762617,  95.5799564 , 113.94641386, 102.72641066,\n",
       "       107.82792663, 115.98511551,  88.42834826, 108.84792501,\n",
       "        86.38407106, 100.68508627,  89.45032594, 100.68508627,\n",
       "       119.04243499, 102.72641066, 121.0801644 , 103.74691829,\n",
       "        98.64334744, 101.7058001 ,  94.55861605, 103.74691829,\n",
       "       107.82792663, 108.84792501, 122.09888536, 103.74691829,\n",
       "       118.02342565,  99.66426882,  95.5799564 , 105.78762617,\n",
       "       115.98511551, 105.78762617, 111.90731734,  97.62232178,\n",
       "        77.17946255, 120.06134776, 104.76732334, 111.90731734,\n",
       "       100.68508627, 108.84792501,  85.36177102, 102.72641066,\n",
       "       104.76732334, 112.92691517,  92.51561855,  95.5799564 ,\n",
       "       108.84792501, 113.94641386,  97.62232178, 106.80782715,\n",
       "        95.5799564 ,  99.66426882,  98.64334744, 105.78762617,\n",
       "        91.49396081, 107.82792663,  99.66426882, 111.90731734,\n",
       "       112.92691517,  94.55861605,  92.51561855, 105.78762617,\n",
       "        92.51561855, 114.96581384, 117.00431931,  99.66426882,\n",
       "       114.96581384, 118.02342565,  99.66426882,  90.4721967 ,\n",
       "        94.55861605, 123.11751111, 104.76732334,  89.45032594,\n",
       "       106.80782715,  98.64334744,  95.5799564 , 114.96581384,\n",
       "        99.66426882,  97.62232178, 107.82792663,  98.64334744,\n",
       "       101.7058001 , 112.92691517, 104.76732334,  89.45032594,\n",
       "        92.51561855, 100.68508627,  86.38407106, 103.74691829,\n",
       "       107.82792663, 109.86782266, 104.76732334,  97.62232178,\n",
       "       112.92691517,  95.5799564 ,  97.62232178, 114.96581384,\n",
       "        96.60119154, 115.98511551, 114.96581384,  98.64334744,\n",
       "        88.42834826,  95.5799564 ,  98.64334744, 100.68508627,\n",
       "        91.49396081, 104.76732334, 122.09888536,  83.31684677,\n",
       "        91.49396081,  98.64334744, 106.80782715, 100.68508627,\n",
       "       117.00431931, 106.80782715, 111.90731734, 120.06134776,\n",
       "       104.76732334, 101.7058001 ,  95.5799564 ,  91.49396081,\n",
       "        96.60119154, 100.68508627, 107.82792663, 109.86782266,\n",
       "        95.5799564 , 117.00431931,  91.49396081, 102.72641066,\n",
       "       107.82792663,  94.55861605, 113.94641386, 108.84792501,\n",
       "        94.55861605, 104.76732334, 104.76732334, 107.82792663,\n",
       "        89.45032594, 113.94641386, 103.74691829,  94.55861605,\n",
       "       102.72641066,  86.38407106,  90.4721967 , 104.76732334,\n",
       "        83.31684677, 114.96581384, 101.7058001 , 119.04243499,\n",
       "        97.62232178,  92.51561855,  94.55861605,  88.42834826,\n",
       "        95.5799564 , 101.7058001 ,  83.31684677, 110.88761997,\n",
       "       125.15447877,  81.27148861, 100.68508627, 100.68508627,\n",
       "       102.72641066, 102.72641066, 104.76732334,  97.62232178,\n",
       "       108.84792501, 124.13604209,  79.22569453,  92.51561855,\n",
       "       107.82792663, 120.06134776, 105.78762617, 119.04243499,\n",
       "       101.7058001 , 104.76732334, 105.78762617, 105.78762617,\n",
       "       105.78762617, 104.76732334,  97.62232178,  95.5799564 ,\n",
       "        94.55861605,  85.36177102,  91.49396081, 101.7058001 ,\n",
       "       115.98511551, 102.72641066, 102.72641066, 102.72641066,\n",
       "        99.66426882, 108.84792501, 106.80782715, 100.68508627,\n",
       "        96.60119154, 103.74691829,  86.38407106, 103.74691829,\n",
       "       112.92691517, 114.96581384, 104.76732334, 114.96581384,\n",
       "        90.4721967 , 109.86782266,  91.49396081, 104.76732334,\n",
       "       112.92691517, 103.74691829,  94.55861605, 114.96581384,\n",
       "       110.88761997,  94.55861605, 104.76732334, 100.68508627,\n",
       "        96.60119154,  85.36177102, 106.80782715,  89.45032594,\n",
       "       103.74691829, 104.76732334, 103.74691829,  84.33936301,\n",
       "        93.5371702 , 114.96581384,  93.5371702 ,  96.60119154,\n",
       "        91.49396081, 101.7058001 , 104.76732334,  99.66426882,\n",
       "       114.96581384,  90.4721967 ,  83.31684677, 105.78762617,\n",
       "       112.92691517,  77.17946255, 121.0801644 ,  93.5371702 ,\n",
       "        95.5799564 , 101.7058001 ,  99.66426882,  88.42834826,\n",
       "        96.60119154, 106.80782715,  96.60119154, 110.88761997,\n",
       "       101.7058001 , 105.78762617, 101.7058001 , 112.92691517,\n",
       "        80.24864618,  93.5371702 ,  96.60119154, 109.86782266,\n",
       "        99.66426882,  95.5799564 , 106.80782715, 106.80782715,\n",
       "        94.55861605, 119.04243499, 114.96581384,  92.51561855,\n",
       "        91.49396081, 101.7058001 , 105.78762617, 103.74691829,\n",
       "       114.96581384, 103.74691829, 120.06134776,  87.40626339,\n",
       "        96.60119154, 101.7058001 , 113.94641386,  97.62232178,\n",
       "       105.78762617, 112.92691517, 111.90731734,  92.51561855,\n",
       "       105.78762617, 120.06134776,  95.5799564 , 104.76732334,\n",
       "        99.66426882,  99.66426882, 100.68508627,  92.51561855,\n",
       "       106.80782715,  98.64334744, 100.68508627,  99.66426882,\n",
       "        95.5799564 , 109.86782266, 114.96581384,  97.62232178,\n",
       "       112.92691517, 118.02342565, 127.19107113,  97.62232178,\n",
       "       101.7058001 ,  93.5371702 ,  91.49396081, 122.09888536,\n",
       "       103.74691829, 102.72641066,  98.64334744,  87.40626339,\n",
       "        99.66426882,  89.45032594,  93.5371702 , 115.98511551,\n",
       "       106.80782715, 105.78762617,  83.31684677, 100.68508627,\n",
       "       105.78762617,  91.49396081, 100.68508627,  88.42834826,\n",
       "       114.96581384, 111.90731734, 122.09888536, 112.92691517,\n",
       "        98.64334744, 126.17282163, 106.80782715,  85.36177102,\n",
       "        98.64334744,  99.66426882, 117.00431931,  88.42834826,\n",
       "        90.4721967 ,  98.64334744, 123.11751111,  97.62232178,\n",
       "        94.55861605, 103.74691829, 103.74691829,  99.66426882])"
      ]
     },
     "execution_count": 71,
     "metadata": {},
     "output_type": "execute_result"
    }
   ],
   "source": [
    "plt.plot(sumofpaths2(m1.adj_matrix,2),"
   ]
  },
  {
   "cell_type": "code",
   "execution_count": 10,
   "metadata": {
    "ExecuteTime": {
     "end_time": "2020-11-14T01:27:55.464411Z",
     "start_time": "2020-11-14T01:27:55.461575Z"
    }
   },
   "outputs": [],
   "source": [
    "from scipy import sparse as sp"
   ]
  },
  {
   "cell_type": "code",
   "execution_count": 51,
   "metadata": {
    "ExecuteTime": {
     "end_time": "2020-11-14T00:00:39.474616Z",
     "start_time": "2020-11-14T00:00:39.455819Z"
    }
   },
   "outputs": [
    {
     "data": {
      "text/plain": [
       "1999.0"
      ]
     },
     "execution_count": 51,
     "metadata": {},
     "output_type": "execute_result"
    }
   ],
   "source": [
    "((sp.csr_matrix(radj)**1).dot(x)*y).sum()"
   ]
  },
  {
   "cell_type": "code",
   "execution_count": 45,
   "metadata": {
    "ExecuteTime": {
     "end_time": "2020-11-13T23:57:52.238354Z",
     "start_time": "2020-11-13T23:57:37.001968Z"
    }
   },
   "outputs": [
    {
     "data": {
      "application/vnd.jupyter.widget-view+json": {
       "model_id": "92fb14b913884d0ab0d958cc533cb12d",
       "version_major": 2,
       "version_minor": 0
      },
      "text/plain": [
       "HBox(children=(HTML(value=''), FloatProgress(value=0.0, max=300.0), HTML(value='')))"
      ]
     },
     "metadata": {},
     "output_type": "display_data"
    },
    {
     "name": "stdout",
     "output_type": "stream",
     "text": [
      "\n"
     ]
    }
   ],
   "source": [
    "vals1 = np.zeros(300)\n",
    "for i in trange(len(vals)):\n",
    "    radj = ges['proteins','proteins'].sample()\n",
    "    vals1[i] = sumofpaths(radj,1)\n",
    "    "
   ]
  },
  {
   "cell_type": "code",
   "execution_count": 61,
   "metadata": {
    "ExecuteTime": {
     "end_time": "2020-11-14T00:11:04.817746Z",
     "start_time": "2020-11-14T00:10:50.034335Z"
    }
   },
   "outputs": [
    {
     "data": {
      "application/vnd.jupyter.widget-view+json": {
       "model_id": "bc58a7486d854cb4a13a15d7f07c9c43",
       "version_major": 2,
       "version_minor": 0
      },
      "text/plain": [
       "HBox(children=(HTML(value=''), FloatProgress(value=0.0, max=300.0), HTML(value='')))"
      ]
     },
     "metadata": {},
     "output_type": "display_data"
    },
    {
     "name": "stdout",
     "output_type": "stream",
     "text": [
      "\n"
     ]
    }
   ],
   "source": []
  },
  {
   "cell_type": "code",
   "execution_count": 48,
   "metadata": {
    "ExecuteTime": {
     "end_time": "2020-11-13T23:59:21.151822Z",
     "start_time": "2020-11-13T23:59:21.145071Z"
    }
   },
   "outputs": [
    {
     "data": {
      "text/plain": [
       "2015.6942623850564"
      ]
     },
     "execution_count": 48,
     "metadata": {},
     "output_type": "execute_result"
    }
   ],
   "source": [
    "ges['proteins','proteins'].predict_mean(obs.SumOfPaths(x,y,1))"
   ]
  },
  {
   "cell_type": "code",
   "execution_count": 57,
   "metadata": {
    "ExecuteTime": {
     "end_time": "2020-11-14T00:08:06.138290Z",
     "start_time": "2020-11-14T00:08:06.046310Z"
    }
   },
   "outputs": [
    {
     "data": {
      "text/plain": [
       "12623701.802730799"
      ]
     },
     "execution_count": 57,
     "metadata": {},
     "output_type": "execute_result"
    }
   ],
   "source": [
    "x.dot(np.linalg.matrix_power(ges['proteins','proteins'].adj_matrix,3)).dot(y)"
   ]
  },
  {
   "cell_type": "code",
   "execution_count": 54,
   "metadata": {
    "ExecuteTime": {
     "end_time": "2020-11-14T06:39:10.462144Z",
     "start_time": "2020-11-14T06:39:10.389740Z"
    }
   },
   "outputs": [
    {
     "data": {
      "application/vnd.jupyter.widget-view+json": {
       "model_id": "aa43f36cae4e497191d3b02b52c569a4",
       "version_major": 2,
       "version_minor": 0
      },
      "text/plain": [
       "HBox(children=(HTML(value=''), FloatProgress(value=0.0, max=300.0), HTML(value='')))"
      ]
     },
     "metadata": {},
     "output_type": "display_data"
    },
    {
     "name": "stdout",
     "output_type": "stream",
     "text": [
      "\n"
     ]
    },
    {
     "ename": "NameError",
     "evalue": "name 'sumofpaths' is not defined",
     "output_type": "error",
     "traceback": [
      "\u001b[0;31m---------------------------------------------------------------------------\u001b[0m",
      "\u001b[0;31mNameError\u001b[0m                                 Traceback (most recent call last)",
      "\u001b[0;32m<ipython-input-54-6b1aaea8a31a>\u001b[0m in \u001b[0;36m<module>\u001b[0;34m\u001b[0m\n\u001b[1;32m      3\u001b[0m \u001b[0;32mfor\u001b[0m \u001b[0mi\u001b[0m \u001b[0;32min\u001b[0m \u001b[0mtrange\u001b[0m\u001b[0;34m(\u001b[0m\u001b[0mlen\u001b[0m\u001b[0;34m(\u001b[0m\u001b[0mvals\u001b[0m\u001b[0;34m)\u001b[0m\u001b[0;34m)\u001b[0m\u001b[0;34m:\u001b[0m\u001b[0;34m\u001b[0m\u001b[0;34m\u001b[0m\u001b[0m\n\u001b[1;32m      4\u001b[0m     \u001b[0mradj\u001b[0m \u001b[0;34m=\u001b[0m \u001b[0mges\u001b[0m\u001b[0;34m[\u001b[0m\u001b[0;34m'proteins'\u001b[0m\u001b[0;34m,\u001b[0m\u001b[0;34m'proteins'\u001b[0m\u001b[0;34m]\u001b[0m\u001b[0;34m.\u001b[0m\u001b[0msample\u001b[0m\u001b[0;34m(\u001b[0m\u001b[0;34m)\u001b[0m\u001b[0;34m\u001b[0m\u001b[0;34m\u001b[0m\u001b[0m\n\u001b[0;32m----> 5\u001b[0;31m     \u001b[0mvals\u001b[0m\u001b[0;34m[\u001b[0m\u001b[0mi\u001b[0m\u001b[0;34m]\u001b[0m \u001b[0;34m=\u001b[0m \u001b[0msumofpaths\u001b[0m\u001b[0;34m(\u001b[0m\u001b[0mradj\u001b[0m\u001b[0;34m,\u001b[0m\u001b[0mlength\u001b[0m\u001b[0;34m)\u001b[0m\u001b[0;34m\u001b[0m\u001b[0;34m\u001b[0m\u001b[0m\n\u001b[0m\u001b[1;32m      6\u001b[0m \u001b[0;34m\u001b[0m\u001b[0m\n\u001b[1;32m      7\u001b[0m \u001b[0mplt\u001b[0m\u001b[0;34m.\u001b[0m\u001b[0mhist\u001b[0m\u001b[0;34m(\u001b[0m\u001b[0mvals\u001b[0m\u001b[0;34m)\u001b[0m\u001b[0;34m\u001b[0m\u001b[0;34m\u001b[0m\u001b[0m\n",
      "\u001b[0;31mNameError\u001b[0m: name 'sumofpaths' is not defined"
     ]
    }
   ],
   "source": [
    "length = 1\n",
    "vals = np.zeros(300)\n",
    "for i in trange(len(vals)):\n",
    "    radj = ges['proteins','proteins'].sample()\n",
    "    vals[i] = sumofpaths(radj,length)\n",
    "    \n",
    "plt.hist(vals)\n",
    "plt.axvline(m1.predict_mean(obs.SumOfPaths(x,y,length)),color='red')\n",
    "print(m1.predict_std(obs.SumOfPaths(x,y,length)),vals.std())"
   ]
  },
  {
   "cell_type": "code",
   "execution_count": 78,
   "metadata": {
    "ExecuteTime": {
     "end_time": "2020-11-14T00:22:09.765863Z",
     "start_time": "2020-11-14T00:22:09.752715Z"
    }
   },
   "outputs": [
    {
     "ename": "TypeError",
     "evalue": "func() missing 2 required positional arguments: 'adj' and 'input_vector'",
     "output_type": "error",
     "traceback": [
      "\u001b[0;31m---------------------------------------------------------------------------\u001b[0m",
      "\u001b[0;31mTypeError\u001b[0m                                 Traceback (most recent call last)",
      "\u001b[0;32m<ipython-input-78-d4dcf2c404bf>\u001b[0m in \u001b[0;36m<module>\u001b[0;34m\u001b[0m\n\u001b[0;32m----> 1\u001b[0;31m \u001b[0mobs\u001b[0m\u001b[0;34m.\u001b[0m\u001b[0mSumOfPaths\u001b[0m\u001b[0;34m(\u001b[0m\u001b[0mx\u001b[0m\u001b[0;34m,\u001b[0m\u001b[0mlength\u001b[0m\u001b[0;34m=\u001b[0m\u001b[0mlength\u001b[0m\u001b[0;34m)\u001b[0m\u001b[0;34m.\u001b[0m\u001b[0mfunc\u001b[0m\u001b[0;34m(\u001b[0m\u001b[0;34m)\u001b[0m\u001b[0;34m\u001b[0m\u001b[0;34m\u001b[0m\u001b[0m\n\u001b[0m",
      "\u001b[0;31mTypeError\u001b[0m: func() missing 2 required positional arguments: 'adj' and 'input_vector'"
     ]
    }
   ],
   "source": []
  },
  {
   "cell_type": "code",
   "execution_count": 53,
   "metadata": {
    "ExecuteTime": {
     "end_time": "2020-11-14T06:38:28.805001Z",
     "start_time": "2020-11-14T06:38:28.784946Z"
    }
   },
   "outputs": [
    {
     "data": {
      "text/plain": [
       "array([0., 0., 0., 0., 1., 1., 1., 1., 0., 0., 0., 1., 0., 3., 3., 3., 4.,\n",
       "       1., 1., 2., 3., 1., 1., 1., 1., 3., 0., 0., 0., 1., 1., 0., 1., 0.,\n",
       "       2., 1., 0., 0., 0., 2., 3., 0., 0., 0., 3., 1., 0., 2., 0., 2., 1.,\n",
       "       2., 0., 2., 1., 2., 0., 0., 0., 0., 0., 1., 3., 1., 1., 0., 1., 2.,\n",
       "       1., 2., 0., 0., 2., 0., 0., 1., 3., 3., 1., 0., 1., 2., 2., 1., 2.,\n",
       "       2., 0., 1., 0., 0., 1., 0., 0., 0., 2., 2., 2., 2., 0., 1., 0., 0.,\n",
       "       4., 3., 0., 1., 0., 0., 2., 1., 1., 1., 0., 3., 3., 2., 1., 1., 1.,\n",
       "       2., 2., 0., 1., 1., 0., 1., 1., 1., 1., 2., 1., 1., 2., 0., 1., 2.,\n",
       "       1., 0., 3., 1., 2., 1., 1., 0., 1., 1., 1., 1., 1., 1., 2., 1., 3.,\n",
       "       0., 2., 0., 3., 1., 0., 3., 2., 1., 0., 4., 0., 0., 1., 0., 3., 0.,\n",
       "       1., 0., 1., 0., 0., 0., 0., 0., 1., 2., 1., 1., 2., 1., 2., 1., 0.,\n",
       "       0., 1., 0., 1., 1., 1., 0., 0., 2., 1., 1., 0., 1., 1., 0., 0., 0.,\n",
       "       2., 1., 0., 2., 1., 0., 1., 0., 0., 4., 2., 2., 0., 0., 0., 0., 3.,\n",
       "       1., 1., 0., 1., 1., 1., 0., 1., 2., 1., 1., 0., 1., 0., 1., 0., 1.,\n",
       "       3., 0., 2., 0., 2., 1., 0., 1., 1., 3., 1., 0., 1., 1., 1., 1., 0.,\n",
       "       0., 1., 1., 0., 1., 0., 2., 0., 0., 1., 1., 1., 1., 0., 2., 1., 1.,\n",
       "       0., 0., 2., 1., 1., 1., 1., 1., 0., 0., 3., 2., 2., 2., 0., 2., 0.,\n",
       "       3., 0., 0., 3., 0., 1., 2., 1., 2., 1., 1., 0., 1., 3., 0., 0., 1.,\n",
       "       1., 2., 1., 0., 0., 1., 2., 0., 1., 0., 0., 0., 1., 4., 0., 1., 0.,\n",
       "       0., 0., 1., 2., 1., 3., 0., 2., 1., 4., 3., 1., 0., 0., 4., 2., 2.,\n",
       "       0., 2., 0., 1., 2., 0., 1., 1., 1., 0., 0., 1., 1., 1., 0., 1., 0.,\n",
       "       0., 2., 1., 0., 0., 1., 1., 1., 0., 0., 1., 3., 1., 1., 0., 0., 0.,\n",
       "       1., 1., 3., 1., 0., 1., 4., 2., 1., 0., 1., 2., 0., 0., 2., 0., 0.,\n",
       "       1., 1., 2., 2., 1., 0., 2., 3., 1., 1., 1., 1., 0., 0., 1., 2., 2.,\n",
       "       0., 1., 0., 1., 1., 1., 0., 0., 1., 0., 1., 0., 1., 0., 1., 1., 0.,\n",
       "       4., 2., 0., 0., 0., 1., 1., 0., 3., 1., 1., 1., 3., 0., 2., 3., 0.,\n",
       "       2., 1., 0., 3., 1., 1., 1., 1., 1., 1., 1., 3., 1., 0., 0., 3., 2.,\n",
       "       0., 0., 2., 1., 1., 0., 1., 1., 3., 1., 1., 2., 1., 0., 2., 0., 1.,\n",
       "       0., 2., 2., 2., 0., 0., 1., 1., 0., 0., 0., 1., 1., 1., 1., 0., 0.,\n",
       "       1., 3., 1., 1., 1., 2., 1., 1., 2., 0., 1., 1., 2., 2., 0., 1., 3.,\n",
       "       2., 1., 0., 2., 0., 0., 1., 1., 2., 2., 0., 1., 0., 1., 1., 1., 0.,\n",
       "       0., 2., 1., 1., 1., 0., 3., 0., 0., 2., 3., 1., 0., 1., 0., 3., 3.,\n",
       "       0., 2., 1., 1., 1., 1., 0., 1., 0., 1., 2., 0., 0., 1., 3., 1., 2.,\n",
       "       2., 0., 2., 0., 2., 2., 1., 0., 0., 1., 0., 0., 1., 0., 0., 1., 3.,\n",
       "       1., 0., 1., 1., 2., 1., 0., 3., 0., 0., 0., 1., 3., 3., 1., 2., 0.,\n",
       "       1., 1., 2., 1., 1., 3., 1., 0., 1., 2., 0., 0., 1., 0., 2., 0., 2.,\n",
       "       2., 0., 0., 3., 0., 1., 2., 2., 1., 2., 0., 1., 1., 2., 2., 1., 1.,\n",
       "       0., 1., 2., 1., 2., 1., 3., 1., 2., 0., 2., 0., 2., 0., 1., 1., 2.,\n",
       "       2., 1., 3., 1., 2., 2., 0., 0., 0., 2., 3., 0., 1., 0., 2., 0., 0.,\n",
       "       0., 0., 4., 3., 1., 1., 1., 0., 2., 1., 3., 0., 2., 3., 0., 2., 1.,\n",
       "       1., 1., 1., 0., 1., 0., 1., 0., 3., 1., 1., 0., 0., 2., 1., 1., 1.,\n",
       "       0., 1., 0., 3., 2., 2., 1., 0., 1., 1., 0., 4., 0., 0., 0., 0., 0.,\n",
       "       3., 2., 0., 2., 1., 0., 1., 1., 1., 1., 1., 0., 1., 1., 1., 1., 1.,\n",
       "       3., 1., 1., 1., 0., 2., 1., 0., 1., 1., 0., 0., 1., 0., 1., 1., 0.,\n",
       "       0., 0., 1., 2., 3., 1., 3., 2., 1., 2., 0., 3., 3., 0., 1., 0., 1.,\n",
       "       3., 1., 3., 2., 0., 1., 0., 0., 0., 1., 2., 1., 1., 1., 1., 1., 0.,\n",
       "       0., 0., 1., 2., 0., 2., 0., 2., 0., 1., 0., 3., 0., 2., 2., 0., 0.,\n",
       "       1., 1., 0., 1., 3., 3., 0., 1., 1., 1., 0., 1., 1., 0., 2., 0., 2.,\n",
       "       2., 2., 0., 0., 4., 0., 2., 2., 0., 1., 1., 2., 0., 1., 0., 2., 2.,\n",
       "       0., 1., 1., 3., 0., 1., 0., 0., 0., 1., 0., 0., 2., 3., 1., 2., 1.,\n",
       "       1., 1., 0., 2., 0., 0., 0., 1., 1., 0., 0., 1., 4., 1., 2., 1., 1.,\n",
       "       0., 1., 1., 0., 0., 1., 1., 0., 2., 0., 0., 1., 1., 0., 3., 0., 0.,\n",
       "       0., 2., 2., 0., 1., 2., 2., 0., 2., 0., 0., 2., 1., 2., 1., 1., 2.,\n",
       "       2., 1., 0., 0., 1., 0., 1., 1., 1., 2., 1., 0., 0., 0., 0., 0., 0.,\n",
       "       0., 0., 1., 2., 1., 1., 0., 3., 1., 2., 0., 0., 1., 1., 0., 4., 0.,\n",
       "       0., 0., 3., 0., 1., 0., 0., 0., 2., 0., 1., 0., 0., 1., 0., 0., 1.,\n",
       "       2., 1., 0., 1., 1., 0., 1., 2., 1., 1., 2., 0., 1., 0., 0., 0., 1.,\n",
       "       1., 1., 3., 1., 1., 1., 2., 1., 0., 2., 0., 1., 0., 2., 1., 1., 0.,\n",
       "       2., 0., 1., 0., 1., 1., 1., 1., 2., 1., 0., 0., 1., 1.])"
      ]
     },
     "execution_count": 53,
     "metadata": {},
     "output_type": "execute_result"
    }
   ],
   "source": [
    "obs.SumOfPaths(x,length=length).func(radj,x)"
   ]
  },
  {
   "cell_type": "code",
   "execution_count": 109,
   "metadata": {
    "ExecuteTime": {
     "end_time": "2020-11-15T00:29:10.246508Z",
     "start_time": "2020-11-15T00:29:00.759603Z"
    }
   },
   "outputs": [
    {
     "data": {
      "application/vnd.jupyter.widget-view+json": {
       "model_id": "81b6655dba2a41cc80bb43512a6d03e0",
       "version_major": 2,
       "version_minor": 0
      },
      "text/plain": [
       "HBox(children=(HTML(value=''), FloatProgress(value=0.0, max=300.0), HTML(value='')))"
      ]
     },
     "metadata": {},
     "output_type": "display_data"
    },
    {
     "name": "stdout",
     "output_type": "stream",
     "text": [
      "\n"
     ]
    }
   ],
   "source": [
    "length = 2\n",
    "vals = np.zeros([300,1000])\n",
    "for i in trange(vals.shape[0]):\n",
    "    radj = ges['proteins','proteins'].sample()\n",
    "    vals[i,:] = propagate_nstep(radj,length)\n",
    "    "
   ]
  },
  {
   "cell_type": "code",
   "execution_count": 20,
   "metadata": {
    "ExecuteTime": {
     "end_time": "2020-11-14T06:12:05.751051Z",
     "start_time": "2020-11-14T06:12:05.450108Z"
    }
   },
   "outputs": [
    {
     "data": {
      "text/plain": [
       "[1000]"
      ]
     },
     "execution_count": 20,
     "metadata": {},
     "output_type": "execute_result"
    }
   ],
   "source": []
  },
  {
   "cell_type": "code",
   "execution_count": 21,
   "metadata": {
    "ExecuteTime": {
     "end_time": "2020-11-14T06:13:59.751607Z",
     "start_time": "2020-11-14T06:12:41.125467Z"
    }
   },
   "outputs": [
    {
     "data": {
      "application/vnd.jupyter.widget-view+json": {
       "model_id": "0e86e1ce81f94162825f470cf5c43587",
       "version_major": 2,
       "version_minor": 0
      },
      "text/plain": [
       "HBox(children=(HTML(value=''), FloatProgress(value=0.0, max=300.0), HTML(value='')))"
      ]
     },
     "metadata": {},
     "output_type": "display_data"
    },
    {
     "name": "stdout",
     "output_type": "stream",
     "text": [
      "\n"
     ]
    }
   ],
   "source": [
    "ccs = np.zeros(300)\n",
    "for i in trange(300):\n",
    "    ccs[i] = max([len(cc) for cc in nx.connected_components(nx.from_numpy_matrix(ges['proteins','proteins'].sample()))])"
   ]
  },
  {
   "cell_type": "code",
   "execution_count": 110,
   "metadata": {
    "ExecuteTime": {
     "end_time": "2020-11-15T00:29:10.812348Z",
     "start_time": "2020-11-15T00:29:10.587213Z"
    }
   },
   "outputs": [
    {
     "data": {
      "text/plain": [
       "[<matplotlib.lines.Line2D at 0x7fc21ec0f470>]"
      ]
     },
     "execution_count": 110,
     "metadata": {},
     "output_type": "execute_result"
    },
    {
     "data": {
      "image/png": "[encoded data removed]",
      "text/plain": [
       "<Figure size 432x288 with 1 Axes>"
      ]
     },
     "metadata": {
      "needs_background": "light"
     },
     "output_type": "display_data"
    }
   ],
   "source": [
    "plt.plot(vals.mean(axis=0),sumofpaths3(ges['proteins','proteins'].adj_matrix,2),'.')\n",
    "plt.plot(plt.xlim(),plt.xlim())"
   ]
  },
  {
   "cell_type": "code",
   "execution_count": 92,
   "metadata": {
    "ExecuteTime": {
     "end_time": "2020-11-14T23:46:31.047671Z",
     "start_time": "2020-11-14T23:46:31.042679Z"
    }
   },
   "outputs": [
    {
     "data": {
      "text/plain": [
       "array([[0.        , 0.11851412, 0.11117215, ..., 0.1143239 , 0.1143239 ,\n",
       "        0.11011979],\n",
       "       [0.11851412, 0.        , 0.10318187, ..., 0.10625433, 0.10625433,\n",
       "        0.10215702],\n",
       "       [0.11117215, 0.10318187, 0.        , ..., 0.09918962, 0.09918962,\n",
       "        0.09519945],\n",
       "       ...,\n",
       "       [0.1143239 , 0.10625433, 0.09918962, ..., 0.        , 0.10221778,\n",
       "        0.09818008],\n",
       "       [0.1143239 , 0.10625433, 0.09918962, ..., 0.10221778, 0.        ,\n",
       "        0.09818008],\n",
       "       [0.11011979, 0.10215702, 0.09519945, ..., 0.09818008, 0.09818008,\n",
       "        0.        ]])"
      ]
     },
     "execution_count": 92,
     "metadata": {},
     "output_type": "execute_result"
    }
   ],
   "source": [
    "ges['proteins','proteins'].adj_matrix"
   ]
  },
  {
   "cell_type": "code",
   "execution_count": 68,
   "metadata": {
    "ExecuteTime": {
     "end_time": "2020-11-14T06:56:38.720591Z",
     "start_time": "2020-11-14T06:56:38.503042Z"
    }
   },
   "outputs": [
    {
     "data": {
      "text/plain": [
       "[<matplotlib.lines.Line2D at 0x7fc21eb31e80>]"
      ]
     },
     "execution_count": 68,
     "metadata": {},
     "output_type": "execute_result"
    },
    {
     "data": {
      "image/png": "[encoded data removed]",
      "text/plain": [
       "<Figure size 432x288 with 1 Axes>"
      ]
     },
     "metadata": {
      "needs_background": "light"
     },
     "output_type": "display_data"
    }
   ],
   "source": [
    "plt.plot(vals.mean(axis=0),ges['proteins','proteins'].predict_mean(obs.SumOfPaths(x,length=length)),'.')\n",
    "plt.plot(plt.xlim(),plt.xlim())"
   ]
  },
  {
   "cell_type": "code",
   "execution_count": null,
   "metadata": {},
   "outputs": [],
   "source": []
  },
  {
   "cell_type": "code",
   "execution_count": 61,
   "metadata": {
    "ExecuteTime": {
     "end_time": "2020-11-14T06:41:06.114579Z",
     "start_time": "2020-11-14T06:41:06.029699Z"
    }
   },
   "outputs": [
    {
     "ename": "TypeError",
     "evalue": "unsupported operand type(s) for *: 'float' and 'NoneType'",
     "output_type": "error",
     "traceback": [
      "\u001b[0;31m---------------------------------------------------------------------------\u001b[0m",
      "\u001b[0;31mTypeError\u001b[0m                                 Traceback (most recent call last)",
      "\u001b[0;32m<ipython-input-61-5663466af8d8>\u001b[0m in \u001b[0;36m<module>\u001b[0;34m\u001b[0m\n\u001b[0;32m----> 1\u001b[0;31m \u001b[0mplt\u001b[0m\u001b[0;34m.\u001b[0m\u001b[0mplot\u001b[0m\u001b[0;34m(\u001b[0m\u001b[0mvals\u001b[0m\u001b[0;34m.\u001b[0m\u001b[0mstd\u001b[0m\u001b[0;34m(\u001b[0m\u001b[0maxis\u001b[0m\u001b[0;34m=\u001b[0m\u001b[0;36m0\u001b[0m\u001b[0;34m)\u001b[0m\u001b[0;34m,\u001b[0m\u001b[0mges\u001b[0m\u001b[0;34m[\u001b[0m\u001b[0;34m'proteins'\u001b[0m\u001b[0;34m,\u001b[0m\u001b[0;34m'proteins'\u001b[0m\u001b[0;34m]\u001b[0m\u001b[0;34m.\u001b[0m\u001b[0mpredict_std\u001b[0m\u001b[0;34m(\u001b[0m\u001b[0mobs\u001b[0m\u001b[0;34m.\u001b[0m\u001b[0mSumOfPaths\u001b[0m\u001b[0;34m(\u001b[0m\u001b[0mx\u001b[0m\u001b[0;34m,\u001b[0m\u001b[0mlength\u001b[0m\u001b[0;34m=\u001b[0m\u001b[0mlength\u001b[0m\u001b[0;34m)\u001b[0m\u001b[0;34m)\u001b[0m\u001b[0;34m,\u001b[0m\u001b[0;34m'.'\u001b[0m\u001b[0;34m)\u001b[0m\u001b[0;34m\u001b[0m\u001b[0;34m\u001b[0m\u001b[0m\n\u001b[0m\u001b[1;32m      2\u001b[0m \u001b[0mplt\u001b[0m\u001b[0;34m.\u001b[0m\u001b[0mplot\u001b[0m\u001b[0;34m(\u001b[0m\u001b[0mplt\u001b[0m\u001b[0;34m.\u001b[0m\u001b[0mxlim\u001b[0m\u001b[0;34m(\u001b[0m\u001b[0;34m)\u001b[0m\u001b[0;34m,\u001b[0m\u001b[0mplt\u001b[0m\u001b[0;34m.\u001b[0m\u001b[0mxlim\u001b[0m\u001b[0;34m(\u001b[0m\u001b[0;34m)\u001b[0m\u001b[0;34m)\u001b[0m\u001b[0;34m\u001b[0m\u001b[0;34m\u001b[0m\u001b[0m\n",
      "\u001b[0;32m~/Postdoc/Progetti/MAXENT/claude/claude/base.py\u001b[0m in \u001b[0;36mpredict_std\u001b[0;34m(self, obs, g_args, obs_dim_idx, batch_size)\u001b[0m\n\u001b[1;32m     53\u001b[0m                         \u001b[0;31m#       std_vec = np.sqrt(((self.sigma * grad_term) ** 2).sum())\u001b[0m\u001b[0;34m\u001b[0m\u001b[0;34m\u001b[0m\u001b[0;34m\u001b[0m\u001b[0m\n\u001b[1;32m     54\u001b[0m                         \u001b[0;31m#else:\u001b[0m\u001b[0;34m\u001b[0m\u001b[0;34m\u001b[0m\u001b[0;34m\u001b[0m\u001b[0m\n\u001b[0;32m---> 55\u001b[0;31m                         \u001b[0mgrad_term\u001b[0m \u001b[0;34m=\u001b[0m \u001b[0mfunc_grad\u001b[0m\u001b[0;34m(\u001b[0m\u001b[0mself\u001b[0m\u001b[0;34m.\u001b[0m\u001b[0madj_matrix\u001b[0m\u001b[0;34m,\u001b[0m \u001b[0;34m*\u001b[0m\u001b[0mg_args\u001b[0m\u001b[0;34m)\u001b[0m\u001b[0;34m\u001b[0m\u001b[0;34m\u001b[0m\u001b[0m\n\u001b[0m\u001b[1;32m     56\u001b[0m                         \u001b[0msum_dims\u001b[0m \u001b[0;34m=\u001b[0m \u001b[0mtuple\u001b[0m\u001b[0;34m(\u001b[0m\u001b[0;34m[\u001b[0m\u001b[0mdim\u001b[0m \u001b[0;32mfor\u001b[0m \u001b[0mdim\u001b[0m \u001b[0;32min\u001b[0m \u001b[0mrange\u001b[0m\u001b[0;34m(\u001b[0m\u001b[0mlen\u001b[0m\u001b[0;34m(\u001b[0m\u001b[0mgrad_term\u001b[0m\u001b[0;34m.\u001b[0m\u001b[0mshape\u001b[0m\u001b[0;34m)\u001b[0m\u001b[0;34m)\u001b[0m \u001b[0;32mif\u001b[0m \u001b[0mdim\u001b[0m \u001b[0;34m!=\u001b[0m \u001b[0mobs_dim_idx\u001b[0m\u001b[0;34m]\u001b[0m\u001b[0;34m)\u001b[0m\u001b[0;34m\u001b[0m\u001b[0;34m\u001b[0m\u001b[0m\n\u001b[1;32m     57\u001b[0m                         \u001b[0mstd_vec\u001b[0m \u001b[0;34m=\u001b[0m \u001b[0mnp\u001b[0m\u001b[0;34m.\u001b[0m\u001b[0msqrt\u001b[0m\u001b[0;34m(\u001b[0m\u001b[0;34m(\u001b[0m\u001b[0;34m(\u001b[0m\u001b[0mself\u001b[0m\u001b[0;34m.\u001b[0m\u001b[0msigma\u001b[0m \u001b[0;34m*\u001b[0m \u001b[0mgrad_term\u001b[0m\u001b[0;34m)\u001b[0m \u001b[0;34m**\u001b[0m \u001b[0;36m2\u001b[0m\u001b[0;34m)\u001b[0m\u001b[0;34m.\u001b[0m\u001b[0msum\u001b[0m\u001b[0;34m(\u001b[0m\u001b[0maxis\u001b[0m\u001b[0;34m=\u001b[0m\u001b[0msum_dims\u001b[0m\u001b[0;34m)\u001b[0m\u001b[0;34m)\u001b[0m\u001b[0;34m\u001b[0m\u001b[0;34m\u001b[0m\u001b[0m\n",
      "\u001b[0;32m~/Postdoc/Progetti/MAXENT/claude/claude/observables.py\u001b[0m in \u001b[0;36mgrad\u001b[0;34m(self, adj, input_vector, proj_vector, length)\u001b[0m\n\u001b[1;32m    221\u001b[0m                 \u001b[0mterm\u001b[0m \u001b[0;34m=\u001b[0m \u001b[0;36m0\u001b[0m\u001b[0;34m\u001b[0m\u001b[0;34m\u001b[0m\u001b[0m\n\u001b[1;32m    222\u001b[0m                 \u001b[0;32mfor\u001b[0m \u001b[0ml\u001b[0m \u001b[0;32min\u001b[0m \u001b[0mrange\u001b[0m\u001b[0;34m(\u001b[0m\u001b[0mlength\u001b[0m\u001b[0;34m)\u001b[0m\u001b[0;34m:\u001b[0m\u001b[0;34m\u001b[0m\u001b[0;34m\u001b[0m\u001b[0m\n\u001b[0;32m--> 223\u001b[0;31m                         \u001b[0mterm\u001b[0m \u001b[0;34m=\u001b[0m \u001b[0mterm\u001b[0m \u001b[0;34m+\u001b[0m \u001b[0minput_vector\u001b[0m\u001b[0;34m.\u001b[0m\u001b[0mdot\u001b[0m\u001b[0;34m(\u001b[0m\u001b[0mpowers\u001b[0m\u001b[0;34m[\u001b[0m\u001b[0ml\u001b[0m\u001b[0;34m]\u001b[0m\u001b[0;34m)\u001b[0m\u001b[0;34m[\u001b[0m\u001b[0;34m:\u001b[0m\u001b[0;34m,\u001b[0m\u001b[0;32mNone\u001b[0m\u001b[0;34m]\u001b[0m \u001b[0;34m*\u001b[0m \u001b[0mpowers\u001b[0m\u001b[0;34m[\u001b[0m\u001b[0mlength\u001b[0m \u001b[0;34m-\u001b[0m \u001b[0;36m1\u001b[0m \u001b[0;34m-\u001b[0m \u001b[0ml\u001b[0m\u001b[0;34m]\u001b[0m\u001b[0;34m.\u001b[0m\u001b[0mdot\u001b[0m\u001b[0;34m(\u001b[0m\u001b[0mproj_vector\u001b[0m\u001b[0;34m)\u001b[0m\u001b[0;34m[\u001b[0m\u001b[0;32mNone\u001b[0m\u001b[0;34m,\u001b[0m \u001b[0;34m:\u001b[0m\u001b[0;34m]\u001b[0m\u001b[0;34m\u001b[0m\u001b[0;34m\u001b[0m\u001b[0m\n\u001b[0m\u001b[1;32m    224\u001b[0m                 \u001b[0;32mreturn\u001b[0m \u001b[0mterm\u001b[0m\u001b[0;34m\u001b[0m\u001b[0;34m\u001b[0m\u001b[0m\n\u001b[1;32m    225\u001b[0m \u001b[0;34m\u001b[0m\u001b[0m\n",
      "\u001b[0;31mTypeError\u001b[0m: unsupported operand type(s) for *: 'float' and 'NoneType'"
     ]
    }
   ],
   "source": [
    "plt.plot(vals.std(axis=0),ges['proteins','proteins'].predict_std(obs.SumOfPaths(x,length=length)),'.')\n",
    "plt.plot(plt.xlim(),plt.xlim())"
   ]
  },
  {
   "cell_type": "code",
   "execution_count": 44,
   "metadata": {
    "ExecuteTime": {
     "end_time": "2020-11-13T23:56:36.155480Z",
     "start_time": "2020-11-13T23:56:35.554110Z"
    }
   },
   "outputs": [
    {
     "name": "stdout",
     "output_type": "stream",
     "text": [
      "234574.0327539533 282440.0325471328\n"
     ]
    },
    {
     "data": {
      "image/png": "[encoded data removed]",
      "text/plain": [
       "<Figure size 432x288 with 1 Axes>"
      ]
     },
     "metadata": {
      "needs_background": "light"
     },
     "output_type": "display_data"
    }
   ],
   "source": [
    "plt.hist(vals)\n",
    "plt.axvline(ges['proteins','proteins'].predict_mean(obs.SumOfPaths(x,y,3)),color='red')\n",
    "print(ges['proteins','proteins'].predict_std(obs.SumOfPaths(x,y,3)),vals.std())"
   ]
  },
  {
   "cell_type": "code",
   "execution_count": 20,
   "metadata": {
    "ExecuteTime": {
     "end_time": "2020-11-13T23:41:06.763871Z",
     "start_time": "2020-11-13T23:39:55.098411Z"
    }
   },
   "outputs": [
    {
     "name": "stdout",
     "output_type": "stream",
     "text": [
      "> \u001b[0;32m/Users/reema/Postdoc/Progetti/MAXENT/claude/claude/observables.py\u001b[0m(223)\u001b[0;36mgrad\u001b[0;34m()\u001b[0m\n",
      "\u001b[0;32m    221 \u001b[0;31m                \u001b[0mterm\u001b[0m \u001b[0;34m=\u001b[0m \u001b[0;36m0\u001b[0m\u001b[0;34m\u001b[0m\u001b[0;34m\u001b[0m\u001b[0m\n",
      "\u001b[0m\u001b[0;32m    222 \u001b[0;31m                \u001b[0;32mfor\u001b[0m \u001b[0ml\u001b[0m \u001b[0;32min\u001b[0m \u001b[0mrange\u001b[0m\u001b[0;34m(\u001b[0m\u001b[0mlength\u001b[0m\u001b[0;34m)\u001b[0m\u001b[0;34m:\u001b[0m\u001b[0;34m\u001b[0m\u001b[0;34m\u001b[0m\u001b[0m\n",
      "\u001b[0m\u001b[0;32m--> 223 \u001b[0;31m                        \u001b[0mterm\u001b[0m \u001b[0;34m=\u001b[0m \u001b[0mterm\u001b[0m \u001b[0;34m+\u001b[0m \u001b[0minput_vector\u001b[0m\u001b[0;34m.\u001b[0m\u001b[0mdot\u001b[0m\u001b[0;34m(\u001b[0m\u001b[0mpowers\u001b[0m\u001b[0;34m[\u001b[0m\u001b[0ml\u001b[0m\u001b[0;34m]\u001b[0m\u001b[0;34m[\u001b[0m\u001b[0;34m:\u001b[0m\u001b[0;34m,\u001b[0m\u001b[0;32mNone\u001b[0m\u001b[0;34m]\u001b[0m\u001b[0;34m)\u001b[0m \u001b[0;34m*\u001b[0m \u001b[0mpowers\u001b[0m\u001b[0;34m[\u001b[0m\u001b[0mlength\u001b[0m \u001b[0;34m-\u001b[0m \u001b[0;36m1\u001b[0m \u001b[0;34m-\u001b[0m \u001b[0ml\u001b[0m\u001b[0;34m]\u001b[0m\u001b[0;34m.\u001b[0m\u001b[0mdot\u001b[0m\u001b[0;34m(\u001b[0m\u001b[0mproj_vector\u001b[0m\u001b[0;34m)\u001b[0m\u001b[0;34m[\u001b[0m\u001b[0;32mNone\u001b[0m\u001b[0;34m,\u001b[0m \u001b[0;34m:\u001b[0m\u001b[0;34m]\u001b[0m\u001b[0;34m\u001b[0m\u001b[0;34m\u001b[0m\u001b[0m\n",
      "\u001b[0m\u001b[0;32m    224 \u001b[0;31m                \u001b[0;32mreturn\u001b[0m \u001b[0mterm\u001b[0m\u001b[0;34m\u001b[0m\u001b[0;34m\u001b[0m\u001b[0m\n",
      "\u001b[0m\u001b[0;32m    225 \u001b[0;31m\u001b[0;34m\u001b[0m\u001b[0m\n",
      "\u001b[0m\n",
      "ipdb> input_vector.dot(powers[l][:,None]).shape\n",
      "*** ValueError: shapes (1000,) and (1000,1,1000) not aligned: 1000 (dim 0) != 1 (dim 1)\n",
      "ipdb> input_vector.dot(powers[l])[:,None]\n",
      "array([[1.],\n",
      "       [1.],\n",
      "       [1.],\n",
      "       [1.],\n",
      "       [1.],\n",
      "       [1.],\n",
      "       [1.],\n",
      "       [1.],\n",
      "       [1.],\n",
      "       [1.],\n",
      "       [1.],\n",
      "       [1.],\n",
      "       [1.],\n",
      "       [1.],\n",
      "       [1.],\n",
      "       [1.],\n",
      "       [1.],\n",
      "       [1.],\n",
      "       [1.],\n",
      "       [1.],\n",
      "       [1.],\n",
      "       [1.],\n",
      "       [1.],\n",
      "       [1.],\n",
      "       [1.],\n",
      "       [1.],\n",
      "       [1.],\n",
      "       [1.],\n",
      "       [1.],\n",
      "       [1.],\n",
      "       [1.],\n",
      "       [1.],\n",
      "       [1.],\n",
      "       [1.],\n",
      "       [1.],\n",
      "       [1.],\n",
      "       [1.],\n",
      "       [1.],\n",
      "       [1.],\n",
      "       [1.],\n",
      "       [1.],\n",
      "       [1.],\n",
      "       [1.],\n",
      "       [1.],\n",
      "       [1.],\n",
      "       [1.],\n",
      "       [1.],\n",
      "       [1.],\n",
      "       [1.],\n",
      "       [1.],\n",
      "       [1.],\n",
      "       [1.],\n",
      "       [1.],\n",
      "       [1.],\n",
      "       [1.],\n",
      "       [1.],\n",
      "       [1.],\n",
      "       [1.],\n",
      "       [1.],\n",
      "       [1.],\n",
      "       [1.],\n",
      "       [1.],\n",
      "       [1.],\n",
      "       [1.],\n",
      "       [1.],\n",
      "       [1.],\n",
      "       [1.],\n",
      "       [1.],\n",
      "       [1.],\n",
      "       [1.],\n",
      "       [1.],\n",
      "       [1.],\n",
      "       [1.],\n",
      "       [1.],\n",
      "       [1.],\n",
      "       [1.],\n",
      "       [1.],\n",
      "       [1.],\n",
      "       [1.],\n",
      "       [1.],\n",
      "       [1.],\n",
      "       [1.],\n",
      "       [1.],\n",
      "       [1.],\n",
      "       [1.],\n",
      "       [1.],\n",
      "       [1.],\n",
      "       [1.],\n",
      "       [1.],\n",
      "       [1.],\n",
      "       [1.],\n",
      "       [1.],\n",
      "       [1.],\n",
      "       [1.],\n",
      "       [1.],\n",
      "       [1.],\n",
      "       [1.],\n",
      "       [1.],\n",
      "       [1.],\n",
      "       [1.],\n",
      "       [0.],\n",
      "       [0.],\n",
      "       [0.],\n",
      "       [0.],\n",
      "       [0.],\n",
      "       [0.],\n",
      "       [0.],\n",
      "       [0.],\n",
      "       [0.],\n",
      "       [0.],\n",
      "       [0.],\n",
      "       [0.],\n",
      "       [0.],\n",
      "       [0.],\n",
      "       [0.],\n",
      "       [0.],\n",
      "       [0.],\n",
      "       [0.],\n",
      "       [0.],\n",
      "       [0.],\n",
      "       [0.],\n",
      "       [0.],\n",
      "       [0.],\n",
      "       [0.],\n",
      "       [0.],\n",
      "       [0.],\n",
      "       [0.],\n",
      "       [0.],\n",
      "       [0.],\n",
      "       [0.],\n",
      "       [0.],\n",
      "       [0.],\n",
      "       [0.],\n",
      "       [0.],\n",
      "       [0.],\n",
      "       [0.],\n",
      "       [0.],\n",
      "       [0.],\n",
      "       [0.],\n",
      "       [0.],\n",
      "       [0.],\n",
      "       [0.],\n",
      "       [0.],\n",
      "       [0.],\n",
      "       [0.],\n",
      "       [0.],\n",
      "       [0.],\n",
      "       [0.],\n",
      "       [0.],\n",
      "       [0.],\n",
      "       [0.],\n",
      "       [0.],\n",
      "       [0.],\n",
      "       [0.],\n",
      "       [0.],\n",
      "       [0.],\n",
      "       [0.],\n",
      "       [0.],\n",
      "       [0.],\n",
      "       [0.],\n",
      "       [0.],\n",
      "       [0.],\n",
      "       [0.],\n",
      "       [0.],\n",
      "       [0.],\n",
      "       [0.],\n",
      "       [0.],\n",
      "       [0.],\n",
      "       [0.],\n",
      "       [0.],\n",
      "       [0.],\n",
      "       [0.],\n",
      "       [0.],\n",
      "       [0.],\n",
      "       [0.],\n",
      "       [0.],\n",
      "       [0.],\n",
      "       [0.],\n",
      "       [0.],\n",
      "       [0.],\n",
      "       [0.],\n",
      "       [0.],\n",
      "       [0.],\n",
      "       [0.],\n",
      "       [0.],\n",
      "       [0.],\n",
      "       [0.],\n",
      "       [0.],\n",
      "       [0.],\n",
      "       [0.],\n",
      "       [0.],\n",
      "       [0.],\n",
      "       [0.],\n",
      "       [0.],\n",
      "       [0.],\n",
      "       [0.],\n",
      "       [0.],\n",
      "       [0.],\n",
      "       [0.],\n",
      "       [0.],\n",
      "       [0.],\n",
      "       [0.],\n",
      "       [0.],\n",
      "       [0.],\n",
      "       [0.],\n",
      "       [0.],\n",
      "       [0.],\n",
      "       [0.],\n",
      "       [0.],\n",
      "       [0.],\n",
      "       [0.],\n",
      "       [0.],\n",
      "       [0.],\n",
      "       [0.],\n",
      "       [0.],\n",
      "       [0.],\n",
      "       [0.],\n",
      "       [0.],\n",
      "       [0.],\n",
      "       [0.],\n",
      "       [0.],\n",
      "       [0.],\n",
      "       [0.],\n",
      "       [0.],\n",
      "       [0.],\n",
      "       [0.],\n",
      "       [0.],\n",
      "       [0.],\n",
      "       [0.],\n",
      "       [0.],\n",
      "       [0.],\n",
      "       [0.],\n",
      "       [0.],\n",
      "       [0.],\n",
      "       [0.],\n",
      "       [0.],\n",
      "       [0.],\n",
      "       [0.],\n",
      "       [0.],\n",
      "       [0.],\n",
      "       [0.],\n",
      "       [0.],\n",
      "       [0.],\n",
      "       [0.],\n",
      "       [0.],\n",
      "       [0.],\n",
      "       [0.],\n",
      "       [0.],\n",
      "       [0.],\n",
      "       [0.],\n",
      "       [0.],\n",
      "       [0.],\n",
      "       [0.],\n",
      "       [0.],\n",
      "       [0.],\n",
      "       [0.],\n",
      "       [0.],\n",
      "       [0.],\n",
      "       [0.],\n",
      "       [0.],\n",
      "       [0.],\n",
      "       [0.],\n",
      "       [0.],\n",
      "       [0.],\n",
      "       [0.],\n",
      "       [0.],\n",
      "       [0.],\n",
      "       [0.],\n",
      "       [0.],\n",
      "       [0.],\n",
      "       [0.],\n",
      "       [0.],\n",
      "       [0.],\n",
      "       [0.],\n",
      "       [0.],\n",
      "       [0.],\n",
      "       [0.],\n",
      "       [0.],\n",
      "       [0.],\n",
      "       [0.],\n",
      "       [0.],\n",
      "       [0.],\n",
      "       [0.],\n",
      "       [0.],\n",
      "       [0.],\n",
      "       [0.],\n",
      "       [0.],\n",
      "       [0.],\n",
      "       [0.],\n",
      "       [0.],\n",
      "       [0.],\n",
      "       [0.],\n",
      "       [0.],\n",
      "       [0.],\n",
      "       [0.],\n",
      "       [0.],\n",
      "       [0.],\n",
      "       [0.],\n",
      "       [0.],\n",
      "       [0.],\n",
      "       [0.],\n",
      "       [0.],\n",
      "       [0.],\n",
      "       [0.],\n",
      "       [0.],\n",
      "       [0.],\n",
      "       [0.],\n",
      "       [0.],\n",
      "       [0.],\n",
      "       [0.],\n",
      "       [0.],\n",
      "       [0.],\n",
      "       [0.],\n",
      "       [0.],\n",
      "       [0.],\n",
      "       [0.],\n",
      "       [0.],\n",
      "       [0.],\n",
      "       [0.],\n",
      "       [0.],\n",
      "       [0.],\n",
      "       [0.],\n",
      "       [0.],\n",
      "       [0.],\n",
      "       [0.],\n",
      "       [0.],\n",
      "       [0.],\n",
      "       [0.],\n",
      "       [0.],\n",
      "       [0.],\n",
      "       [0.],\n",
      "       [0.],\n",
      "       [0.],\n",
      "       [0.],\n",
      "       [0.],\n",
      "       [0.],\n",
      "       [0.],\n",
      "       [0.],\n",
      "       [0.],\n",
      "       [0.],\n",
      "       [0.],\n",
      "       [0.],\n",
      "       [0.],\n",
      "       [0.],\n",
      "       [0.],\n",
      "       [0.],\n",
      "       [0.],\n",
      "       [0.],\n",
      "       [0.],\n",
      "       [0.],\n",
      "       [0.],\n",
      "       [0.],\n",
      "       [0.],\n",
      "       [0.],\n",
      "       [0.],\n",
      "       [0.],\n",
      "       [0.],\n",
      "       [0.],\n",
      "       [0.],\n",
      "       [0.],\n",
      "       [0.],\n",
      "       [0.],\n",
      "       [0.],\n",
      "       [0.],\n",
      "       [0.],\n",
      "       [0.],\n",
      "       [0.],\n",
      "       [0.],\n",
      "       [0.],\n",
      "       [0.],\n",
      "       [0.],\n",
      "       [0.],\n",
      "       [0.],\n",
      "       [0.],\n",
      "       [0.],\n",
      "       [0.],\n",
      "       [0.],\n",
      "       [0.],\n",
      "       [0.],\n",
      "       [0.],\n",
      "       [0.],\n",
      "       [0.],\n",
      "       [0.],\n",
      "       [0.],\n",
      "       [0.],\n",
      "       [0.],\n",
      "       [0.],\n",
      "       [0.],\n",
      "       [0.],\n",
      "       [0.],\n",
      "       [0.],\n",
      "       [0.],\n",
      "       [0.],\n",
      "       [0.],\n",
      "       [0.],\n",
      "       [0.],\n",
      "       [0.],\n",
      "       [0.],\n",
      "       [0.],\n",
      "       [0.],\n",
      "       [0.],\n",
      "       [0.],\n",
      "       [0.],\n",
      "       [0.],\n",
      "       [0.],\n",
      "       [0.],\n",
      "       [0.],\n",
      "       [0.],\n",
      "       [0.],\n",
      "       [0.],\n",
      "       [0.],\n",
      "       [0.],\n",
      "       [0.],\n",
      "       [0.],\n",
      "       [0.],\n",
      "       [0.],\n",
      "       [0.],\n",
      "       [0.],\n",
      "       [0.],\n",
      "       [0.],\n",
      "       [0.],\n",
      "       [0.],\n",
      "       [0.],\n",
      "       [0.],\n",
      "       [0.],\n",
      "       [0.],\n",
      "       [0.],\n",
      "       [0.],\n",
      "       [0.],\n",
      "       [0.],\n",
      "       [0.],\n",
      "       [0.],\n",
      "       [0.],\n",
      "       [0.],\n",
      "       [0.],\n",
      "       [0.],\n",
      "       [0.],\n",
      "       [0.],\n",
      "       [0.],\n",
      "       [0.],\n",
      "       [0.],\n",
      "       [0.],\n",
      "       [0.],\n",
      "       [0.],\n",
      "       [0.],\n",
      "       [0.],\n",
      "       [0.],\n",
      "       [0.],\n",
      "       [0.],\n",
      "       [0.],\n",
      "       [0.],\n",
      "       [0.],\n",
      "       [0.],\n",
      "       [0.],\n",
      "       [0.],\n",
      "       [0.],\n",
      "       [0.],\n",
      "       [0.],\n",
      "       [0.],\n",
      "       [0.],\n",
      "       [0.],\n",
      "       [0.],\n",
      "       [0.],\n",
      "       [0.],\n",
      "       [0.],\n",
      "       [0.],\n",
      "       [0.],\n",
      "       [0.],\n",
      "       [0.],\n",
      "       [0.],\n",
      "       [0.],\n",
      "       [0.],\n",
      "       [0.],\n",
      "       [0.],\n",
      "       [0.],\n",
      "       [0.],\n",
      "       [0.],\n",
      "       [0.],\n",
      "       [0.],\n",
      "       [0.],\n",
      "       [0.],\n",
      "       [0.],\n",
      "       [0.],\n",
      "       [0.],\n",
      "       [0.],\n",
      "       [0.],\n",
      "       [0.],\n",
      "       [0.],\n",
      "       [0.],\n",
      "       [0.],\n",
      "       [0.],\n",
      "       [0.],\n",
      "       [0.],\n",
      "       [0.],\n",
      "       [0.],\n",
      "       [0.],\n",
      "       [0.],\n",
      "       [0.],\n",
      "       [0.],\n",
      "       [0.],\n",
      "       [0.],\n",
      "       [0.],\n",
      "       [0.],\n",
      "       [0.],\n",
      "       [0.],\n",
      "       [0.],\n",
      "       [0.],\n",
      "       [0.],\n",
      "       [0.],\n",
      "       [0.],\n",
      "       [0.],\n",
      "       [0.],\n",
      "       [0.],\n",
      "       [0.],\n",
      "       [0.],\n",
      "       [0.],\n",
      "       [0.],\n",
      "       [0.],\n",
      "       [0.],\n",
      "       [0.],\n",
      "       [0.],\n",
      "       [0.],\n",
      "       [0.],\n",
      "       [0.],\n",
      "       [0.],\n",
      "       [0.],\n",
      "       [0.],\n",
      "       [0.],\n",
      "       [0.],\n",
      "       [0.],\n",
      "       [0.],\n",
      "       [0.],\n",
      "       [0.],\n",
      "       [0.],\n",
      "       [0.],\n",
      "       [0.],\n",
      "       [0.],\n",
      "       [0.],\n",
      "       [0.],\n",
      "       [0.],\n",
      "       [0.],\n",
      "       [0.],\n",
      "       [0.],\n",
      "       [0.],\n",
      "       [0.],\n",
      "       [0.],\n",
      "       [0.],\n",
      "       [0.],\n",
      "       [0.],\n",
      "       [0.],\n",
      "       [0.],\n",
      "       [0.],\n",
      "       [0.],\n",
      "       [0.],\n",
      "       [0.],\n",
      "       [0.],\n",
      "       [0.],\n",
      "       [0.],\n",
      "       [0.],\n",
      "       [0.],\n",
      "       [0.],\n",
      "       [0.],\n",
      "       [0.],\n",
      "       [0.],\n",
      "       [0.],\n",
      "       [0.],\n",
      "       [0.],\n",
      "       [0.],\n",
      "       [0.],\n",
      "       [0.],\n",
      "       [0.],\n",
      "       [0.],\n",
      "       [0.],\n",
      "       [0.],\n",
      "       [0.],\n",
      "       [0.],\n",
      "       [0.],\n",
      "       [0.],\n",
      "       [0.],\n",
      "       [0.],\n",
      "       [0.],\n",
      "       [0.],\n",
      "       [0.],\n",
      "       [0.],\n",
      "       [0.],\n",
      "       [0.],\n",
      "       [0.],\n",
      "       [0.],\n",
      "       [0.],\n",
      "       [0.],\n",
      "       [0.],\n",
      "       [0.],\n",
      "       [0.],\n",
      "       [0.],\n",
      "       [0.],\n",
      "       [0.],\n",
      "       [0.],\n",
      "       [0.],\n",
      "       [0.],\n",
      "       [0.],\n",
      "       [0.],\n",
      "       [0.],\n",
      "       [0.],\n",
      "       [0.],\n",
      "       [0.],\n",
      "       [0.],\n",
      "       [0.],\n",
      "       [0.],\n",
      "       [0.],\n",
      "       [0.],\n",
      "       [0.],\n",
      "       [0.],\n",
      "       [0.],\n",
      "       [0.],\n",
      "       [0.],\n",
      "       [0.],\n",
      "       [0.],\n",
      "       [0.],\n",
      "       [0.],\n",
      "       [0.],\n",
      "       [0.],\n",
      "       [0.],\n",
      "       [0.],\n",
      "       [0.],\n",
      "       [0.],\n",
      "       [0.],\n",
      "       [0.],\n",
      "       [0.],\n",
      "       [0.],\n",
      "       [0.],\n",
      "       [0.],\n",
      "       [0.],\n",
      "       [0.],\n",
      "       [0.],\n",
      "       [0.],\n",
      "       [0.],\n",
      "       [0.],\n",
      "       [0.],\n",
      "       [0.],\n",
      "       [0.],\n",
      "       [0.],\n",
      "       [0.],\n",
      "       [0.],\n",
      "       [0.],\n",
      "       [0.],\n",
      "       [0.],\n",
      "       [0.],\n",
      "       [0.],\n",
      "       [0.],\n",
      "       [0.],\n",
      "       [0.],\n",
      "       [0.],\n",
      "       [0.],\n",
      "       [0.],\n",
      "       [0.],\n",
      "       [0.],\n",
      "       [0.],\n",
      "       [0.],\n",
      "       [0.],\n",
      "       [0.],\n",
      "       [0.],\n",
      "       [0.],\n",
      "       [0.],\n",
      "       [0.],\n",
      "       [0.],\n",
      "       [0.],\n",
      "       [0.],\n",
      "       [0.],\n",
      "       [0.],\n",
      "       [0.],\n",
      "       [0.],\n",
      "       [0.],\n",
      "       [0.],\n",
      "       [0.],\n",
      "       [0.],\n",
      "       [0.],\n",
      "       [0.],\n",
      "       [0.],\n",
      "       [0.],\n",
      "       [0.],\n",
      "       [0.],\n",
      "       [0.],\n",
      "       [0.],\n",
      "       [0.],\n",
      "       [0.],\n",
      "       [0.],\n",
      "       [0.],\n",
      "       [0.],\n",
      "       [0.],\n",
      "       [0.],\n",
      "       [0.],\n",
      "       [0.],\n",
      "       [0.],\n",
      "       [0.],\n",
      "       [0.],\n",
      "       [0.],\n",
      "       [0.],\n",
      "       [0.],\n",
      "       [0.],\n",
      "       [0.],\n",
      "       [0.],\n",
      "       [0.],\n",
      "       [0.],\n",
      "       [0.],\n",
      "       [0.],\n",
      "       [0.],\n",
      "       [0.],\n",
      "       [0.],\n",
      "       [0.],\n",
      "       [0.],\n",
      "       [0.],\n",
      "       [0.],\n",
      "       [0.],\n",
      "       [0.],\n",
      "       [0.],\n",
      "       [0.],\n",
      "       [0.],\n",
      "       [0.],\n",
      "       [0.],\n",
      "       [0.],\n",
      "       [0.],\n",
      "       [0.],\n",
      "       [0.],\n",
      "       [0.],\n",
      "       [0.],\n",
      "       [0.],\n",
      "       [0.],\n",
      "       [0.],\n",
      "       [0.],\n",
      "       [0.],\n",
      "       [0.],\n",
      "       [0.],\n",
      "       [0.],\n",
      "       [0.],\n",
      "       [0.],\n",
      "       [0.],\n",
      "       [0.],\n",
      "       [0.],\n",
      "       [0.],\n",
      "       [0.],\n",
      "       [0.],\n",
      "       [0.],\n",
      "       [0.],\n",
      "       [0.],\n",
      "       [0.],\n",
      "       [0.],\n",
      "       [0.],\n",
      "       [0.],\n",
      "       [0.],\n",
      "       [0.],\n",
      "       [0.],\n",
      "       [0.],\n",
      "       [0.],\n",
      "       [0.],\n",
      "       [0.],\n",
      "       [0.],\n",
      "       [0.],\n",
      "       [0.],\n",
      "       [0.],\n",
      "       [0.],\n",
      "       [0.],\n",
      "       [0.],\n",
      "       [0.],\n",
      "       [0.],\n",
      "       [0.],\n",
      "       [0.],\n",
      "       [0.],\n",
      "       [0.],\n",
      "       [0.],\n",
      "       [0.],\n",
      "       [0.],\n",
      "       [0.],\n",
      "       [0.],\n",
      "       [0.],\n",
      "       [0.],\n",
      "       [0.],\n",
      "       [0.],\n",
      "       [0.],\n",
      "       [0.],\n",
      "       [0.],\n",
      "       [0.],\n",
      "       [0.],\n",
      "       [0.],\n",
      "       [0.],\n",
      "       [0.],\n",
      "       [0.],\n",
      "       [0.],\n",
      "       [0.],\n",
      "       [0.],\n",
      "       [0.],\n",
      "       [0.],\n",
      "       [0.],\n",
      "       [0.],\n",
      "       [0.],\n",
      "       [0.],\n",
      "       [0.],\n",
      "       [0.],\n",
      "       [0.],\n",
      "       [0.],\n",
      "       [0.],\n",
      "       [0.],\n",
      "       [0.],\n",
      "       [0.],\n",
      "       [0.],\n",
      "       [0.],\n",
      "       [0.],\n",
      "       [0.],\n",
      "       [0.],\n",
      "       [0.],\n",
      "       [0.],\n",
      "       [0.],\n",
      "       [0.],\n",
      "       [0.],\n",
      "       [0.],\n",
      "       [0.],\n",
      "       [0.],\n",
      "       [0.],\n",
      "       [0.],\n",
      "       [0.],\n",
      "       [0.],\n",
      "       [0.],\n",
      "       [0.],\n",
      "       [0.],\n",
      "       [0.],\n",
      "       [0.],\n",
      "       [0.],\n",
      "       [0.],\n",
      "       [0.],\n",
      "       [0.],\n",
      "       [0.],\n",
      "       [0.],\n",
      "       [0.],\n",
      "       [0.],\n",
      "       [0.],\n",
      "       [0.],\n",
      "       [0.],\n",
      "       [0.],\n",
      "       [0.],\n",
      "       [0.],\n",
      "       [0.],\n",
      "       [0.],\n",
      "       [0.],\n",
      "       [0.],\n",
      "       [0.],\n",
      "       [0.],\n",
      "       [0.],\n",
      "       [0.],\n",
      "       [0.],\n",
      "       [0.],\n",
      "       [0.],\n",
      "       [0.],\n",
      "       [0.],\n",
      "       [0.],\n",
      "       [0.],\n",
      "       [0.],\n",
      "       [0.],\n",
      "       [0.],\n",
      "       [0.],\n",
      "       [0.],\n",
      "       [0.],\n",
      "       [0.],\n",
      "       [0.],\n",
      "       [0.],\n",
      "       [0.],\n",
      "       [0.],\n",
      "       [0.],\n",
      "       [0.],\n",
      "       [0.],\n",
      "       [0.],\n",
      "       [0.],\n",
      "       [0.],\n",
      "       [0.],\n",
      "       [0.],\n",
      "       [0.],\n",
      "       [0.],\n",
      "       [0.],\n",
      "       [0.],\n",
      "       [0.],\n",
      "       [0.],\n",
      "       [0.],\n",
      "       [0.],\n",
      "       [0.],\n",
      "       [0.],\n",
      "       [0.],\n",
      "       [0.],\n",
      "       [0.],\n",
      "       [0.],\n",
      "       [0.],\n",
      "       [0.],\n",
      "       [0.],\n",
      "       [0.],\n",
      "       [0.],\n",
      "       [0.],\n",
      "       [0.],\n",
      "       [0.],\n",
      "       [0.],\n",
      "       [0.],\n",
      "       [0.],\n",
      "       [0.],\n",
      "       [0.],\n",
      "       [0.],\n",
      "       [0.],\n",
      "       [0.],\n",
      "       [0.],\n",
      "       [0.],\n",
      "       [0.],\n",
      "       [0.],\n",
      "       [0.],\n",
      "       [0.],\n",
      "       [0.],\n",
      "       [0.],\n",
      "       [0.],\n",
      "       [0.],\n",
      "       [0.],\n",
      "       [0.],\n",
      "       [0.],\n",
      "       [0.],\n",
      "       [0.],\n",
      "       [0.],\n",
      "       [0.],\n",
      "       [0.],\n",
      "       [0.],\n",
      "       [0.],\n",
      "       [0.],\n",
      "       [0.],\n",
      "       [0.],\n",
      "       [0.],\n",
      "       [0.],\n",
      "       [0.],\n",
      "       [0.],\n",
      "       [0.],\n",
      "       [0.],\n",
      "       [0.],\n",
      "       [0.],\n",
      "       [0.],\n",
      "       [0.],\n",
      "       [0.],\n",
      "       [0.],\n",
      "       [0.],\n",
      "       [0.],\n",
      "       [0.],\n",
      "       [0.],\n",
      "       [0.],\n",
      "       [0.],\n",
      "       [0.],\n",
      "       [0.],\n",
      "       [0.],\n",
      "       [0.],\n",
      "       [0.],\n",
      "       [0.],\n",
      "       [0.],\n",
      "       [0.],\n",
      "       [0.],\n",
      "       [0.],\n",
      "       [0.],\n",
      "       [0.],\n",
      "       [0.],\n",
      "       [0.],\n",
      "       [0.],\n",
      "       [0.],\n",
      "       [0.],\n",
      "       [0.],\n",
      "       [0.],\n",
      "       [0.],\n",
      "       [0.],\n",
      "       [0.],\n",
      "       [0.],\n",
      "       [0.],\n",
      "       [0.],\n",
      "       [0.],\n",
      "       [0.],\n",
      "       [0.],\n",
      "       [0.],\n",
      "       [0.],\n",
      "       [0.],\n",
      "       [0.],\n",
      "       [0.],\n",
      "       [0.],\n",
      "       [0.],\n",
      "       [0.],\n",
      "       [0.],\n",
      "       [0.],\n",
      "       [0.],\n",
      "       [0.],\n",
      "       [0.],\n",
      "       [0.],\n",
      "       [0.],\n",
      "       [0.],\n",
      "       [0.],\n",
      "       [0.],\n",
      "       [0.],\n",
      "       [0.],\n",
      "       [0.],\n",
      "       [0.],\n",
      "       [0.],\n",
      "       [0.],\n",
      "       [0.],\n",
      "       [0.],\n",
      "       [0.],\n",
      "       [0.]])\n"
     ]
    },
    {
     "name": "stdout",
     "output_type": "stream",
     "text": [
      "ipdb> input_vector.dot(powers[l][:,None]).shape\n",
      "*** ValueError: shapes (1000,) and (1000,1,1000) not aligned: 1000 (dim 0) != 1 (dim 1)\n",
      "ipdb> input_vector.dot(powers[l])[:,None].shape\n",
      "(1000, 1)\n",
      "ipdb> exit\n"
     ]
    }
   ],
   "source": [
    "%debug"
   ]
  },
  {
   "cell_type": "code",
   "execution_count": null,
   "metadata": {},
   "outputs": [],
   "source": [
    "m = cl.BipartiteGraphEnsemble(1000,400)\n",
    "m.fit([const.BipartiteOutDegreeSequence(bp_dout),const.BipartiteInDegreeSequence(bp_din)], opt_kwargs={'nit':100,'fatol':1e-2,'disp':True})"
   ]
  }
 ],
 "metadata": {
  "kernelspec": {
   "display_name": "claude",
   "language": "python",
   "name": "claude"
  },
  "language_info": {
   "codemirror_mode": {
    "name": "ipython",
    "version": 3
   },
   "file_extension": ".py",
   "mimetype": "text/x-python",
   "name": "python",
   "nbconvert_exporter": "python",
   "pygments_lexer": "ipython3",
   "version": "3.6.11"
  },
  "toc": {
   "base_numbering": 1,
   "nav_menu": {},
   "number_sections": true,
   "sideBar": true,
   "skip_h1_title": false,
   "title_cell": "Table of Contents",
   "title_sidebar": "Contents",
   "toc_cell": false,
   "toc_position": {},
   "toc_section_display": true,
   "toc_window_display": false
  },
  "varInspector": {
   "cols": {
    "lenName": 16,
    "lenType": 16,
    "lenVar": 40
   },
   "kernels_config": {
    "python": {
     "delete_cmd_postfix": "",
     "delete_cmd_prefix": "del ",
     "library": "var_list.py",
     "varRefreshCmd": "print(var_dic_list())"
    },
    "r": {
     "delete_cmd_postfix": ") ",
     "delete_cmd_prefix": "rm(",
     "library": "var_list.r",
     "varRefreshCmd": "cat(var_dic_list()) "
    }
   },
   "types_to_exclude": [
    "module",
    "function",
    "builtin_function_or_method",
    "instance",
    "_Feature"
   ],
   "window_display": false
  }
 },
 "nbformat": 4,
 "nbformat_minor": 2
}
